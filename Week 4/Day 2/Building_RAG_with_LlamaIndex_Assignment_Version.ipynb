{
  "cells": [
    {
      "cell_type": "markdown",
      "metadata": {
        "id": "x5TTdyIoo3i7"
      },
      "source": [
        "# Creating a LlamaIndex RAG Pipeline with NL2SQL and Metadata Filtering!\n",
        "\n",
        "We'll be putting together a system for querying both qualitative and quantitative data using LlamaIndex.\n",
        "\n",
        "The acitvities will be broken down as follows:\n",
        "\n",
        "- 🤝 Breakout Room #1\n",
        "  - Task 1: Load Dependencies\n",
        "  - Task 2: Set Env Variables and Set Up WandB Callback\n",
        "  - Task 3: Initialize Settings\n",
        "  - Task 4: Semantic RAG Pipeline with Metadata Filtering\n",
        "- 🤝 Breakout Room #2\n",
        "  - Task 1: Quantitative RAG Pipeline with NL2SQL Tooling\n",
        "  - Task 2: Combined RAG Pipeline\n",
        "\n",
        "Before we get started, however, a quick note on terminology."
      ]
    },
    {
      "cell_type": "markdown",
      "metadata": {
        "id": "vcvGuykZSV_8"
      },
      "source": [
        "### A note on terminology:\n",
        "\n",
        "You'll notice that there are quite a few similarities between LangChain and LlamaIndex. LlamaIndex can largely be thought of as an extension to LangChain, in some ways - but they moved some of the language around. Let's spend a few moments disambiguating the language.\n",
        "\n",
        "- `QueryEngine` -> `LCEL Chain`:\n",
        "  -  `QueryEngine` is just LlamaIndex's way of indicating something is an LLM \"chain\" on top of a retrieval system\n",
        "- `OpenAIAgent` vs. `Agent`:\n",
        "  - The two agents have the same fundamental pattern: Decide which of a list of tools to use to answer a user's query.\n",
        "  - `OpenAIAgent` (LlamaIndex's primary agent) does not need to rely on an agent excecutor due to the fact that it is leveraging OpenAI's [functional api](https://openai.com/blog/function-calling-and-other-api-updates) which allows the agent to interface \"directly\" with the tools instead of operating through an intermediary application process.\n",
        "\n",
        "There is, however, a much large terminological difference when it comes to discussing data.\n",
        "\n",
        "##### Nodes vs. Documents\n",
        "\n",
        "As you're aware of from the previous weeks assignments, there's an idea of `documents` in NLP which refers to text objects that exist within a corpus of documents.\n",
        "\n",
        "LlamaIndex takes this a step further and reclassifies `documents` as `nodes`. Confusingly, it refers to the `Source Document` as simply `Documents`.\n",
        "\n",
        "The `Document` -> `node` structure is, almost exactly, equivalent to the `Source Document` -> `Document` structure found in LangChain - but the new terminology comes with some clarity about different structure-indices.\n",
        "\n",
        "We won't be leveraging those structured indicies today, but we will be leveraging a \"benefit\" of the `node` structure that exists as a default in LlamaIndex, which is the ability to quickly filter nodes based on their metadata.\n",
        "\n",
        "![image](https://i.imgur.com/B1QDjs5.png)"
      ]
    },
    {
      "cell_type": "markdown",
      "metadata": {
        "id": "re0q6syjUVt0"
      },
      "source": [
        "# 🤝 Breakout Room #1"
      ]
    },
    {
      "cell_type": "markdown",
      "metadata": {
        "id": "Msvju70DSV_8"
      },
      "source": [
        "## BOILERPLATE\n",
        "\n",
        "This is only relevant when running the code in a Jupyter Notebook."
      ]
    },
    {
      "cell_type": "code",
      "execution_count": 1,
      "metadata": {
        "id": "7VF57GcmSV_9"
      },
      "outputs": [],
      "source": [
        "import nest_asyncio\n",
        "\n",
        "nest_asyncio.apply()\n",
        "\n",
        "import logging\n",
        "import sys\n",
        "\n",
        "logging.basicConfig(stream=sys.stdout, level=logging.INFO)\n",
        "logging.getLogger().addHandler(logging.StreamHandler(stream=sys.stdout))"
      ]
    },
    {
      "cell_type": "markdown",
      "metadata": {
        "id": "6zQBPs6zSV_9"
      },
      "source": [
        "## Load Dependencies"
      ]
    },
    {
      "cell_type": "markdown",
      "metadata": {
        "id": "WhEbxl3nSV_9"
      },
      "source": [
        "Let's grab our core `llama-index` library, as well as OpenAI's Python SDK.\n",
        "\n",
        "We'll be leveraging OpenAI's suite of APIs to power our RAG pipelines today.\n",
        "\n",
        "> NOTE: You can safely ignore any pip errors that occur during the running of these cells."
      ]
    },
    {
      "cell_type": "code",
      "execution_count": null,
      "metadata": {
        "colab": {
          "base_uri": "https://localhost:8080/"
        },
        "id": "b3oyvtl2SV_9",
        "outputId": "3341b636-d1a3-4920-db19-ec06b9ee5f7a"
      },
      "outputs": [],
      "source": [
        "!pip install -qU llama-index openai"
      ]
    },
    {
      "cell_type": "markdown",
      "metadata": {
        "id": "uqTXRTrLPatl"
      },
      "source": [
        "We'll be collecting our semantic data from Wikipedia - and so will need the [Wikipedia Reader](https://github.com/run-llama/llama_index/tree/main/llama-index-integrations/readers/llama-index-readers-wikipedia)!"
      ]
    },
    {
      "cell_type": "code",
      "execution_count": null,
      "metadata": {
        "colab": {
          "base_uri": "https://localhost:8080/"
        },
        "id": "f9kXf7pPSV_-",
        "outputId": "7e106548-e671-4def-dd24-0b6fa0cf4324"
      },
      "outputs": [],
      "source": [
        "!pip install -qU wikipedia llama-index-readers-wikipedia"
      ]
    },
    {
      "cell_type": "markdown",
      "metadata": {
        "id": "Qq_rWHZEPrCO"
      },
      "source": [
        "Our vector database today will be powered by [QDrant](https://qdrant.tech/) and so we'll need that package as well!"
      ]
    },
    {
      "cell_type": "code",
      "execution_count": null,
      "metadata": {
        "colab": {
          "base_uri": "https://localhost:8080/"
        },
        "id": "iMCA8HFGEPF_",
        "outputId": "ea5eec65-3fef-4539-eca6-d42cf4eacd04"
      },
      "outputs": [],
      "source": [
        "!pip install -qU llama-index-vector-stores-qdrant qdrant-client"
      ]
    },
    {
      "cell_type": "markdown",
      "metadata": {
        "id": "wNHDqna1P1NQ"
      },
      "source": [
        "Finally, we'll need to grab a few dependencies related to our quantitative data!"
      ]
    },
    {
      "cell_type": "code",
      "execution_count": null,
      "metadata": {
        "colab": {
          "base_uri": "https://localhost:8080/"
        },
        "id": "BrT8a3c0SV__",
        "outputId": "2474e86a-3310-463f-8ce1-6fe82a1dd4f2"
      },
      "outputs": [],
      "source": [
        "!pip install -q -U sqlalchemy pandas"
      ]
    },
    {
      "cell_type": "markdown",
      "metadata": {
        "id": "SS3I4FUabE-g"
      },
      "source": [
        "We'll can use [Weights and Biases](https://docs.wandb.ai/guides/prompts) (WandB) as a visibility platform, as well as storing our index!"
      ]
    },
    {
      "cell_type": "code",
      "execution_count": null,
      "metadata": {
        "colab": {
          "base_uri": "https://localhost:8080/"
        },
        "id": "9UcQpjG9Ovlk",
        "outputId": "3354d9eb-88b7-439d-c62e-ddf7d9ee30ac"
      },
      "outputs": [],
      "source": [
        "!pip install -qU wandb llama-index-callbacks-wandb"
      ]
    },
    {
      "cell_type": "code",
      "execution_count": 2,
      "metadata": {
        "colab": {
          "base_uri": "https://localhost:8080/"
        },
        "id": "4OHSwkDySV_-",
        "outputId": "71faaaea-a126-47ce-e86e-dbd8655314ed"
      },
      "outputs": [],
      "source": [
        "import os\n",
        "import getpass\n",
        "\n",
        "os.environ[\"WANDB_API_KEY\"] = getpass.getpass(\"WandB API Key: \")"
      ]
    },
    {
      "cell_type": "markdown",
      "metadata": {
        "id": "Ut8E447rQBjY"
      },
      "source": [
        "We'll also need to set a callback handler for WandB to ensure smooth operation of our traces!"
      ]
    },
    {
      "cell_type": "code",
      "execution_count": 3,
      "metadata": {
        "colab": {
          "base_uri": "https://localhost:8080/",
          "height": 69
        },
        "id": "MoV2JINuSV_-",
        "outputId": "5ee85453-3505-48a6-efa1-98788ce63dc2"
      },
      "outputs": [
        {
          "name": "stdout",
          "output_type": "stream",
          "text": [
            "ERROR:wandb.jupyter:Failed to detect the name of this notebook, you can set it manually with the WANDB_NOTEBOOK_NAME environment variable to enable code saving.\n",
            "Failed to detect the name of this notebook, you can set it manually with the WANDB_NOTEBOOK_NAME environment variable to enable code saving.\n"
          ]
        },
        {
          "name": "stderr",
          "output_type": "stream",
          "text": [
            "\u001b[34m\u001b[1mwandb\u001b[0m: Streaming LlamaIndex events to W&B at https://wandb.ai/kamavaram-nithin/llama-index-rag/runs/7jxr4oyz\n",
            "\u001b[34m\u001b[1mwandb\u001b[0m: `WandbCallbackHandler` is currently in beta.\n",
            "\u001b[34m\u001b[1mwandb\u001b[0m: Please report any issues to https://github.com/wandb/wandb/issues with the tag `llamaindex`.\n"
          ]
        }
      ],
      "source": [
        "import llama_index\n",
        "from llama_index.core import set_global_handler\n",
        "\n",
        "set_global_handler(\"wandb\", run_args={\"project\": \"llama-index-rag\"})\n",
        "wandb_callback = llama_index.core.global_handler"
      ]
    },
    {
      "cell_type": "markdown",
      "metadata": {
        "id": "ibtguieHP6n1"
      },
      "source": [
        "## Task 2: Set Env Variables and Set Up WandB Callback\n",
        "\n",
        "Let's set our API keys for both OpenAI and WandB!"
      ]
    },
    {
      "cell_type": "code",
      "execution_count": 4,
      "metadata": {
        "colab": {
          "base_uri": "https://localhost:8080/"
        },
        "id": "7IBgMTPTSV_9",
        "outputId": "74082918-7877-4153-f706-cc030b5f3b74"
      },
      "outputs": [],
      "source": [
        "import os\n",
        "import getpass\n",
        "\n",
        "os.environ[\"OPENAI_API_KEY\"] = getpass.getpass(\"OpenAI API Key: \")"
      ]
    },
    {
      "cell_type": "markdown",
      "metadata": {
        "id": "UQwigweOSV_-"
      },
      "source": [
        "### Task 3: Settings\n",
        "\n",
        "LlamaIndex lets us set global settings which we can use to influence the default behaviour of our components.\n",
        "\n",
        "Let's set our LLM and our Embedding Model!"
      ]
    },
    {
      "cell_type": "code",
      "execution_count": 5,
      "metadata": {
        "id": "6KOy21KPSV_-"
      },
      "outputs": [],
      "source": [
        "from llama_index.llms.openai import OpenAI\n",
        "from llama_index.embeddings.openai import OpenAIEmbedding\n",
        "from llama_index.core import Settings\n",
        "\n",
        "Settings.llm = OpenAI(model=\"gpt-3.5-turbo\")\n",
        "Settings.embed_model = OpenAIEmbedding(model=\"text-embedding-3-small\")"
      ]
    },
    {
      "cell_type": "markdown",
      "metadata": {
        "id": "eiOdw7EQSV_-"
      },
      "source": [
        "## `Index` Creation\n",
        "\n",
        "In order for us to perform RAG in the traditional sense - we need an `Index`.\n",
        "\n",
        "So what is an `Index`? Well - let's see how LlamaIndex defines it:\n",
        "\n",
        "> In LlamaIndex terms, an `Index` is a data structure composed of Document objects, designed to enable querying by an LLM. Your Index is designed to be complementary to your querying strategy.\n",
        "\n",
        "Okay, so we know that we have a boatload of Wikipedia content - and we know that we want to be able to query the `Index` and receive documents that are related to our query - so let's use an `Index` built on the idea of embedding-vectors.\n",
        "\n",
        "Introducing: `VectorStoreIndex`!\n",
        "\n",
        "Again, let's see how LlamaIndex defines this:\n",
        "\n",
        "> A `VectorStoreIndex` is by far the most frequent type of `Index` you'll encounter. The Vector Store Index takes your Documents and splits them up into Nodes. It then creates `vector` embeddings of the text of every node, ready to be queried by an LLM.\n",
        "\n",
        "Alright, that sounds awesome - let's make one!"
      ]
    },
    {
      "cell_type": "markdown",
      "metadata": {
        "id": "iDEtQQWnSV_-"
      },
      "source": [
        "### Data Collection\n",
        "\n",
        "We're just going to be pulling information straight from Wikipedia using the built in `WikipediaReader`.\n",
        "\n",
        "> NOTE: Setting `auto_suggest=False` ensures we run into fewer auto-correct based errors."
      ]
    },
    {
      "cell_type": "code",
      "execution_count": 6,
      "metadata": {
        "id": "OrzzrnYMSV_-"
      },
      "outputs": [
        {
          "data": {
            "text/plain": [
              "[Document(id_='52659577', embedding=None, metadata={}, excluded_embed_metadata_keys=[], excluded_llm_metadata_keys=[], relationships={}, text='Dune (titled onscreen as Dune: Part One) is a 2021 American epic science fiction film directed and co-produced by Denis Villeneuve, who co-wrote the screenplay with Jon Spaihts, and Eric Roth. It is the first of a two-part adaptation of the 1965 novel of the same name by Frank Herbert. Set in the distant future, the film follows Paul Atreides as his family, the noble House Atreides, is thrust into a war for the deadly and inhospitable desert planet Arrakis. The ensemble cast includes Timothée Chalamet, Rebecca Ferguson, Oscar Isaac, Josh Brolin, Stellan Skarsgård, Dave Bautista, Stephen McKinley Henderson, Zendaya, Chang Chen, Sharon Duncan-Brewster, Charlotte Rampling, Jason Momoa, and Javier Bardem.\\nThe film is the third adaptation of Dune, following David Lynch\\'s 1984 film and John Harrison\\'s 2000 television miniseries. After an unsuccessful attempt by Paramount Pictures to produce a new adaptation, Legendary Pictures acquired the Dune film and television rights in 2016, with Villeneuve signing on as director in February 2017. Production contracts were secured only for the first film, relying on its success before a sequel would be produced. Principal photography took place from March to July 2019 at locations including Budapest, Jordan, Norway, and Abu Dhabi.\\nDune was scheduled for a late 2020 release but was delayed due to the COVID-19 pandemic. The film premiered at the 78th Venice International Film Festival on September 3, 2021, before its international release on September 15, 2021; it was then released in United States theaters and streaming on HBO Max on October 22, 2021. Dune was a box office success, grossing over $407 million on a $165 million budget, making it the tenth-highest-grossing film of 2021. It was well received by critics and audiences with praise for Villeneuve\\'s direction, screenplay, production values, Hans Zimmer\\'s musical score, cinematography, and managing to retain core elements from the source material. The film won six awards at the 94th Academy Awards and was nominated in four other categories, in addition to receiving numerous other accolades. A sequel, Dune: Part Two, was released on March 1, 2024.\\n\\n\\n== Plot ==\\nIn the distant future, Duke Leto Atreides, ruler of the planet Caladan, is assigned by the Padishah Emperor Shaddam IV to replace Baron Vladimir Harkonnen as the fiefholder of Arrakis, a harsh desert planet and the sole source of \"spice\", a valuable psychotropic substance that imparts heightened vitality and awareness. Spice is also key to interstellar travel, giving Spacing Guild Navigators the ability to guide starships to traverse space instantaneously and safely. Emperor Shaddam, fearful of Leto\\'s rising power, plots for House Harkonnen to retake Arrakis, secretly aided by his Sardaukar troops, and destroy House Atreides. Leto is suspicious of the Emperor but weighs the risks against the power of controlling Arrakis and making an alliance with its mysterious natives, the Fremen.\\nLeto\\'s concubine, Lady Jessica, is an acolyte of the Bene Gesserit—an exclusive sisterhood whose members possess advanced physical and mental abilities. As part of a centuries-long breeding program, they instructed her to bear a daughter whose son would become the Kwisatz Haderach—a Bene Gesserit and messianic superbeing with the clairvoyance necessary to guide humanity to a better future. Jessica disobeyed and bore a son, Paul, who is trained by Leto\\'s aides, Duncan Idaho, Gurney Halleck, the Suk doctor Wellington Yueh, and the Mentat Thufir Hawat; she teaches him Bene Gesserit disciplines. Paul confides in Jessica and Duncan about troubling visions of the future. The Reverend Mother and Imperial Truthsayer Gaius Helen Mohiam visits Caladan and subjects him to a deadly Gom Jabbar test to assess his humanity and impulse control, which he passes. At a secret meeting on Giedi Prime, Mohiam insists Baron Harkonnen spare Paul and Jessica in his coup, to which he duplicitously agrees.\\nHouse Atreides arrives at Arrakeen, the principal stronghold on Arrakis. Duncan\\'s advance party has made contact with the Fremen. The natives revere Paul and Jessica, which she explains is due to the Bene Gesserit sowing beliefs on Arrakis centuries earlier. Leto negotiates with Fremen chieftain Stilgar and meets the Imperial Judge of the Change, Dr. Kynes, a planetologist who lives among the Fremen. Kynes briefs them on the dangers of spice harvesting, and the giant sandworms that travel under the desert and render unwise the use of protective shields. During a flight, they rescue a stranded spice-harvesting crew from a sandworm, and Paul\\'s exposure to the spice triggers intense premonitions.\\nAn attempt to assassinate Paul with a hunter-seeker fails. Yueh betrays the Atreides and disables Arrakeen\\'s shields, allowing the Harkonnens and Sardaukar to invade. He incapacitates Leto, planning to exchange him for his wife, who is the Baron\\'s prisoner. Yueh replaces one of Leto\\'s teeth with a poison gas capsule with which the Duke can assassinate the Baron. After the Baron double-crosses and murders Yueh, Leto releases the gas, killing himself and the Baron\\'s Mentat, Piter De Vries, but the Baron survives. Though the Baron has arranged to have Paul and Jessica dropped deep in the desert to die, a compassionate Yueh has left them with a fremkit with survival supplies. Jessica uses a Bene Gesserit technique called \"the Voice\" to overpower and kill their captors. Overnighting in the desert, Paul—surrounded by spice—has visions of a bloody holy war fought across the universe in his name.\\nAfter conquering Arrakis, Baron Harkonnen appoints his nephew Rabban to oversee the planet and orders him to restart spice production to recoup the invasion\\'s cost. Meanwhile, Duncan and Kynes find Jessica and Paul, who disclose his plan to marry one of Emperor Shaddam\\'s daughters to avert a potential civil war arising from the Emperor\\'s betrayal. However, they are discovered by Sardaukar soldiers armed with a lasgun. Duncan sacrifices himself, enabling Paul and Jessica\\'s escape. Kynes also tries to escape but is caught and mortally wounded, and lures a sandworm to her location to devour herself and the Sardaukar. Deep in the desert, Paul and Jessica encounter Stilgar\\'s Fremen tribe, including Chani, the young woman from Paul\\'s visions. Opposed to Stilgar\\'s lenience towards them, Fremen warrior Jamis challenges Paul to a ritual duel to the death, which Paul wins. Despite Jessica\\'s wishes, Paul joins the Fremen, determined to fulfill his father\\'s goal of allying with them to bring Arrakis peace.\\n\\n\\n== Cast ==\\nTimothée Chalamet as Paul Atreides, ducal heir of House Atreides\\nRebecca Ferguson as Lady Jessica, Paul\\'s Bene Gesserit mother and consort to Leto\\nOscar Isaac as Duke Leto Atreides, Paul\\'s father and the leader of House Atreides\\nJosh Brolin as Gurney Halleck, weapons master of House Atreides and one of Paul\\'s mentors\\nStellan Skarsgård as Baron Vladimir Harkonnen, leader of House Harkonnen, enemy to House Atreides, and former steward of Arrakis\\nDave Bautista as Glossu Rabban, nephew of Baron Harkonnen\\nSharon Duncan-Brewster as Dr. Liet Kynes, Imperial ecologist and Judge of the Change on Arrakis\\nStephen McKinley Henderson as Thufir Hawat, the Mentat of House Atreides\\nZendaya as Chani, a mysterious young Fremen woman who appears in Paul\\'s visions\\nChang Chen as Dr. Wellington Yueh, a Suk doctor in the employ of House Atreides\\nCharlotte Rampling as Reverend Mother Mohiam, the Emperor\\'s Bene Gesserit Truthsayer\\nJason Momoa as Duncan Idaho, the swordmaster of House Atreides and one of Paul\\'s mentors\\nJavier Bardem as Stilgar, the leader of the Fremen tribe at Sietch Tabr\\nDavid Dastmalchian as Piter De Vries, the Mentat of House Harkonnen\\nBabs Olusanmokun as Jamis, a Fremen from Sietch Tabr\\nGolda Rosheuvel as Shadout Mapes, a Fremen working as a housekeeper for House Atreides\\nRoger Yuan as Lieutenant Lanville, Gurney Halleck\\'s second-in-command\\nAdditionally, Benjamin Clementine portrays the Herald of the Change, the head of an Imperial delegation to Caladan. Marianne Faithfull, Jean Gilpin, and Ellen Dubin voice the ancestral Bene Gesserit whose voices are heard by Paul in his visions. Joe Walker, the film\\'s editor, provides the narration for Paul\\'s filmbook guides for Arrakis.\\n\\n\\n== Production ==\\n\\n\\n=== Background ===\\n\\nFollowing the publication of Frank Herbert\\'s novel Dune in 1965, it was considered as having potential for a possible film adaptation. Since 1971, various producers have held film adaptation rights for the novel. Attempts to make an adaptation based on the book were considered to be \"unfilmable\" due to its breadth of content. The book\\'s status among fans meant that deviations without strong justification could potentially harm the film\\'s reputation.\\nAlejandro Jodorowsky acquired the rights in the 1970s to make a fourteen-hour adaptation of the book, but the project ultimately failed to secure sufficient funds. This development effort became the subject of the documentary film Jodorowsky\\'s Dune (2013). David Lynch\\'s Dune, produced by Raffaella De Laurentiis in 1984, was intended as a three-hour film but was cut to 137 minutes; it was poorly received and Lynch himself ended up disowning it. In 1996, producer Richard P. Rubinstein acquired the rights to the novel. Frank Herbert\\'s Dune, a live-action miniseries produced by Rubinstein and directed by John Harrison, aired on the Sci Fi Channel in 2000; it was a ratings hit and was generally better received than Lynch\\'s film. Some reviewers criticized the miniseries for lacking the spectacle afforded to a feature film production, as well as for staying too faithful to the book and being bogged down by exposition. Prospects to make a successful adaptation of Dune improved after the critical and commercial success of the film series adaptations of The Lord of the Rings and Harry Potter, both of which maintained most of the works\\' key characters and plots while managing the limited running time. In 2008, Paramount Pictures hired Peter Berg to direct an adaptation. Berg left the project in October 2009, with director Pierre Morel being hired in January 2010. Paramount later cancelled the project in March 2011, as they could not come to key agreements, with their rights reverting to Rubinstein.\\n\\n\\n=== Development ===\\n\\nIn 2011, Mary Parent, vice chair of worldwide production for Legendary Pictures, and her producer partner Cale Boyter, acquired adaptation rights for Dune. Legendary obtained film and TV rights for Dune in November 2016. Canadian filmmaker Denis Villeneuve expressed interest in the project in September 2016, saying that \"a longstanding dream of mine is to adapt Dune, but it\\'s a long process to get the rights, and I don\\'t think I will succeed\". By December, Villeneuve was in talks with the studio to direct the film. His enthusiasm to direct a Dune film earned Parent\\'s respect, with Parent hiring Villeneuve after hearing him describe his vision for the film. He chose to complete Arrival (2016) and Blade Runner 2049 (2017) first, as he wanted to spend more time to develop Dune and co-write it himself, employing his past experience directing science fiction films during development. Villeneuve signed on to direct the film by January 2017, approximately one week after earning a nomination Academy Award for Best Director for Arrival. By that February, Villeneuve was officially confirmed as the director.\\nSome of Villeneuve\\'s previous collaborators on Arrival and Blade Runner 2049 returned for Dune, including film editor Joe Walker, production designer Patrice Vermette, visual effects supervisor Paul Lambert, sound designer and editor Theo Green, sound editor Mark Mangini, and special effects supervisor Gerd Nefzer. Other previous collaborators were slated to work on Dune but dropped out before production began, including visual effects supervisor John Nelson and cinematographer Roger Deakins, who was replaced in December 2018 with Greig Fraser. Dune was produced by Villeneuve, Parent, and Cale Boyter, with Tanya Lapointe, Brian Herbert, Byron Merritt, Kim Herbert, Thomas Tull, Jon Spaihts, Richard P. Rubinstein, John Harrison, and Herbert W. Gain serving as executive producers and Kevin J. Anderson as creative consultant. Game of Thrones language creator David J. Peterson was confirmed as a constructed language developer for the film in April 2019.\\n\\n\\n=== Writing ===\\nIn March 2018, Villeneuve stated that his goal was to adapt the novel into a two-part film series. He secured a two-movie deal with Warner Bros. Pictures, in the same style as the two-part adaptation of Stephen King\\'s It in 2017 and in 2019. He chose to make two films as he felt that the novel was too large and complex for one. Subsequent dealings secured the production of the first film and new production deals were made to start production for the second. Eric Roth was hired to co-write the screenplay in April,  with Legendary CEO Joshua Grode affirming that the studio planned on making a sequel. Roth, who had read the book as a child, had a neutral opinion of it, which allowed him to have an \"objective view of it\". He wrote a 50-page treatment for the film and focused on appealing to groups of people who enjoyed the book, did not remember nor care for the book, and those who were not familiar with it at all. Villeneuve completed a first draft of the script by May 2018, Producer Brian Herbert stated that the fourth draft of the screenplay, submitted in July, would cover the first half of the events from the novel, while Jon Spaihts was later hired as co-writer alongside Roth and Villeneuve in September. Though the book features many elements inspired from Arab and Islamic culture, Spaihts stated the team minimized incorporating them as he felt Arab culture became integrated into the world, resulting in the need to \"invent more and borrow less\" due to potentially overemphasizing them. Eventually, Roth worked on the film again after completing his work on Killers of the Flower Moon (2023), providing feedback after a screening of the film and aiding in rewrites prior to reshoots.\\nWhen writing his script, Villeneuve chose not to take inspiration from Lynch\\'s Dune, wanting instead to directly refer to the book despite affirming his respect for Lynch and the film. He described his reaction to the film as being \"half-satisfied\", and felt he would make the film with a \"different sensibility\". Similarly, he chose not to incorporate concepts Jodorowsky envisioned for his Dune film, as he felt it would be \"very presumptuous and arrogant\". He was not intimidated by previous film adaptations as he felt his love for Dune allowed him to focus on his own vision. He compared his experience of making the film to archaeology, describing the process as \"going back in time and finding those images mixed with emotions, and bringing them back to life\".\\nIn adapting the book for a contemporary audience, Villeneuve considered his screenplay \"a coming-of-age story, but also a call for action for the youth\" and noted the book\\'s social commentary regarding capitalism and the exploitation of natural resources such as oil. In doing so, Villeneuve wanted to recreate the experience he had felt when he initially read the book as a teen. He adjusted and modified many parts of the novel for the film, and wanted to keep \"the atmosphere and poetry ... intact\". This included eliminating internal monologues and epigraphs used in the book and simplifying the \"pseudo-antiquated\" dialogue. Instead, he emphasized Paul and Jessica\\'s relationship as the main focus of the story, and gave them a secret hand gesture language they could use to communicate silently to each other. The film also minimizes the political aspects of the Dune world in order to retain the book\\'s scale and exploration of power dynamics while also focus on Paul\\'s growth. The inclusion of the informative holographic filmbook videos for Paul was adapted from the book, with Villeneuve wanting it to convey Paul\\'s \"appetite for learning\" and his desire to learn about the Arrakis and Fremen culture.\\nSome characters were given less prominence, such as Baron Harkonnen, members of his court, and the Mentats Thufir Hawat and Piter De Vries, but established enough so that they can be used in the future. Villeneuve sought to depict the Baron as a complex antagonist rather than as a caricature, feeling the novel presented him as being the latter, and took inspiration from Colonel Kurtz. Another major change was altering some of the arcs of the female characters in the book to give them more respect and prominence, as Villeneuve felt femininity was a crucial theme in the book. Ferguson stated that while Villeneuve respected Herbert\\'s characterization in the book, Villeneuve\\'s modifications had helped improve the quality of female characters by expanding the role of Lady Jessica as a soldier and member of the Bene Gesserit. As such, the studio labeled this role a \"warrior priestess\", in contrast to the joking label of \"space nun\" that Villeneuve felt was implied by the book. \\n\\n\\n=== Casting ===\\n\\nVilleneuve began the casting process by first determining who would portray Paul Atreides. He approached actors on an individual basis and felt the final cast was close to his \"dream list\". For Paul, Villeneuve desired an actor who had \"an old soul in the body of a teenager\".  He identified Timothée Chalamet as the ideal choice for the role, later admitting that he had no alternate choices in mind. Chalamet, who previously auditioned for a role in Villeneuve\\'s Prisoners (2013), also desired to collaborate with Villeneuve and appear in Dune. He travelled to the Cannes Film Festival to discuss the role with Villeneuve. Chalamet entered final negotiations to play the role of Paul in July 2018. Rebecca Ferguson entered negotiations that September to play the role of Paul\\'s mother, Lady Jessica, with Chalamet already confirmed for the role of Paul. Ferguson was initially dismissive as the role, as she felt it was too similar to her Mission: Impossible role as Ilsa Faust. Ferguson did not want to be typecast as a \"strong female character\". However, she was convinced after hearing Villeneuve\\'s ideas and reading the book, saying she enjoyed the \"simplicity of wanting to save something you have created and all of these shades\". She had been cast by January 2019.\\nCasting director Francine Maisler had compiled over 30–50 audition tapes from actors for Villeneuve to decide from when casting secondary roles. Dave Bautista was offered the role of Glossu Rabban following a phone call from Villeneuve. He was an avid fan of Villeneuve and wanted to contact him, but was surprised when Villeneuve contacted him first and says he is proud of being offered the role. Villeneuve wanted Stellan Skarsgård to portray Baron Vladimir Harkonnen as he had found Skarsgård intimidating, and personally contacted Charlotte Rampling in order to portray Gaius Helen Mohiam, who accepted as she enjoyed Villeneuve\\'s work. Oscar Isaac contacted Villeneuve about starring in the film once he heard it was in development. Villeneuve cast him as Duke Leto, with Isaac commenting the role suited him physically. Zendaya auditioned for the role of Chani alongside five other actresses. She was chosen as she was considered to have the best performance with Chalamet. Bautista, Skarsgård, Rampling, Isaac, and Zendaya all joined the cast in January 2019.\\nIn the next month, Javier Bardem, Josh Brolin, Jason Momoa, and David Dastmalchian were cast as Stilgar, Gurney Halleck, Duncan Idaho, and Piter de Vries, respectively. Villeneuve directly called Bardem and offered him the role, who was shocked as he wanted to portray Stilgar, comparing it to his personal love for Aragorn in The Lord of the Rings. Meanwhile, Brolin amusingly commented that he pretended to read the script prior to accepting the role, while Momoa received his casting call when he was snowboarding down a mountain. He later contacted Villeneuve on a Skype call to confirm his involvement. Dastmalchian\\'s casting was similar to Brolin and Momoa\\'s, as he received a call while he was in his Los Angeles home, and accepted the role without reading the script due to his confidence in Villeneuve. Stephen McKinley Henderson joined in March, with Chang Chen entering negotiations. Maisler chose Henderson after admiring his work in New York theaters, and curated a list of the \"most talented\" Chinese actors for the role of Dr. Yueh. Despite initial difficulties contacting Chen, they eventually contacted his manager in China. Afterwards, Chen accepted his role as Dr. Yueh. The decision to cast Benjamin Clementine as the Herald of the Change occurred after Maisler enjoyed his performance in the Tiny Desk Concerts.\\nDuncan-Brewster auditioned for the role in London through Jina Jay, a casting director working with Maisler at the time, saying that she \"exudes an intelligence and a power and an inner strength\". When Maisler presented a shortlist for potential cast members, Villeneuve selected Duncan-Brewster. Her casting was confirmed in April 2020. The idea to change Kynes\\' gender was suggested by Jon Spaihts, which Villeneuve promptly accepted. According to Duncan-Brewster, Villeneuve opted for the change as he felt it was not necessary to adhere to all of the elements in the book in order to remain faithful to the character\\'s nature.\\n\\n\\n=== Design ===\\n\\n\\n==== Set and props ====\\nThe set design was done by production designer Patrice Vermette. Vermette based the set design for Dune by the need \"to ground the story into realistic settings to help the audience believe in the extraordinary elements\". He sought to make the sets as realistic and immersive as possible, using minimal set extensions and no greenscreens. Prior to the creation of any sets or visual effects, Villeneuve and a group of specific people, worked together to define the visual language for the film.\\nVermette created a \"visual bible\" to guide the development of set design and keep it consistent with the film\\'s visual effects design, intending to help \"extrapolate the world\". He also re-read the novel, as he felt that \"the book gives a lot of clues or cues that will help you navigate it to design things, but it\\'s quite nonspecific\", adding that he wanted to support Villeneuve\\'s original vision of the novel when he read it as a young teenager, and base the design around Herbert\\'s original novel. The team\\'s early mood boards for the visual language of the film consisted of Mesopotamian ziggurat architecture, Egyptian references, World War II bunkers, Brazilian and Soviet brutalist architecture, minimalist megastructures and dams designed by Superstudio, and imagery of glaciers taking over mountains.\\nThe design for the ornithopters was conceived by Villeneuve and storyboard artist Sam Hudecki. Villeneuve wanted the ornithopter be \"muscular\"; he wanted it to resemble a dragonfly and helicopter, but also appear realistic and adhere to basic laws of science. This fit in with his overall perception of the Dune world being retro-futuristic and analog. He also wanted the cockpits to be designed so that the actors could see the landscape. Two functional ornithopter models, 48- and 75-feet long, were created for filming by London propmakers, with operable doors and interior cockpit areas. They weighed over 11 tons and required an Antonov cargo plane to transport them to filming locations in Hungary and Jordan. One ornithopter used in filming had customizable pieces allowing for more space. Cranes were used to make the models fly.\\nMany practical sets were created on the soundstages and backlots of the Origo Film Studios in Budapest, Hungary, serving as interiors for the three planets. When designing Caladan, Vermette sought to give the planet \"a feeling of melancholia\". He wanted Caladan to resemble autumn in Canada, his home country, as he thought that it represented \"the end of a cycle... or the beginning of a new one\". He identified \"dramatic coastal mountain ranges\" and forests containing Norwegian pines as defining features of the planet. Meanwhile, the interior sets of Caladan were inspired by medieval Japanese aesthetics, particularly that of Paul\\'s training room, containing intricate screens and diffused lighting. Props were created by set decorator Richard Roberts, including custom-made furniture, lighting, textiles produced in Denmark, and other items designed to look antique.\\nThe original design for the sandworm was deemed \"prehistoric\", inspired by whales with baleen in their mouths. The sandworm\\'s skin texture was based on tree bark and mud flats. Vermette spoke of the challenges involved in creating the set designs used for the sandworms, stating \"It was a creature that commanded respect, and it\\'s almost seen as a deity in the world of the Fremen. So that\\'s why the first time you see the depiction of the sand worm on the mural, it\\'s presented with sun coming out of its mouth\".\\nThe design for Arrakeen was influenced by the book\\'s description of Arrakis\\'s climate, with Vermette calling it \"the biggest residency ever built by humankind\" and \"a response as a colonial entity that took over the planet for the exploitation of ... spice\". He designed the city in a \"rock bowl\" shape to protect its infrastructure from sandworms, and built buildings at an angle to protect them from high wind speeds. The walls were thickened to make the interiors cooler. The team was inspired by WWII bunkers, bunkers, Mayan temples, and Brazilian modernism. The history and culture of the Fremen was depicted in various murals throughout the residence, with Vermette comparing it to that of a church after envisioning Fremen artists doing so in order to depict the colonization of Arrakis. One practical set was the environmental lab in which Sardaukar soldiers descend from the air. The circular dome was 20 feet high, with the spokes being created by a special kind of cloth fabric, giving the illusion of shadows and providing proper lighting for the act. Agriculturally controlled sand was placed on the ground as filming took place during Budapest\\'s raining season.\\n\\n\\n==== Costumes ====\\nOver 1000 looks for Arrakis, Caladan, and Giedi Prime were designed by the team for the film. The costume design was done by Jacqueline West and Bob Morgan. Villeneuve wanted the costumes to be \"grounded\" in history while avoiding conventional futuristic views in science fiction films. West performed \"psychological studies\" of characters and historical research to associate their houses with historical \"symbolic analogs\", facilitating her costume design process. She took primary inspiration from the Middle Ages, particularly envisioning what it would look like in the future. She associated the Fremen with the French Resistance and the Sardaukar with the Nazis when designing the costumes. Additionally, she took inspiration from Giotto, Francisco Goya, Caravaggio, and British art historian John Berger, while emulating styles from the fashion of Balenciaga, the Bedouin, and Tuareg people.\\nWest associated the Spacing Guild with the Avignon Papacy, connected their persecution of the Templars to that of House Atreides; she noted that the Emperor and his allies betrayed House Atreides. Reference pictures consisted of medieval popes and modernized it when designing their costumes. The Bene Gesserit sorceresses\\' costumes were based on tarot cards and chess pieces, while the Harkonnen armor was designed to resemble a bug\\'s shell, using medieval drawings of \"insects, spiders, ants, praying mantises and lizards\" as reference. Meanwhile, the Atreides\\' costumes were based on the Romanovs, describing their costumes as having a \"simplicity ... that was regal\". Lady Jessica\\'s dresses in the first half of the film were inspired by the works of Cristóbal Balenciaga, while the turmeric-toned gown she wears while landing on Arrakis was influenced by Middle Eastern clothing and paintings of women in North Africa.\\nWest cited the films Lawrence of Arabia (1962), Doctor Zhivago (1965), and Fahrenheit 451 (1966) as further inspirations for costume diversity. She also researched Roman and Greek mythology, feeling that the Atreides-Harkonnen feud was similar to a \"real Greek and Roman tragedy\". She dyed the gauze for Fremen cloth in desert colors, inspired by the sand and rocks in Jordanian filming locations. A prototype for the stillsuit was designed by West and Jose Fernandez at Ironhead Studios in Los Angeles. The prototype was then taken to Origo Studios, where a factory was set up to design additional suits within two weeks. He hired European artisans to create concept designs and over 150 individual pieces for the suits. Over 250 stillsuits were used when filming in Jordan. The suits were designed to be flexible and comfortably fit the actor\\'s body, while also remaining accurate to the book. They created \"micro-sandwiches\" of acrylic fibers and porous cottons, which absorbed the moisture and allowed the actors to remain cool inside the suits. Tubing also ran through the micro-sandwiches for increased flexibility. Zippers and buttons were not used as they were deemed \"archaic\".\\n\\n\\n=== Filming ===\\nPrincipal photography began on March 18, 2019, at Origo Film Studios in Budapest, Hungary, with Greig Fraser serving as cinematographer. The film was shot for the IMAX format with an IMAX-certified Arri Alexa LF camera and an IMAX-certified Alexa Mini LF prototype, equipped with Panavision\\'s large-format lenses in the Ultra Vista and H-series lineup. Select scenes had aspect ratios opened up to 1.90:1 on all IMAX screens, and to 1.43:1 on select IMAX screens outfitted with IMAX\\'s dual-laser projection system. The finished footage was transferred to 35mm film stock, then scanned back to 4K, in order to achieve a more film-like look. Filming occurred in Wadi Rum, Jordan, which doubled for Arrakis. The Liwa Oasis in the United Arab Emirates also served as a key backdrop for Arrakis, with filming there occurring across 11 days. Local businesses, freelancers from Twofour54, and crews consisting of over 100 people offered assistance during the shoot. Scenes featuring the rock formations functioning as the Fremens\\' heat shelters were filmed at the Rub\\' al Khali desert. Stadlandet, Norway doubled for the planet Caladan. Filming wrapped on July 26, 2019. Additional filming took place in Budapest by August 2020, which did not alter the film\\'s then-December 2020 release date.\\nParts of the Arrakeen invasion, such as shots of Gurney, extras, and practical explosions up to approximately five kilometers high, were filmed on backlots in Budapest. Duke Leto\\'s death scene was the final scene filmed by Isaac, in which he decided to film it nude as he felt it was similar to Christ\\'s crucifixion. He also came up with the idea of including the bull\\'s head, identifying it as an \"omen\". Ornithopter interiors were filmed on hilltops outside Budapest, with a 25-foot high and 360° sand-colored ramp circling a large gimbal, allowing Fraser to film with natural sunlight. Supervising stunt coordinator and second unit director Tom Struthers developed unique combat styles for major factions. When working on the action sequence between Idaho and the Sardaukars, he based Idaho\\'s combat style from Greek and Roman warfare techniques, and the Sardaukar\\'s from Russian soldiers in WWII wanting to \"mow down the enemy\".  Chalamet learned the sandwalking technique, designed by choreographer Benjamin Millepied, prior to filming Arrakis scenes in order to convey Paul\\'s natural adeptness at it and \"responsibility to show Jessica in that moment\". Footage of helicopters flying over the UAE were filmed with six high-resolution cameras, being utilized as reference footage for ornithopters.\\n\\n\\n=== Post-production ===\\n\\nDNEG contributed to over 28 scenes in the film, creating 1,200 VFX shots out of the 1,700 total, with vendors including Wylie Co. and Rodeo FX. Many shots used various chroma key processes. Visual effects supervisor Paul Lambert used \"sandscreens\" for filming scenes in Arrakis and Arrakeen; instead of using green-based backgrounds, the visual effects team used sand-colored ones that matched the establishing desert shots intended for backgrounds. The sandscreens were used in capturing scenes of the ornithopter, with the VFX team using the helicopter footage and replacing them with the ornithopter models, facilitating capture of sand displacement. This was also filmed by encapsulating ornithopter models in black boxes with fans blowing dust. The wings were inserted using computer-generated imagery (CGI). Similar processes were used to film scenes in other settings, as it facilitated compositing the foreground and background imagery: Caladan scenes used \"grayscreens\" and those with a \"slight blue tint\" for interior and exterior scenes, respectively, Salusa Secundus scenes used bluescreens. Approximately 18 tons of sand and dust were used on set, with the effect of blowing sand being created by using a V8 engine with a fan on the back of a tractor.\\nThe sandworms were created through CGI. The VFX team found a lot of difficulty in deciding how the sandworm would move. The team spent over a year in figuring out the movements of the sandworm, and researched the body movements of various animals, such as worms and snakes. The sand ripples created by the worms were inspired by implicit visual cues of the shark from Jaws (1975). The special-effects supervisor Gerd Nefzer designed a vibrating 8x8 foot steel plate and placed it under the sand. This resulted in the formation of various patterns, used to signify an approaching sandworm. The vibrating areas were also later enhanced to cover a larger area. The team initially considered using rigged explosives to capture the motion of the sandworms breaking the surface in the desert, but rejected the idea as this was impractical to perform in the Middle East. Instead, they used the Houdini software to have sand emulate the motion of water. Villeneuve did not want the associated sound design to appear as a studio production. Sound designers Mark Mangini and Theo Green used a \"fake documentary realism\" approach to capture natural sounds and manipulate them for use in the film, such as recording the sounds of shifting sands in Death Valley using hydrophones.\\nThe Montreal and Vancouver facilities of DNEG were used for the Arrakeen invasion sequence. It involved combining practical and digital effects. The Montreal VFX supervisor Brian Connor created a digital Arrakeen space port, while the Vancouver team simulated explosions. Practical explosions filmed in Budapest backlots were later enhanced by the VFX team: the special effects team had rigs of practical light shining through the fog from explosions, allowing them to blend practical and digital shots easier. Lambert created the Holtzman shields\\' visual effects by combining past and future frames after experimenting with various visual filters on an action sequence from Seven Samurai (1954), resulting in a \"shimmering\" look Villeneuve approved. They also added colors; they used blue for bouncing objects and red for penetrations. The scene of Paul\\'s future vision was filmed using motion-capture (mo-cap), and the team replicated mo-cap to add many fighters. Animation supervisor Robyn Luckham helped with the scene as the team did not know much about mo-cap. They also added explosions in the foreground, sandworms in the background, sand displacement throughout, and used more simulations to render the scene in real-time. \\nThe team created a detailed practical stuffy model for the desert mouse, Muad\\'Dib, and filmed it in Jordan for appropriate desert lighting. The animation team used footage of idling animals as reference, and animated the mouse so it \"expends effort when absolutely necessary\". The creosote bush hologram was created by projecting different \"slices\" of light on Chalamet\\'s face during plate photography based on his filming location using a projector. Wylie then completed the scene by adding the hologram around him. For the hunter-seeker, a stick on set was used as reference, being later replaced with proper models via CGI. Practical rigs were attached to Skarsgård\\'s body to create the effect of the Baron\\'s levitation. The levitation was occasionally done practically with a seesaw rig. However, the suspensor device attached to his back was inserted using CGI.\\n\\n\\n== Music ==\\n\\nHans Zimmer affirmed he would be scoring Dune near the start of the film\\'s production in March 2019. Zimmer previously worked with Villeneuve on Blade Runner 2049 (2017). At the time, Zimmer rejected director Christopher Nolan\\'s request to compose the score for his then-upcoming film Tenet (2020), citing his personal love for the book. Zimmer did not want the soundtrack to sound like his previous works and used instruments atypical of a Western orchestra. He avoided watching Lynch\\'s Dune so as not to be influenced by Toto\\'s music, instead spending a week in a Utah desert to incorporate its sounds into the score. The music was performed using an eclectic set of instruments, including some created specifically for the soundtrack. Performers for the score include guitarist Guthrie Govan and vocalist Loire Cotler. Additional music was composed by Steve Mazzaro and David Fleming, both of whom worked in collaboration with Zimmer to keep his pieces on theme. The soundtrack pieces include bagpipes for the House Atreides theme, which was suggested as Villeneuve\\'s idea of something \"ancient and organic\". Zimmer found 30 bagpipe players around Edinburgh during the COVID-19 pandemic and recorded them playing in a church.\\nFor the first Dune trailer, Zimmer supervised a 32-person choir via FaceTime (necessitated by pandemic restrictions) for the recording of a cover of Pink Floyd\\'s song \"Eclipse\". Choir members gathered in groups of four over eight separate sessions in Santa Monica at Zimmer\\'s Remote Control studio while Zimmer conducted from home.\\nThree soundtrack albums were released for the film by WaterTower Music, including The Dune Sketchbook (Music from the Soundtrack), Dune (Original Motion Picture Soundtrack), and The Art and Soul of Dune on September 3, September 17, and October 22, 2021, respectively. Villeneuve said Zimmer spent \"months and months creating new instruments, defining, creating, and seeking new sounds, pushing the envelope\" and praised his work on the film. Two singles were released on July 22, titled \"Paul\\'s Dream\" and \"Ripples in the Sand\". The film\\'s score was nominated for the Best Score Soundtrack for Visual Media at the 2022 Grammy Awards.\\n\\n\\n== Marketing ==\\nIn April 2020, Vanity Fair published a two-part extensive first-look report on Dune. Empire provided additional first looks in October ahead of the film\\'s trailer release. A teaser trailer was released on September 9 featuring a remix of the Pink Floyd song \"Eclipse\" (1973) combined with Zimmer\\'s score. Zack Sharf of IndieWire gave the trailer a positive review, and wrote \"It\\'s full of eye-popping set design\", in addition to stating, \"The two [Denis Villeneuve and Greig Fraser] have brought a tangibility to Frank Herbert\\'s world that should make Dune a visceral experience for moviegoers.\" Miles Surrey from The Ringer also gave the trailer a positive review, and felt the trailer \"undoubtedly looks promising,\" and noted that, though the source material has been \"notoriously unadaptable,\" he felt \"the curse could be broken,\" due to the cast and Villeneuve\\'s direction. Similarly, Deadline Hollywood\\'s Dino-Ray Ramos also praised the trailer for its scale, writing that it contained \"sci-fi prestige and the epic scale that includes mind-boggling action, elegant cinematography and fantastical nuances that still leave room for grounded and very human storytelling\".\\nThe first ten minutes of the film were screened in select IMAX theaters worldwide on July 21 and 22, 2021, in an event that also included a behind-the-scenes look at the film and the debut of the film\\'s theatrical trailer, on July 22. Angela Wattercutter of Wired stated that the trailer \"is begging you to see it in theaters\". Jennifer Yuma from Variety praised the cast and visuals, and praised its scope, calling the trailer \"epic\". Similarly, Aaron Couch from The Hollywood Reporter also praised the cast and thought the film was an \"ambitious sci-fi adaptation\". Anthony Breznican from Vanity Fair also gave the trailer a positive review and stated, \"It will seem more mysterious to those unfamiliar with the story, but like Chani does herself in those dream missives to Paul, it hints at big, impressive things to come\". Vulture\\'s Zoe Haylock was also impressed by the trailer, and advocated watching the film in theaters, praising the visuals as \"transcendental natural settings\". Writing for Entertainment Weekly, Christian Holub felt the trailer \"sets the stage cleanly\".\\nOn February 26, 2019, Funcom entered into an exclusive partnership with Legendary Entertainment to develop games related to the upcoming Dune films. \\nAn artbook, The Art and Soul of Dune, was released alongside the film on October 22, 2021. The book was written by the executive producer Tanya Lapointe, and it included a soundtrack album of the same name composed by Zimmer. The book was available in both a standard and deluxe edition. In September 2020, McFarlane Toys started a line of 7-inch figures modeled after characters from the film. A 12-inch figure of Baron Harkonnen was introduced at the same time. The action figures were released in December 2020.Legendary Comics announced Dune: The Official Movie Graphic Novel via Kickstarter and published the comic in December 2022 by writer Lilah Sturges and art by Drew Johnson.\\n\\n\\n== Release ==\\n\\n\\n=== Theatrical and streaming ===\\nDune was originally scheduled to be released on November 20, 2020, but was pushed back to December 18, 2020. The film was then delayed by the COVID-19 pandemic, this time to October 1, 2021, taking over the release date slot of The Batman, where it was theatrically released in 3D. In late June 2021, Warner Bros. delayed the film\\'s American release date again by three weeks to October 22, 2021, to avoid competition with No Time to Die. Over a month prior to its North American release, the film began its theatrical roll-out in most international markets, beginning on September 15 with France, Germany, Russia, Switzerland, Sweden, Norway, Spain and Belgium.  A week ahead of the United States release, Warner Bros. announced that the film\\'s availability on HBO Max would start on the evening of October 21, 2021, correlating with typical early Thursday theatrical showings for films released on Fridays (although the studio had not been doing early Thursday previews for most of the rest of their hybrid theatrical/HBO Max releases. The other exception being The Suicide Squad, which had the same strategy for its early Thursday previews/HBO Max release).\\nLike all 2021 Warner Bros. films, Dune was streamed simultaneously on HBO Max for a period of one month. The film was then removed from the service and followed the normal home media release schedule, similar to the process Warner Bros. used for Wonder Woman 1984 (2020). Many production companies and directors expressed dissatisfaction with the decision, including Villeneuve and Legendary Pictures. In a column published in Variety, Villeneuve expressed concerns about the film\\'s financial success and piracy.\\nDune had its world premiere at the 78th Venice International Film Festival on September 3, 2021. It also screened at the Toronto International Film Festival with an IMAX premiere screening at the Ontario Place Cinesphere on September 11, 2021. Jason Momoa tested positive for COVID-19 after attending the film\\'s London premiere on October 15, 2021. On October 17, the film was leaked online ahead of its planned US and HBO Max release. The film returned for a theatrical run at IMAX theaters from December 3, 2021. From January 24, 2024, screenings included an exclusive preview of Dune: Part Two ahead of its March 2024 release.\\n\\n\\n=== Home media ===\\nThe film was released digitally on December 3, 2021, while Blu-ray, DVD and Ultra HD Blu-ray versions of the film were released on January 11, 2022, by Warner Bros. Home Entertainment. After its release on home media, Dune ranked first on the \"NPD VideoScan First Alert\" chart for combined Blu-ray and DVD sales as well as the dedicated Blu-ray sales chart. According to The Numbers, it sold a combined 215,375 Blu-ray and DVD units in the first week for $3.6 million. It retained the top position on both the charts of the NPD Group for the following two weeks before being displaced by Ghostbusters: Afterlife. In addition, it was the most rented title from Redbox kiosks for three weeks as well. It was the highest-selling movie for the month of January according to the \"NPD VideoScan First Alert\" chart.\\n\\n\\n== Reception ==\\n\\n\\n=== Box office ===\\nDune grossed $108.9 million in the United States and Canada, and $297.1 million in other countries, for a worldwide total of $406 million during its initial release. Deadline Hollywood reported that a total box office gross of $300 million, the combined cost of production and marketing, \"will make many happy from an image-standpoint, even if breakeven is far north of that\".\\nIn the US and Canada, the film made $41 million in its opening weekend from 4,125 theaters, surpassing its projected opening weekend estimates of $30–35 million and besting the debut of Godzilla vs. Kong ($31.6 million) for the highest opening weekend for Warner Bros. during the pandemic era. Of that opening weekend take, $17.5 million came from its first day ticket sales, including $5.1 million from Thursday night previews. Dune also had the best opening of Villeneuve\\'s career. The film fell 62% in its second weekend to $15.5 million, though it remained atop the domestic box office. In its third weekend it dropped by 51% to earn $7.6 million, and was displaced by Eternals from the top rank. On November 25, 2021, Dune became the second Warner Bros. film of the pandemic era to cross $100 million in the US and Canada, following Godzilla vs. Kong.\\nThe film was released in 14 markets outside the US and Canada on September 15, 2021. It grossed $37.9 million, with the largest markets being Russia and CIS ($8.9 million), France ($7.2 million), Germany ($4.4 million), Taiwan ($3.4 million), Italy ($2.5 million) and Spain ($2.4 million). After adding an additional $26.3 million from 32 countries in its second weekend, the film had a 10-day running total of $76.5 million.\\nIn China, Dune opened to a $21.6 million weekend according to estimates by Warner Brothers, ranking second on the country\\'s box office behind The Battle at Lake Changjin. In its fourth week of release outside the US and Canada, the film made $21.4 million in 75 countries, a drop of 54% from the previous weekend. It also fell by 78% to about $5 million in China, dropping to the third rank. The film crossed the $300 million global mark on November 2. During the fifth weekend it earned $11.1 million, a drop of 52%. This included $2.1 million in China where it dropped to the fifth rank.\\nAfter its return to IMAX for a week on December 2, the film earned an estimated $1.8 million during the weekend, a drop of 13% from the previous weekend, primarily due to earning around $1 million from IMAX. In Australia it debuted atop the box office chart, earning $3.4 million in the opening weekend. The $400 million global mark was crossed on February 14, 2022, with the largest running-total countries outside the US and Canada being China ($39.5 million), France ($32.6 million), the UK ($30 million), Germany ($22.5 million) and Russia ($21.3 million).\\n\\n\\n=== Streaming viewership ===\\nAccording to Samba TV, the film was watched in over 1.9 million US households during its first three days of release, which grew to 2.3 million within its first week of release. 3.9 million US households watched the film within its first 30 days of release. According to TV Time, it was the most-watched film overall in the United States from the first to the third week of its release consecutively, before dropping to the sixth rank in its fourth week. The film rose to the third rank on TV Time\\'s chart in the final week of its availability. It was the ninth-most-streamed-film of 2021 according to the service. By March 20, the film was streamed in 5.3 million households in the US, including 996,000 since the Oscar nomination announcements on February 8.\\nAfter its release on PVOD services, Dune debuted at the second position on iTunes and Vudu charts and was ranked seventh on Google Play. The following week it fell to the seventh position on iTunes and the third position on Vudu, while maintaining its ranking on Google Play. After falling out of the charts for two weeks, it found renewed interest as it rose to the tenth position on iTunes, seventh position on Google Play, and the fifth position on Vudu. In the following week, it fell out of the iTunes and Google Play charts again, while dropping to the tenth position on the Vudu chart.\\nThe film was the highest-selling title on Redbox\\'s digital service for the week of January 24–30, 2022. It was also the top-ranked film on iTunes during the same week. Following the Academy Awards nominations, it reentered the top 10 charts for iTunes, Google Play and Vudu.\\n\\n\\n=== Critical response ===\\nOn the review aggregator website Rotten Tomatoes, 83% of 514 critics\\' reviews are positive, with an average rating of 7.6/10. The website\\'s consensus reads: \"Dune occasionally struggles with its unwieldy source material, but those issues are largely overshadowed by the scope and ambition of this visually thrilling adaptation.\" Metacritic gave the film a weighted average score of 74 out of 100, based on 68 critics, indicating \"generally favorable reviews\". Audiences polled by CinemaScore gave the film an average grade of \"A−\" on an A+ to F scale, while those at PostTrak gave it an 84% positive score (with an average rating of 4.5 out of 5 stars) and 66% saying they would definitely recommend it. Following its premiere at the Venice Film Festival in September 2021, early reception was generally positive, receiving praise for its ambition, story, scope, worldbuilding, performances (particularly those of Chalamet and Ferguson) and production values, although some critics considered the story to be incomplete and dull. Its writing and scope continued to be praised following its release, while others criticized the runtime, pacing, and adaptation of the source material.\\nBen Travis of Empire, Robbie Collin from The Daily Telegraph, and Xan Brooks at The Guardian rated the film five out of five stars. Travis praised the writing and direction, feeling it helped properly establish elements of worldbuilding. He also lauded Fraser\\'s cinematography and Zimmer\\'s score, calling the film \"blockbuster filmmaking in the Christopher Nolan mould\", and praising Chalamet and Ferguson\\'s performances. However, he felt that the \"emotional strings\" did not work as well. Brooks agreed with the sentiment that it was a high-quality blockbuster film and found it \"the missing link bridging the multiplex and the arthouse\", citing the worldbuilding, ensemble cast, and set pieces as positive elements. Collins also praised the writing and Chalamet and Ferguson\\'s performances, feeling the exposition was written well. However, he highlighted the production design and the sandworms, calling the latter \"threateningly alien, but also enticing, even addictive\" and commenting \"the sets ring with the desolate grandeur of ancient ruins\".\\nIn a positive yet more critical review, Justin Chang of the Los Angeles Times felt the film used thematic elements from the novel well, and also lauded the production values albeit labelling the visual aesthetic as monochromatic. Chang further went on to praise the plot for increasing the role of women in the story and tension regarding anticipation of action sequences, which he thought were directed well. However, he disliked the \"abrupt, unsatisfying\" ending and wanted Villeneuve\\'s style to align with David Lynch\\'s style, which he considered to contain \"feverish, pustular imagery\".  Leah Greenblatt of Entertainment Weekly, who graded the film a B, wrote that Dune had little exposition and also appreciated the worldbuilding and visual aesthetic. However, she did not appreciate the jokes and felt the script gradually adjusted \"and soon settles into a kind of grim grandeur\", highlighting Chalamet and Isaac\\'s performances. The New York Times\\'s Manohla Dargis also admired the production values and worldbuilding, adding the exposition and pacing was appropriate to establish the latter. However, while she felt Villeneuve had attempted to be faithful to the source material, she also opined that Villeneuve was trying to satisfy the demands of the contemporary film industry. Her major issues were also with the ending and what she deemed to be a \"white man leading a fateful charge\", though she refrained from labelling it a white savior narrative.\\nCritic Owen Gleiberman\\'s review in Variety was more negative: he appreciated the film\\'s extensive focus on worldbuilding, but felt it had also undermined the storytelling. He found the title of \"Dune Part I [sic]\" to be \"presumptuous\", regarding it to be analogous to how other film franchises advertise future installments. Gleiberman felt the film\\'s spectacles, including the sandworm and ornithopter sequences, disengage him from the story, saying \"as the movie begins to run out of tricks, it turns woozy and amorphous\". Reviewing the film for TheWrap, Steve Pond noted the film\\'s darker tone had remained consistent, and cited the production design and scope as positive elements. Pond enjoyed the action sequences on Arrakis and appreciated that Villeneuve \"finds some dark poetry in the way he plays up the story\\'s mystical elements\". However, he was mixed on the film\\'s dark tone, regarding it as a tonal deviation from his previous films but also allowing it to be \"giant mood piece that can be exhilarating in its dark beauty\". Roxana Hadadi\\'s review in Vulture critiqued the way the film flattened the cultural and religious complexities of the book and opted for a more generic portrayal of people of color without specific representation from Middle Eastern or North African (MENA) actors.\\nOther commentators and academics also perceived the film to have neglected and appropriated Arabian and Islamic elements which influenced Dune, and to have excluded MENA actors. Serena Rasoul, founder of Muslim Casting, wanted more MENA representation and labelled the lack of MENA actors an \"erasure\". However, she also acknowledged the cast\\'s overall diversity and did not call the film Orientalist. On the other hand, Ph.D. student in History at Princeton University Haris Durrari deemed it to be Orientalist as he opined it reduced Arab influences to \"exotic aesthetics\" and \"broad abstractions\". Meanwhile, Ali Karjoo-Ravary, an Assistant Professor of Islamic Studies at Bucknell University, felt that the casting of African actors excluded MENA actors, and that characters portrayed by African people felt \"ultimately empty\" as they had died or were not as developed as Paul and Lady Jessica.\\n\\n\\n=== Accolades ===\\n\\nDune was nominated for ten Academy Awards (winning six), three Golden Globe Awards (winning one), eleven British Academy Film Awards (winning five), ten Critics\\' Choice Movie Awards (winning three), two AACTA International Awards (winning one), ten Satellite Awards (winning five), one Grammy Award, one Hollywood Music in Media Awards (won), four People\\'s Choice Awards, one Screen Actors Guild Awards, three Dorian Awards (winning one), and one Nickelodeon Kids\\' Choice Award (won), among others. It was also ranked as one of the top ten films of 2021 by the American Film Institute.\\n\\n\\n== Analysis ==\\nKara Kennedy concluded that some parts are very faithful to the source material while others are heavily adjusted, such as the opening of the story and the portrayal of the Harkonnen. Frank Jacob found that the film has a stronger Orientalization of the Fremen than Lynch\\'s film adaptation, shown through elements such as Chani appearing like the Afghan Girl on the cover of National Geographic in 1985. Edwardo Pérez explored the depiction of the Fremen, masculinity and femininity, and issues of cultural appropriation in the film. He perceived Paul\\'s \"feminine\" Bene Gesserit skills and \"masculine\" military training as contributing to his initial \"androgynous\" and timid nature, later becoming masculine after killing Jamis. According to him, this alongside Duke Leto\\'s sympathy during Paul\\'s concerns about being leader showed that one must acknowledge their masculine and feminine nature for success by pursuing leadership passively.\\nYosr Dridi found screenplay changes made to adjust the source material for a \"culturally-aware and race-conscious 21st century audience\" as eliminating the Arab and Oriental elements for the story, and focusing more on Fremen culture and society rather than the elements of geopolitical worldbuilding from the book, noting how Princess Irulan\\'s original historical epigraphs in the book being replaced with Chani\\'s narration. However, Dridi stated that the film framed Fremen society through Paul\\'s perspective, which constrained the Oriental in \"dominating frameworks\" and disliking the usage of few Arabic words from the Fremen lexicon in the film. Misha Grifka Wander has shown how the film downplays ecology and elements from MENA cultures in favor of the chosen one storytelling trope. Doru Pop discussed the controversies and changes made in the adaptation of Dune to film and Isaac Asimov\\'s Foundation to a television series, particularly the gender and racial changes to key characters. Ion Indolean looked at how Villeneuve cinematographically expresses the story of Paul using elements of the space opera genre and follows in the steps of director Ridley Scott in Blade Runner (1982) and Alien (1979).\\n\\n\\n== Sequels and spin-offs ==\\nVilleneuve intended to make a two-part adaptation of the novel, and by November 2019, Jon Spaihts left his position as showrunner on Dune: Prophecy to focus on writing the sequel film. Villeneuve felt that Warner Bros.\\' decision in December 2020 to simultaneously release their 2021 films through HBO Max alongside a theatrical release due to the impact of the COVID-19 pandemic on cinema could compromise the film\\'s financial performance, resulting in the cancellation of the sequel, though Warner Bros. assured him a sequel would be greenlit as long as the film performed well on HBO Max.\\nFollowing the film\\'s success, Warner Bros. and Legendary Pictures officially greenlit Dune: Part Two in October 2021. Villeneuve\\'s main concern was to finish the production, which would benefit from all the work on the first part. Main characters reprise their role from the first film, with additional casting lasting from March to July 2022, and concluding by January 2023. Preliminary filming began in Italy by early July 2022, and concluded that December. The film was released on March 1, 2024. Dune: Part Two\\'s world premiere took place at Odeon Luxe Leicester Square in London on February 15.\\nVilleneuve expressed interest in making a third film based on Dune Messiah, the second novel in the series, adding that the possibility for the film depended on the success of Dune: Part Two. Spaihts also reiterated in March 2022 that Villeneuve had plans for a third film as well as the television spin-off series Dune: Prophecy. In August 2023, Villeneuve declared his intentions for the film to serve as the conclusion of his Dune trilogy. Villeneuve began developing a script by 2023. In February 2024, Villeneuve said the script was \"almost finished\" but also wanted to take time to ensure his satisfaction, citing Hollywood\\'s tendency of focusing on release dates over quality. Ahead of Dune: Part Two\\'s release, Hans Zimmer revealed he was already writing music for a third film.\\nIn June 2019, Legendary Television announced it is producing a spin-off series, Dune: The Sisterhood, for WarnerMedia\\'s streaming service, HBO Max. The series serves as a prequel to the film and centers on the Bene Gesserit. Initially, Villeneuve was going to direct the series\\' pilot, with Spaihts writing the screenplay and Dana Calvo as showrunner for the series. In November 2019, Spaihts left the series as writer to focus on the sequel film. Spaihts and Villeneuve remain as executive producers along with Brian Herbert, Byron Merritt, and Kim Herbert. In July 2021, Diane Ademu-John took over as showrunner. Spaihts and Villeneuve confirmed in March 2022 that the show is still in development. In April 2022, it was announced that Johan Renck will direct the first two episodes. Travis Fimmel joined the cast in November 2022. In February 2023, it was announced that production was put on hiatus as Renck exited the project. The series was retitled Dune: Prophecy in November 2023.\\n\\n\\n== References ==\\n\\n\\n== Further reading ==\\nBritt, Ryan. (2023). The Spice Must Flow: The Story of Dune, from Cult Novels to Visionary Sci-Fi Movies. Penguin Random House LLC. ISBN 978-0593472996.\\nKennedy, Kara (2024), Adaptations of Dune: Frank Herbert\\'s Story on Screen. Blue Key. ISBN 978-1-953609-99-1.\\nJacob, Frank. (2022). The Orientalist Semiotics of Dune: Religious and Historical References within Frank Herbert\\'s Universe. Büchner. ISBN 978-3-96317-302-8.\\n\\n\\n== External links ==\\n\\nOfficial website\\nDune at IMDb \\nOfficial screenplay', start_char_idx=None, end_char_idx=None, text_template='{metadata_str}\\n\\n{content}', metadata_template='{key}: {value}', metadata_seperator='\\n'),\n",
              " Document(id_='63790171', embedding=None, metadata={}, excluded_embed_metadata_keys=[], excluded_llm_metadata_keys=[], relationships={}, text='Dune: Part Two is a 2024 American epic science fiction film directed and produced by Denis Villeneuve, who co-wrote the screenplay with Jon Spaihts. The sequel to Dune (2021), it is the second of a two-part adaptation of the 1965 novel Dune by Frank Herbert. It follows Paul Atreides as he unites with the Fremen people of the desert planet Arrakis to wage war against House Harkonnen. Timothée Chalamet, Zendaya, Rebecca Ferguson, Josh Brolin, Dave Bautista, Stellan Skarsgård, Charlotte Rampling, and Javier Bardem reprise their roles from the first film, with Austin Butler, Florence Pugh, Christopher Walken, Léa Seydoux, and Souheila Yacoub joining the ensemble cast.\\nDevelopment began after Legendary Entertainment acquired film and television rights for the Dune franchise in 2016. Villeneuve signed on as director in 2017, intending to make a two-part adaptation of the novel due to its complexity. Production contracts were only secured for the first film, with the second film having to be greenlit based on the first\\'s success. Villeneuve was concerned about the sequel\\'s certainty after the first film had a simultaneous theatrical and HBO Max release but Warner Bros. Pictures assured him the sequel would happen if it performed well on HBO Max. After the critical and commercial success of the first film, Warner Bros. and Legendary green-lit Dune: Part Two in October 2021. Principal photography took place in Budapest, Italy, Jordan, and Abu Dhabi between July and December 2022.\\nAfter being delayed from an original November 2023 release date due to the 2023 Hollywood labor disputes, the film premiered at the Odeon Luxe Leicester Square, London, on February 15, 2024, and was released in the United States on March 1. It received positive reviewsand has grossed over $697 million worldwide, making it the highest-grossing film of 2024. A sequel based on Herbert\\'s 1969 novel Dune Messiah is in development.\\n\\n\\n== Plot ==\\nFollowing the destruction of House Atreides by House Harkonnen, Princess Irulan, the daughter of Padishah Emperor Shaddam IV, secretly journals her distaste over how her father betrayed the Atreides. On Arrakis, Stilgar\\'s Fremen troops, including Paul and his pregnant mother, Lady Jessica, overcome a Harkonnen patrol. When Jessica and Paul reach Sietch Tabr, some Fremen suspect they are spies, while Stilgar and others see signs of the prophecy that a mother and son from the \"Outer World\" will bring prosperity to Arrakis.\\nStilgar tells Jessica that Sietch Tabr\\'s Reverend Mother is dying and that Jessica must succeed her by drinking the Water of Life—a poison fatal for males and untrained women. Jessica transmutes and survives the poison, inheriting the memories of all the past Reverend Mothers. The liquid also prematurely awakens the mind of her unborn daughter, Alia, allowing Jessica to communicate with her; they agree to focus on convincing the more skeptical northern Fremen of the prophecy. Chani and her friend, Shishakli, correctly believe the prophecy was fabricated to manipulate the Fremen, but begins to respect Paul after he declares that he only intends to fight alongside the Fremen, not to rule them.\\nPaul and Chani fall in love as Paul immerses himself in Fremen culture: learning their language, becoming a Fedaykin fighter, riding a sandworm, and raiding against Harkonnen spice operations. Paul adopts the Fremen names \"Usul\" and \"Muad\\'Dib\". Due to the continuing spice raids, Baron Vladimir Harkonnen replaces his nephew, Glossu Rabban, as Arrakis\\'s ruler with his more cunning yet psychotic younger nephew, Feyd-Rautha. Lady Margot Fenring, a Bene Gesserit, is sent to evaluate Feyd-Rautha as a prospective Kwisatz Haderach and secure his genetic lineage.\\nJessica travels south to unite with Fremen fundamentalists who believe most strongly in the prophecy. Paul remains in the north, fearful that his visions of an apocalyptic holy war will come to pass if he goes south as a messiah. During another raid on a spice harvester, Paul reunites with Gurney Halleck, with each having presumed the other dead since their separation. Gurney leads Paul to the hidden atomic stockpile of House Atreides. Feyd-Rautha unleashes a devastating attack on the northern Fremen, including Sietch Tabr, forcing Paul and the survivors to journey south. Upon arrival, Paul drinks the Water of Life and falls into a coma. This angers Chani, but she is compelled by Jessica to mix her tears with the liquid, which awakens him. Paul, now possessing clairvoyance across space and time, envisions an adult Alia on water-filled Arrakis. He perceives a singular path to victory among all possible futures, and learns that Jessica is the Baron\\'s daughter.\\nPaul meets with a southern Fremen war council, galvanizing the crowd by demonstrating his ability to discern their deepest thoughts. He declares himself the Lisan al Gaib and sends a challenge to Shaddam, who arrives on Arrakis with Irulan and the Sardaukar. As Shaddam chastises the Harkonnens for their failures, the Fremen launch an offensive, using atomics and sandworms to overpower the Sardaukar. Paul executes the Baron, capturing Shaddam and his entourage. Meanwhile, Gurney leads an assault on Arrakeen where he intercepts and kills a fleeing Rabban.\\nPaul challenges Shaddam for the throne and, to Chani\\'s dismay, demands to marry Irulan. Previously summoned by the Baron, the Great Houses arrive in orbit—Paul threatens to destroy the spice fields with atomics if they intervene. Feyd-Rautha volunteers to be Shaddam\\'s champion, but Paul kills him in a duel. Irulan agrees to Paul\\'s request for marriage on the condition that her father lives. Shaddam reluctantly surrenders, kneeling, and kisses Paul\\'s signet ring. When the Great Houses reject Paul\\'s ascendancy, he orders the Fremen to attack the orbiting fleet. As Stilgar leads the Fremen onto the captured Sardaukar ships, Jessica and Alia reflect on the beginning of Paul\\'s holy war. Chani refuses to bow to Paul and departs alone on a sandworm.\\n\\n\\n== Cast ==\\n\\nAnya Taylor-Joy makes an uncredited cameo appearance as Alia Atreides, Paul\\'s unborn sister who appears in his visions as well as communicating to Jessica while in her womb. Babs Olusanmokun and Roger Yuan reprise their roles from the first film as Jamis and Lieutenant Lanville, respectively. Stephen McKinley Henderson filmed scenes reprising his role as Thufir Hawat, while Tim Blake Nelson filmed scenes as an undisclosed character, but their scenes were not included in the final cut. Both were given a \"Special Thanks\" credit by Villeneuve.\\n\\n\\n== Production ==\\n\\n\\n=== Development ===\\n\\nBy November 2016, Legendary Pictures had obtained the film and TV rights for the Dune franchise, based on the eponymous 1965 novel by Frank Herbert. Vice chair of worldwide production for Legendary Mary Parent began discussing with Denis Villeneuve about directing a film adaptation, quickly hiring him after realizing his passion for Dune. By February 2018, Villeneuve was confirmed to be hired as director, and intended to adapt the novel as a two-part film series. Villeneuve ultimately secured a two-film deal with Warner Bros. Pictures, in the same style as the two-part adaption of Stephen King\\'s It in 2017 and 2019. In January 2019, Joe Walker was confirmed to be serving as the film\\'s editor. Other crew included Brad Riker as supervising art director, Patrice Vermette as production designer, Paul Lambert as visual effects supervisor, Gerd Nefzer as special effects supervisor, and Thomas Struthers as stunt coordinator. Dune: Part Two was produced by Villeneuve, Mary Parent, and Cale Boyter, with Tanya Lapointe, Brian Herbert, Byron Merritt, Kim Herbert, Thomas Tull, Jon Spaihts, Richard P. Rubinstein, John Harrison, and Herbert W. Gain serving as executive producers and Kevin J. Anderson as creative consultant. Legendary CEO Joshua Grode confirmed in April 2019 that they plan to make a sequel, adding that \"there\\'s a logical place to stop the [first] movie before the book is over\".\\nIn December 2020, Villeneuve stated that due to Warner Bros.\\' plan to release the film in theaters and on HBO Max simultaneously, the first film could underperform financially, resulting in cancellation of the planned sequel. In an IMAX screening of the first film\\'s first ten minutes, the title logo read Dune: Part One, lending credence to plans for the sequel. By August 2021, Villeneuve spoke more confidently about the chances of a sequel film, iterating his excitement to work with Timothée Chalamet and Zendaya again, while stating Chani would have a bigger role in the sequel. Warner Bros. assured Villeneuve a sequel would be greenlit as long as the film performed well on HBO Max. Just days prior to the first film\\'s release, Warner Bros. CEO Ann Sarnoff stated, \"Will we have a sequel to Dune? If you watch the movie you see how it ends. I think you pretty much know the answer to that.\"\\nOn October 26, 2021, Legendary officially greenlit Dune: Part Two, with a spokesperson for the company stating, \"We would not have gotten to this point without the extraordinary vision of Denis and the amazing work of his talented crew, the writers, our stellar cast, our partners at Warner Bros., and of course the fans! Here\\'s to more Dune.\" Production work had occurred back-to-back with the first film, as Villeneuve and his wife Lapointe immediately took a flight to Budapest in order to begin pre-production work. A key point of negotiation prior to greenlighting the sequel was assuring that the sequel would have an exclusive window where it would only be shown theatrically, with Legendary and Warner Bros. agreeing to give Dune: Part Two a 45-day window before it would be available through other channels. Villeneuve said this theatrical exclusivity was a \"non-negotiable condition\", and that \"the theatrical experience is at the very heart of the cinematic language for me\". With Dune: Part Two being greenlit, Villeneuve said that his primary concern was to complete the filming as soon as possible, with the earliest he expected to start in the last quarter of 2022. However, he noted that production would be expedited by the work already done for the first film.\\n\\n\\n=== Writing ===\\n\\nEric Roth was hired to co-write the screenplay in April 2017 for the Dune films, and Jon Spaihts was later confirmed to be co-writing the script alongside Roth and Villeneuve. Game of Thrones language creator David Peterson was confirmed to be developing languages for the film in April 2019. Villeneuve and Peterson had created the Chakobsa language, which was used by actors on set. In November 2019, Spaihts stepped down as show-runner for Dune: Prophecy to focus on Dune: Part Two. In June 2020, Greig Fraser said, \"It\\'s a fully formed story in itself with places to go. It\\'s a fully standalone epic film that people will get a lot out of when they see it\". Between the release of Dune and the confirmation of Dune: Part Two, Villeneuve started working the script in a way that production could begin immediately once the film was greenlit. By February 2021, Roth created a full treatment for the sequel, with writing beginning that August. He confirmed that Feyd-Rautha would appear in the film, and stated he will be a \"very important character\". In March 2022, Villeneuve had mostly finished writing the screenplay. Craig Mazin and Roth wrote additional literary material for the film.\\nVilleneuve stated that the film would continue directly from the first, and specifically described it as being the \"second part\". He described the film as being an \"epic war movie\", adding that while the first film was more \"contemplative\", the second would feature more action. Villeneuve sought to anchor the movie to the characters, primarily Paul and Chani. With the two featured in an \"epic love story\" between them, Villeneuve described them as the \"epicenter of the story\". Zendaya initially found difficulty in creating dialogue, commenting that \"It was funny trying to figure out in this futuristic space talk, like, how do they flirt?\" Chalamet also added that Paul would be heavily influenced by Chani, serving as his \"moral compass\". Additionally, Paul becomes deeply embedded in Fremen culture, developing a closer bond with Stilgar, who becomes his surrogate father figure and mentor, while tensions emerge between Chani and Lady Jessica, as Chani is aware that Jessica\\'s schemes negatively impact the Fremen. The script ultimately conveys Chani as a nonbeliever of the prophecy and intended for its structure to first convey their romantic relationship from Paul\\'s perspective, and eventually pivot to Chani\\'s perspective as the audience realizes Paul\\'s desire for power and insidious nature. He focused on Herbert\\'s original intention to depict Paul as an antihero in Dune to becoming an eventual villain, and wrote the script with that in mind while also considering his future plans regarding Dune Messiah, particularly by modifying Chani\\'s characterization as he felt that she eventually \"disappeared in Paul\\'s shadows\" in the book. Feeling he had the \"benefit of time\" in doing so, Villeneuve decided to use all the elements of Paul\\'s character arc and \"play them a bit differently\" in order to establish his eventual transformation into a villainous figure and becoming \"what he was trying to fight against\". He expanded the role of Chani and Lady Jessica from the novel, and interpreted Chani as being a critique of power. When envisioning the sandworm sequence, Villeneuve primarily relied upon his own drawings and storyboards, as he felt the book did not contain adequate descriptions. He later cited it as being one of his favorite scenes in the film. When writing Paul\\'s character arc, he considered Paul as transforming from a \"humble\" figure to a \"dark messianic figure\", and took inspiration from Katsuhiro Otomo\\'s Akira (1988) when designing the storyboards. Villeneuve felt the film\\'s ending was more \"tragic\" than that of the book, feeling that it adequately resolved Paul\\'s storyline across the Dune films while setting up his character arc for a potential third film based on Dune Messiah (1969).\\nFollowing the first film, Baron Harkonnen is described as being heavily debilitated and reliant on being submerged in fluids, while focusing on choosing an heir: Glossu Rabban or Feyd-Rautha, both his nephews. Rabban was regarded as being a bad strategist, while Feyd-Rautha is shown to be clever and charismatic. Actor Austin Butler felt Feyd-Rautha\\'s character served as \"flip sides of the same coin\" to Paul, as both had been involved in the Bene Gesserit\\'s genetic breeding program; Butler opined Feyd-Rautha\\'s upbringing on Giedi Prime and self-care for his body explained his arrogance. Meanwhile, Villeneuve noted his psychopathic personality and brutality similar to that of an animal contrasted his \"code of honors\" and reverence for fighters. Lady Jessica is also heavily traumatized by the death of Duke Leto, being compared to Paul as a \"survivor\" and strategizing to realize the ambitions of the Bene Gesserit, who aim to fulfill their prophecy to maximize human potential, disregarding morality and ethics. There is also additional focus on the political aspect, with Princess Irulan fearing that her father, Emperor Shaddam IV, will lose his throne due to his loss of influence over warring factions. During the sequence of Paul\\'s consumption of the Water of Life, Villeneuve deliberately altered the timeframe to depict an adult Alia for a dramatic effect and to highlight Alia\\'s unique birth. He and Spaihts decided to \"compress\" the time for both the sequence and Lady Jessica\\'s pregnancy in order to establish more narrative tension. He also added that Lady Jessica\\'s conversations with an embryonic Alia was unique as he felt it was \"fresh and original to have a character who is powerful and still a pregnant woman\" while also conveying how others perceive Alia as an \"abomination\". Like Chani and Lady Jessica, Villeneuve further developed Princess Irulan\\'s character and motivations from the novel, with actress Florence Pugh noting her reserved nature and intelligence.\\n\\n\\n=== Casting ===\\n\\nIn March 2022, Pugh and Butler were reported to be in talks to star in the film as Princess Irulan and Harkonnen heir Feyd-Rautha, respectively. Butler was offered the role while having coffee with Villeneuve, without needing to audition. He trained for four months in Budapest, using a fitness regimen made by an ex-Navy SEALs member. Villeneuve described his performance as being a \"cross between a psychopath killer, an Olympic sword master, a snake, and Mick Jagger\" while Butler researched past cultures he felt \"bred brutality\" and took inspiration from various animals including sharks and snakes. Butler also said that he drew inspiration from Gary Oldman and Heath Ledger for his performance. He imitated Skarsgård\\'s voice as the Baron, as he felt that Feyd would be influenced by the Baron due to growing up with him. In May, Christopher Walken joined the cast as Shaddam IV. In June, Léa Seydoux entered negotiations to join the cast as Lady Margot Fenring. In July, Souheila Yacoub joined the cast as Shishakli. In January 2023, Tim Blake Nelson was added to the cast in an undisclosed role. Attending the film\\'s London premiere in February 2024, Anya Taylor-Joy confirmed that she had been cast in the film. Villeneuve was surprised that her role had been kept a secret for that long, noting it required \"so much work to keep that secret\". Her role had been revealed in a casting credit list for the film on Letterboxd.\\n\\n\\n=== Filming ===\\nPre-shooting had commenced on July 4, 2022, at the Brion tomb in Altivole, Italy for two days. Principal photography was set to begin on July 21 in Budapest, Hungary, but began earlier on July 18. The film was entirely shot using Arri Alexa LF digital cameras, with new filming locations and sets being used \"to avoid repetition\". By October 2022, Chalamet had taken a break from filming in order to attend the premiere of Bones and All (2022). The production team managed to shoot during the partial solar eclipse of October 25, and used the footage for the opening fight scene between Harkonnen and Fremen soldiers. By the next month, production moved to Abu Dhabi, with Pugh also finishing her scenes in the same month. Certain scenes set at dawn had to be filmed across three days to take advantage of the golden hour. A special unit of production filmed scenes with Taylor-Joy in Namibia, the driest country in sub-Saharan Africa. Filming wrapped on December 12, 2022. Due to the delays, Villeneuve was able to make a film transfer for projection using the IMAX 70 mm and conventional 70 mm film formats.\\nPugh delivered Princess Irulan\\'s opening narration during her first day of filming and for overall production. Villeneuve and cinematographer Greig Fraser had filmed Feyd-Rautha\\'s gladiator sequence with specially designed black-and-white infrared cameras. They wanted the Harkonnens to cheer and stomp rather than applaud, and designed over 30 sections for spectators in the arena. Butler spent his first week on set filming the scene, during which the set had very high temperatures that caused some people to faint. He also improvised his kiss scene with the Baron. For romantic scenes between Paul and Chani, the scenes primarily filmed in remote locations in Jordan during the golden hour. The scenes were often filmed as quickly as possible, with only a one-hour window being available. The scene of Paul\\'s sandworm ride was filmed practically on a production unit separate from the main one, being led by producer Tanya Lapointe and a special team. Chalamet filmed his scenes on a platform meant to imitate a portion of the sandworm, with gripping devices serving as the reference for the Fremen hooks. An industrial fan blew sand on set to emulate the desert climate. Chalamet estimated the scene took over three months to film, with individual shoots occurring over a span of 20–30 minutes. As the actual sandworm was not built and there were no reference shots, the production team designed a small portion of the worm on set and the actors had to physically visualize and imitate riding the sandworm. Butler and Chalamet had separately trained with a Kali instructor in Los Angeles for the climactic battle between Paul and Feyd-Rautha. They were excited to do the scene, and immediately began practicing once they later met in Budapest. They performed the scene by themselves, including for wide camera shots, while Chalamet delivers the monologue entirely in Chakobsa. Ferguson had cited Lady Jessica undergoing the Reverend Mother process as her favorite scene, working with contortionists for the scene and comparing it to an Exorcist film.\\n\\n\\n== Music ==\\n\\nHans Zimmer returned to compose the film\\'s score after doing so for the previous film. Zimmer had composed over 90 minutes of music prior to the announcement of the film to help give Villeneuve inspiration when writing. Two singles were released on February 15, 2024, by WaterTower Music, titled \"A Time of Quiet Between the Storms\" and \"Harvester Attack\". The full soundtrack album was released on February 23.\\n\\n\\n== Marketing ==\\nA teaser trailer for Dune: Part Two was presented during the Warner Bros. panel at CinemaCon on April 27, 2023. First-look footage of the cast in-character were released online, alongside a teaser poster, on May 2, 2023. The trailer was released to the public the following day. Variety called it \"breathtaking\"; GQ hailed the shots of Paul riding a sandworm as \"the standout sequence\"; and Fangoria remarked \"If you\\'re not excited for this one, we dunno what to tell you\". Chalamet and Zendaya later discussed and promoted the film at a Warner Bros. presentation at CineEurope on June 21.\\nA second trailer was released on June 29, 2023. Chris Evangelista of Film was excited about the appearance of Christopher Walken as Emperor Shaddam IV. Ben Travis of Empire praised the \"seismic\" and \"astounding, none-more-eye-boggling\" imagery, feeling the scope to be \"particularly expansive\" and noted the monochromatic footage depicting Austin Butler\\'s Feyd-Rautha while calling the footage of Christopher Walken\\'s appearance \"impactful\". Joshua Rivera of Polygon opined \"The trailer, simply put, rocks\" and enjoyed the footage present.\\nThe film was promoted during the December 2023 CCXP with Chalamet, Zendaya, Pugh, Butler, and Villeneuve, where over 10 minutes of footage was released. Additional footage from Dune: Part Two was shown during a limited IMAX theatrical re-release of Christopher Nolan\\'s Tenet (2020), as part of Warner Bros.\\' celebration for the former film\\'s release.\\nWarner Bros. and Legendary Pictures partnered with Xbox to provide an immersive content suite related to the film, and visual designs inspired by the film being featured on a floating controller, Xbox Series X, and a console holder. Microsoft Flight Simulator also included an expansion pack allowing players to explore Arrakis and pilot the Royal Atreides Ornithopter. In November 2023, the Sardaukar were added to Call of Duty: Modern Warfare II (2022) in a collaboration pack. A month later, Paul and Feyd-Rautha were added as playable operators to its sequel, Call of Duty: Modern Warfare III (2023), with an additional Harkonnen soldier skin being announced in March 2024. In September 2023, McFarlane Toys announced a new line of 7-inch figures modeled after characters from the sequel film. Legendary Comics will release Dune: Part Two – The Official Movie Graphic Novel with the help of Kickstarter in the same way the previous adaptation was published.\\nResearch conducted by Nikolaj Mathies, CEO of Vievo Media, said the promotional campaign for the film on TikTok included 117 posts over a year leading up to its release, an increase from the first film\\'s 108. Messages directly from the cast comprised 24% of the content, with videos featuring Zendaya and Chalamet generating significantly higher viewership. Red carpet content was prioritized to appeal to female audiences, a tactic that contributed to an estimated $2 million increase in the opening box office. According to the marketing research company FanBox, 57% of TikTok users are female and hashtags such as #zendaya have garnered billions of views, leading the core audience for Dune to grow significantly, with a 67.5% increase overall from 2.6 million to 8 million and an 84% increase among \"superfans\".\\n\\n\\n=== Popcorn bucket meme ===\\n\\nIn January 2024, images of a forthcoming Dune-themed popcorn bucket from AMC Theatres went viral and became an Internet meme after its sandworm-inspired design was compared to an artificial vagina.\\nReactions to the bucket received millions of views on the social network TikTok, and jokes about it were featured on US late night television, including a musical sketch on Saturday Night Live with cast members Marcello Hernandez, Ayo Edebiri, Devon Walker, and Bowen Yang. The extensive online attention paid to the bucket led the media to ask much of Dune: Part Two\\'s main cast for their reactions. Denis Villeneuve said that the bucket was an \"insane marketing idea\" that \"brought a lot of laughter and joy\".\\nGriffin Newman in The New York Times chalked up the bucket\\'s appeal to the \"magic alchemy\" that results from an object that so many people become \"perversely fascinated\" by. The product was one of several popcorn buckets AMC had designed and released alongside recent films, including character heads for Spider-Man: Across the Spider-Verse and \"burn books\" for Mean Girls.\\nTwo months after Dune: Part Two\\'s release, AMC\\'s chief content officer stated that \"we would have never created [the bucket] knowing it would be celebrated or mocked\", but added that they would continue to create collectible popcorn buckets for other films. At that time, the Dune popcorn buckets were being resold for as high as $175.\\n\\n\\n== Release ==\\n\\n\\n=== Theatrical ===\\nDune: Part Two was originally scheduled to be released on October 20, 2023, but was delayed to November 17, 2023, before moving forward two weeks to November 3, 2023, to adjust to changes in release schedules from other studios. It was later postponed by over four months to March 15, 2024, due to the 2023 Hollywood labor disputes. After the strikes were resolved, the film moved once more up two weeks to March 1, 2024.\\nFollowing the success of Oppenheimer (2023) in the format, Dune: Part Two was released in the IMAX 15-perforation 70 mm format to twelve venues worldwide, and in standard 5-perforation 70mm format to 38 venues worldwide.\\nA red carpet event was hosted in the Auditorio Nacional in Mexico City on February 6, 2024. Dune: Part Two\\'s world premiere was held at Odeon Luxe Leicester Square in London on February 15.\\nOn January 16, 2024, the film was shown to a dying man in a palliative care home in the Canadian city of Saguenay, in Denis Villeneuve\\'s native province of Quebec. The man had expressed a wish to see Dune: Part Two before his death. Josée Gagnon, the cofounder of a company aiming to accompany people at the end of life, relayed his wish to Villeneuve and Tanya Lapointe, his partner and one of the film\\'s producers, through a viral call-out on Facebook. According to Gagnon, Villeneuve and Lapointe \"were very touched\". The pair initially offered to invite the man to see Dune: Part Two in Los Angeles or Montreal, but since he was too weak to travel, Villeneuve eventually decided to send one of his assistants directly to Saguenay with his private laptop. The film was screened in a room of the care facility, where everyone was required to hand in their cellphones and sign waivers. The man was in too much pain to watch the entire film and stopped halfway through. He eventually died on January 25. This act, which the Canadian Broadcasting Corporation referred to as the actual \"world premiere\" of the film, was publicly disclosed after its theatrical release.\\n\\n\\n=== Home media ===\\nThe film was released digitally on April 16, 2024, and will be released on Blu-ray, DVD and Ultra HD Blu-ray on May 14, 2024, by Warner Bros. Home Entertainment.\\n\\n\\n== Reception ==\\n\\n\\n=== Box office ===\\nAs of April 24, 2024, Dune: Part Two has grossed $277.5 million in the United States and Canada and $420 million in other territories, for a worldwide total of $697.5 million. The Hollywood Reporter had estimated that the film would break-even after grossing around $500 million.\\n\\n\\n==== Domestic ====\\nIn the United States and Canada, the film\\'s advanced ticket sales surpassed those of Oppenheimer, and it was projected to gross $65–80 million from 4,050 theaters in its opening weekend. It was also expected to gross $85–90 million from 71 international markets, for a worldwide debut of around $170 million. The film made $32.2 million on its first day, including $12 million from previews on February 25 and 29; IMAX screenings made up $4.5 million (38%) of the early totals. It went on to debut to $82.5 million, doubling the first film\\'s $41 million opening weekend; IMAX screenings made up $18.5 million (23%) of the total, a record for a March release. According to Jeff Goldstein, president of domestic distribution at Warner Bros., it was \"much higher than any of us could predict\", especially for \"a genre that is a hard nut to crack\". In its second weekend the film made $46 million (a 44% drop), finishing second behind newcomer Kung Fu Panda 4. It also surpassed the entire domestic gross of the first film ($108 million) in just seven days. The film made $28.5 million in its third weekend and $17.6 million in its fourth, remaining in second both times. It also became Timothée Chalamet\\'s highest-grossing film of all time, surpassing Wonka.\\n\\n\\n==== Other territories ====\\nOutside the US and Canada, the film grossed $100.02 million in its opening weekend from 71 markets. In its second weekend, the sci-fi epic added $81 million from 72 international markets, including a $20 million opening in China. Dune: Part Two continued to hold well, grossing $51.2 million and $30.7 million in its third and fourth weekends respectively. As of April 14, 2024, the highest grossing markets were the United Kingdom ($48.1 million), China ($48.1 million),  France ($41.8 million), Germany ($38.7 million),  and Australia ($22 million).\\n\\n\\n=== Critical response ===\\nThe film \"largely received rave reviews from critics\", and was praised for its visual effects and cast performances. Some reviews considered it one of the best science fiction films of all time. On the review aggregator website Rotten Tomatoes, 93% of 417 critics\\' reviews are positive, with an average rating of 8.4/10. The website\\'s consensus reads: \"Visually thrilling and narratively epic, Dune: Part Two continues Denis Villeneuve\\'s adaptation of the beloved sci-fi series in spectacular form.\" Metacritic, which uses a weighted average, assigned the film a score of 79 out of 100, based on 62 critics, indicating \"generally favorable\" reviews. Audiences surveyed by CinemaScore gave the film an average grade of \"A\" on an A+ to F scale, while those polled by PostTrak gave it a 94% overall positive score, with 80% saying they would definitely recommend it.\\nThe Daily Telegraph\\'s Robbie Collin awarded the film four stars out of five and praised its visuals: \"Dune\\'s loose-endedness is one of its best qualities: finding out what happens is secondary to just seeing it unfold.\" Peter Bradshaw, chief film critic for The Guardian, awarded the film four stars out of five, writing \"Denis Villeneuve\\'s monumental adaptation expands its extraordinary world of shimmering strangeness. It\\'s impossible to imagine anyone doing it better.\" Richard Roeper, writing for the Chicago Sun-Times, gave the film three stars out of four, praising the technical and narrative aspects, saying, \"Even as we marvel at the stunning and immersive and Oscar-level cinematography, editing, score, visual effects, production design and sound in Denis Villeneuve\\'s Dune: Part Two, we\\'re reminded at every turn that this is an absolutely bat-bleep [sic] crazy story.\"\\nFilmmaker Steven Spielberg praised the film, calling it \"one of the most brilliant science fiction films I have ever seen,\" while further noting that \"it\\'s also filled with deeply, deeply drawn characters ... Yet the dialogue is very sparse when you look at it proportionately to the running time of the film. It\\'s such cinema. The shots are so painterly, yet there\\'s not an angle or single setup that\\'s pretentious.\"\\nOther reviews were more mixed in their judgement. In The Hollywood Reporter, Lovia Gyarkye praised the film\\'s technical aspects and performances, but found it failed to fully adapt the book\\'s nuance on themes such as imperialism. Nicholas Barber wrote for the BBC that the film is \"one of the most jaw-droppingly weird pieces of art-house psychedelia ever to come from a major studio\", finding the film\\'s grand scale made up for its issues. At the more negative end, Noah Berlatsky writing for CNN judged that the film had failed to \"present an effective anti-colonial vision\" by still being centred around Paul\\'s destiny despite an increased voice of opposition from Chani.\\nSome commentators have criticised the film for failing to adequately deal with the original book\\'s Middle East and North Africa (MENA) influences or otherwise incorporate enough representation from the region. Furvah Shah, writing for the UK edition of Cosmopolitan, said she \"felt frustrated as a Muslim viewer\", criticising the film for a lack of MENA casting amongst the leads despite the use of the region\\'s culture and superficial use of Islam. The New Arab\\'s Hannah Flint also criticized the use of Arab and Islamic cultural items and lack of MENA casting, though did praise that of Swiss-Tunisian actress Souheila Yacoub as a \"win for Arab representation\". Steven D. Greydanus, in U.S. Catholic, gives a contrasting view of the film\\'s religious inspirations, noting that the film draws from a number of Abrahamic religions for the purpose of critiquing faith itself, while also noting the \"spiritualization of ecological concerns\" through the Fremen.\\n\\n\\n=== Accolades ===\\nThe trailer for Dune: Part Two received nominations for Best Fantasy Adventure and the Don LaFontaine Award for Best Voice Over at the 2023 Golden Trailer Awards. The film was nominated for Most Anticipated Film at the 6th Hollywood Critics Association Midseason Film Awards.\\n\\n\\n== Future ==\\nVilleneuve has repeatedly expressed interest in making a third film based on Dune Messiah, the second novel in the series, adding that the possibility for the film depended on the success of Dune: Part Two. Spaihts also reiterated in March 2022 that Villeneuve had plans for a third film as well as the television spin-off series Dune: Prophecy. In August 2023, Villeneuve said the third film would serve as the conclusion of a trilogy. Villeneuve began developing a script for the third film in 2023. In February 2024, Villeneuve said the script was \"almost finished\" but also said he \"[does not] want to rush it\", citing Hollywood\\'s tendency of focusing on release dates over a film\\'s overall quality, and adding, \"I want to make sure that if we go back there a third time I want it to be good and I want it to be even better than Part Two\". Villeneuve also considered waiting a few years for Chalamet to grow older, given that Dune Messiah is set 12 years after the events of the original book.\\nAhead of Dune: Part Two\\'s release, Zimmer revealed he was already writing music for a third film after Villeneuve came in and \"wordlessly\" put a copy of Dune Messiah on his desk. In April 2024, it was reported that Villeneuve and Legendary had officially begun development on the third film.\\n\\n\\n== See also ==\\nList of films featuring eclipses\\n\\n\\n== Notes ==\\n\\n\\n== References ==\\n\\n\\n== Further reading ==\\n\\n\\n== External links ==\\nOfficial website \\nDune: Part Two at IMDb', start_char_idx=None, end_char_idx=None, text_template='{metadata_str}\\n\\n{content}', metadata_template='{key}: {value}', metadata_seperator='\\n'),\n",
              " Document(id_='173941', embedding=None, metadata={}, excluded_embed_metadata_keys=[], excluded_llm_metadata_keys=[], relationships={}, text='The Lord of the Rings: The Fellowship of the Ring is a 2001 epic fantasy adventure film directed by Peter Jackson from a screenplay by Fran Walsh, Philippa Boyens, and Jackson, based on 1954\\'s The Fellowship of the Ring, the first volume of the novel The Lord of the Rings by J. R. R. Tolkien. The film is the first installment in The Lord of the Rings trilogy. It features an ensemble cast including Elijah Wood, Ian McKellen, Liv Tyler, Viggo Mortensen, Sean Astin, Cate Blanchett, John Rhys-Davies, Billy Boyd, Dominic Monaghan, Orlando Bloom, Christopher Lee, Hugo Weaving, Sean Bean, Ian Holm, and Andy Serkis.\\nSet in Middle-earth, the story tells of the Dark Lord Sauron, who seeks the One Ring, which contains part of his might, to return to power. The Ring has found its way to the young hobbit Frodo Baggins. The fate of Middle-earth hangs in the balance as Frodo and eight companions (who form the Fellowship of the Ring) begin their perilous journey to Mount Doom in the land of Mordor, the only place where the Ring can be destroyed. The Fellowship of the Ring was financed and distributed by American studio New Line Cinema, but filmed and edited entirely in Jackson\\'s native New Zealand, concurrently with the other two parts of the trilogy.\\nIt premiered on 10 December 2001 at the Odeon Leicester Square in London, and was then released on 19 December in the United States and on 20 December in New Zealand. The film was acclaimed by critics and fans alike, who considered it to be a landmark in filmmaking and an achievement in the fantasy film genre. It received praise for its visual effects, performances, Jackson\\'s direction, screenplay, musical score, and faithfulness to the source material. It grossed over $868 million worldwide during its original theatrical run, making it the second highest-grossing film of 2001 and the fifth highest-grossing film of all time at the time of its release. Following subsequent reissues, it has grossed over $883 million. Like its successors, The Fellowship of the Ring is widely recognised as one of the greatest and most influential films ever made. The film received numerous accolades; at the 74th Academy Awards, it was nominated for thirteen awards, including Best Picture, winning for Best Cinematography, Best Makeup, Best Original Score, and Best Visual Effects.\\nIn 2007, the American Film Institute named it one of the 100 greatest American films in history, being both the most recent film and the only film released in the 21st century to make it to the list. In 2021, the film was selected for preservation in the United States National Film Registry by the Library of Congress for being \"culturally, historically, or aesthetically significant\". Two sequels, The Two Towers and The Return of the King, followed in 2002 and 2003, respectively.\\n\\n\\n== Plot ==\\nIn the Second Age of Middle-earth, the lords of Elves, Dwarves, and Men are given Rings of Power. Unbeknownst to them, the Dark Lord Sauron forges the One Ring in Mount Doom, instilling into it a great part of his power, to dominate the other Rings and conquer Middle-earth. A final alliance of Men and Elves battles Sauron\\'s forces in Mordor. Isildur of Gondor severs Sauron\\'s finger and the Ring with it, thereby vanquishing Sauron and returning him to spirit form. With Sauron\\'s first defeat, the Third Age of Middle-earth begins. The Ring\\'s influence corrupts Isildur, who takes it for himself and is later killed by Orcs. The Ring is lost in a river for 2,500 years until it is found by Gollum, who owns it for over four and a half centuries. The Ring abandons Gollum and it is subsequently found by a hobbit named Bilbo Baggins, who is unaware of its history.\\nSixty years later, Bilbo celebrates his 111th birthday in the Shire, reuniting with his old friend, the wizard Gandalf the Grey. Bilbo departs the Shire for one last adventure, and he leaves his inheritance, including the Ring, to his nephew Frodo. Gandalf investigates the Ring, discovers its true nature, and learns that Gollum was captured and tortured by Sauron\\'s Orcs, revealing two words during his interrogation: \"Shire\" and \"Baggins.\" Gandalf returns and warns Frodo to leave the Shire. As Frodo departs with his friend, gardener Samwise Gamgee, Gandalf rides to Isengard to meet with the wizard Saruman, but discovers his betrayal and alliance with Sauron, who has dispatched his nine undead Nazgûl servants to find Frodo.\\nFrodo and Sam are joined by fellow hobbits Merry and Pippin, and they evade the Nazgûl before arriving in Bree, where they are meant to meet Gandalf at the Inn of The Prancing Pony. However, Gandalf never arrives, having been taken prisoner by Saruman. The hobbits are then aided by a Ranger named Strider, who promises to escort them to Rivendell; however, they are ambushed by the Nazgûl on Weathertop, and their leader, the Witch-King, stabs Frodo with a Morgul blade. Arwen, an Elf and Strider\\'s beloved, locates Strider and rescues Frodo, summoning flood-waters that sweep the Nazgûl away. She takes him to Rivendell, where he is healed by the Elves. Frodo meets with Gandalf, who escaped Isengard on a Great Eagle. That night, Strider reunites with Arwen, and they affirm their love for each other.\\nLearning of Saruman\\'s betrayal from Gandalf and now realizing that they are facing threats from both Sauron and Saruman, Arwen\\'s father, Lord Elrond, decides against keeping the Ring in Rivendell. He holds a council of Elves, Men, and Dwarves, also attended by Frodo and Gandalf, that decides the Ring must be destroyed in the fires of Mount Doom. Frodo volunteers to take the Ring, accompanied by Gandalf, Sam, Merry, Pippin, Elf Legolas, Dwarf Gimli, Boromir of Gondor, and Strider—who is actually Aragorn, Isildur\\'s heir and the rightful King of Gondor. Bilbo, now living in Rivendell, gives Frodo his sword Sting, and a chainmail shirt made of mithril.\\nThe Fellowship of the Ring makes for the Gap of Rohan, but discover it is being watched by Saruman\\'s spies. They instead set off over the mountain pass of Caradhras, but Saruman summons a storm that forces them to travel through the Mines of Moria, where a tentacled water beast blocks off the entrance with the Fellowship inside, giving them no choice but to journey to the exit on the other end. After finding the Dwarves of Moria dead, the Fellowship is attacked by Orcs and a cave troll. They hold them off but are confronted by Durin\\'s Bane: a Balrog residing within the mines. While the others escape, Gandalf fends off the Balrog and casts it into a vast chasm, but the Balrog drags Gandalf down into the darkness with him. The devastated Fellowship reaches Lothlórien, ruled by the Elf-queen Galadriel, who privately informs Frodo that only he can complete the quest and that one of the Fellowship will try to take the Ring. She also shows him a vision of the future in which Sauron succeeds in enslaving Middle-earth, including the Shire. Meanwhile, Saruman creates an army of Uruk-hai in Isengard to find and kill the Fellowship.\\nThe Fellowship travels by river to Parth Galen. Frodo wanders off and is confronted by Boromir, who, as Lady Galadriel had warned, tries to take the Ring. Uruk-hai scouts then ambush the Fellowship, attempting to abduct the Hobbits. Boromir breaks free of the Ring\\'s magic and protects Merry and Pippin, but the Uruk-Hai leader, Lurtz, mortally wounds Boromir as they abduct the Hobbits. Aragorn arrives and kills Lurtz before comforting Boromir as he dies, promising to help the people of Gondor in the coming conflict. Fearing the Ring will corrupt his friends, Frodo decides to travel to Mordor alone, but allows Sam to come along, recalling his promise to Gandalf to look after him. As Aragorn, Legolas, and Gimli set out to rescue Merry and Pippin, Frodo and Sam make their way down the  pass of Emyn Muil, journeying on to Mordor. \\n\\n\\n== Cast ==\\n\\nBefore filming began on 11 October 1999, the principal actors trained for six weeks in sword fighting (with Bob Anderson), riding and boating. Jackson hoped such activities would allow the cast to bond so chemistry would be evident on screen as well as getting them used to life in Wellington. They were also trained to pronounce Tolkien\\'s verses properly. After the shoot, the nine cast members playing the Fellowship got a tattoo, the Elvish symbol for the number nine, with the exception of John Rhys-Davies, whose stunt double got the tattoo instead. The film is noted for having an ensemble cast, and some of the cast and their respective characters include:\\n\\nElijah Wood as Frodo Baggins: A young hobbit who inherits the One Ring from his uncle Bilbo. Wood was the first actor to be cast on 7 July 1999. Wood was a fan of the book, and he sent in an audition dressed as Frodo, reading lines from the novel. Wood was selected from 150 actors who auditioned. Jake Gyllenhaal unsuccessfully auditioned for the role.\\nIan McKellen as Gandalf the Grey: An Istari wizard and mentor to Frodo. Sean Connery was approached for the role, but did not understand the plot, while Patrick Stewart turned it down as he disliked the script. Patrick McGoohan was also offered the role, but turned it down due to health issues. Anthony Hopkins and Christopher Plummer also turned down the role. Richard Harris expressed interest in the part. John Astin auditioned for Gandalf. Sam Neill was also offered the role but declined due to his scheduling conflict with Jurassic Park III. Before being cast, McKellen had to sort his schedule with 20th Century Fox as there was a two-month overlap with X-Men. He enjoyed playing Gandalf the Grey more than his transformed state in the next two films, and based his accent on Tolkien. Unlike his on-screen character, McKellen did not spend much time with the actors playing the Hobbits; instead he worked with their scale doubles.\\nViggo Mortensen as Aragorn: A Dúnedain ranger and heir to Gondor\\'s throne. Daniel Day-Lewis was offered the part at the beginning of pre-production, but turned it down. Nicolas Cage also received an offer, declining because of \"family obligations\", while Vin Diesel, a fan of the book, auditioned for Aragorn. Stuart Townsend was cast in the role, before being replaced during filming when Jackson realised he was too young. Russell Crowe was considered as a replacement, but he turned it down because he does not want to be typecast and believed it to be a similar role in Gladiator. Day-Lewis was offered the role for a second time, but declined again. Executive producer Mark Ordesky saw Mortensen in a play. Mortensen\\'s son, a fan of the book, convinced him to take the role. Mortensen read the book on the plane, received a crash course lesson in fencing from Bob Anderson and began filming the scenes on Weathertop. Mortensen became a hit with the crew by patching up his costume and carrying his \"hero\" sword around with him off-camera.\\nSean Astin as Samwise Gamgee: Better known as Sam, a hobbit gardener and Frodo\\'s best friend. Astin, who had recently become a father, bonded with the 18-year-old Wood in a protective manner, which mirrored Sam\\'s relationship with Frodo. before Astin was cast, James Corden read for the part.\\nSean Bean as Boromir: A son of the Stewards of Gondor who journeys with the Fellowship towards Mordor. Bruce Willis, a fan of the book, expressed interest in the role, while Liam Neeson was sent the script, but passed.\\nBilly Boyd as Peregrin Took: Better known as Pippin, an extremely foolish hobbit who is a distant cousin of Frodo and travels with the Fellowship on their journey to Mordor.\\nDominic Monaghan as Meriadoc Brandybuck: Better known as Merry, a distant cousin of Frodo. Monaghan was cast as Merry after auditioning for Frodo.\\nJohn Rhys-Davies as Gimli: A dwarf warrior who accompanies the Fellowship to Mordor after they set out from Rivendell. Billy Connolly, who was considered for the part of Gimli, would later portray Dáin II Ironfoot in Peter Jackson\\'s The Hobbit film trilogy. Rhys-Davies wore heavy prosthetics to play Gimli, which limited his vision, and eventually he developed eczema around his eyes. Rhys-Davies also played Gimli\\'s father Glóin during the scene where the fellowship is forged.\\nOrlando Bloom as Legolas: A prince of the elves\\' Woodland Realm and a skilled archer. Bloom initially auditioned for Faramir, who appears in the second film, a role which went to David Wenham.\\nLiv Tyler as Arwen: An elf of Rivendell and Aragorn\\'s lover. The filmmakers approached Tyler after seeing her performance in Plunkett & Macleane, and New Line Cinema leaped at the opportunity of having one Hollywood star in the film. Actress Helena Bonham Carter had expressed interest in the role. Tyler came to shoot on short occasions, unlike the rest of the actors. She was one of the last actors to be cast, on 25 August 1999.\\nCate Blanchett as Galadriel: The elven co-ruler of Lothlórien alongside her husband Celeborn. Lucy Lawless was considered for the role.\\nChristopher Lee as Saruman the White: The fallen head of the Istari Order who succumbs to Sauron\\'s will through his use of the palantír. Lee was a major fan of the book, and read it once a year. He had also met J. R. R. Tolkien. He originally auditioned for Gandalf, but was judged too old.\\nHugo Weaving as Elrond: The Elven-Lord of Rivendell who leads the Council of Elrond, which ultimately decides to destroy the Ring. David Bowie expressed interest in the role, but Jackson stated, \"To have a famous, beloved character and a famous star colliding is slightly uncomfortable.\"\\nIan Holm as Bilbo Baggins: Frodo\\'s uncle who gives him the Ring after he decides to retire to Rivendell. Holm previously played Frodo in a 1981 radio adaption of The Lord of the Rings, and was cast as Bilbo after Jackson remembered his performance. Sylvester McCoy, who would later play Radagast the Brown in The Hobbit, was contacted about playing the role, and was kept in place as a potential Bilbo for six months before Jackson went with Holm.\\nAndy Serkis as Gollum (voice/motion-capture): A wretched hobbit-like creature whose mind was poisoned by the Ring after bearing it for 500 years. This character appears briefly in the prologue. In Mordor, one can only hear his voice shouting and in Moria, only his eyes and his nose appear. Serkis was working on the 1999 six-episode Oliver Twist miniseries when his agent told him that Jackson wanted to approach him to play Gollum. Despite ultimately accepting the role, Serkis was initially doubtful about taking the part as one of his Oliver Twist fellow actors opined that it wasn\\'t a good idea if his face wasn\\'t going to appear onscreen, aside that Jackson was unsure if Gollum could be portrayed with motion-capture performance as they wished.\\nThe cast also includes:\\n\\nSala Baker as Sauron: The Dark Lord of Mordor and the Ring\\'s true master, who manifests as an Eye after the destruction of his physical form.  Alan Howard provides Sauron’s voice.\\nMarton Csokas as Celeborn the Wise: The Elven-Lord of Lothlórien and Galadriel\\'s husband.\\nLawrence Makoare as Lurtz: The commander of Saruman\\'s Uruk-Hai forces.\\nCraig Parker as Haldir: The leader of the Galadhrim warriors guarding the border of Lothlórien.\\nMark Ferguson as Ereinion Gil-galad: The last Elven-King of the Noldor.\\nPeter McKenzie as Elendil the Tall: The last High King of Arnor and Gondor.\\nHarry Sinclair as Isildur: Elendil\\'s son and Aragorn\\'s ancestor who originally defeated Sauron.\\nDirector Peter Jackson has a small cameo as a man with a carrot in Bree.\\n\\n\\n== Comparison to the source material ==\\n\\nJackson, Walsh and Boyens made numerous changes to the story, for purposes of pacing and character development. Jackson said his main desire was to make a film focused primarily on Frodo and the Ring, the \"backbone\" of the story. The prologue condenses Tolkien\\'s backstory, in which The Last Alliance\\'s seven-year siege of the Barad-dûr is a single battle, where Sauron is shown to explode, though Tolkien only said his spirit flees.\\nSome events and characters from the book are condensed or omitted (such is the case of Tom Bombadil) at the beginning of the film. The time between Gandalf leaving the Ring to Frodo and returning to reveal its inscription, which is 17 years in the book, is compressed for timing reasons. The filmmakers also decided to move the opening scenes of The Two Towers, the Uruk-hai ambush and Boromir\\'s death, to the film\\'s linear climax.\\nThe tone of the Moria sequence was altered. In the book, following the defeat on the Caradhras road, Gandalf advocates the Moria road against the resistance of the rest of the Fellowship (save Gimli), suggesting \"there is a hope that Moria is still free...there is even a chance that Dwarves are there,\" though no one seems to think this likely. Frodo proposes they take a company vote, but the discovery of Wargs on their trail forces them to accept Gandalf\\'s proposal. They only realise the Dwarves are all dead once they reach Balin\\'s tomb. The filmmakers chose instead for Gandalf to resist the Moria plan as a foreshadowing device. Gandalf says to Gimli he would prefer not to enter Moria, and Saruman is shown to be aware of Gandalf\\'s hesitance, revealing an illustration of the Balrog in one of his books. The corpses of the dwarves are instantly shown as the Fellowship enter Moria. One detail that many critics commented upon is that, in the novel, Pippin tosses a mere pebble into the well in Moria (\"They then hear what sounds like a hammer tapping in the distance\"), whereas in the film, he knocks an entire skeleton in (\"Next, the skeleton ... falls down the well, also dragging down a chain and bucket. The noise is incredible.\").\\n\\n\\n== Production ==\\n\\n\\n=== Development ===\\nDirector Peter Jackson began working with Christian Rivers to storyboard the series in August 1997, as well as getting Richard Taylor and Weta Workshop to begin creating his interpretation of Middle-earth. Jackson told them to make Middle-earth as plausible and believable as possible, and to think of it in a historical manner.\\nIn November, Alan Lee and John Howe became the film trilogy\\'s primary conceptual designers, having had previous experience as illustrators for the book and various other tie-ins. Lee worked for the Art Department creating places such as Rivendell, Isengard, Moria, and Lothlórien, giving Art Nouveau and geometry influences to the Elves and Dwarves respectively. Though Howe contributed with Bag End and the Argonath, he focused on the design of the characters\\' armour, having studied it his entire life. Weta and the Art Department continued to design, with Grant Major turning the Art Department\\'s designs into architecture, and Dan Hennah scouting locations. On 1 April 1999, Ngila Dickson joined the crew as costume designer. She and 40 seamstresses would create 19,000 costumes, 40 per version for the actor and their doubles, wearing them out for an impression of age.\\n\\n\\n=== Filming locations ===\\n\\nFilming took place in various locations across New Zealand. Below is a list of filming locations, sorted by appearance order in the film:\\n\\n\\n=== Special effects ===\\nThe Fellowship of the Ring makes extensive use of digital, practical and make-up special effects. One notable illusion used in almost every scene involved setting a proper scale so that the characters all appear to be the correct height. For example, Elijah Wood is 5 feet 6 inches (1.68 m) tall in real life, but his character, Frodo Baggins, is barely four feet in height. Various techniques were used to depict the hobbits and Gimli the Dwarf as being of diminutive stature. Fortunately, John-Rhys Davies – who played Gimli – happens to be the correct height in proportion to the hobbit actors, so did not need to be filmed separately as a third height variation. Large- and small-scale doubles were used in certain scenes, while entire duplicates of certain sets (including Bag End in Hobbiton) were built at two different scales, so that the characters would appear to be the appropriate size. At one point in the film, Frodo runs along a corridor in Bag End, followed by Gandalf. Elijah Wood and Ian McKellen were filmed in separate versions of the same corridor, built at two different scales, and a fast camera pan conceals the edit between the two. Forced perspective was also employed, so that it would look as though the short hobbits were interacting with taller Men and Elves. Even the simple use of kneeling down, to the filmmakers\\' surprise, turned out to be an effective method in creating the illusion.\\nFor the battle between the Last Alliance and Sauron\\'s forces that begins the film, an elaborate CGI animation system, called MASSIVE, was developed by Stephen Regelous; it allowed thousands of individual animated characters, or \"agents\" in the program, to act independently. This lent the illusion of realism to the battle sequences. The \"Making of\" Lord of the Rings DVD reports some interesting initial problems: for instance, in the first execution of a battle between groups of characters, the wrong groups attacked each other. In another early demo, some of the warriors at the edge of the field could be seen running away. They were initially moving in the wrong direction, and had been programmed to keep running until they encountered an enemy.\\nThe digital creatures were important due to Jackson\\'s requirement of biological plausibility. Their surface texture was scanned from large maquettes before numerous digital details of their skeletons and muscles were added. In the case of the Balrog, Gray Horsfield created a system that copied recorded imagery of fire.\\n\\n\\n=== Score ===\\n\\nJames Horner turned down the offer to compose the score. The musical score for The Lord of the Rings films was composed by Howard Shore. It was performed by the New Zealand Symphony Orchestra, the London Philharmonic Orchestra, the London Voices, The London Oratory School Schola, and the Maori Samoan Choir, and featured several vocal soloists. Shore wrote almost four hours of finalized music for the film (of which just over three hours are used as underscore), featuring a number of non-orchestral instruments, and a large number (49–62) of leitmotives.\\nTwo original songs, \"Aníron\" and the end title theme \"May It Be\", were composed and sung by Enya, who allowed her label, Reprise Records, to release the soundtrack to The Fellowship of the Ring and its two sequels. In addition to these, Shore composed \"In Dreams\", which was sung by Edward Ross of the London Oratory School Schola.\\n\\n\\n== Release ==\\n\\n\\n=== Theatrical ===\\nThe world premiere of The Fellowship of the Ring was held at the Odeon Leicester Square in London on 10 December 2001. It was released on Wednesday, 19 December 2001 internationally in most major territories on 10,000 screens. It opened in New Zealand on 20 December.\\n\\n\\n=== Marketing ===\\nA special featurette trailer was released in 2000. The trilogy sizzle reel was shown before Thirteen Days and the teaser trailer before Pearl Harbor. The theatrical trailer was attached with the television premiere of Angel and before Harry Potter and the Philosopher\\'s Stone. Both trailers appeared as Easter eggs on the Rush Hour 2 and Little Nicky home video releases.\\n\\n\\n=== Home media ===\\n\\n\\n==== Theatrical version ====\\nThe theatrical version of The Fellowship of the Ring was released on VHS and DVD on 6 August 2002. It was the best-selling DVD release at the time with 14.5 million copies being sold. This record was dethroned by Finding Nemo the following year.\\nThe Blu-ray edition of the theatrical The Lord of the Rings trilogy was released in the United States on 6 April 2010. There were two separate sets: one with digital copies and one without. The individual Blu-ray disc of The Fellowship of the Ring was released on 14 September 2010 with the same special features as the complete trilogy release, except there was no digital copy.\\n\\n\\n==== Extended version ====\\nOn 12 November 2002, an extended edition was released on VHS and DVD, with 30 minutes of new material, added special effects and music, plus 19 minutes of fan-club credits, totaling 228 minutes. The DVD set included four commentaries and over three hours of supplementary material.\\nOn 29 August 2006, a limited edition of The Fellowship of the Ring was released on DVD. The set included both the film\\'s theatrical and extended editions on a double-sided disc along with all-new bonus material.\\nThe extended Blu-ray editions were released in the US on 28 June 2011. This version has a runtime of 238 minutes, with the Blu-ray\\'s additional 10 minutes resulting from lengthier rolls of the fan club members updated at the time of the release, not any additional story material.\\nThe Fellowship of the Ring was released in Ultra HD Blu-ray on 30 November 2020 in the United Kingdom and on 1 December 2020 in the United States, along with the other films of the trilogy, including both the theatrical and the extended editions of the films.\\n\\n\\n== Reception ==\\n\\n\\n=== Box office ===\\nOn its opening day, The Fellowship of the Ring grossed $18.2 million in the United States and Canada from 3,359 cinemas and $11.5 million in 13 countries, including $3 million from 466 screens in the United Kingdom. It grossed $75.1 million in its first five days in the United States and Canada, including $47.2 million on its opening weekend, placing it at number one at the US box office, setting a December opening record, beating Ocean\\'s Eleven.\\nThe film also opened at number one in 29 international markets and remained there for a second week in all but the Netherlands. It set a record opening day gross in Australia with $2.09 million from 405 screens, beating the record $1.3 million set by Star Wars: Episode I – The Phantom Menace. It had a record opening weekend in Germany with 1.5 million admissions and in Spain with a gross of $5.3 million from 395 screens. It also grossed a record $2.5 million in 15 days in New Zealand. This record would last for less than a decade before being surpassed by Avatar. In its first 15 days, it had grossed $183.5 million internationally and $178.7 million in the United States and Canada for a worldwide total of $362.2 million.\\nIn its initial release, it went on to gross $313.4 million in the United States and Canada and $555 million in the rest of the world for a worldwide total of $868.4 million. Box Office Mojo estimates that the film sold over 54 million tickets in the US and Canada in its initial theatrical run. Following subsequent reissues, the film has grossed $316.1 million in the United States and Canada and $567.3 million in the rest of the world for a worldwide total of $883.4 million.\\n\\n\\n=== Critical response ===\\n\\nOn review aggregator Rotten Tomatoes, the film holds an approval rating of 91% based on 235 reviews, with an average rating of 8.20/10. The website\\'s critics consensus reads, \"Full of eye-popping special effects, and featuring a pitch-perfect cast, The Lord of the Rings: The Fellowship of the Ring brings J.R.R. Tolkien\\'s classic to vivid life.\" Metacritic, which uses a weighted average, assigned the film a score of 92 out of 100 based on 34 critics, indicating \"universal acclaim\". Audiences polled by CinemaScore gave the film an average grade of \"A−\" on an A+ to F scale.\\nColin Kennedy for Empire gave the film five stars out of five, writing \"Brooking no argument, history should quickly regard Peter Jackson\\'s The Fellowship of the Ring as the first instalment of the best fantasy epic in motion picture history... Putting formula blockbusters to shame, Fellowship is impeccably cast and constructed with both care and passion: this is a labour of love that never feels laboured. Emotional range and character depth ultimately take us beyond genre limitations...\" Roger Ebert of the Chicago Sun-Times gave the film three out of four stars and stating that while it is not \"a true visualization of Tolkien\\'s Middle-earth\", it is \"a work for, and of, our times. It will be embraced, I suspect, by many Tolkien fans and will take on aspects of a cult. It is a candidate for many Oscars. It is an awesome production in its daring and breadth, and there are small touches that are just right\". USA Today also gave the film three out of four stars and wrote, \"this movie version of a beloved book should please devotees as well as the uninitiated\". In his review for The New York Times, Elvis Mitchell wrote, \"The playful spookiness of Mr. Jackson\\'s direction provides a lively, light touch, a gesture that doesn\\'t normally come to mind when Tolkien\\'s name is mentioned\". Lisa Schwarzbaum for Entertainment Weekly gave the film an A grade and wrote \"The cast take to their roles with becoming modesty, certainly, but Jackson also makes it easy for them: His Fellowship flows, never lingering for the sake of admiring its own beauty ... Every detail of which engrossed me. I may have never turned a page of Tolkien, but I know enchantment when I see it\". In his review for the BBC, Nev Pierce gave the film four stars out of five, describing it as \"Funny, scary, and totally involving\", and wrote that Jackson turned \"the book\\'s least screen-worthy volume into a gripping and powerful adventure movie\". In his review for The Guardian, Xan Brooks wrote \"Rather than a stand-alone holiday blockbuster, The Fellowship of the Ring offers an epic act one\", and commented that the ending was \"closer in spirit to an art-house film than a popcorn holiday romp\".\\nIn her review for The Washington Post, Rita Kempley gave the film five stars out of five, and praised the cast, in particular, \"Mortensen, as Strider, is a revelation, not to mention downright gorgeous. And McKellen, carrying the burden of thousands of years\\' worth of the fight against evil, is positively Merlinesque\". Time magazine\\'s Richard Corliss praised Jackson\\'s work: \"His movie achieves what the best fairy tales do: the creation of an alternate world, plausible and persuasive, where the young — and not only the young — can lose themselves. And perhaps, in identifying with the little Hobbit that could, find their better selves\". In his review for The Village Voice, J. Hoberman wrote, \"Peter Jackson\\'s adaptation is certainly successful on its own terms\". Rolling Stone magazine\\'s Peter Travers wrote, \"It\\'s emotion that makes Fellowship stick hard in the memory... Jackson deserves to revel in his success. He\\'s made a three-hour film that leaves you wanting more\". A mixed review was written by Peter Bradshaw. Writing for The Guardian, he lauded the art direction and the visual look of the film, but he also commented \"there is a strange paucity of plot complication, an absence of anything unfolding, all the more disconcerting because of the clotted and indigestible mythic back story that we have to wade through before anything happens at all\". Overall, Bradshaw found the tone of the film too serious and self-important, and wrote \"signing up to the movie\\'s whole hobbity-elvish universe requires a leap of faith... It\\'s a leap I didn\\'t feel much like making – and, with two more movie episodes like this on the way, the credibility gap looks wider than ever.\" Jonathan Rosenbaum was also less positive about The Fellowship of the Ring: in his review for the Chicago Reader, he granted that the film was \"full of scenic splendors with a fine sense of scale\", but he commented that its narrative thrust seemed \"relatively pro forma\", and that he found the battle scenes boring.\\n\\n\\n=== Accolades ===\\n\\nIn 2002, the film won four Academy Awards from thirteen nominations. The winning categories were for Best Cinematography, Best Visual Effects, Best Makeup, and Best Original Score. It was also nominated for Best Actor in a Supporting Role (Ian McKellen), Best Art Direction, Best Director, Best Film Editing, Best Original Song (Enya, Nicky Ryan and Roma Ryan for \"May It Be\"), Best Picture, Best Sound (Christopher Boyes, Michael Semanick, Gethin Creagh and Hammond Peek), Best Costume Design and Best Adapted Screenplay.\\nThe film won the 2002 Hugo Award for Best Dramatic Presentation. It also won Empire readers\\' Best Film award, as well as five BAFTAs, including Best Film, the David Lean Award for Best Direction, the Audience Award (voted for by the public), Best Special Effects, and Best Make-up. The film was nominated for an MTV Movie Award for Best Fight between Gandalf and Saruman.\\nIn June 2008, AFI revealed its \"10 Top 10\"—the ten best films in ten \"classic\" American film genres—after polling over 1,500 people from the creative community. The Fellowship of the Ring was acknowledged as the second best film in the fantasy genre. The film was also listed as the 50th best film in the 2007 list AFI\\'s 100 Years...100 Movies (10th Anniversary Edition).\\n\\n\\n== References ==\\n\\n\\n== External links ==\\n\\nOfficial website \\nThe Lord of the Rings: The Fellowship of the Ring at IMDb \\nThe Lord of the Rings: The Fellowship of the Ring at AllMovie \\nThe Lord of the Rings: The Fellowship of the Ring at Box Office Mojo \\nThe Lord of the Rings: The Fellowship of the Ring at Metacritic \\nThe Lord of the Rings: The Fellowship of the Ring at Rotten Tomatoes', start_char_idx=None, end_char_idx=None, text_template='{metadata_str}\\n\\n{content}', metadata_template='{key}: {value}', metadata_seperator='\\n'),\n",
              " Document(id_='173944', embedding=None, metadata={}, excluded_embed_metadata_keys=[], excluded_llm_metadata_keys=[], relationships={}, text='The Lord of the Rings: The Two Towers is a 2002 epic high fantasy adventure film directed by Peter Jackson from a screenplay by Fran Walsh, Philippa Boyens, Stephen Sinclair, and Jackson, based on 1954\\'s The Two Towers, the second volume of the novel The Lord of the Rings by J. R. R. Tolkien. The sequel to 2001\\'s The Lord of the Rings: The Fellowship of the Ring, the film is the second instalment in The Lord of the Rings trilogy. It features an ensemble cast including Elijah Wood, Ian McKellen, Liv Tyler, Viggo Mortensen, Sean Astin, Cate Blanchett, John Rhys-Davies, Bernard Hill, Christopher Lee, Billy Boyd, Dominic Monaghan, Orlando Bloom, Hugo Weaving, Miranda Otto, David Wenham, Brad Dourif, Karl Urban, and Andy Serkis.\\nContinuing the plot of the previous film, it intercuts three storylines: Frodo and Sam continue their journey towards Mordor to destroy the One Ring, now aided by Gollum, the ring\\'s untrustworthy former bearer. Merry and Pippin escape their orc captors, meet Treebeard the Ent, and help to plan an attack on Isengard, fortress of Saruman. Aragorn, Legolas, and Gimli, in their pursuit, come to the war-torn nation of Rohan, and are reunited with the resurrected Gandalf before fighting against the legions of the treacherous wizard Saruman at the Battle of Helm\\'s Deep. \\nThe Two Towers was financed and distributed by American studio New Line Cinema, but filmed and edited entirely in Jackson\\'s native New Zealand, concurrently with the other two parts of the trilogy. It premiered on 5 December 2002 at the Ziegfeld Theatre in New York City, and was then released on 18 December in the United States and on 19 December in New Zealand. The film was acclaimed by both critics and audiences, who considered it to be a landmark in filmmaking and an achievement in the fantasy film genre. It received praise for its direction, action sequences, performances, musical score, and visual effects, particularly for Gollum. It grossed over $936 million worldwide during its original theatrical run, making it the highest-grossing film of 2002, and, at the time of its release, the third highest-grossing film of all time behind Titanic and Harry Potter and the Philosopher\\'s Stone. Following subsequent reissues, it has grossed $949 million.\\nLike the other films in the trilogy, The Two Towers is widely recognised as one of the greatest and most influential films ever made as well as one of the greatest sequels in cinema history. The film received numerous accolades; at the 75th Academy Awards, it was nominated for six awards, including Best Picture, winning for Best Sound Editing and Best Visual Effects.\\nThe final instalment of the trilogy, The Return of the King, was released in 2003.\\n\\n\\n== Plot ==\\nAwakening from a dream of Gandalf fighting the Balrog in Moria, Frodo Baggins finds himself, along with Samwise Gamgee, lost in the Emyn Muil near Mordor. They discover that they are being tracked by Gollum, a former bearer of the One Ring. Capturing Gollum, Frodo takes pity and allows him to guide them, reminding Sam that they will need Gollum\\'s help to infiltrate Mordor.\\nAragorn, Legolas, and Gimli pursue a band of Uruk-hai to save their companions Merry and Pippin, entering the kingdom of Rohan. The Uruk-hai are ambushed by a group of Rohirrim, allowing Merry and Pippin to escape into Fangorn Forest. Meeting Aragorn\\'s group, the Rohirrim\\'s leader Éomer explains that he and his men have been exiled by Rohan\\'s king, Théoden, who is under the control of Saruman and his servant Gríma Wormtongue. Éomer believes Merry and Pippin were killed during the raid but leaves the group two horses. In Fangorn, Aragorn\\'s group encounters Gandalf, who after his fight against the Balrog was resurrected as Gandalf the White to help save Middle-earth.\\nGandalf leads the trio to Rohan\\'s capital, Edoras, where Gandalf frees Théoden from Saruman\\'s control. Aragorn stops Théoden from executing Wormtongue, who flees. Learning of Saruman\\'s plans to destroy Rohan with his Uruk-hai army, Théoden evacuates his citizens to the fortress of the Hornburg at Helm\\'s Deep. Gandalf departs to find Éomer and his followers, hoping they will fight for their restored king. Aragorn befriends Théoden\\'s niece, Éowyn, who becomes infatuated with him. When the refugees travelling to Helm\\'s Deep are attacked by Saruman\\'s Warg-riding Orcs, Aragorn falls from a cliff and is presumed dead. He is found by Théodred\\'s horse Brego and rides to Helm\\'s Deep, witnessing Saruman\\'s army marching toward the fortress.\\nIn Rivendell, Arwen is told by her father Elrond that Aragorn will not return. He reminds her that if she remains in Middle-earth, she will outlive Aragorn by thousands of years, and she reluctantly departs for Valinor. Elrond is contacted by Galadriel of Lothlórien, who convinces him that the Elves should honour their alliance to men, and they dispatch a company of Elves to Helm\\'s Deep.\\nIn Fangorn, Merry and Pippin meet Treebeard, an Ent. Convincing Treebeard that they are allies, they are brought to an Ent Council, where the Ents decide not to take part in the coming war. Pippin asks Treebeard to take them in the direction of Isengard, where they witness the deforestation caused by Saruman\\'s war effort. Enraged, Treebeard and the Ents storm Isengard, trapping Saruman in his tower.\\nAragorn arrives at Helm\\'s Deep, warning Théoden of Saruman\\'s army approaching. Théoden prepares for battle despite being vastly outnumbered. A company of Lothlorien Elves arrives to aid the people of Rohan, shortly before Saruman\\'s army attacks the fortress. The Uruk-hai breach the outer wall with explosives and during the ensuing charge, kill the Elves\\' commander, Haldir. The defenders retreat into the keep, where Aragorn convinces Théoden to meet the Uruk-hai in one last charge. At dawn, as the defenders are overwhelmed, Gandalf and Éomer arrive with the Rohirrim, turning the tide of the battle. The surviving Uruk-hai flee into Fangorn Forest and are killed by the trees. Gandalf warns that Sauron will retaliate.\\nGollum leads Frodo and Sam through the Dead Marshes to the Black Gate, but recommends they enter Mordor by another route. Frodo and Sam are captured by Rangers of Ithilien led by Faramir, younger brother of the late Boromir. Frodo helps Faramir catch Gollum to save him from being killed by the Rangers. Learning of the One Ring, Faramir takes his captives to Gondor to bring the Ring to his father Denethor. Passing through the besieged city of Osgiliath, Frodo tries to explain to Faramir the true nature of the Ring, and Sam explains that Boromir was driven mad by its power. A Nazgûl nearly captures Frodo, who falls under the Ring\\'s power, but Sam saves him and reminds a disheartened Frodo that they are fighting for the good still left in Middle-earth. Impressed by Frodo\\'s resolve, Faramir releases them. Feeling betrayed by his capture, Gollum decides he will reclaim the Ring by leading Frodo to \"her\" upon arriving at Cirith Ungol.\\n\\n\\n== Cast ==\\n\\nLike the other films in the series, The Two Towers has an ensemble cast, and the cast and their respective characters include:\\n\\nElijah Wood as Frodo Baggins: A young hobbit sent on a quest to destroy the One Ring, the burden of which is becoming heavier.\\nIan McKellen as Gandalf the White: An Istari wizard who fell fighting a Balrog and has now returned, more powerful than ever, to finish his task.\\nViggo Mortensen as Aragorn: The heir-in-exile to Gondor\\'s throne who has come to Rohan\\'s defence.\\nSean Astin as Samwise Gamgee: Better known as Sam, Frodo\\'s loyal hobbit gardener and companion.\\nAndy Serkis as Gollum (voice/motion capture): A wretched hobbit-like creature originally known as Sméagol, who owned the Ring for 500 years and now guides Frodo on his quest.\\nBilly Boyd as Peregrin Took: An extremely foolish hobbit who is a distant cousin of Frodo and travels with the Fellowship on their journey to Mordor.\\nDominic Monaghan as Meriadoc Brandybuck: Better known as Merry, a distant cousin of Frodo\\'s who is mistakenly captured along with Pippin by the Uruk-hai.\\nJohn Rhys-Davies as Gimli: A dwarf warrior and one of Aragorn\\'s companions.\\nAlso voices Treebeard: The leader of the ents, who is roused to anger after seeing that Saruman had decimated a large part of Fangorn Forest.\\nOrlando Bloom as Legolas: An elven archer and one of Aragorn\\'s companions.\\nBernard Hill as Théoden: The King of Rohan, who is under Saruman\\'s spell until Gandalf heals him so he can lead his people once more. Kevin Conway was offered the role but he declined.\\nChristopher Lee as Saruman the White: An Istari wizard waging war upon Rohan and devastating Fangorn Forest, who allied himself with Sauron in the previous film.\\nHugo Weaving as Elrond: The Elven-Lord of Rivendell who expresses doubt over his daughter\\'s love for Aragorn.\\nMiranda Otto as Éowyn: Théoden\\'s niece, who is in love with Aragorn. Uma Thurman was offered the role but turned it down and later regretted it.\\nDavid Wenham as Faramir: A prince of the Stewards of Gondor and captain of the Ithilien Rangers, who captures Frodo, Sam and Gollum.\\nBrad Dourif as Gríma Wormtongue: An agent of Saruman at Edoras, who renders Théoden incapable of decisions, and desires Éowyn.\\nKarl Urban as Éomer: Théoden\\'s nephew and previous Chief Marshal of the Riddermark who was exiled by Gríma.\\nLiv Tyler as Arwen: An elven princess of Rivendell and Aragorn\\'s true love.\\nCate Blanchett as Galadriel: The Elven-Queen of Lothlórien, who discusses Middle-earth\\'s future with Elrond.\\nSean Bean as Boromir: Faramir\\'s older brother and a fallen member of the Fellowship who appears in flashbacks since his death, more prominently in the film\\'s extended edition.\\nCraig Parker as Haldir: The leader of the Lórien Elves sent by Elrond and Galadriel to defend Helm\\'s Deep.\\nJohn Leigh as Háma: The loyal doorwarden of the Golden Hall and a majordomo of Théoden.\\nBruce Hopkins as Gamling: Théoden\\'s chief lieutenant and a skilled member of the Royal Guard of Rohan.\\nJohn Bach as Madril: Faramir\\'s closest aide, who informs him of battle preparations.\\nNathaniel Lees as Ugluk: The leader of the band of Uruk-hai who kidnapped Merry and Pippin.\\nThe following appear only in the Extended Edition\\n\\nJohn Noble as Denethor: The corrupt Steward of Gondor and the father of Boromir and Faramir.\\nIn the Battle of Helm\\'s Deep, Peter Jackson has a cameo appearance as one of the men on top of the gate, throwing a spear at the attacking Uruk-hai. His children and Elijah Wood\\'s sister cameo as young refugees in the caves behind the Hornburg, and Alan Lee and Dan Hennah also cameo as soldiers preparing for the battle. The son of a producer\\'s friend, Hamish Duncan, appears as a reluctant young Rohirrim warrior. Daniel Falconer has a cameo as an Elvish archer at the battle.\\n\\n\\n== Comparison to the source material ==\\n\\nScreenwriters did not originally script The Two Towers as its own film; The Lord of the Rings trilogy was initially written as a two-part series to be produced by Miramax, with parts of The Two Towers written as the conclusion to The Fellowship of the Ring. The two films became a trilogy under New Line, and writers Jackson, Walsh and Boyens shuffled their scripts. \\nThe most distinct difference from the book by J.R.R. Tolkien is its structure. Tolkien\\'s The Two Towers is split into two parts, opening with the war in Rohan, and concluding with focus on the journey of Frodo and Sam. The film omits the book\\'s opening, Boromir\\'s death, which was used as a linear climax at the end of The Fellowship of the Ring. Where the book ends with the Fellowship going to Isengard and Frodo\\'s confrontation with Shelob, the film climaxes with the Battle of Helm\\'s Deep, leaving the aforementioned scenes for the film adaptation of The Return of the King. This was done partly to fit more closely the timeline indicated by the book.\\nIn the film, Théoden is possessed by Saruman, whereas in the book he is depicted as depressed and deluded by Wormtongue. Afterwards, in the film, Théoden is still unsure of what to do, and flees to Helm\\'s Deep. In the book he rides out to war, only ending up besieged when he considers helping Erkenbrand. Erkenbrand does not exist in the films: his character is combined with Éomer as the Rohirrim general who arrives with Gandalf at the film\\'s end. Éomer himself is present during the entire battle in the book.\\nOn the way to Helm\\'s Deep, the refugees from Edoras are attacked by Wargs, similar to a scene in The Fellowship of the Ring where the Fellowship battles a group of Wargs. Here, a new subplot is created where Aragorn falls over a cliff, and is assumed to be dead; Jackson stated that he added it to create tension. This scene also resonates with a new subplot regarding Arwen, where she decides to leave Middle-earth after losing hope in the long-term possibilities of her love. In the book, Arwen\\'s role is primarily recorded in the Appendices, and she is never depicted as considering such an act.\\nA larger change was originally planned: Arwen and Elrond would visit Galadriel, and Arwen would accompany an army of Elves to Helm\\'s Deep to fight alongside Aragorn. During shooting, the script changed, both from writers coming up with better ideas to portray the romance between Aragorn and Arwen, as well as poor fan reaction. The new scene of Arwen leaving for the West was created, and the conversation scene remains, edited to be a flashback to a conversation between them in Rivendell, on the evening before the Fellowship\\'s departure. A conversation between Elrond and Galadriel in Lothlórien was edited to be a telepathic one. Nonetheless, one major change (already filmed) remained that could not be reversed: the Elven warriors fighting at Helm\\'s Deep, although Jackson and Boyens found this romantic and stirring and a reference to how, in the Appendices of The Return of the King, Galadriel and the Elves of Lothlórien, and Thranduil of Mirkwood were first attacked by an army out of Dol Guldur in Mirkwood, and then later counter-attacked and assaulted the fortress itself.\\nAnother change is the fact Treebeard does not immediately decide to go to war. This adds to the tension, and Boyens describes it as making Merry and Pippin \"more than luggage\". Here, the Hobbits show Treebeard what Saruman has done to the forest, prompting his decision to act. Another structural change is that the Hobbits meet Gandalf the White early on, explaining why the Hobbits do not react to his return when they meet him again following Isengard\\'s destruction. This was explained in the book by Gandalf arriving at Isengard in the middle of the night to talk to Treebeard.\\nThe filmmakers\\' decision to leave Shelob for the third film meant that Faramir had to become an obstacle for Frodo and Sam. In the book, Faramir (like Aragorn) quickly recognises the Ring as a danger and a temptation and does not hesitate long before letting Frodo and Sam go. In the film, Faramir first decides that the Ring shall go to Gondor and his father Denethor, as a way to prove his worth. In the film, Faramir takes Frodo, Sam and the Ring to the Battle of Osgiliath—they do not go there in the book. Jackson winks to readers with Sam\\'s line, \"By all rights we shouldn\\'t even be here, but we are.\" After seeing how strongly the Ring affects Frodo during the Nazgûl attack, Faramir changes his mind and lets them go. These changes reshape the book\\'s contrast between Faramir and Boromir, who in The Fellowship of the Ring attempted to take the Ring for himself. On the other hand, (which can be seen only in the film\\'s extended version), it is actually their father who wants the Ring and urges Boromir to get it, while Faramir only wants to prove himself to his father. Boyens contends these plot changes were needed to keep the Ring menacing. Wenham commented on the DVD documentaries that he had not read the book prior to reading the script, so the film\\'s version of Faramir was the Faramir he knew. When he later read the book and noticed the major difference, he approached the writers about it, and they explained to him that if he did say \"I wouldn\\'t pick that thing up even if it lay by the wayside\", it would basically strip the One Ring of all corruptive power.\\nThe meaning of the title itself, \\'The Two Towers\\', was changed. While Tolkien considered several possible sets of towers he eventually created a final cover illustration and wrote a note included at the end of The Fellowship of the Ring which identified them as Minas Morgul and Orthanc. Jackson\\'s film names them as Orthanc and Barad-dûr, symbolic of an evil alliance out to destroy Men that forms the film\\'s plot point. The film depicted Saruman openly presenting himself outright as Sauron\\'s servant, whereas this association was not explicitly stated in the novel (and indeed analysis by Gandalf and Aragorn in the chapter \"The White Rider\" stated that there was a rivalry instead, as Saruman was afraid of the prospect of being at war with Sauron, if Rohan and Gondor fell).\\n\\n\\n== Production ==\\n\\n\\n=== Production design ===\\nWhen Alan Lee joined the project in late 1997, Helm\\'s Deep was the first structure he was tasked to design. At 1:35 scale, it was one of the first miniatures built for the film, and was part of the 45-minute video that sold the project to New Line. It was primarily drawn from an illustration Lee had once done for the book, though the curved wall featured in the film was proposed by fellow illustrator and designer John Howe. Used in the film for wide shots, Jackson also used this miniature to plan the battle, using 40,000 toy soldiers.\\nHelm\\'s Deep, a pivotal part of the film\\'s narrative, was built at Dry Creek Quarry with its gate, a ramp, and a wall, which included a removable section as well as the tower on a second level. A 1:4-scale miniature of Helm\\'s Deep that ran 50 feet (15 m) wide was used for forced perspective shots, as well as the major explosion sequence.\\nThe film explores the armies of Middle-earth. John Howe was the basic designer of the evil forces of Middle Earth, with the Uruk-hai being the first army approved by Jackson. Howe also designed a special crossbow for the Uruk-Hai characters, which was significant because it did not require external tools to rearm. This design was the realisation of a 16th-century manuscript. Also created were 100 Elven suits of armour, for which emphasis was placed on Autumnal colours due to the theme of Elves leaving Middle-earth. Two hundred and fifty suits were also made for the Rohirrim. The designs for Rohan were based on Germanic and Anglo-Saxon patterns, with most of the weapons designed by John Howe and forged by Peter Lyon. Each sword took 3 to 6 days to make.\\nThe exterior of the Rohirrim\\'s capital of Edoras, including its thatched roofs, took six months to build on Mount Sunday. The interior of the buildings doubled as offices and lunch halls. The interior of the Hall of Edoras was filmed at Stone Street Studios with tapestries designed by Lee, and Théoden\\'s wooden throne was partly created by his daughter. Hill endured heavy make-up for the possession scene where his skin was pulled back and released for increased wrinkles. Dourif shaved off his eyebrows and put potato flakes as dandruff in his hair for unnerving effect.\\nThrough Frodo and Sam\\'s story, the film also provides a look at Mordor and Gondor. Barad-dûr is fully seen in a tracking shot, a design which Howe called a mockery of Gothic Cathedrals. He and Lee created the Black Gate (though a typo in the script made the miniature into two) and Osgiliath, a ruined city reflecting London during the Blitz or Berlin in 1945. The set on a backlot was based around a bridge and reused some of Moria.\\n\\n\\n=== Principal photography ===\\n\\nThe Two Towers shared principal photography with The Fellowship of the Ring and The Return of the King. The trilogy was filmed between 11 October 1999 and 22 December 2000. The scenes which take place in Rohan were shot earlier in the production, during which time Viggo Mortensen, Orlando Bloom and John Rhys-Davies\\'s stunt double Brett Beattie sustained many injuries. Mortensen broke two toes when he kicked an Orc helmet while filming the scene in which he, Legolas, and Gimli find the remains of the Uruk-hai and believe Merry and Pippin to be dead (a shot which is included in the film). Furthermore, during filming Bloom fell off his horse and cracked three ribs, and Beattie dislocated his knee. These injuries led to the actors suffering two days of pain during the running sequence in the first act of the film, leading Jackson to jokingly refer to them as \"The Walking Wounded.\"\\nThe filming of the Battle of Helm\\'s Deep took approximately three months, with most of the nighttime shots handled by John Mahaffie. Some injuries were sustained during the filming of the sequence, including Mortensen chipping his tooth, and Bernard Hill\\'s ear getting slashed. The sequence also features 500 extras, who insulted each other in Māori, and improvised scenes such as the Uruk-hai stamping their spears before the beginning of the battle. However, there was alleged annoyance among the film\\'s crew for the strength of the gates, which were claimed to be too reinforced during the Battering Ram scene. Mortensen greatly respected the stunt team, and head bumped them often as a sign of that respect.\\nWood and Astin were joined by Serkis on 13 April 2000.\\n\\n\\n=== Special effects ===\\nAs with The Fellowship of the Ring, Jim Rygiel served as the visual effects supervisor for The Two Towers, while newcomer Joe Letteri joined the visual effects team to supervise Andy Serkis\\'s motion capture performance in the creation of the character Gollum. During the production of The Two Towers Weta Digital doubled their staff members of 260. In total, they would produce 73 minutes of digital effects with 799 shots. The film would feature their first challenge in creating a battle scene, as well as creating two digital characters who needed to act rather than be a set piece, unlike the previous film\\'s Cave Troll and Balrog.\\n\\nGollum\\n\\nWeta began animating Gollum in late 1998 to convince New Line they could achieve the effect. Andy Serkis \"played\" Gollum by providing his voice and movements on set, as well as performing within the motion capture suit later on. His scenes were filmed twice, with and without him. Originally, Gollum was set to solely be a CGI character, but Jackson was so impressed by Serkis\\' audition tape that they used him on set as well.\\nGollum\\'s CGI model was also redesigned during 2001 when Serkis was cast as Sméagol, Gollum\\'s former self, so as to give the impression Andy Serkis as Sméagol transforms into the CGI Gollum. The original model can still be glimpsed briefly in the first film. Over Christmas 2001, the crew proceeded to reanimate all the previous shots accordingly within two months. Another problem was that the crew realised that the cast performed better in the takes which physically included Serkis. In the end, the CGI Gollum was rotoscoped and animated on top of these scenes.\\nSerkis\\'s motion capture was generally used to animate Gollum\\'s body, except for some difficult shots such as him crawling upside down. Gollum\\'s face was animated manually, often using recordings of Serkis as a guide. Gino Acevedo supervised realistic skin tones, which took four hours per frame to render.\\nWhile the novel alludes to a division within his mind, the film depicts him as having a split personality. The two personas—the childlike Sméagol and the evil Gollum—are established during a scene in which they argue over remaining loyal to Frodo. The two personalities talk to each other, as established by contrasting camera angles and by Serkis altering his voice and physicality for each persona.\\n\\nTreebeard\\nTreebeard took between 28 and 48 hours per frame to render. For scenes where he interacts with Merry and Pippin, a 14-foot-tall puppet was built on a wheel. Weta took urethane moulds of tree bark and applied them to the sculpt of Treebeard to create his wooden skin. Dominic Monaghan and Billy Boyd sat on bicycle seats concealed into Treebeard\\'s hands to avoid discomfort and were left alone on set sitting in the puppet\\'s hands during breaks. The puppet was shot against bluescreen.\\n\\n\\n=== Score ===\\n\\nThe musical score for The Two Towers was composed, orchestrated, and conducted by Howard Shore, who also composed the music for the other two films in the series. While the scores for its predecessor and sequel won the Academy Award for Best Score, the soundtrack for The Two Towers was not nominated. Initially there was confusion over the score\\'s eligibility due to a new rule applying to sequels, but the academy did declare it eligible.\\nThe score features The London Philharmonic Orchestra, London Voices, The London Oratory School Schola and several vocal and instrumental soloists, including soprano Isabel Bayrakdarian, and Irish fiddler and violinist Dermot Crehan, who also performed on the Hardanger fiddle, which is used in this film in conjunction with the various Rohan themes.\\nThe funeral song Éowyn sings during her cousin Théodred\\'s entombment in the extended edition is styled to be a traditional song of the Rohirrim, and has lyrics in their language, Rohirric (represented by Old English). The song does not appear in the book, and the tune is a variation upon a theme of the rímur Icelandic folk tradition; it can be heard as part of track 7 in the 1999 recording of a musical version of the Edda by Sequentia.\\nThe soundtrack was recorded at Abbey Road Studios. The soundtrack has a picture of Peter Jackson (barefoot), the composer, and two producers crossing Abbey Road, referencing The Beatles\\' album of the same name.\\n\\n\\n== Release ==\\n\\n\\n=== Marketing ===\\nThe teaser trailer premiered in theatres on 3 July 2002 with the release of Men in Black II. The theatrical trailer was then released theatrically on 4 October 2002 with the debut of Red Dragon.\\n\\n\\n=== Home media ===\\n\\n\\n==== VHS and DVD ====\\nThe Two Towers was released on VHS and DVD on 26 August 2003 in the United States. The date was originally intended to be a simultaneous worldwide release, but due to a bank holiday weekend in the United Kingdom, some British outlets began selling DVDs as much as four days earlier, much to the ire of the UK distributor, Entertainment in Video, which had threatened to withhold advance supplies of subsequent DVD releases. During its first five days of release, the DVD release sold over 3.5 million units. The film also generated $22.8 million in rentals, breaking The Bourne Identity\\'s record for having the biggest rentals of any DVD release. By December 2003, it was reported that The Two Towers sold 16.4 million copies and earned $305.4 million in sales revenue, becoming the second-highest selling home video release of 2003, after Finding Nemo.\\nAs with Fellowship, an extended edition of Two Towers was released on VHS and DVD on 18 November 2003 with 45 minutes of new material, added special effects and music, plus 11 minutes of fan-club credits. The runtime expanded to 235 minutes. The 4-disc DVD set included four commentaries along with hours of supplementary material.\\nIn August 2006, a limited edition was released on DVD, and included both theatrical and extended editions on a double-sided disc along with all-new bonus material.\\n\\n\\n==== Blu-ray ====\\nThe theatrical Blu-ray version of The Lord of the Rings was released in the United States in April 2010. The individual disc of Two Towers was released in September 2010 with the same special features as the complete trilogy release, minus digital copy.\\nThe extended Blu-ray editions were released in the US and Canada in June 2011.\\nTwo Towers was released in Ultra HD Blu-ray on 30 November 2020 in the United Kingdom and on 1 December 2020 in the United States, along with the other instalments, including both theatrical and extended cuts.\\n\\n\\n== Reception ==\\n\\n\\n=== Box office ===\\nThe Two Towers opened in theatres on 18 December 2002. During its opening day, the film grossed $26 million, making it the second-highest opening Wednesday, behind Star Wars: Episode I – The Phantom Menace. It earned $62 million in its opening weekend in the US and Canada, becoming the fifth-highest opening weekend of that year, behind Austin Powers in Goldmember, Star Wars: Episode II – Attack of the Clones, Harry Potter and the Chamber of Secrets and Spider-Man. This was also the third-highest opening weekend for a New Line Cinema film, trailing only behind Rush Hour 2 and Austin Powers in Goldmember. The film then made $101.5 million during its five-day Wednesday opening.\\nOutside the US and Canada, The Two Towers made $99.4 million from 25 territories during its opening weekend, which made it the highest international opening weekend. The combined total opening weekend gross increased to $189.9 million, making it the highest worldwide opening weekend of all time. The film would hold both records until 2003 when they were given to The Matrix Reloaded and its successor The Matrix Revolutions respectively. The Two Towers set opening day records in Germany, Austria, Finland, the Netherlands, Switzerland, Belgium, Sweden and Norway, as well as a single-day record in Denmark. It then made opening weekend records in the United Kingdom, Spain, France, Mexico, Norway, Switzerland, Denmark, Germany and South Korea.\\nThe film went on to gross $339.8 million in North America and $596.9 million internationally for a worldwide total of $936.7 million against a budget of $94 million. The Two Towers was the highest-grossing film of 2002 worldwide. Box Office Mojo estimates over 57 million sold tickets in the US in its initial theatrical run.\\nFollowing subsequent reissues, the film has grossed $343 million in the United States and Canada and $606 million in the rest of the world for a worldwide total of $949 million.\\n\\n\\n=== Critical response ===\\n\\nOn review aggregator Rotten Tomatoes, The Two Towers holds an approval rating of 95% based on 258 reviews, with an average rating of 8.50/10. The website\\'s critics consensus reads, \"The Two Towers balances spectacular action with emotional storytelling, leaving audiences both wholly satisfied and eager for the final chapter.\" Metacritic, which uses a weighted average, has assigned the film a score of 87 out of 100 based on 39 reviews, indicating \"universal acclaim\". Audiences polled by CinemaScore gave the film an average grade of \"A\" on an A+ to F scale, a grade up from the \"A−\" earned by the previous film.\\nLike its predecessor, The Two Towers was released to universal critical acclaim and is widely considered to be one of the greatest sequels in cinema history. Roger Ebert of the Chicago Sun-Times gave the film three stars out of four, describing it as \"one of the most spectacular swashbucklers ever made\", and stating \"It is not faithful to the spirit of Tolkien and misplaces much of the charm and whimsy of the books, but it stands on its own as a visionary thriller\". Nev Pierce for the BBC gave the film four stars out of five, and wrote that while it lacked \"the first film\\'s wow-factor\", it surpassed The Fellowship of the Ring \"in terms of wit, action and narrative drive\". Pierce described Gollum as \"the first believable CG character\" and the Battle of Helm\\'s Deep as \"one of the finest, most expansive combat sequences ever filmed\". Writing for The Observer, Philip French described The Two Towers as a \"stunning visual epic\". French commended the battle scenes and the visual style of the film, relating it to the paintings of \"Caspar David Friedrich, the Pre-Raphaelites, Art Nouveau illustrations for children\\'s books, and the apocalyptic biblical landscapes ... of the Victorian visionary John Martin\". He concluded the review looking forward to the release of the final chapter, writing \"This is likely to be happier, more decisive and infinitely more satisfying than anything that will happen to our world in the next 12 months.\"\\nJoe Morgenstern for The Wall Street Journal lauded the narrative construction of The Two Towers: \"Elaborate preparations are required for the payoff in this instalment -- the massing of troops plus much individual struggle as splintered groups of the Fellowship make their separate ways toward the defining battle of Helm\\'s Deep ... Yet these preparations count as payoffs too ... Seldom has a popular entertainment set its stage so carefully or evocatively, with such lavish respect for its audience.\" Morgenstern also highlighted the digital effects and the battle scenes, and said of the series \"The Lord of the Rings continues to stake its singular claim on movie history; it\\'s a gift of epic proportions.\" In his review for the Evening Standard, Alexander Walker wrote that the Battle of Helm\\'s Deep was \"probably the greatest battlepiece composed for the screen since Eisenstein\\'s Ivan the Terrible\", and that with The Two Towers the trilogy had achieved \"a majestic proportion, chivalric and quixotic, earthly and magical, an experience that reaches beyond the dimensions of the cinema screen and somehow reflects the global unease of the world in the first years of the 21st century\".\\nIn his review for Newsweek, David Ansen commended Jackson\\'s direction of the battle scenes, writing \"Few people can stage a battle -- and the eyepopping siege of Helms Deep is one of the most spectacular you\\'ll ever see -- with such sweep and clarity that the carnage doesn\\'t seem an oppressive end in itself\". Ansen also praised the complexity of the character of Gollum, commenting \"While everyone else in Tolkien\\'s myth falls neatly into the camps of Good and Evil, the self-lacerating Gollum is at war with himself. In an epic drenched in medievalism, he\\'s the dangerously ambiguous voice of the modern.\" Caroline Westbrook, for Empire, gave the film five stars out of five, and wrote \"It may lack the first-view-thrill and natural dramatic shape of Fellowship, but this is both funnier and darker than the first film, and certainly more action-packed. An essential component of what is now destined to be among the best film franchises of all time.\" Westbrook lauded Jackson\\'s ability to temper the spectacular scenes \"with some heartstring-tugging moments - peasants despondent as they are forced to abandon their villages, Aragorn and Arwen\\'s troubled relationship, and, of course, the return of Gandalf (Sir Ian McKellen, superb as ever), one of the film\\'s most powerful, memorable images that may well leave Ring devotees a little misty-eyed.\"\\nA less enthusiastic review was written in The Guardian by Peter Bradshaw, who had already written a mixed review of The Fellowship of the Ring. Bradshaw gave The Two Towers three stars out of five, appreciating it as \"a very watchable, distinctive, if over-extended FX spectacle\". However, he commented that the film could not be taken as \"a serious evocation of good and evil\", and dismissed the subject as \"lots and lots of interminable nerdish nonsense\".\\nThe Battle of Helm\\'s Deep has been named by CNN as one of the greatest screen battles of all time, while Gollum was named as the third favourite computer-generated film character by Entertainment Weekly in 2007.\\n\\n\\n=== Accolades ===\\n\\nAcademy Awards\\nWinner: Best Visual Effects (Jim Rygiel, Joe Letteri, Randall William Cook and Alex Funke) and Best Sound Editing (Ethan Van der Ryn and Michael Hopkins).\\nNominee: Best Picture (Fran Walsh, Philippa Boyens, Stephen Sinclair and Peter Jackson, producers), Best Art Direction (Art Direction: Grant Major; Set Decoration: Dan Hennah and Alan Lee), Best Film Editing (Michael J. Horton) and Best Sound (Christopher Boyes, Michael Semanick, Michael Hedges and Hammond Peek).\\nBritish Academy Film Awards: Best Costume Design, Best Special Visual Effects, Orange Film of the Year (voted on by the public)\\nEmpire Awards: Best Picture\\nGrammy Awards: Best Score (Howard Shore)\\nHugo Awards (World Science Fiction Society): Best Dramatic Presentation — Long Form\\n2003 MTV Movie Awards: Best virtual performance (Gollum)\\nSaturn Awards: Best Fantasy Film, Best Costume (Ngila Dickson), Best Supporting Actor (Andy Serkis)\\n\\n\\n=== American Film Institute Recognition ===\\nAFI\\'s 100 Years...100 Movie Quotes:\\n\"My precious.\" – #85\\n\\n\\n== Notes ==\\n\\n\\n== References ==\\n\\n\\n== External links ==\\n\\nOfficial website \\nThe Lord of the Rings: The Two Towers at IMDb \\nThe Lord of the Rings: The Two Towers at AllMovie \\nThe Lord of the Rings: The Two Towers at Box Office Mojo \\nThe Lord of the Rings: The Two Towers at Metacritic \\nThe Lord of the Rings: The Two Towers at Rotten Tomatoes', start_char_idx=None, end_char_idx=None, text_template='{metadata_str}\\n\\n{content}', metadata_template='{key}: {value}', metadata_seperator='\\n')]"
            ]
          },
          "execution_count": 6,
          "metadata": {},
          "output_type": "execute_result"
        }
      ],
      "source": [
        "from llama_index.readers.wikipedia import WikipediaReader\n",
        "\n",
        "movie_list = [\n",
        "    \"Dune (2021 film)\",\n",
        "    \"Dune: Part Two\",\n",
        "    \"The Lord of the Rings: The Fellowship of the Ring\",\n",
        "    \"The Lord of the Rings: The Two Towers\",\n",
        "]\n",
        "\n",
        "wiki_docs = WikipediaReader().load_data(pages=movie_list, auto_suggest=False)\n",
        "wiki_docs"
      ]
    },
    {
      "cell_type": "markdown",
      "metadata": {
        "id": "-6FRQ4hfSV_-"
      },
      "source": [
        "### Initializing our `VectorStoreIndex` with QDrant\n",
        "\n",
        "QDrant is a locally hostable and open-source vector database solution.\n",
        "\n",
        "It offers powerful features like metadata filtering out of the box, and will suit our needs well today!\n",
        "\n",
        "We'll start by creating our local `:memory:` client (in-memory and not meant for production use-cases) and our collection."
      ]
    },
    {
      "cell_type": "code",
      "execution_count": 7,
      "metadata": {
        "colab": {
          "base_uri": "https://localhost:8080/"
        },
        "id": "b1ut96aSEVwY",
        "outputId": "126e308b-c9ba-4991-e26a-aea10f6243e4"
      },
      "outputs": [
        {
          "data": {
            "text/plain": [
              "True"
            ]
          },
          "execution_count": 7,
          "metadata": {},
          "output_type": "execute_result"
        }
      ],
      "source": [
        "from llama_index.vector_stores.qdrant import QdrantVectorStore\n",
        "from qdrant_client import QdrantClient, models\n",
        "\n",
        "client = QdrantClient(location=\":memory:\")\n",
        "\n",
        "client.create_collection(\n",
        "    collection_name=\"movie_wikis\",\n",
        "    vectors_config=models.VectorParams(size=1536, distance=models.Distance.COSINE)\n",
        ")"
      ]
    },
    {
      "cell_type": "markdown",
      "metadata": {
        "id": "Fa3mbrfGnkCk"
      },
      "source": [
        "Then we'll create our `VectorStore` and `StorageContext` which will allow us to create an empty `VectorStoreIndex` which we will be able to add nodes to later!"
      ]
    },
    {
      "cell_type": "code",
      "execution_count": 8,
      "metadata": {
        "colab": {
          "base_uri": "https://localhost:8080/"
        },
        "id": "lZ5xilm1SV_-",
        "outputId": "dd021273-3fe5-45e1-f1c3-b39698189759"
      },
      "outputs": [
        {
          "name": "stderr",
          "output_type": "stream",
          "text": [
            "\u001b[34m\u001b[1mwandb\u001b[0m: Logged trace tree to W&B.\n"
          ]
        }
      ],
      "source": [
        "from llama_index.core import VectorStoreIndex\n",
        "from llama_index.core import StorageContext\n",
        "\n",
        "vector_store = QdrantVectorStore(client=client, collection_name=\"movie_wikis\")\n",
        "\n",
        "storage_context = StorageContext.from_defaults(vector_store=vector_store)\n",
        "\n",
        "index = VectorStoreIndex.from_documents(\n",
        "    [],\n",
        "    storage_context=storage_context,\n",
        ")"
      ]
    },
    {
      "cell_type": "markdown",
      "metadata": {
        "id": "6qtzVDelSV_-"
      },
      "source": [
        "### Node Construction\n",
        "\n",
        "Now we will loop through our documents and metadata and construct nodes.\n",
        "\n",
        "We'll make sure to explicitly associate our nodes with their respective movie so we can filter by the movie title in the upcoming cells.\n",
        "\n",
        "You might be thinking to yourself - wait, we never indicated which embedding model this should use - but remember"
      ]
    },
    {
      "cell_type": "code",
      "execution_count": 18,
      "metadata": {
        "colab": {
          "base_uri": "https://localhost:8080/"
        },
        "id": "LP4INgSGSV_-",
        "outputId": "9cb343a0-989a-4768-946d-c891911d004b"
      },
      "outputs": [
        {
          "name": "stdout",
          "output_type": "stream",
          "text": [
            "INFO:httpx:HTTP Request: POST https://api.openai.com/v1/embeddings \"HTTP/1.1 200 OK\"\n",
            "HTTP Request: POST https://api.openai.com/v1/embeddings \"HTTP/1.1 200 OK\"\n"
          ]
        },
        {
          "name": "stderr",
          "output_type": "stream",
          "text": [
            "\u001b[34m\u001b[1mwandb\u001b[0m: Logged trace tree to W&B.\n"
          ]
        },
        {
          "name": "stdout",
          "output_type": "stream",
          "text": [
            "INFO:httpx:HTTP Request: POST https://api.openai.com/v1/embeddings \"HTTP/1.1 200 OK\"\n",
            "HTTP Request: POST https://api.openai.com/v1/embeddings \"HTTP/1.1 200 OK\"\n"
          ]
        },
        {
          "name": "stderr",
          "output_type": "stream",
          "text": [
            "\u001b[34m\u001b[1mwandb\u001b[0m: Logged trace tree to W&B.\n"
          ]
        },
        {
          "name": "stdout",
          "output_type": "stream",
          "text": [
            "INFO:httpx:HTTP Request: POST https://api.openai.com/v1/embeddings \"HTTP/1.1 200 OK\"\n",
            "HTTP Request: POST https://api.openai.com/v1/embeddings \"HTTP/1.1 200 OK\"\n"
          ]
        },
        {
          "name": "stderr",
          "output_type": "stream",
          "text": [
            "\u001b[34m\u001b[1mwandb\u001b[0m: Logged trace tree to W&B.\n"
          ]
        },
        {
          "name": "stdout",
          "output_type": "stream",
          "text": [
            "INFO:httpx:HTTP Request: POST https://api.openai.com/v1/embeddings \"HTTP/1.1 200 OK\"\n",
            "HTTP Request: POST https://api.openai.com/v1/embeddings \"HTTP/1.1 200 OK\"\n"
          ]
        },
        {
          "name": "stderr",
          "output_type": "stream",
          "text": [
            "\u001b[34m\u001b[1mwandb\u001b[0m: Logged trace tree to W&B.\n"
          ]
        }
      ],
      "source": [
        "from llama_index.core import SimpleDirectoryReader\n",
        "from llama_index.core.ingestion import IngestionPipeline\n",
        "from llama_index.core.node_parser import TokenTextSplitter\n",
        "from llama_index.core.extractors import TitleExtractor\n",
        "\n",
        "pipeline = IngestionPipeline(transformations=[TokenTextSplitter()])\n",
        "\n",
        "for movie, wiki_doc in zip(movie_list, wiki_docs):\n",
        "  nodes = pipeline.run(documents=[wiki_doc])\n",
        "  for node in nodes:\n",
        "    node.metadata = {\"title\" : movie}\n",
        "  index.insert_nodes(nodes)"
      ]
    },
    {
      "cell_type": "markdown",
      "metadata": {
        "id": "biVzC-I4UAmB"
      },
      "source": [
        "####❓ Question #1:\n",
        "\n",
        "What `metadata` fields will the nodes in our index have?\n",
        "\n",
        "> You will need to write code to find this information"
      ]
    },
    {
      "cell_type": "code",
      "execution_count": 27,
      "metadata": {},
      "outputs": [
        {
          "name": "stdout",
          "output_type": "stream",
          "text": [
            "{'title': 'The Lord of the Rings: The Two Towers'}\n"
          ]
        }
      ],
      "source": [
        "print(nodes[0].metadata)\n",
        "\n",
        "# title metadata"
      ]
    },
    {
      "cell_type": "markdown",
      "metadata": {
        "id": "Sfbon1BwSLFS"
      },
      "source": [
        "### Persisting and Loading Stored Index with Weights and Biases\n",
        "\n",
        "Now we can utilize a powerful feature of Weights and Biases - index and artifact versioning!\n",
        "\n",
        "We can persist our index to WandB to be used and loaded later!"
      ]
    },
    {
      "cell_type": "code",
      "execution_count": 23,
      "metadata": {
        "colab": {
          "base_uri": "https://localhost:8080/"
        },
        "id": "PHJd00J3G48_",
        "outputId": "0a74079d-8776-4fa6-f03c-8ead3892d094"
      },
      "outputs": [
        {
          "name": "stderr",
          "output_type": "stream",
          "text": [
            "\u001b[34m\u001b[1mwandb\u001b[0m: Adding directory to artifact (/Users/nithin.kamavaram/Desktop/learning/AI_MAKERSPACE/AI_ENGINEERING_2/Week 4/Day 2/wandb/run-20240426_114427-7jxr4oyz/files/storage)... Done. 0.0s\n"
          ]
        }
      ],
      "source": [
        "wandb_callback.persist_index(index, index_name=\"movie-index-qdrant\")"
      ]
    },
    {
      "cell_type": "markdown",
      "metadata": {
        "id": "jvpHLt8UShKa"
      },
      "source": [
        "Now we can load our index from WandB, which is a truly powerful tool!"
      ]
    },
    {
      "cell_type": "code",
      "execution_count": 24,
      "metadata": {
        "colab": {
          "base_uri": "https://localhost:8080/"
        },
        "id": "FDZLmqTDHDrZ",
        "outputId": "7b3dd1ec-2614-4017-d7a9-9295251ddce0"
      },
      "outputs": [
        {
          "name": "stderr",
          "output_type": "stream",
          "text": [
            "\u001b[34m\u001b[1mwandb\u001b[0m:   4 of 4 files downloaded.  \n"
          ]
        }
      ],
      "source": [
        "from llama_index.core import load_index_from_storage\n",
        "\n",
        "storage_context = wandb_callback.load_storage_context(\n",
        "    artifact_url=\"kamavaram-nithin/llama-index-rag/movie-index-qdrant:v1\"\n",
        ")"
      ]
    },
    {
      "cell_type": "code",
      "execution_count": 26,
      "metadata": {},
      "outputs": [
        {
          "data": {
            "text/plain": [
              "StorageContext(docstore=<llama_index.core.storage.docstore.simple_docstore.SimpleDocumentStore object at 0x2c8490a90>, index_store=<llama_index.core.storage.index_store.simple_index_store.SimpleIndexStore object at 0x2c590cd90>, vector_stores={'image': <llama_index.core.vector_stores.simple.SimpleVectorStore object at 0x2c6e90950>}, graph_store=<llama_index.core.graph_stores.simple.SimpleGraphStore object at 0x2c6b62ed0>)"
            ]
          },
          "execution_count": 26,
          "metadata": {},
          "output_type": "execute_result"
        }
      ],
      "source": [
        "storage_context"
      ]
    },
    {
      "cell_type": "markdown",
      "metadata": {
        "id": "kVVW70zyapx1"
      },
      "source": [
        "####❓ Question #2:\n",
        "\n",
        "Provide a screenshot of your index version history as shown in WandB.\n",
        "\n",
        "You can find your screenshot by doing the following:\n",
        "\n",
        "**My Artifact**\n",
        "\n",
        "![image](https://imgur.com/s0tYWt1.png)"
      ]
    },
    {
      "cell_type": "markdown",
      "metadata": {
        "id": "kCSHKnb0mIte"
      },
      "source": [
        "## Simple RAG - QueryEngine\n",
        "\n",
        "Now that we're created our `VectorStoreIndex`, powered by a QDrant VectorStore, we can wrap it in a simple `QueryEngine` using the `as_query_engine()` method - which will connect a few things together for us:"
      ]
    },
    {
      "cell_type": "code",
      "execution_count": 28,
      "metadata": {
        "id": "3ipb8j6dfLcO"
      },
      "outputs": [
        {
          "data": {
            "text/plain": [
              "<llama_index.core.query_engine.retriever_query_engine.RetrieverQueryEngine at 0x2c84d4e90>"
            ]
          },
          "execution_count": 28,
          "metadata": {},
          "output_type": "execute_result"
        }
      ],
      "source": [
        "simple_rag = index.as_query_engine()\n",
        "simple_rag"
      ]
    },
    {
      "cell_type": "markdown",
      "metadata": {
        "id": "zgJZGr5FqAME"
      },
      "source": [
        "Before we test this out - let's see what information we can find out about from our new `QueryEngine`!"
      ]
    },
    {
      "cell_type": "code",
      "execution_count": 39,
      "metadata": {
        "colab": {
          "base_uri": "https://localhost:8080/"
        },
        "id": "L-3v4ntaqFmd",
        "outputId": "15bd6ea0-f39f-480a-d715-0659dc8b058a"
      },
      "outputs": [
        {
          "name": "stdout",
          "output_type": "stream",
          "text": [
            "response_synthesizer:text_qa_template\n",
            "Context information is below.\n",
            "---------------------\n",
            "{context_str}\n",
            "---------------------\n",
            "Given the context information and not prior knowledge, answer the query.\n",
            "Query: {query_str}\n",
            "Answer: \n",
            "\n",
            "~~~~~~~~~~~~~~~~~~\n",
            "\n",
            "response_synthesizer:refine_template\n",
            "The original query is as follows: {query_str}\n",
            "We have provided an existing answer: {existing_answer}\n",
            "We have the opportunity to refine the existing answer (only if needed) with some more context below.\n",
            "------------\n",
            "{context_msg}\n",
            "------------\n",
            "Given the new context, refine the original answer to better answer the query. If the context isn't useful, return the original answer.\n",
            "Refined Answer: \n",
            "\n",
            "~~~~~~~~~~~~~~~~~~\n",
            "\n"
          ]
        }
      ],
      "source": [
        "for k, v in simple_rag.get_prompts().items():\n",
        "  print(k)\n",
        "  print(v.get_template())\n",
        "  print(\"\\n~~~~~~~~~~~~~~~~~~\\n\")"
      ]
    },
    {
      "cell_type": "code",
      "execution_count": 38,
      "metadata": {},
      "outputs": [
        {
          "data": {
            "text/plain": [
              "{'response_synthesizer:text_qa_template': SelectorPromptTemplate(metadata={'prompt_type': <PromptType.QUESTION_ANSWER: 'text_qa'>}, template_vars=['context_str', 'query_str'], kwargs={}, output_parser=None, template_var_mappings={}, function_mappings={}, default_template=PromptTemplate(metadata={'prompt_type': <PromptType.QUESTION_ANSWER: 'text_qa'>}, template_vars=['context_str', 'query_str'], kwargs={}, output_parser=None, template_var_mappings=None, function_mappings=None, template='Context information is below.\\n---------------------\\n{context_str}\\n---------------------\\nGiven the context information and not prior knowledge, answer the query.\\nQuery: {query_str}\\nAnswer: '), conditionals=[(<function is_chat_model at 0x29af45260>, ChatPromptTemplate(metadata={'prompt_type': <PromptType.CUSTOM: 'custom'>}, template_vars=['context_str', 'query_str'], kwargs={}, output_parser=None, template_var_mappings=None, function_mappings=None, message_templates=[ChatMessage(role=<MessageRole.SYSTEM: 'system'>, content=\"You are an expert Q&A system that is trusted around the world.\\nAlways answer the query using the provided context information, and not prior knowledge.\\nSome rules to follow:\\n1. Never directly reference the given context in your answer.\\n2. Avoid statements like 'Based on the context, ...' or 'The context information ...' or anything along those lines.\", additional_kwargs={}), ChatMessage(role=<MessageRole.USER: 'user'>, content='Context information is below.\\n---------------------\\n{context_str}\\n---------------------\\nGiven the context information and not prior knowledge, answer the query.\\nQuery: {query_str}\\nAnswer: ', additional_kwargs={})]))]),\n",
              " 'response_synthesizer:refine_template': SelectorPromptTemplate(metadata={'prompt_type': <PromptType.REFINE: 'refine'>}, template_vars=['query_str', 'existing_answer', 'context_msg'], kwargs={}, output_parser=None, template_var_mappings={}, function_mappings={}, default_template=PromptTemplate(metadata={'prompt_type': <PromptType.REFINE: 'refine'>}, template_vars=['query_str', 'existing_answer', 'context_msg'], kwargs={}, output_parser=None, template_var_mappings=None, function_mappings=None, template=\"The original query is as follows: {query_str}\\nWe have provided an existing answer: {existing_answer}\\nWe have the opportunity to refine the existing answer (only if needed) with some more context below.\\n------------\\n{context_msg}\\n------------\\nGiven the new context, refine the original answer to better answer the query. If the context isn't useful, return the original answer.\\nRefined Answer: \"), conditionals=[(<function is_chat_model at 0x29af45260>, ChatPromptTemplate(metadata={'prompt_type': <PromptType.CUSTOM: 'custom'>}, template_vars=['context_msg', 'query_str', 'existing_answer'], kwargs={}, output_parser=None, template_var_mappings=None, function_mappings=None, message_templates=[ChatMessage(role=<MessageRole.USER: 'user'>, content=\"You are an expert Q&A system that strictly operates in two modes when refining existing answers:\\n1. **Rewrite** an original answer using the new context.\\n2. **Repeat** the original answer if the new context isn't useful.\\nNever reference the original answer or context directly in your answer.\\nWhen in doubt, just repeat the original answer.\\nNew Context: {context_msg}\\nQuery: {query_str}\\nOriginal Answer: {existing_answer}\\nNew Answer: \", additional_kwargs={})]))])}"
            ]
          },
          "execution_count": 38,
          "metadata": {},
          "output_type": "execute_result"
        }
      ],
      "source": [
        "simple_rag.get_prompts()"
      ]
    },
    {
      "cell_type": "markdown",
      "metadata": {
        "id": "N1YoR45tnv8h"
      },
      "source": [
        "Let's see how it does!"
      ]
    },
    {
      "cell_type": "code",
      "execution_count": 30,
      "metadata": {
        "colab": {
          "base_uri": "https://localhost:8080/"
        },
        "id": "FgpQhKobfQ7y",
        "outputId": "494ef50d-b7a8-4800-8735-ac4adddf0926"
      },
      "outputs": [
        {
          "name": "stdout",
          "output_type": "stream",
          "text": [
            "INFO:httpx:HTTP Request: POST https://api.openai.com/v1/embeddings \"HTTP/1.1 200 OK\"\n",
            "HTTP Request: POST https://api.openai.com/v1/embeddings \"HTTP/1.1 200 OK\"\n",
            "INFO:httpx:HTTP Request: POST https://api.openai.com/v1/chat/completions \"HTTP/1.1 200 OK\"\n",
            "HTTP Request: POST https://api.openai.com/v1/chat/completions \"HTTP/1.1 200 OK\"\n"
          ]
        },
        {
          "name": "stderr",
          "output_type": "stream",
          "text": [
            "\u001b[34m\u001b[1mwandb\u001b[0m: Logged trace tree to W&B.\n"
          ]
        }
      ],
      "source": [
        "response = simple_rag.query(\"Who is the evil Wizard in the story?\")"
      ]
    },
    {
      "cell_type": "code",
      "execution_count": 31,
      "metadata": {
        "colab": {
          "base_uri": "https://localhost:8080/",
          "height": 35
        },
        "id": "654d4vdfhnVq",
        "outputId": "ec3608c4-134a-4ac6-a654-9e65fa71ceb0"
      },
      "outputs": [
        {
          "data": {
            "text/plain": [
              "'The evil wizard in the story is Saruman.'"
            ]
          },
          "execution_count": 31,
          "metadata": {},
          "output_type": "execute_result"
        }
      ],
      "source": [
        "response.response"
      ]
    },
    {
      "cell_type": "markdown",
      "metadata": {
        "id": "D8rRiijvpVoQ"
      },
      "source": [
        "That makes sense!\n",
        "\n",
        "Let's ask a question that's slightly more...ambiguous."
      ]
    },
    {
      "cell_type": "code",
      "execution_count": 32,
      "metadata": {
        "colab": {
          "base_uri": "https://localhost:8080/"
        },
        "id": "_m0H1tbLiqME",
        "outputId": "533148c8-05cf-44ef-ec52-28fe7539f5ca"
      },
      "outputs": [
        {
          "name": "stdout",
          "output_type": "stream",
          "text": [
            "INFO:httpx:HTTP Request: POST https://api.openai.com/v1/embeddings \"HTTP/1.1 200 OK\"\n",
            "HTTP Request: POST https://api.openai.com/v1/embeddings \"HTTP/1.1 200 OK\"\n",
            "INFO:httpx:HTTP Request: POST https://api.openai.com/v1/chat/completions \"HTTP/1.1 200 OK\"\n",
            "HTTP Request: POST https://api.openai.com/v1/chat/completions \"HTTP/1.1 200 OK\"\n"
          ]
        },
        {
          "name": "stderr",
          "output_type": "stream",
          "text": [
            "\u001b[34m\u001b[1mwandb\u001b[0m: Logged trace tree to W&B.\n"
          ]
        }
      ],
      "source": [
        "response = simple_rag.query(\"Who are the giant beings that roam across the world?\")"
      ]
    },
    {
      "cell_type": "code",
      "execution_count": 33,
      "metadata": {
        "colab": {
          "base_uri": "https://localhost:8080/",
          "height": 35
        },
        "id": "TEh4yjQzizeV",
        "outputId": "241b4b09-58c3-4d18-ca26-9813b38717e5"
      },
      "outputs": [
        {
          "data": {
            "text/plain": [
              "'The giant beings that roam across the world are sandworms.'"
            ]
          },
          "execution_count": 33,
          "metadata": {},
          "output_type": "execute_result"
        }
      ],
      "source": [
        "response.response"
      ]
    },
    {
      "cell_type": "markdown",
      "metadata": {
        "id": "xOb6eh8_pnaX"
      },
      "source": [
        "We can check the source nodes to see which movies we retrieved."
      ]
    },
    {
      "cell_type": "code",
      "execution_count": 37,
      "metadata": {},
      "outputs": [
        {
          "data": {
            "text/plain": [
              "{'title': 'Dune (2021 film)'}"
            ]
          },
          "execution_count": 37,
          "metadata": {},
          "output_type": "execute_result"
        }
      ],
      "source": [
        "response.source_nodes[0].metadata"
      ]
    },
    {
      "cell_type": "code",
      "execution_count": 34,
      "metadata": {
        "colab": {
          "base_uri": "https://localhost:8080/"
        },
        "id": "y_qyApFDpPny",
        "outputId": "48041169-1504-4add-cdff-cdea4ffda118"
      },
      "outputs": [
        {
          "name": "stdout",
          "output_type": "stream",
          "text": [
            "['Dune (2021 film)']\n"
          ]
        }
      ],
      "source": [
        "print([x.metadata[\"title\"] for x in response.source_nodes])"
      ]
    },
    {
      "cell_type": "markdown",
      "metadata": {
        "id": "xBEXFmPapZpg"
      },
      "source": [
        "Okay, so in this case - we've gone with \"Sandworms \" from Dune.\n",
        "\n",
        "But there's also the Ents from Lord of the Rings, and it looks like we got documents from Lord of the Rings as well.\n",
        "\n",
        "Let's see if there's a way we can use the title metadata we added to filter the results we get!"
      ]
    },
    {
      "cell_type": "markdown",
      "metadata": {
        "id": "YUa5sHMsSV__"
      },
      "source": [
        "## Auto Retriever Functional Tool\n",
        "\n",
        "This tool will leverage OpenAI's functional endpoint to select the correct metadata filter and query the filtered index - only looking at nodes with the desired metadata.\n",
        "\n",
        "A simplified diagram: ![image](https://i.imgur.com/AICDPav.png)"
      ]
    },
    {
      "cell_type": "markdown",
      "metadata": {
        "id": "Z2HQHY3pSV__"
      },
      "source": [
        "First, we need to create our `VectoreStoreInfo` object which will hold all the relevant metadata we need for each component (in this case title metadata).\n",
        "\n",
        "Notice that you need to include it in a text list."
      ]
    },
    {
      "cell_type": "code",
      "execution_count": 40,
      "metadata": {
        "id": "KoAYxbdsSV__"
      },
      "outputs": [],
      "source": [
        "from llama_index.core.tools import FunctionTool\n",
        "from llama_index.core.vector_stores.types import (\n",
        "    VectorStoreInfo,\n",
        "    MetadataInfo,\n",
        "    ExactMatchFilter,\n",
        "    MetadataFilters,\n",
        ")\n",
        "from llama_index.core.retrievers import VectorIndexRetriever\n",
        "from llama_index.core.query_engine import RetrieverQueryEngine\n",
        "\n",
        "from typing import List, Tuple, Any\n",
        "from pydantic import BaseModel, Field\n",
        "\n",
        "top_k = 3\n",
        "\n",
        "vector_store_info = VectorStoreInfo(\n",
        "    content_info=\"semantic information about movies\",\n",
        "    metadata_info=[MetadataInfo(\n",
        "        name=\"title\",\n",
        "        type=\"str\",\n",
        "        description='title of the movie, one of [\"Dune (2021 film)\", \"Dune: Part Two\", \"The Lord of the Rings: The Fellowship of the Ring\", \"The Lord of the Rings: The Two Towers\"]'\n",
        "        )]\n",
        ")\n"
      ]
    },
    {
      "cell_type": "code",
      "execution_count": 42,
      "metadata": {},
      "outputs": [
        {
          "data": {
            "text/plain": [
              "VectorStoreInfo(metadata_info=[MetadataInfo(name='title', type='str', description='title of the movie, one of [\"Dune (2021 film)\", \"Dune: Part Two\", \"The Lord of the Rings: The Fellowship of the Ring\", \"The Lord of the Rings: The Two Towers\"]')], content_info='semantic information about movies')"
            ]
          },
          "execution_count": 42,
          "metadata": {},
          "output_type": "execute_result"
        }
      ],
      "source": [
        "vector_store_info"
      ]
    },
    {
      "cell_type": "markdown",
      "metadata": {
        "id": "NEjK7jcsSV__"
      },
      "source": [
        "Now we'll create our base PyDantic object that we can use to ensure compatability with our application layer. This verifies that the response from the OpenAI endpoint conforms to this schema."
      ]
    },
    {
      "cell_type": "code",
      "execution_count": 43,
      "metadata": {
        "id": "yixkwF8zSV__"
      },
      "outputs": [],
      "source": [
        "class AutoRetrieveModel(BaseModel):\n",
        "    query: str = Field(..., description=\"natural language query string\")\n",
        "    filter_key_list: List[str] = Field(\n",
        "        ..., description=\"List of metadata filter field names\"\n",
        "    )\n",
        "    filter_value_list: List[str] = Field(\n",
        "        ...,\n",
        "        description=(\n",
        "            \"List of metadata filter field values (corresponding to names specified in filter_key_list)\"\n",
        "        )\n",
        "    )"
      ]
    },
    {
      "cell_type": "markdown",
      "metadata": {
        "id": "Ep6ORS3FSV__"
      },
      "source": [
        "Now we can build our function that we will use to query the functional endpoint."
      ]
    },
    {
      "cell_type": "code",
      "execution_count": 44,
      "metadata": {
        "id": "y8sPThxlSV__"
      },
      "outputs": [],
      "source": [
        "def auto_retrieve_fn(\n",
        "    query: str, filter_key_list: List[str], filter_value_list: List[str]\n",
        "):\n",
        "    \"\"\"Auto retrieval function.\n",
        "\n",
        "    Performs auto-retrieval from a vector database, and then applies a set of filters.\n",
        "\n",
        "    \"\"\"\n",
        "    query = query or \"Query\"\n",
        "\n",
        "    exact_match_filters = [\n",
        "        ExactMatchFilter(key=k, value=v)\n",
        "        for k, v in zip(filter_key_list, filter_value_list)\n",
        "    ]\n",
        "    retriever = VectorIndexRetriever(\n",
        "        index, filters=MetadataFilters(filters=exact_match_filters), top_k=top_k\n",
        "    )\n",
        "    query_engine = RetrieverQueryEngine.from_args(retriever)\n",
        "\n",
        "    response = query_engine.query(query)\n",
        "    return str(response)"
      ]
    },
    {
      "cell_type": "markdown",
      "metadata": {
        "id": "Yt4BV6oISV__"
      },
      "source": [
        "Now we need to wrap our system in a tool in order to integrate it into the larger application.\n",
        "\n",
        "Source Code Here:\n",
        "- [`FunctionTool`](https://github.com/jerryjliu/llama_index/blob/d24767b0812ac56104497d8f59095eccbe9f2b08/llama_index/tools/function_tool.py#L21)"
      ]
    },
    {
      "cell_type": "code",
      "execution_count": 45,
      "metadata": {
        "id": "U4lS1NqeSV__"
      },
      "outputs": [],
      "source": [
        "description = f\"\"\"\\\n",
        "Use this tool to look up non-review based information about films.\n",
        "The vector database schema is given below:\n",
        "{vector_store_info.json()}\n",
        "\"\"\"\n",
        "\n",
        "auto_retrieve_tool = FunctionTool.from_defaults(\n",
        "    fn=auto_retrieve_fn,\n",
        "    name=\"semantic-film-info\",\n",
        "    description=description,\n",
        "    fn_schema=AutoRetrieveModel\n",
        ")"
      ]
    },
    {
      "cell_type": "markdown",
      "metadata": {
        "id": "Ka_CDeOHbF-J"
      },
      "source": [
        "####❓ Question #3:\n",
        "\n",
        "Is the text in the description of our `FunctionTool` important or not? Please explain your answer."
      ]
    },
    {
      "cell_type": "markdown",
      "metadata": {},
      "source": [
        "**ANSWER**:\n",
        "- Yes, it is important it explain purpose of the tools also when to use this tool for answering the query, this helps llm to decide if it need to use this tool based on given query."
      ]
    },
    {
      "cell_type": "markdown",
      "metadata": {
        "id": "ZblimmXVSV__"
      },
      "source": [
        "All that's left to do is attach the tool to an OpenAIAgent and let it rip!\n",
        "\n",
        "Source Code Here:\n",
        "- [`OpenAIAgent`](https://github.com/jerryjliu/llama_index/blob/d24767b0812ac56104497d8f59095eccbe9f2b08/llama_index/agent/openai_agent.py#L361)"
      ]
    },
    {
      "cell_type": "code",
      "execution_count": 46,
      "metadata": {
        "id": "W2hafCTxSV__"
      },
      "outputs": [],
      "source": [
        "from llama_index.agent.openai import OpenAIAgent\n",
        "\n",
        "agent = OpenAIAgent.from_tools(\n",
        "    tools=[auto_retrieve_tool],\n",
        "    verbose=True,\n",
        ")"
      ]
    },
    {
      "cell_type": "code",
      "execution_count": 47,
      "metadata": {
        "colab": {
          "base_uri": "https://localhost:8080/"
        },
        "id": "DBJWDBK5SV__",
        "outputId": "278355ef-715c-4dcf-deb1-8eff22826a52"
      },
      "outputs": [
        {
          "name": "stdout",
          "output_type": "stream",
          "text": [
            "Added user message to memory: Who starred in the 2021 film?\n",
            "INFO:httpx:HTTP Request: POST https://api.openai.com/v1/chat/completions \"HTTP/1.1 200 OK\"\n",
            "HTTP Request: POST https://api.openai.com/v1/chat/completions \"HTTP/1.1 200 OK\"\n",
            "=== Calling Function ===\n",
            "Calling function: semantic-film-info with args: {\"query\":\"cast of Dune (2021 film)\",\"filter_key_list\":[\"title\"],\"filter_value_list\":[\"Dune (2021 film)\"]}\n",
            "INFO:httpx:HTTP Request: POST https://api.openai.com/v1/embeddings \"HTTP/1.1 200 OK\"\n",
            "HTTP Request: POST https://api.openai.com/v1/embeddings \"HTTP/1.1 200 OK\"\n",
            "INFO:httpx:HTTP Request: POST https://api.openai.com/v1/chat/completions \"HTTP/1.1 200 OK\"\n",
            "HTTP Request: POST https://api.openai.com/v1/chat/completions \"HTTP/1.1 200 OK\"\n",
            "Got output: The ensemble cast of the Dune (2021) film includes Timothée Chalamet, Rebecca Ferguson, Oscar Isaac, Josh Brolin, Stellan Skarsgård, Dave Bautista, Stephen McKinley Henderson, Zendaya, Chang Chen, Sharon Duncan-Brewster, Charlotte Rampling, Jason Momoa, and Javier Bardem.\n",
            "========================\n",
            "\n",
            "INFO:httpx:HTTP Request: POST https://api.openai.com/v1/chat/completions \"HTTP/1.1 200 OK\"\n",
            "HTTP Request: POST https://api.openai.com/v1/chat/completions \"HTTP/1.1 200 OK\"\n"
          ]
        },
        {
          "name": "stderr",
          "output_type": "stream",
          "text": [
            "\u001b[34m\u001b[1mwandb\u001b[0m: Logged trace tree to W&B.\n"
          ]
        },
        {
          "name": "stdout",
          "output_type": "stream",
          "text": [
            "The 2021 film \"Dune\" stars an ensemble cast including Timothée Chalamet, Rebecca Ferguson, Oscar Isaac, Josh Brolin, Stellan Skarsgård, Dave Bautista, Stephen McKinley Henderson, Zendaya, Chang Chen, Sharon Duncan-Brewster, Charlotte Rampling, Jason Momoa, and Javier Bardem.\n"
          ]
        }
      ],
      "source": [
        "response = agent.chat(\"Who starred in the 2021 film?\")\n",
        "print(str(response))"
      ]
    },
    {
      "cell_type": "code",
      "execution_count": 53,
      "metadata": {
        "colab": {
          "base_uri": "https://localhost:8080/"
        },
        "id": "UZzs2PyDuJGX",
        "outputId": "1b195ad9-c3ed-4901-aac8-3be932d42222"
      },
      "outputs": [
        {
          "name": "stdout",
          "output_type": "stream",
          "text": [
            "Added user message to memory: Who are those giant guys from Lord of the Rings that roam around the forest?\n",
            "INFO:httpx:HTTP Request: POST https://api.openai.com/v1/chat/completions \"HTTP/1.1 200 OK\"\n",
            "HTTP Request: POST https://api.openai.com/v1/chat/completions \"HTTP/1.1 200 OK\"\n",
            "=== Calling Function ===\n",
            "Calling function: semantic-film-info with args: {\"query\":\"characters from The Lord of the Rings: The Two Towers\",\"filter_key_list\":[\"title\"],\"filter_value_list\":[\"The Lord of the Rings: The Two Towers\"]}\n",
            "INFO:httpx:HTTP Request: POST https://api.openai.com/v1/embeddings \"HTTP/1.1 200 OK\"\n",
            "HTTP Request: POST https://api.openai.com/v1/embeddings \"HTTP/1.1 200 OK\"\n",
            "INFO:httpx:HTTP Request: POST https://api.openai.com/v1/chat/completions \"HTTP/1.1 200 OK\"\n",
            "HTTP Request: POST https://api.openai.com/v1/chat/completions \"HTTP/1.1 200 OK\"\n",
            "Got output: Frodo Baggins, Gandalf the White, Aragorn, Samwise Gamgee, Gollum, Peregrin Took, Meriadoc Brandybuck, Gimli, Treebeard, Legolas\n",
            "========================\n",
            "\n",
            "INFO:httpx:HTTP Request: POST https://api.openai.com/v1/chat/completions \"HTTP/1.1 200 OK\"\n",
            "HTTP Request: POST https://api.openai.com/v1/chat/completions \"HTTP/1.1 200 OK\"\n"
          ]
        },
        {
          "name": "stderr",
          "output_type": "stream",
          "text": [
            "\u001b[34m\u001b[1mwandb\u001b[0m: Logged trace tree to W&B.\n"
          ]
        },
        {
          "name": "stdout",
          "output_type": "stream",
          "text": [
            "The giant guys from \"The Lord of the Rings: The Two Towers\" who roam around the forest are the Ents, specifically Treebeard.\n"
          ]
        }
      ],
      "source": [
        "response = agent.chat(\"Who are those giant guys from Lord of the Rings that roam around the forest?\")\n",
        "print(str(response))"
      ]
    },
    {
      "cell_type": "code",
      "execution_count": 63,
      "metadata": {},
      "outputs": [
        {
          "data": {
            "text/plain": [
              "[ChatMessage(role=<MessageRole.USER: 'user'>, content='Who starred in the 2021 film?', additional_kwargs={}),\n",
              " ChatMessage(role=<MessageRole.ASSISTANT: 'assistant'>, content=None, additional_kwargs={'tool_calls': [ChatCompletionMessageToolCall(id='call_FWTutags47fyD20CJVhaOPrz', function=Function(arguments='{\"query\":\"cast of Dune (2021 film)\",\"filter_key_list\":[\"title\"],\"filter_value_list\":[\"Dune (2021 film)\"]}', name='semantic-film-info'), type='function')]}),\n",
              " ChatMessage(role=<MessageRole.TOOL: 'tool'>, content='The ensemble cast of the Dune (2021) film includes Timothée Chalamet, Rebecca Ferguson, Oscar Isaac, Josh Brolin, Stellan Skarsgård, Dave Bautista, Stephen McKinley Henderson, Zendaya, Chang Chen, Sharon Duncan-Brewster, Charlotte Rampling, Jason Momoa, and Javier Bardem.', additional_kwargs={'name': 'semantic-film-info', 'tool_call_id': 'call_FWTutags47fyD20CJVhaOPrz'}),\n",
              " ChatMessage(role=<MessageRole.ASSISTANT: 'assistant'>, content='The 2021 film \"Dune\" stars an ensemble cast including Timothée Chalamet, Rebecca Ferguson, Oscar Isaac, Josh Brolin, Stellan Skarsgård, Dave Bautista, Stephen McKinley Henderson, Zendaya, Chang Chen, Sharon Duncan-Brewster, Charlotte Rampling, Jason Momoa, and Javier Bardem.', additional_kwargs={}),\n",
              " ChatMessage(role=<MessageRole.USER: 'user'>, content='Who are those giant guys from Lord of the Rings that roam around the forest?', additional_kwargs={}),\n",
              " ChatMessage(role=<MessageRole.ASSISTANT: 'assistant'>, content=None, additional_kwargs={'tool_calls': [ChatCompletionMessageToolCall(id='call_0Xt1DzsUdDAYdZz9XV8TOyRY', function=Function(arguments='{\"query\":\"characters from The Lord of the Rings: The Two Towers\",\"filter_key_list\":[\"title\"],\"filter_value_list\":[\"The Lord of the Rings: The Two Towers\"]}', name='semantic-film-info'), type='function')]}),\n",
              " ChatMessage(role=<MessageRole.TOOL: 'tool'>, content='Frodo Baggins, Gandalf the White, Aragorn, Samwise Gamgee, Gollum, Peregrin Took, Meriadoc Brandybuck, Gimli, Treebeard, Legolas', additional_kwargs={'name': 'semantic-film-info', 'tool_call_id': 'call_0Xt1DzsUdDAYdZz9XV8TOyRY'}),\n",
              " ChatMessage(role=<MessageRole.ASSISTANT: 'assistant'>, content='The giant guys from \"The Lord of the Rings: The Two Towers\" who roam around the forest are the Ents, specifically Treebeard.', additional_kwargs={})]"
            ]
          },
          "execution_count": 63,
          "metadata": {},
          "output_type": "execute_result"
        }
      ],
      "source": [
        "agent.memory.chat_store.store['chat_history']"
      ]
    },
    {
      "cell_type": "markdown",
      "metadata": {
        "id": "v_GqxFCVbKch"
      },
      "source": [
        "# 🤝 Breakout Room #2"
      ]
    },
    {
      "cell_type": "markdown",
      "metadata": {
        "id": "yJcJL7VXSV__"
      },
      "source": [
        "## Quantitative RAG Pipeline with NL2SQL Tooling\n",
        "\n",
        "We'll walk through the steps of creating a natural language to SQL system in the following section.\n",
        "\n",
        "> NOTICE: This does not have parsing on the inputs or intermediary calls to ensure that users are using safe SQL queries. Use this with caution in a production environment without adding specific guardrails from either side of the application."
      ]
    },
    {
      "cell_type": "markdown",
      "metadata": {
        "id": "SsVcM0-4SV__"
      },
      "source": [
        "The next few steps should be largely straightforward, we'll want to:\n",
        "\n",
        "1. Read in our `.csv` files into `pd.DataFrame` objects\n",
        "2. Create an in-memory `sqlite` powered `sqlalchemy` engine\n",
        "3. Cast our `pd.DataFrame` objects to the SQL engine\n",
        "4. Create an `SQLDatabase` object through LlamaIndex\n",
        "5. Use that to create a `QueryEngineTool` that we can interact with through the `NLSQLTableQueryEngine`!\n",
        "\n",
        "If you get stuck, please consult the documentation."
      ]
    },
    {
      "cell_type": "code",
      "execution_count": 64,
      "metadata": {
        "colab": {
          "base_uri": "https://localhost:8080/"
        },
        "id": "WwWOygTqlNBh",
        "outputId": "ac7633a8-3e17-42e5-8c60-0f29b1927ceb"
      },
      "outputs": [
        {
          "name": "stdout",
          "output_type": "stream",
          "text": [
            "--2024-04-26 12:56:44--  https://raw.githubusercontent.com/AI-Maker-Space/DataRepository/main/dune1.csv\n",
            "Resolving raw.githubusercontent.com (raw.githubusercontent.com)... 2606:50c0:8000::154, 2606:50c0:8001::154, 2606:50c0:8003::154, ...\n",
            "Connecting to raw.githubusercontent.com (raw.githubusercontent.com)|2606:50c0:8000::154|:443... connected.\n",
            "HTTP request sent, awaiting response... 200 OK\n",
            "Length: 133391 (130K) [text/plain]\n",
            "Saving to: ‘dune1.csv’\n",
            "\n",
            "dune1.csv           100%[===================>] 130.26K  --.-KB/s    in 0.05s   \n",
            "\n",
            "2024-04-26 12:56:45 (2.57 MB/s) - ‘dune1.csv’ saved [133391/133391]\n",
            "\n"
          ]
        }
      ],
      "source": [
        "!wget https://raw.githubusercontent.com/AI-Maker-Space/DataRepository/main/dune1.csv"
      ]
    },
    {
      "cell_type": "code",
      "execution_count": 65,
      "metadata": {
        "colab": {
          "base_uri": "https://localhost:8080/"
        },
        "id": "TD_9LPL9lTlG",
        "outputId": "664f4689-8f10-4624-e01d-fb15cf381a6a"
      },
      "outputs": [
        {
          "name": "stdout",
          "output_type": "stream",
          "text": [
            "--2024-04-26 12:56:45--  https://raw.githubusercontent.com/AI-Maker-Space/DataRepository/main/dune2.csv\n",
            "Resolving raw.githubusercontent.com (raw.githubusercontent.com)... 2606:50c0:8001::154, 2606:50c0:8003::154, 2606:50c0:8000::154, ...\n",
            "Connecting to raw.githubusercontent.com (raw.githubusercontent.com)|2606:50c0:8001::154|:443... connected.\n",
            "HTTP request sent, awaiting response... 200 OK\n",
            "Length: 111843 (109K) [text/plain]\n",
            "Saving to: ‘dune2.csv’\n",
            "\n",
            "dune2.csv           100%[===================>] 109.22K  --.-KB/s    in 0.04s   \n",
            "\n",
            "2024-04-26 12:56:46 (2.39 MB/s) - ‘dune2.csv’ saved [111843/111843]\n",
            "\n"
          ]
        }
      ],
      "source": [
        "!wget https://raw.githubusercontent.com/AI-Maker-Space/DataRepository/main/dune2.csv"
      ]
    },
    {
      "cell_type": "code",
      "execution_count": 66,
      "metadata": {
        "colab": {
          "base_uri": "https://localhost:8080/"
        },
        "id": "QWFWvEdY1inS",
        "outputId": "f827c8d9-82e4-425b-9b04-eca7f8225da6"
      },
      "outputs": [
        {
          "name": "stdout",
          "output_type": "stream",
          "text": [
            "--2024-04-26 12:56:46--  https://raw.githubusercontent.com/AI-Maker-Space/DataRepository/main/lotr_fotr.csv\n",
            "Resolving raw.githubusercontent.com (raw.githubusercontent.com)... 2606:50c0:8003::154, 2606:50c0:8000::154, 2606:50c0:8001::154, ...\n",
            "Connecting to raw.githubusercontent.com (raw.githubusercontent.com)|2606:50c0:8003::154|:443... connected.\n",
            "HTTP request sent, awaiting response... 200 OK\n",
            "Length: 172855 (169K) [text/plain]\n",
            "Saving to: ‘lotr_fotr.csv’\n",
            "\n",
            "lotr_fotr.csv       100%[===================>] 168.80K  --.-KB/s    in 0.07s   \n",
            "\n",
            "2024-04-26 12:56:46 (2.43 MB/s) - ‘lotr_fotr.csv’ saved [172855/172855]\n",
            "\n"
          ]
        }
      ],
      "source": [
        "!wget https://raw.githubusercontent.com/AI-Maker-Space/DataRepository/main/lotr_fotr.csv"
      ]
    },
    {
      "cell_type": "code",
      "execution_count": 67,
      "metadata": {
        "colab": {
          "base_uri": "https://localhost:8080/"
        },
        "id": "Nto_jNmN1n-G",
        "outputId": "ee1b2970-2bcf-48f9-e0fd-1eae06f7d162"
      },
      "outputs": [
        {
          "name": "stdout",
          "output_type": "stream",
          "text": [
            "--2024-04-26 12:56:47--  https://raw.githubusercontent.com/AI-Maker-Space/DataRepository/main/lotr_tt.csv\n",
            "Resolving raw.githubusercontent.com (raw.githubusercontent.com)... 2606:50c0:8000::154, 2606:50c0:8001::154, 2606:50c0:8003::154, ...\n",
            "Connecting to raw.githubusercontent.com (raw.githubusercontent.com)|2606:50c0:8000::154|:443... connected.\n",
            "HTTP request sent, awaiting response... 200 OK\n",
            "Length: 114598 (112K) [text/plain]\n",
            "Saving to: ‘lotr_tt.csv’\n",
            "\n",
            "lotr_tt.csv         100%[===================>] 111.91K  --.-KB/s    in 0.05s   \n",
            "\n",
            "2024-04-26 12:56:47 (2.28 MB/s) - ‘lotr_tt.csv’ saved [114598/114598]\n",
            "\n"
          ]
        }
      ],
      "source": [
        "!wget https://raw.githubusercontent.com/AI-Maker-Space/DataRepository/main/lotr_tt.csv"
      ]
    },
    {
      "cell_type": "markdown",
      "metadata": {
        "id": "8PUg-ZuTSWAC"
      },
      "source": [
        "#### Read `.csv` Into Pandas"
      ]
    },
    {
      "cell_type": "code",
      "execution_count": 68,
      "metadata": {
        "id": "52Hd8PM4SWAC"
      },
      "outputs": [],
      "source": [
        "import pandas as pd\n",
        "\n",
        "dune1 = pd.read_csv(\"./dune1.csv\")\n",
        "dune2 = pd.read_csv(\"./dune2.csv\")\n",
        "lotr_fotr = pd.read_csv(\"./lotr_fotr.csv\")\n",
        "lotr_tt = pd.read_csv(\"./lotr_tt.csv\")"
      ]
    },
    {
      "cell_type": "markdown",
      "metadata": {
        "id": "fPTNyqmpSWAC"
      },
      "source": [
        "#### Create SQLAlchemy engine with SQLite"
      ]
    },
    {
      "cell_type": "code",
      "execution_count": 69,
      "metadata": {
        "id": "4lfuPKYBSWAC"
      },
      "outputs": [],
      "source": [
        "from sqlalchemy import create_engine\n",
        "\n",
        "engine = create_engine(\"sqlite+pysqlite:///:memory:\")"
      ]
    },
    {
      "cell_type": "markdown",
      "metadata": {
        "id": "iJiYiSuHSWAC"
      },
      "source": [
        "#### Convert `pd.DataFrame` to SQL tables"
      ]
    },
    {
      "cell_type": "code",
      "execution_count": 70,
      "metadata": {
        "colab": {
          "base_uri": "https://localhost:8080/"
        },
        "id": "W-96asUHSWAC",
        "outputId": "d0ac06f5-b828-4347-e6dc-46f6c9811f85"
      },
      "outputs": [
        {
          "data": {
            "text/plain": [
              "274"
            ]
          },
          "execution_count": 70,
          "metadata": {},
          "output_type": "execute_result"
        }
      ],
      "source": [
        "dune1.to_sql(\n",
        "  \"Dune (2021 film)\",\n",
        "  engine\n",
        ")"
      ]
    },
    {
      "cell_type": "code",
      "execution_count": 71,
      "metadata": {
        "colab": {
          "base_uri": "https://localhost:8080/"
        },
        "id": "ZwOi1RE1SWAC",
        "outputId": "c1517e82-1522-4d9e-cd16-bf988b4664c9"
      },
      "outputs": [
        {
          "data": {
            "text/plain": [
              "175"
            ]
          },
          "execution_count": 71,
          "metadata": {},
          "output_type": "execute_result"
        }
      ],
      "source": [
        "dune2.to_sql(\n",
        "  \"Dune: Part Two\",\n",
        "  engine\n",
        ")"
      ]
    },
    {
      "cell_type": "code",
      "execution_count": 72,
      "metadata": {
        "colab": {
          "base_uri": "https://localhost:8080/"
        },
        "id": "3R6FTIki4Q51",
        "outputId": "7d69a127-d1a3-49ae-e8b5-61a876b64d94"
      },
      "outputs": [
        {
          "data": {
            "text/plain": [
              "250"
            ]
          },
          "execution_count": 72,
          "metadata": {},
          "output_type": "execute_result"
        }
      ],
      "source": [
        "lotr_fotr.to_sql(\n",
        "  \"The Lord of the Rings: The Fellowship of the Ring\",\n",
        "  engine\n",
        ")"
      ]
    },
    {
      "cell_type": "code",
      "execution_count": 73,
      "metadata": {
        "colab": {
          "base_uri": "https://localhost:8080/"
        },
        "id": "5CiP8dwV4SFZ",
        "outputId": "1f25f185-ed2c-4e44-be04-583333c20863"
      },
      "outputs": [
        {
          "data": {
            "text/plain": [
              "149"
            ]
          },
          "execution_count": 73,
          "metadata": {},
          "output_type": "execute_result"
        }
      ],
      "source": [
        "lotr_tt.to_sql(\n",
        "  \"The Lord of the Rings: The Two Towers\",\n",
        "  engine\n",
        ")"
      ]
    },
    {
      "cell_type": "markdown",
      "metadata": {
        "id": "pibA9qT7SWAC"
      },
      "source": [
        "#### Construct a `SQLDatabase` index\n",
        "\n",
        "Source Code Here:\n",
        "- [`SQLDatabase`](https://github.com/jerryjliu/llama_index/blob/d24767b0812ac56104497d8f59095eccbe9f2b08/llama_index/langchain_helpers/sql_wrapper.py#L9)"
      ]
    },
    {
      "cell_type": "code",
      "execution_count": 74,
      "metadata": {
        "id": "yeDYpR1LSWAD"
      },
      "outputs": [],
      "source": [
        "from llama_index.core import SQLDatabase\n",
        "\n",
        "sql_database = SQLDatabase(\n",
        "    engine=engine,\n",
        "    include_tables=movie_list\n",
        ")"
      ]
    },
    {
      "cell_type": "markdown",
      "metadata": {
        "id": "-7VfZBenSWAD"
      },
      "source": [
        "#### Create the NLSQLTableQueryEngine interface for all added SQL tables\n",
        "\n",
        "Source Code Here:\n",
        "- [`NLSQLTableQueryEngine`](https://github.com/jerryjliu/llama_index/blob/d24767b0812ac56104497d8f59095eccbe9f2b08/llama_index/indices/struct_store/sql_query.py#L75C1-L75C1)"
      ]
    },
    {
      "cell_type": "code",
      "execution_count": 75,
      "metadata": {
        "id": "zQWSdMtrSWAD"
      },
      "outputs": [],
      "source": [
        "from llama_index.core.indices.struct_store.sql_query import NLSQLTableQueryEngine\n",
        "\n",
        "sql_query_engine = NLSQLTableQueryEngine(\n",
        "    sql_database=sql_database,\n",
        "    tables=movie_list,\n",
        ")"
      ]
    },
    {
      "cell_type": "markdown",
      "metadata": {
        "id": "yu8WfwuTSWAD"
      },
      "source": [
        "#### Wrap It All Up in a `QueryEngineTool`\n",
        "\n",
        "You'll want to ensure you have a descriptive...description!\n",
        "\n",
        "This is what will help the LLM decide which table to use when querying!\n",
        "\n",
        "Sorce Code Here:\n",
        "\n",
        "- [`QueryEngineTool`](https://github.com/jerryjliu/llama_index/blob/d24767b0812ac56104497d8f59095eccbe9f2b08/llama_index/tools/query_engine.py#L13)"
      ]
    },
    {
      "cell_type": "markdown",
      "metadata": {
        "id": "9sjbHnA1bQBG"
      },
      "source": [
        "####🏗️ Activity #1:\n",
        "\n",
        "Please write a Natural Language Description for the tables that we are using today.\n",
        "\n",
        "Here is an example:\n",
        "\n",
        "```\n",
        "This tool should be used to answer any and all review related inquiries by translating a natural language query into a SQL query with access to tables:\n",
        "'Dune (2021 film)' - containing info. about the first movie in the Dune series,\n",
        "'Dune: Part Two'- containing info. about about the second movie in the Dune series,\n",
        "'The Lord of the Rings: The Fellowship of the Ring' - containing info. about the first movie in the Lord of the Ring series,\n",
        "'The Lord of the Rings: The Two Towers' - containing info. the second movie in the Lord of the Ring series,\n",
        "```"
      ]
    },
    {
      "cell_type": "code",
      "execution_count": 77,
      "metadata": {
        "id": "4n567cXVVCtX"
      },
      "outputs": [],
      "source": [
        "DESCRIPTION = \"\"\"\n",
        "This tool should be used to answer any and all review related inquiries by translating a natural language query into a SQL query with access to tables:\n",
        "'Dune (2021 film)' - containing info. about the first movie in the Dune series,\n",
        "'Dune: Part Two'- containing info. about about the second movie in the Dune series,\n",
        "'The Lord of the Rings: The Fellowship of the Ring' - containing info. about the first movie in the Lord of the Ring series,\n",
        "'The Lord of the Rings: The Two Towers' - containing info. the second movie in the Lord of the Ring series,\n",
        "NOTE: only use this tool when required and to get quantitative information.\n",
        "\"\"\""
      ]
    },
    {
      "cell_type": "code",
      "execution_count": 78,
      "metadata": {
        "id": "y-mmcBbLSWAD"
      },
      "outputs": [],
      "source": [
        "from llama_index.core.tools.query_engine import QueryEngineTool\n",
        "\n",
        "sql_tool = QueryEngineTool.from_defaults(\n",
        "    query_engine=sql_query_engine,\n",
        "    name=\"sql-query\",\n",
        "    description=DESCRIPTION,\n",
        ")"
      ]
    },
    {
      "cell_type": "code",
      "execution_count": 79,
      "metadata": {
        "id": "feOrlq4XSWAD"
      },
      "outputs": [],
      "source": [
        "agent = OpenAIAgent.from_tools(\n",
        "    tools=[sql_tool],\n",
        "    verbose=True\n",
        ")"
      ]
    },
    {
      "cell_type": "code",
      "execution_count": 80,
      "metadata": {
        "colab": {
          "base_uri": "https://localhost:8080/"
        },
        "id": "iT4G6stBSWAD",
        "outputId": "71ce1dad-d853-40a3-b223-4c84268f1042"
      },
      "outputs": [
        {
          "name": "stdout",
          "output_type": "stream",
          "text": [
            "Added user message to memory: What is the average rating of the 2nd Lord of the Rings movie?\n",
            "INFO:httpx:HTTP Request: POST https://api.openai.com/v1/chat/completions \"HTTP/1.1 200 OK\"\n",
            "HTTP Request: POST https://api.openai.com/v1/chat/completions \"HTTP/1.1 200 OK\"\n",
            "=== Calling Function ===\n",
            "Calling function: sql-query with args: {\"input\":\"average rating of 'The Lord of the Rings: The Two Towers'\"}\n",
            "INFO:llama_index.core.indices.struct_store.sql_retriever:> Table desc str: Table 'Dune (2021 film)' has columns: index (BIGINT), Unnamed: 0 (BIGINT), Review_Date (TEXT), Author (TEXT), Rating (FLOAT), Review_Title (TEXT), Review (TEXT), Review_Url (TEXT), and foreign keys: .\n",
            "\n",
            "Table 'Dune: Part Two' has columns: index (BIGINT), Unnamed: 0 (BIGINT), Review_Date (TEXT), Author (TEXT), Rating (FLOAT), Review_Title (TEXT), Review (TEXT), Review_Url (TEXT), and foreign keys: .\n",
            "\n",
            "Table 'The Lord of the Rings: The Fellowship of the Ring' has columns: index (BIGINT), Unnamed: 0 (BIGINT), Review_Date (TEXT), Author (TEXT), Rating (FLOAT), Review_Title (TEXT), Review (TEXT), Review_Url (TEXT), and foreign keys: .\n",
            "\n",
            "Table 'The Lord of the Rings: The Two Towers' has columns: index (BIGINT), Unnamed: 0 (BIGINT), Review_Date (TEXT), Author (TEXT), Rating (FLOAT), Review_Title (TEXT), Review (TEXT), Review_Url (TEXT), and foreign keys: .\n",
            "> Table desc str: Table 'Dune (2021 film)' has columns: index (BIGINT), Unnamed: 0 (BIGINT), Review_Date (TEXT), Author (TEXT), Rating (FLOAT), Review_Title (TEXT), Review (TEXT), Review_Url (TEXT), and foreign keys: .\n",
            "\n",
            "Table 'Dune: Part Two' has columns: index (BIGINT), Unnamed: 0 (BIGINT), Review_Date (TEXT), Author (TEXT), Rating (FLOAT), Review_Title (TEXT), Review (TEXT), Review_Url (TEXT), and foreign keys: .\n",
            "\n",
            "Table 'The Lord of the Rings: The Fellowship of the Ring' has columns: index (BIGINT), Unnamed: 0 (BIGINT), Review_Date (TEXT), Author (TEXT), Rating (FLOAT), Review_Title (TEXT), Review (TEXT), Review_Url (TEXT), and foreign keys: .\n",
            "\n",
            "Table 'The Lord of the Rings: The Two Towers' has columns: index (BIGINT), Unnamed: 0 (BIGINT), Review_Date (TEXT), Author (TEXT), Rating (FLOAT), Review_Title (TEXT), Review (TEXT), Review_Url (TEXT), and foreign keys: .\n",
            "INFO:httpx:HTTP Request: POST https://api.openai.com/v1/chat/completions \"HTTP/1.1 200 OK\"\n",
            "HTTP Request: POST https://api.openai.com/v1/chat/completions \"HTTP/1.1 200 OK\"\n",
            "INFO:httpx:HTTP Request: POST https://api.openai.com/v1/chat/completions \"HTTP/1.1 200 OK\"\n",
            "HTTP Request: POST https://api.openai.com/v1/chat/completions \"HTTP/1.1 200 OK\"\n",
            "Got output: The average rating of \"The Lord of the Rings: The Two Towers\" is 9.18 out of 10.\n",
            "========================\n",
            "\n",
            "INFO:httpx:HTTP Request: POST https://api.openai.com/v1/chat/completions \"HTTP/1.1 200 OK\"\n",
            "HTTP Request: POST https://api.openai.com/v1/chat/completions \"HTTP/1.1 200 OK\"\n"
          ]
        },
        {
          "name": "stderr",
          "output_type": "stream",
          "text": [
            "\u001b[34m\u001b[1mwandb\u001b[0m: Logged trace tree to W&B.\n"
          ]
        }
      ],
      "source": [
        "response = agent.chat(\"What is the average rating of the 2nd Lord of the Rings movie?\")"
      ]
    },
    {
      "cell_type": "code",
      "execution_count": 81,
      "metadata": {
        "colab": {
          "base_uri": "https://localhost:8080/"
        },
        "id": "NhsoxOpkSWAD",
        "outputId": "5309b4dc-6259-42f9-d1de-9ba6cc11325b"
      },
      "outputs": [
        {
          "name": "stdout",
          "output_type": "stream",
          "text": [
            "The average rating of the 2nd Lord of the Rings movie, \"The Lord of the Rings: The Two Towers,\" is 9.18 out of 10.\n"
          ]
        }
      ],
      "source": [
        "print(str(response))"
      ]
    },
    {
      "cell_type": "code",
      "execution_count": 82,
      "metadata": {
        "colab": {
          "base_uri": "https://localhost:8080/"
        },
        "id": "7FiAS6sF7DoJ",
        "outputId": "58798450-508a-43fb-b869-d6ded1d16427"
      },
      "outputs": [
        {
          "name": "stdout",
          "output_type": "stream",
          "text": [
            "Added user message to memory: What movie series has better reviews, Lord of the Rings or Dune?\n",
            "INFO:httpx:HTTP Request: POST https://api.openai.com/v1/chat/completions \"HTTP/1.1 200 OK\"\n",
            "HTTP Request: POST https://api.openai.com/v1/chat/completions \"HTTP/1.1 200 OK\"\n",
            "=== Calling Function ===\n",
            "Calling function: sql-query with args: {\"input\": \"average rating of 'The Lord of the Rings: The Fellowship of the Ring'\"}\n",
            "INFO:llama_index.core.indices.struct_store.sql_retriever:> Table desc str: Table 'Dune (2021 film)' has columns: index (BIGINT), Unnamed: 0 (BIGINT), Review_Date (TEXT), Author (TEXT), Rating (FLOAT), Review_Title (TEXT), Review (TEXT), Review_Url (TEXT), and foreign keys: .\n",
            "\n",
            "Table 'Dune: Part Two' has columns: index (BIGINT), Unnamed: 0 (BIGINT), Review_Date (TEXT), Author (TEXT), Rating (FLOAT), Review_Title (TEXT), Review (TEXT), Review_Url (TEXT), and foreign keys: .\n",
            "\n",
            "Table 'The Lord of the Rings: The Fellowship of the Ring' has columns: index (BIGINT), Unnamed: 0 (BIGINT), Review_Date (TEXT), Author (TEXT), Rating (FLOAT), Review_Title (TEXT), Review (TEXT), Review_Url (TEXT), and foreign keys: .\n",
            "\n",
            "Table 'The Lord of the Rings: The Two Towers' has columns: index (BIGINT), Unnamed: 0 (BIGINT), Review_Date (TEXT), Author (TEXT), Rating (FLOAT), Review_Title (TEXT), Review (TEXT), Review_Url (TEXT), and foreign keys: .\n",
            "> Table desc str: Table 'Dune (2021 film)' has columns: index (BIGINT), Unnamed: 0 (BIGINT), Review_Date (TEXT), Author (TEXT), Rating (FLOAT), Review_Title (TEXT), Review (TEXT), Review_Url (TEXT), and foreign keys: .\n",
            "\n",
            "Table 'Dune: Part Two' has columns: index (BIGINT), Unnamed: 0 (BIGINT), Review_Date (TEXT), Author (TEXT), Rating (FLOAT), Review_Title (TEXT), Review (TEXT), Review_Url (TEXT), and foreign keys: .\n",
            "\n",
            "Table 'The Lord of the Rings: The Fellowship of the Ring' has columns: index (BIGINT), Unnamed: 0 (BIGINT), Review_Date (TEXT), Author (TEXT), Rating (FLOAT), Review_Title (TEXT), Review (TEXT), Review_Url (TEXT), and foreign keys: .\n",
            "\n",
            "Table 'The Lord of the Rings: The Two Towers' has columns: index (BIGINT), Unnamed: 0 (BIGINT), Review_Date (TEXT), Author (TEXT), Rating (FLOAT), Review_Title (TEXT), Review (TEXT), Review_Url (TEXT), and foreign keys: .\n",
            "INFO:httpx:HTTP Request: POST https://api.openai.com/v1/chat/completions \"HTTP/1.1 200 OK\"\n",
            "HTTP Request: POST https://api.openai.com/v1/chat/completions \"HTTP/1.1 200 OK\"\n",
            "INFO:httpx:HTTP Request: POST https://api.openai.com/v1/chat/completions \"HTTP/1.1 200 OK\"\n",
            "HTTP Request: POST https://api.openai.com/v1/chat/completions \"HTTP/1.1 200 OK\"\n",
            "Got output: The average rating of 'The Lord of the Rings: The Fellowship of the Ring' is approximately 9.87 out of 10. This indicates that the movie is highly regarded by viewers.\n",
            "========================\n",
            "\n",
            "=== Calling Function ===\n",
            "Calling function: sql-query with args: {\"input\": \"average rating of 'Dune (2021 film)'\"}\n",
            "INFO:llama_index.core.indices.struct_store.sql_retriever:> Table desc str: Table 'Dune (2021 film)' has columns: index (BIGINT), Unnamed: 0 (BIGINT), Review_Date (TEXT), Author (TEXT), Rating (FLOAT), Review_Title (TEXT), Review (TEXT), Review_Url (TEXT), and foreign keys: .\n",
            "\n",
            "Table 'Dune: Part Two' has columns: index (BIGINT), Unnamed: 0 (BIGINT), Review_Date (TEXT), Author (TEXT), Rating (FLOAT), Review_Title (TEXT), Review (TEXT), Review_Url (TEXT), and foreign keys: .\n",
            "\n",
            "Table 'The Lord of the Rings: The Fellowship of the Ring' has columns: index (BIGINT), Unnamed: 0 (BIGINT), Review_Date (TEXT), Author (TEXT), Rating (FLOAT), Review_Title (TEXT), Review (TEXT), Review_Url (TEXT), and foreign keys: .\n",
            "\n",
            "Table 'The Lord of the Rings: The Two Towers' has columns: index (BIGINT), Unnamed: 0 (BIGINT), Review_Date (TEXT), Author (TEXT), Rating (FLOAT), Review_Title (TEXT), Review (TEXT), Review_Url (TEXT), and foreign keys: .\n",
            "> Table desc str: Table 'Dune (2021 film)' has columns: index (BIGINT), Unnamed: 0 (BIGINT), Review_Date (TEXT), Author (TEXT), Rating (FLOAT), Review_Title (TEXT), Review (TEXT), Review_Url (TEXT), and foreign keys: .\n",
            "\n",
            "Table 'Dune: Part Two' has columns: index (BIGINT), Unnamed: 0 (BIGINT), Review_Date (TEXT), Author (TEXT), Rating (FLOAT), Review_Title (TEXT), Review (TEXT), Review_Url (TEXT), and foreign keys: .\n",
            "\n",
            "Table 'The Lord of the Rings: The Fellowship of the Ring' has columns: index (BIGINT), Unnamed: 0 (BIGINT), Review_Date (TEXT), Author (TEXT), Rating (FLOAT), Review_Title (TEXT), Review (TEXT), Review_Url (TEXT), and foreign keys: .\n",
            "\n",
            "Table 'The Lord of the Rings: The Two Towers' has columns: index (BIGINT), Unnamed: 0 (BIGINT), Review_Date (TEXT), Author (TEXT), Rating (FLOAT), Review_Title (TEXT), Review (TEXT), Review_Url (TEXT), and foreign keys: .\n",
            "INFO:httpx:HTTP Request: POST https://api.openai.com/v1/chat/completions \"HTTP/1.1 200 OK\"\n",
            "HTTP Request: POST https://api.openai.com/v1/chat/completions \"HTTP/1.1 200 OK\"\n",
            "INFO:httpx:HTTP Request: POST https://api.openai.com/v1/chat/completions \"HTTP/1.1 200 OK\"\n",
            "HTTP Request: POST https://api.openai.com/v1/chat/completions \"HTTP/1.1 200 OK\"\n",
            "Got output: The average rating for 'Dune (2021 film)' is 8.34 out of 10.\n",
            "========================\n",
            "\n",
            "INFO:httpx:HTTP Request: POST https://api.openai.com/v1/chat/completions \"HTTP/1.1 200 OK\"\n",
            "HTTP Request: POST https://api.openai.com/v1/chat/completions \"HTTP/1.1 200 OK\"\n"
          ]
        },
        {
          "name": "stderr",
          "output_type": "stream",
          "text": [
            "\u001b[34m\u001b[1mwandb\u001b[0m: Logged trace tree to W&B.\n"
          ]
        }
      ],
      "source": [
        "response = agent.chat(\"What movie series has better reviews, Lord of the Rings or Dune?\")"
      ]
    },
    {
      "cell_type": "code",
      "execution_count": 83,
      "metadata": {
        "colab": {
          "base_uri": "https://localhost:8080/"
        },
        "id": "qxDA2Gjm7dDZ",
        "outputId": "277ef033-0fea-486c-be00-1f1d24bc5cbb"
      },
      "outputs": [
        {
          "name": "stdout",
          "output_type": "stream",
          "text": [
            "The average rating of \"The Lord of the Rings: The Fellowship of the Ring\" is approximately 9.87 out of 10, indicating high regard by viewers. On the other hand, the average rating for \"Dune (2021 film)\" is 8.34 out of 10. Therefore, the Lord of the Rings series has better reviews compared to the Dune series.\n"
          ]
        }
      ],
      "source": [
        "print(str(response))"
      ]
    },
    {
      "cell_type": "code",
      "execution_count": 84,
      "metadata": {},
      "outputs": [
        {
          "data": {
            "text/plain": [
              "[ChatMessage(role=<MessageRole.USER: 'user'>, content='What is the average rating of the 2nd Lord of the Rings movie?', additional_kwargs={}),\n",
              " ChatMessage(role=<MessageRole.ASSISTANT: 'assistant'>, content=None, additional_kwargs={'tool_calls': [ChatCompletionMessageToolCall(id='call_jfYe098DPWBUQoJsSguo1riL', function=Function(arguments='{\"input\":\"average rating of \\'The Lord of the Rings: The Two Towers\\'\"}', name='sql-query'), type='function')]}),\n",
              " ChatMessage(role=<MessageRole.TOOL: 'tool'>, content='The average rating of \"The Lord of the Rings: The Two Towers\" is 9.18 out of 10.', additional_kwargs={'name': 'sql-query', 'tool_call_id': 'call_jfYe098DPWBUQoJsSguo1riL'}),\n",
              " ChatMessage(role=<MessageRole.ASSISTANT: 'assistant'>, content='The average rating of the 2nd Lord of the Rings movie, \"The Lord of the Rings: The Two Towers,\" is 9.18 out of 10.', additional_kwargs={}),\n",
              " ChatMessage(role=<MessageRole.USER: 'user'>, content='What movie series has better reviews, Lord of the Rings or Dune?', additional_kwargs={}),\n",
              " ChatMessage(role=<MessageRole.ASSISTANT: 'assistant'>, content=None, additional_kwargs={'tool_calls': [ChatCompletionMessageToolCall(id='call_0QxoI0CT1bzc1GqMQDEbJ62y', function=Function(arguments='{\"input\": \"average rating of \\'The Lord of the Rings: The Fellowship of the Ring\\'\"}', name='sql-query'), type='function'), ChatCompletionMessageToolCall(id='call_bu7RkEuPdVvgJVRTAMZ0p6Cl', function=Function(arguments='{\"input\": \"average rating of \\'Dune (2021 film)\\'\"}', name='sql-query'), type='function')]}),\n",
              " ChatMessage(role=<MessageRole.TOOL: 'tool'>, content=\"The average rating of 'The Lord of the Rings: The Fellowship of the Ring' is approximately 9.87 out of 10. This indicates that the movie is highly regarded by viewers.\", additional_kwargs={'name': 'sql-query', 'tool_call_id': 'call_0QxoI0CT1bzc1GqMQDEbJ62y'}),\n",
              " ChatMessage(role=<MessageRole.TOOL: 'tool'>, content=\"The average rating for 'Dune (2021 film)' is 8.34 out of 10.\", additional_kwargs={'name': 'sql-query', 'tool_call_id': 'call_bu7RkEuPdVvgJVRTAMZ0p6Cl'}),\n",
              " ChatMessage(role=<MessageRole.ASSISTANT: 'assistant'>, content='The average rating of \"The Lord of the Rings: The Fellowship of the Ring\" is approximately 9.87 out of 10, indicating high regard by viewers. On the other hand, the average rating for \"Dune (2021 film)\" is 8.34 out of 10. Therefore, the Lord of the Rings series has better reviews compared to the Dune series.', additional_kwargs={})]"
            ]
          },
          "execution_count": 84,
          "metadata": {},
          "output_type": "execute_result"
        }
      ],
      "source": [
        "agent.memory.chat_store.store['chat_history']"
      ]
    },
    {
      "cell_type": "markdown",
      "metadata": {
        "id": "-2LOixbcSWAD"
      },
      "source": [
        "### Task 2: Combined RAG Pipeline\n",
        "\n",
        "Now, we can simply add our tools into the `OpenAIAgent`, and off we go!"
      ]
    },
    {
      "cell_type": "code",
      "execution_count": 208,
      "metadata": {
        "id": "uxFHM2l2SWAD"
      },
      "outputs": [],
      "source": [
        "combined_tool_agent = OpenAIAgent.from_tools(\n",
        "    tools=[auto_retrieve_tool, sql_tool],\n",
        "    verbose=True\n",
        ")"
      ]
    },
    {
      "cell_type": "code",
      "execution_count": 209,
      "metadata": {
        "colab": {
          "base_uri": "https://localhost:8080/"
        },
        "id": "mYVHuBf9SWAD",
        "outputId": "80bb8608-a4ea-43ca-d312-d941cb1c7ad8"
      },
      "outputs": [
        {
          "name": "stdout",
          "output_type": "stream",
          "text": [
            "Added user message to memory: Which movie is about a ring, and what is the average rating of the movie?\n",
            "INFO:httpx:HTTP Request: POST https://api.openai.com/v1/chat/completions \"HTTP/1.1 200 OK\"\n",
            "HTTP Request: POST https://api.openai.com/v1/chat/completions \"HTTP/1.1 200 OK\"\n",
            "=== Calling Function ===\n",
            "Calling function: semantic-film-info with args: {\"query\": \"movie about a ring\", \"filter_key_list\": [\"title\"], \"filter_value_list\": [\"The Lord of the Rings: The Fellowship of the Ring\"]}\n",
            "INFO:httpx:HTTP Request: POST https://api.openai.com/v1/embeddings \"HTTP/1.1 200 OK\"\n",
            "HTTP Request: POST https://api.openai.com/v1/embeddings \"HTTP/1.1 200 OK\"\n",
            "INFO:httpx:HTTP Request: POST https://api.openai.com/v1/chat/completions \"HTTP/1.1 200 OK\"\n",
            "HTTP Request: POST https://api.openai.com/v1/chat/completions \"HTTP/1.1 200 OK\"\n",
            "Got output: The Lord of the Rings: The Fellowship of the Ring\n",
            "========================\n",
            "\n",
            "=== Calling Function ===\n",
            "Calling function: sql-query with args: {\"input\": \"average rating of The Lord of the Rings: The Fellowship of the Ring\"}\n",
            "INFO:llama_index.core.indices.struct_store.sql_retriever:> Table desc str: Table 'Dune (2021 film)' has columns: index (BIGINT), Unnamed: 0 (BIGINT), Review_Date (TEXT), Author (TEXT), Rating (FLOAT), Review_Title (TEXT), Review (TEXT), Review_Url (TEXT), and foreign keys: .\n",
            "\n",
            "Table 'Dune: Part Two' has columns: index (BIGINT), Unnamed: 0 (BIGINT), Review_Date (TEXT), Author (TEXT), Rating (FLOAT), Review_Title (TEXT), Review (TEXT), Review_Url (TEXT), and foreign keys: .\n",
            "\n",
            "Table 'The Lord of the Rings: The Fellowship of the Ring' has columns: index (BIGINT), Unnamed: 0 (BIGINT), Review_Date (TEXT), Author (TEXT), Rating (FLOAT), Review_Title (TEXT), Review (TEXT), Review_Url (TEXT), and foreign keys: .\n",
            "\n",
            "Table 'The Lord of the Rings: The Two Towers' has columns: index (BIGINT), Unnamed: 0 (BIGINT), Review_Date (TEXT), Author (TEXT), Rating (FLOAT), Review_Title (TEXT), Review (TEXT), Review_Url (TEXT), and foreign keys: .\n",
            "> Table desc str: Table 'Dune (2021 film)' has columns: index (BIGINT), Unnamed: 0 (BIGINT), Review_Date (TEXT), Author (TEXT), Rating (FLOAT), Review_Title (TEXT), Review (TEXT), Review_Url (TEXT), and foreign keys: .\n",
            "\n",
            "Table 'Dune: Part Two' has columns: index (BIGINT), Unnamed: 0 (BIGINT), Review_Date (TEXT), Author (TEXT), Rating (FLOAT), Review_Title (TEXT), Review (TEXT), Review_Url (TEXT), and foreign keys: .\n",
            "\n",
            "Table 'The Lord of the Rings: The Fellowship of the Ring' has columns: index (BIGINT), Unnamed: 0 (BIGINT), Review_Date (TEXT), Author (TEXT), Rating (FLOAT), Review_Title (TEXT), Review (TEXT), Review_Url (TEXT), and foreign keys: .\n",
            "\n",
            "Table 'The Lord of the Rings: The Two Towers' has columns: index (BIGINT), Unnamed: 0 (BIGINT), Review_Date (TEXT), Author (TEXT), Rating (FLOAT), Review_Title (TEXT), Review (TEXT), Review_Url (TEXT), and foreign keys: .\n",
            "INFO:httpx:HTTP Request: POST https://api.openai.com/v1/chat/completions \"HTTP/1.1 200 OK\"\n",
            "HTTP Request: POST https://api.openai.com/v1/chat/completions \"HTTP/1.1 200 OK\"\n",
            "INFO:httpx:HTTP Request: POST https://api.openai.com/v1/chat/completions \"HTTP/1.1 200 OK\"\n",
            "HTTP Request: POST https://api.openai.com/v1/chat/completions \"HTTP/1.1 200 OK\"\n",
            "Got output: The average rating of The Lord of the Rings: The Fellowship of the Ring is approximately 9.87 out of 10.\n",
            "========================\n",
            "\n",
            "INFO:httpx:HTTP Request: POST https://api.openai.com/v1/chat/completions \"HTTP/1.1 200 OK\"\n",
            "HTTP Request: POST https://api.openai.com/v1/chat/completions \"HTTP/1.1 200 OK\"\n"
          ]
        },
        {
          "name": "stderr",
          "output_type": "stream",
          "text": [
            "\u001b[34m\u001b[1mwandb\u001b[0m: Logged trace tree to W&B.\n"
          ]
        }
      ],
      "source": [
        "response = combined_tool_agent.chat(\"Which movie is about a ring, and what is the average rating of the movie?\")"
      ]
    },
    {
      "cell_type": "code",
      "execution_count": 210,
      "metadata": {
        "colab": {
          "base_uri": "https://localhost:8080/"
        },
        "id": "k0w0VbomSWAD",
        "outputId": "da523a93-4cfd-4e28-ac5a-95f637d730dc"
      },
      "outputs": [
        {
          "name": "stdout",
          "output_type": "stream",
          "text": [
            "The movie about a ring is \"The Lord of the Rings: The Fellowship of the Ring.\" The average rating of the movie is approximately 9.87 out of 10.\n"
          ]
        }
      ],
      "source": [
        "print(str(response))"
      ]
    },
    {
      "cell_type": "code",
      "execution_count": 211,
      "metadata": {
        "colab": {
          "base_uri": "https://localhost:8080/"
        },
        "id": "BJvN-vtJSWAD",
        "outputId": "bb30f3ac-e495-48cc-c892-6f762d962c86"
      },
      "outputs": [
        {
          "name": "stdout",
          "output_type": "stream",
          "text": [
            "Added user message to memory: What worlds do the LoTR, and Dune movies take place in?\n",
            "INFO:httpx:HTTP Request: POST https://api.openai.com/v1/chat/completions \"HTTP/1.1 200 OK\"\n",
            "HTTP Request: POST https://api.openai.com/v1/chat/completions \"HTTP/1.1 200 OK\"\n",
            "=== Calling Function ===\n",
            "Calling function: semantic-film-info with args: {\"query\": \"worlds in LoTR movies\", \"filter_key_list\": [\"title\"], \"filter_value_list\": [\"The Lord of the Rings: The Fellowship of the Ring\", \"The Lord of the Rings: The Two Towers\"]}\n",
            "INFO:httpx:HTTP Request: POST https://api.openai.com/v1/embeddings \"HTTP/1.1 200 OK\"\n",
            "HTTP Request: POST https://api.openai.com/v1/embeddings \"HTTP/1.1 200 OK\"\n",
            "INFO:httpx:HTTP Request: POST https://api.openai.com/v1/chat/completions \"HTTP/1.1 200 OK\"\n",
            "HTTP Request: POST https://api.openai.com/v1/chat/completions \"HTTP/1.1 200 OK\"\n",
            "Got output: The worlds depicted in the Lord of the Rings movies include Lothlórien, Rivendell, Mordor, Moria, Bree, Arnor, Gondor, and the Barad-dûr.\n",
            "========================\n",
            "\n",
            "=== Calling Function ===\n",
            "Calling function: semantic-film-info with args: {\"query\": \"worlds in Dune movies\", \"filter_key_list\": [\"title\"], \"filter_value_list\": [\"Dune (2021 film)\", \"Dune: Part Two\"]}\n",
            "INFO:httpx:HTTP Request: POST https://api.openai.com/v1/embeddings \"HTTP/1.1 200 OK\"\n",
            "HTTP Request: POST https://api.openai.com/v1/embeddings \"HTTP/1.1 200 OK\"\n",
            "INFO:httpx:HTTP Request: POST https://api.openai.com/v1/chat/completions \"HTTP/1.1 200 OK\"\n",
            "HTTP Request: POST https://api.openai.com/v1/chat/completions \"HTTP/1.1 200 OK\"\n",
            "Got output: Arrakis\n",
            "========================\n",
            "\n",
            "INFO:httpx:HTTP Request: POST https://api.openai.com/v1/chat/completions \"HTTP/1.1 200 OK\"\n",
            "HTTP Request: POST https://api.openai.com/v1/chat/completions \"HTTP/1.1 200 OK\"\n"
          ]
        },
        {
          "name": "stderr",
          "output_type": "stream",
          "text": [
            "\u001b[34m\u001b[1mwandb\u001b[0m: Logged trace tree to W&B.\n"
          ]
        }
      ],
      "source": [
        "response = combined_tool_agent.chat(\"What worlds do the LoTR, and Dune movies take place in?\")"
      ]
    },
    {
      "cell_type": "code",
      "execution_count": 212,
      "metadata": {
        "colab": {
          "base_uri": "https://localhost:8080/"
        },
        "id": "F74wGv6NSWAD",
        "outputId": "05b9020b-9e8f-41a5-b1ee-602b6668691a"
      },
      "outputs": [
        {
          "name": "stdout",
          "output_type": "stream",
          "text": [
            "The worlds depicted in \"The Lord of the Rings\" movies include Lothlórien, Rivendell, Mordor, Moria, Bree, Arnor, Gondor, and the Barad-dûr. \n",
            "\n",
            "The Dune movies take place on the planet Arrakis.\n"
          ]
        }
      ],
      "source": [
        "print(str(response))"
      ]
    },
    {
      "cell_type": "code",
      "execution_count": 213,
      "metadata": {
        "colab": {
          "base_uri": "https://localhost:8080/"
        },
        "id": "Lvat4hmkvn3N",
        "outputId": "dd4f7f35-5f8e-4b9b-ac71-cdf73fdb6845"
      },
      "outputs": [
        {
          "name": "stdout",
          "output_type": "stream",
          "text": [
            "Added user message to memory: Which of the following movie series is considered the 'best': Dune, or Lord of the Rings? Base your answer on both reviews, and non-review information.\n",
            "INFO:httpx:HTTP Request: POST https://api.openai.com/v1/chat/completions \"HTTP/1.1 200 OK\"\n",
            "HTTP Request: POST https://api.openai.com/v1/chat/completions \"HTTP/1.1 200 OK\"\n",
            "=== Calling Function ===\n",
            "Calling function: sql-query with args: {\"input\": \"average rating of Dune (2021 film)\"}\n",
            "INFO:llama_index.core.indices.struct_store.sql_retriever:> Table desc str: Table 'Dune (2021 film)' has columns: index (BIGINT), Unnamed: 0 (BIGINT), Review_Date (TEXT), Author (TEXT), Rating (FLOAT), Review_Title (TEXT), Review (TEXT), Review_Url (TEXT), and foreign keys: .\n",
            "\n",
            "Table 'Dune: Part Two' has columns: index (BIGINT), Unnamed: 0 (BIGINT), Review_Date (TEXT), Author (TEXT), Rating (FLOAT), Review_Title (TEXT), Review (TEXT), Review_Url (TEXT), and foreign keys: .\n",
            "\n",
            "Table 'The Lord of the Rings: The Fellowship of the Ring' has columns: index (BIGINT), Unnamed: 0 (BIGINT), Review_Date (TEXT), Author (TEXT), Rating (FLOAT), Review_Title (TEXT), Review (TEXT), Review_Url (TEXT), and foreign keys: .\n",
            "\n",
            "Table 'The Lord of the Rings: The Two Towers' has columns: index (BIGINT), Unnamed: 0 (BIGINT), Review_Date (TEXT), Author (TEXT), Rating (FLOAT), Review_Title (TEXT), Review (TEXT), Review_Url (TEXT), and foreign keys: .\n",
            "> Table desc str: Table 'Dune (2021 film)' has columns: index (BIGINT), Unnamed: 0 (BIGINT), Review_Date (TEXT), Author (TEXT), Rating (FLOAT), Review_Title (TEXT), Review (TEXT), Review_Url (TEXT), and foreign keys: .\n",
            "\n",
            "Table 'Dune: Part Two' has columns: index (BIGINT), Unnamed: 0 (BIGINT), Review_Date (TEXT), Author (TEXT), Rating (FLOAT), Review_Title (TEXT), Review (TEXT), Review_Url (TEXT), and foreign keys: .\n",
            "\n",
            "Table 'The Lord of the Rings: The Fellowship of the Ring' has columns: index (BIGINT), Unnamed: 0 (BIGINT), Review_Date (TEXT), Author (TEXT), Rating (FLOAT), Review_Title (TEXT), Review (TEXT), Review_Url (TEXT), and foreign keys: .\n",
            "\n",
            "Table 'The Lord of the Rings: The Two Towers' has columns: index (BIGINT), Unnamed: 0 (BIGINT), Review_Date (TEXT), Author (TEXT), Rating (FLOAT), Review_Title (TEXT), Review (TEXT), Review_Url (TEXT), and foreign keys: .\n",
            "INFO:httpx:HTTP Request: POST https://api.openai.com/v1/chat/completions \"HTTP/1.1 200 OK\"\n",
            "HTTP Request: POST https://api.openai.com/v1/chat/completions \"HTTP/1.1 200 OK\"\n",
            "INFO:httpx:HTTP Request: POST https://api.openai.com/v1/chat/completions \"HTTP/1.1 200 OK\"\n",
            "HTTP Request: POST https://api.openai.com/v1/chat/completions \"HTTP/1.1 200 OK\"\n",
            "Got output: The average rating of the 2021 film \"Dune\" is 8.34 out of 10.\n",
            "========================\n",
            "\n",
            "=== Calling Function ===\n",
            "Calling function: sql-query with args: {\"input\": \"average rating of Dune: Part Two\"}\n",
            "INFO:llama_index.core.indices.struct_store.sql_retriever:> Table desc str: Table 'Dune (2021 film)' has columns: index (BIGINT), Unnamed: 0 (BIGINT), Review_Date (TEXT), Author (TEXT), Rating (FLOAT), Review_Title (TEXT), Review (TEXT), Review_Url (TEXT), and foreign keys: .\n",
            "\n",
            "Table 'Dune: Part Two' has columns: index (BIGINT), Unnamed: 0 (BIGINT), Review_Date (TEXT), Author (TEXT), Rating (FLOAT), Review_Title (TEXT), Review (TEXT), Review_Url (TEXT), and foreign keys: .\n",
            "\n",
            "Table 'The Lord of the Rings: The Fellowship of the Ring' has columns: index (BIGINT), Unnamed: 0 (BIGINT), Review_Date (TEXT), Author (TEXT), Rating (FLOAT), Review_Title (TEXT), Review (TEXT), Review_Url (TEXT), and foreign keys: .\n",
            "\n",
            "Table 'The Lord of the Rings: The Two Towers' has columns: index (BIGINT), Unnamed: 0 (BIGINT), Review_Date (TEXT), Author (TEXT), Rating (FLOAT), Review_Title (TEXT), Review (TEXT), Review_Url (TEXT), and foreign keys: .\n",
            "> Table desc str: Table 'Dune (2021 film)' has columns: index (BIGINT), Unnamed: 0 (BIGINT), Review_Date (TEXT), Author (TEXT), Rating (FLOAT), Review_Title (TEXT), Review (TEXT), Review_Url (TEXT), and foreign keys: .\n",
            "\n",
            "Table 'Dune: Part Two' has columns: index (BIGINT), Unnamed: 0 (BIGINT), Review_Date (TEXT), Author (TEXT), Rating (FLOAT), Review_Title (TEXT), Review (TEXT), Review_Url (TEXT), and foreign keys: .\n",
            "\n",
            "Table 'The Lord of the Rings: The Fellowship of the Ring' has columns: index (BIGINT), Unnamed: 0 (BIGINT), Review_Date (TEXT), Author (TEXT), Rating (FLOAT), Review_Title (TEXT), Review (TEXT), Review_Url (TEXT), and foreign keys: .\n",
            "\n",
            "Table 'The Lord of the Rings: The Two Towers' has columns: index (BIGINT), Unnamed: 0 (BIGINT), Review_Date (TEXT), Author (TEXT), Rating (FLOAT), Review_Title (TEXT), Review (TEXT), Review_Url (TEXT), and foreign keys: .\n",
            "INFO:httpx:HTTP Request: POST https://api.openai.com/v1/chat/completions \"HTTP/1.1 200 OK\"\n",
            "HTTP Request: POST https://api.openai.com/v1/chat/completions \"HTTP/1.1 200 OK\"\n",
            "INFO:httpx:HTTP Request: POST https://api.openai.com/v1/chat/completions \"HTTP/1.1 200 OK\"\n",
            "HTTP Request: POST https://api.openai.com/v1/chat/completions \"HTTP/1.1 200 OK\"\n",
            "Got output: The average rating of Dune: Part Two is 8.71.\n",
            "========================\n",
            "\n",
            "=== Calling Function ===\n",
            "Calling function: sql-query with args: {\"input\": \"average rating of The Lord of the Rings: The Fellowship of the Ring\"}\n",
            "INFO:llama_index.core.indices.struct_store.sql_retriever:> Table desc str: Table 'Dune (2021 film)' has columns: index (BIGINT), Unnamed: 0 (BIGINT), Review_Date (TEXT), Author (TEXT), Rating (FLOAT), Review_Title (TEXT), Review (TEXT), Review_Url (TEXT), and foreign keys: .\n",
            "\n",
            "Table 'Dune: Part Two' has columns: index (BIGINT), Unnamed: 0 (BIGINT), Review_Date (TEXT), Author (TEXT), Rating (FLOAT), Review_Title (TEXT), Review (TEXT), Review_Url (TEXT), and foreign keys: .\n",
            "\n",
            "Table 'The Lord of the Rings: The Fellowship of the Ring' has columns: index (BIGINT), Unnamed: 0 (BIGINT), Review_Date (TEXT), Author (TEXT), Rating (FLOAT), Review_Title (TEXT), Review (TEXT), Review_Url (TEXT), and foreign keys: .\n",
            "\n",
            "Table 'The Lord of the Rings: The Two Towers' has columns: index (BIGINT), Unnamed: 0 (BIGINT), Review_Date (TEXT), Author (TEXT), Rating (FLOAT), Review_Title (TEXT), Review (TEXT), Review_Url (TEXT), and foreign keys: .\n",
            "> Table desc str: Table 'Dune (2021 film)' has columns: index (BIGINT), Unnamed: 0 (BIGINT), Review_Date (TEXT), Author (TEXT), Rating (FLOAT), Review_Title (TEXT), Review (TEXT), Review_Url (TEXT), and foreign keys: .\n",
            "\n",
            "Table 'Dune: Part Two' has columns: index (BIGINT), Unnamed: 0 (BIGINT), Review_Date (TEXT), Author (TEXT), Rating (FLOAT), Review_Title (TEXT), Review (TEXT), Review_Url (TEXT), and foreign keys: .\n",
            "\n",
            "Table 'The Lord of the Rings: The Fellowship of the Ring' has columns: index (BIGINT), Unnamed: 0 (BIGINT), Review_Date (TEXT), Author (TEXT), Rating (FLOAT), Review_Title (TEXT), Review (TEXT), Review_Url (TEXT), and foreign keys: .\n",
            "\n",
            "Table 'The Lord of the Rings: The Two Towers' has columns: index (BIGINT), Unnamed: 0 (BIGINT), Review_Date (TEXT), Author (TEXT), Rating (FLOAT), Review_Title (TEXT), Review (TEXT), Review_Url (TEXT), and foreign keys: .\n",
            "INFO:httpx:HTTP Request: POST https://api.openai.com/v1/chat/completions \"HTTP/1.1 200 OK\"\n",
            "HTTP Request: POST https://api.openai.com/v1/chat/completions \"HTTP/1.1 200 OK\"\n",
            "INFO:httpx:HTTP Request: POST https://api.openai.com/v1/chat/completions \"HTTP/1.1 200 OK\"\n",
            "HTTP Request: POST https://api.openai.com/v1/chat/completions \"HTTP/1.1 200 OK\"\n",
            "Got output: The average rating of The Lord of the Rings: The Fellowship of the Ring is approximately 9.87 out of 10. This indicates that the movie is highly regarded by viewers.\n",
            "========================\n",
            "\n",
            "=== Calling Function ===\n",
            "Calling function: sql-query with args: {\"input\": \"average rating of The Lord of the Rings: The Two Towers\"}\n",
            "INFO:llama_index.core.indices.struct_store.sql_retriever:> Table desc str: Table 'Dune (2021 film)' has columns: index (BIGINT), Unnamed: 0 (BIGINT), Review_Date (TEXT), Author (TEXT), Rating (FLOAT), Review_Title (TEXT), Review (TEXT), Review_Url (TEXT), and foreign keys: .\n",
            "\n",
            "Table 'Dune: Part Two' has columns: index (BIGINT), Unnamed: 0 (BIGINT), Review_Date (TEXT), Author (TEXT), Rating (FLOAT), Review_Title (TEXT), Review (TEXT), Review_Url (TEXT), and foreign keys: .\n",
            "\n",
            "Table 'The Lord of the Rings: The Fellowship of the Ring' has columns: index (BIGINT), Unnamed: 0 (BIGINT), Review_Date (TEXT), Author (TEXT), Rating (FLOAT), Review_Title (TEXT), Review (TEXT), Review_Url (TEXT), and foreign keys: .\n",
            "\n",
            "Table 'The Lord of the Rings: The Two Towers' has columns: index (BIGINT), Unnamed: 0 (BIGINT), Review_Date (TEXT), Author (TEXT), Rating (FLOAT), Review_Title (TEXT), Review (TEXT), Review_Url (TEXT), and foreign keys: .\n",
            "> Table desc str: Table 'Dune (2021 film)' has columns: index (BIGINT), Unnamed: 0 (BIGINT), Review_Date (TEXT), Author (TEXT), Rating (FLOAT), Review_Title (TEXT), Review (TEXT), Review_Url (TEXT), and foreign keys: .\n",
            "\n",
            "Table 'Dune: Part Two' has columns: index (BIGINT), Unnamed: 0 (BIGINT), Review_Date (TEXT), Author (TEXT), Rating (FLOAT), Review_Title (TEXT), Review (TEXT), Review_Url (TEXT), and foreign keys: .\n",
            "\n",
            "Table 'The Lord of the Rings: The Fellowship of the Ring' has columns: index (BIGINT), Unnamed: 0 (BIGINT), Review_Date (TEXT), Author (TEXT), Rating (FLOAT), Review_Title (TEXT), Review (TEXT), Review_Url (TEXT), and foreign keys: .\n",
            "\n",
            "Table 'The Lord of the Rings: The Two Towers' has columns: index (BIGINT), Unnamed: 0 (BIGINT), Review_Date (TEXT), Author (TEXT), Rating (FLOAT), Review_Title (TEXT), Review (TEXT), Review_Url (TEXT), and foreign keys: .\n",
            "INFO:httpx:HTTP Request: POST https://api.openai.com/v1/chat/completions \"HTTP/1.1 200 OK\"\n",
            "HTTP Request: POST https://api.openai.com/v1/chat/completions \"HTTP/1.1 200 OK\"\n",
            "INFO:httpx:HTTP Request: POST https://api.openai.com/v1/chat/completions \"HTTP/1.1 200 OK\"\n",
            "HTTP Request: POST https://api.openai.com/v1/chat/completions \"HTTP/1.1 200 OK\"\n",
            "Got output: The average rating of The Lord of the Rings: The Two Towers is 9.18 out of 10.\n",
            "========================\n",
            "\n",
            "INFO:httpx:HTTP Request: POST https://api.openai.com/v1/chat/completions \"HTTP/1.1 200 OK\"\n",
            "HTTP Request: POST https://api.openai.com/v1/chat/completions \"HTTP/1.1 200 OK\"\n"
          ]
        },
        {
          "name": "stderr",
          "output_type": "stream",
          "text": [
            "\u001b[34m\u001b[1mwandb\u001b[0m: Logged trace tree to W&B.\n"
          ]
        }
      ],
      "source": [
        "response = combined_tool_agent.chat(\"Which of the following movie series is considered the 'best': Dune, or Lord of the Rings? Base your answer on both reviews, and non-review information.\")"
      ]
    },
    {
      "cell_type": "code",
      "execution_count": 214,
      "metadata": {
        "colab": {
          "base_uri": "https://localhost:8080/"
        },
        "id": "BEOpeuAovtZM",
        "outputId": "441769b0-ead5-4eda-efa1-dd81d18e8534"
      },
      "outputs": [
        {
          "name": "stdout",
          "output_type": "stream",
          "text": [
            "Based on both reviews and non-review information, \"The Lord of the Rings\" series is considered the 'best' compared to the \"Dune\" series. Here are the average ratings for each movie in both series:\n",
            "\n",
            "- \"Dune (2021 film)\": 8.34 out of 10\n",
            "- \"Dune: Part Two\": 8.71 out of 10\n",
            "\n",
            "- \"The Lord of the Rings: The Fellowship of the Ring\": 9.87 out of 10\n",
            "- \"The Lord of the Rings: The Two Towers\": 9.18 out of 10\n",
            "\n",
            "The \"Lord of the Rings\" movies have higher average ratings compared to the \"Dune\" movies, indicating that they are more highly regarded by viewers.\n"
          ]
        }
      ],
      "source": [
        "print(str(response))"
      ]
    },
    {
      "cell_type": "code",
      "execution_count": 215,
      "metadata": {},
      "outputs": [
        {
          "data": {
            "text/plain": [
              "[ChatMessage(role=<MessageRole.USER: 'user'>, content='Which movie is about a ring, and what is the average rating of the movie?', additional_kwargs={}),\n",
              " ChatMessage(role=<MessageRole.ASSISTANT: 'assistant'>, content=None, additional_kwargs={'tool_calls': [ChatCompletionMessageToolCall(id='call_PToelEMm0HwbomGc4y2eOh6K', function=Function(arguments='{\"query\": \"movie about a ring\", \"filter_key_list\": [\"title\"], \"filter_value_list\": [\"The Lord of the Rings: The Fellowship of the Ring\"]}', name='semantic-film-info'), type='function'), ChatCompletionMessageToolCall(id='call_CmxBvZTklhFpWI40tpsHr93k', function=Function(arguments='{\"input\": \"average rating of The Lord of the Rings: The Fellowship of the Ring\"}', name='sql-query'), type='function')]}),\n",
              " ChatMessage(role=<MessageRole.TOOL: 'tool'>, content='The Lord of the Rings: The Fellowship of the Ring', additional_kwargs={'name': 'semantic-film-info', 'tool_call_id': 'call_PToelEMm0HwbomGc4y2eOh6K'}),\n",
              " ChatMessage(role=<MessageRole.TOOL: 'tool'>, content='The average rating of The Lord of the Rings: The Fellowship of the Ring is approximately 9.87 out of 10.', additional_kwargs={'name': 'sql-query', 'tool_call_id': 'call_CmxBvZTklhFpWI40tpsHr93k'}),\n",
              " ChatMessage(role=<MessageRole.ASSISTANT: 'assistant'>, content='The movie about a ring is \"The Lord of the Rings: The Fellowship of the Ring.\" The average rating of the movie is approximately 9.87 out of 10.', additional_kwargs={}),\n",
              " ChatMessage(role=<MessageRole.USER: 'user'>, content='What worlds do the LoTR, and Dune movies take place in?', additional_kwargs={}),\n",
              " ChatMessage(role=<MessageRole.ASSISTANT: 'assistant'>, content=None, additional_kwargs={'tool_calls': [ChatCompletionMessageToolCall(id='call_LS4HvWBhHAkwiqsxmUpFwcQK', function=Function(arguments='{\"query\": \"worlds in LoTR movies\", \"filter_key_list\": [\"title\"], \"filter_value_list\": [\"The Lord of the Rings: The Fellowship of the Ring\", \"The Lord of the Rings: The Two Towers\"]}', name='semantic-film-info'), type='function'), ChatCompletionMessageToolCall(id='call_rDD2LAERNx5B3iiJwPdq7DwX', function=Function(arguments='{\"query\": \"worlds in Dune movies\", \"filter_key_list\": [\"title\"], \"filter_value_list\": [\"Dune (2021 film)\", \"Dune: Part Two\"]}', name='semantic-film-info'), type='function')]}),\n",
              " ChatMessage(role=<MessageRole.TOOL: 'tool'>, content='The worlds depicted in the Lord of the Rings movies include Lothlórien, Rivendell, Mordor, Moria, Bree, Arnor, Gondor, and the Barad-dûr.', additional_kwargs={'name': 'semantic-film-info', 'tool_call_id': 'call_LS4HvWBhHAkwiqsxmUpFwcQK'}),\n",
              " ChatMessage(role=<MessageRole.TOOL: 'tool'>, content='Arrakis', additional_kwargs={'name': 'semantic-film-info', 'tool_call_id': 'call_rDD2LAERNx5B3iiJwPdq7DwX'}),\n",
              " ChatMessage(role=<MessageRole.ASSISTANT: 'assistant'>, content='The worlds depicted in \"The Lord of the Rings\" movies include Lothlórien, Rivendell, Mordor, Moria, Bree, Arnor, Gondor, and the Barad-dûr. \\n\\nThe Dune movies take place on the planet Arrakis.', additional_kwargs={}),\n",
              " ChatMessage(role=<MessageRole.USER: 'user'>, content=\"Which of the following movie series is considered the 'best': Dune, or Lord of the Rings? Base your answer on both reviews, and non-review information.\", additional_kwargs={}),\n",
              " ChatMessage(role=<MessageRole.ASSISTANT: 'assistant'>, content=None, additional_kwargs={'tool_calls': [ChatCompletionMessageToolCall(id='call_xct51Ueg9tdq0iC6uYDxLY02', function=Function(arguments='{\"input\": \"average rating of Dune (2021 film)\"}', name='sql-query'), type='function'), ChatCompletionMessageToolCall(id='call_6Un12VTkgTzvgX8q4HGbwMPC', function=Function(arguments='{\"input\": \"average rating of Dune: Part Two\"}', name='sql-query'), type='function'), ChatCompletionMessageToolCall(id='call_zCoFhzIvGg1TrWPf0WE9qszZ', function=Function(arguments='{\"input\": \"average rating of The Lord of the Rings: The Fellowship of the Ring\"}', name='sql-query'), type='function'), ChatCompletionMessageToolCall(id='call_WQ6UvcgTIapAzlNk8voP6YmW', function=Function(arguments='{\"input\": \"average rating of The Lord of the Rings: The Two Towers\"}', name='sql-query'), type='function')]}),\n",
              " ChatMessage(role=<MessageRole.TOOL: 'tool'>, content='The average rating of the 2021 film \"Dune\" is 8.34 out of 10.', additional_kwargs={'name': 'sql-query', 'tool_call_id': 'call_xct51Ueg9tdq0iC6uYDxLY02'}),\n",
              " ChatMessage(role=<MessageRole.TOOL: 'tool'>, content='The average rating of Dune: Part Two is 8.71.', additional_kwargs={'name': 'sql-query', 'tool_call_id': 'call_6Un12VTkgTzvgX8q4HGbwMPC'}),\n",
              " ChatMessage(role=<MessageRole.TOOL: 'tool'>, content='The average rating of The Lord of the Rings: The Fellowship of the Ring is approximately 9.87 out of 10. This indicates that the movie is highly regarded by viewers.', additional_kwargs={'name': 'sql-query', 'tool_call_id': 'call_zCoFhzIvGg1TrWPf0WE9qszZ'}),\n",
              " ChatMessage(role=<MessageRole.TOOL: 'tool'>, content='The average rating of The Lord of the Rings: The Two Towers is 9.18 out of 10.', additional_kwargs={'name': 'sql-query', 'tool_call_id': 'call_WQ6UvcgTIapAzlNk8voP6YmW'}),\n",
              " ChatMessage(role=<MessageRole.ASSISTANT: 'assistant'>, content='Based on both reviews and non-review information, \"The Lord of the Rings\" series is considered the \\'best\\' compared to the \"Dune\" series. Here are the average ratings for each movie in both series:\\n\\n- \"Dune (2021 film)\": 8.34 out of 10\\n- \"Dune: Part Two\": 8.71 out of 10\\n\\n- \"The Lord of the Rings: The Fellowship of the Ring\": 9.87 out of 10\\n- \"The Lord of the Rings: The Two Towers\": 9.18 out of 10\\n\\nThe \"Lord of the Rings\" movies have higher average ratings compared to the \"Dune\" movies, indicating that they are more highly regarded by viewers.', additional_kwargs={})]"
            ]
          },
          "execution_count": 215,
          "metadata": {},
          "output_type": "execute_result"
        }
      ],
      "source": [
        "combined_tool_agent.memory.chat_store.store['chat_history']"
      ]
    },
    {
      "cell_type": "markdown",
      "metadata": {
        "id": "e1qaiDJYb1_v"
      },
      "source": [
        "####❓ Question #4:\n",
        "\n",
        "How can you verify which tool was used for which query?"
      ]
    },
    {
      "cell_type": "markdown",
      "metadata": {},
      "source": [
        "**ANSWER**:\n",
        "- One method we can looks into agent's memory which stores query and all related sequence of steps which was used to responsed to given query\n",
        "- We can also check tool_name from response\n",
        "```\n",
        "response = combined_tool_agent.chat(\"list all movies having character gandalf, also give rating for movie dune 2021\")\n",
        "print(response)\n",
        "print(\"************\")\n",
        "for i in range(len(response.sources)):\n",
        "    print('Tools used to answer the query: ' + response.sources[i].tool_name)\n",
        "```\n"
      ]
    },
    {
      "cell_type": "code",
      "execution_count": 216,
      "metadata": {},
      "outputs": [
        {
          "data": {
            "text/plain": [
              "[ChatMessage(role=<MessageRole.USER: 'user'>, content='Which movie is about a ring, and what is the average rating of the movie?', additional_kwargs={}),\n",
              " ChatMessage(role=<MessageRole.ASSISTANT: 'assistant'>, content=None, additional_kwargs={'tool_calls': [ChatCompletionMessageToolCall(id='call_PToelEMm0HwbomGc4y2eOh6K', function=Function(arguments='{\"query\": \"movie about a ring\", \"filter_key_list\": [\"title\"], \"filter_value_list\": [\"The Lord of the Rings: The Fellowship of the Ring\"]}', name='semantic-film-info'), type='function'), ChatCompletionMessageToolCall(id='call_CmxBvZTklhFpWI40tpsHr93k', function=Function(arguments='{\"input\": \"average rating of The Lord of the Rings: The Fellowship of the Ring\"}', name='sql-query'), type='function')]}),\n",
              " ChatMessage(role=<MessageRole.TOOL: 'tool'>, content='The Lord of the Rings: The Fellowship of the Ring', additional_kwargs={'name': 'semantic-film-info', 'tool_call_id': 'call_PToelEMm0HwbomGc4y2eOh6K'}),\n",
              " ChatMessage(role=<MessageRole.TOOL: 'tool'>, content='The average rating of The Lord of the Rings: The Fellowship of the Ring is approximately 9.87 out of 10.', additional_kwargs={'name': 'sql-query', 'tool_call_id': 'call_CmxBvZTklhFpWI40tpsHr93k'}),\n",
              " ChatMessage(role=<MessageRole.ASSISTANT: 'assistant'>, content='The movie about a ring is \"The Lord of the Rings: The Fellowship of the Ring.\" The average rating of the movie is approximately 9.87 out of 10.', additional_kwargs={}),\n",
              " ChatMessage(role=<MessageRole.USER: 'user'>, content='What worlds do the LoTR, and Dune movies take place in?', additional_kwargs={}),\n",
              " ChatMessage(role=<MessageRole.ASSISTANT: 'assistant'>, content=None, additional_kwargs={'tool_calls': [ChatCompletionMessageToolCall(id='call_LS4HvWBhHAkwiqsxmUpFwcQK', function=Function(arguments='{\"query\": \"worlds in LoTR movies\", \"filter_key_list\": [\"title\"], \"filter_value_list\": [\"The Lord of the Rings: The Fellowship of the Ring\", \"The Lord of the Rings: The Two Towers\"]}', name='semantic-film-info'), type='function'), ChatCompletionMessageToolCall(id='call_rDD2LAERNx5B3iiJwPdq7DwX', function=Function(arguments='{\"query\": \"worlds in Dune movies\", \"filter_key_list\": [\"title\"], \"filter_value_list\": [\"Dune (2021 film)\", \"Dune: Part Two\"]}', name='semantic-film-info'), type='function')]}),\n",
              " ChatMessage(role=<MessageRole.TOOL: 'tool'>, content='The worlds depicted in the Lord of the Rings movies include Lothlórien, Rivendell, Mordor, Moria, Bree, Arnor, Gondor, and the Barad-dûr.', additional_kwargs={'name': 'semantic-film-info', 'tool_call_id': 'call_LS4HvWBhHAkwiqsxmUpFwcQK'}),\n",
              " ChatMessage(role=<MessageRole.TOOL: 'tool'>, content='Arrakis', additional_kwargs={'name': 'semantic-film-info', 'tool_call_id': 'call_rDD2LAERNx5B3iiJwPdq7DwX'}),\n",
              " ChatMessage(role=<MessageRole.ASSISTANT: 'assistant'>, content='The worlds depicted in \"The Lord of the Rings\" movies include Lothlórien, Rivendell, Mordor, Moria, Bree, Arnor, Gondor, and the Barad-dûr. \\n\\nThe Dune movies take place on the planet Arrakis.', additional_kwargs={}),\n",
              " ChatMessage(role=<MessageRole.USER: 'user'>, content=\"Which of the following movie series is considered the 'best': Dune, or Lord of the Rings? Base your answer on both reviews, and non-review information.\", additional_kwargs={}),\n",
              " ChatMessage(role=<MessageRole.ASSISTANT: 'assistant'>, content=None, additional_kwargs={'tool_calls': [ChatCompletionMessageToolCall(id='call_xct51Ueg9tdq0iC6uYDxLY02', function=Function(arguments='{\"input\": \"average rating of Dune (2021 film)\"}', name='sql-query'), type='function'), ChatCompletionMessageToolCall(id='call_6Un12VTkgTzvgX8q4HGbwMPC', function=Function(arguments='{\"input\": \"average rating of Dune: Part Two\"}', name='sql-query'), type='function'), ChatCompletionMessageToolCall(id='call_zCoFhzIvGg1TrWPf0WE9qszZ', function=Function(arguments='{\"input\": \"average rating of The Lord of the Rings: The Fellowship of the Ring\"}', name='sql-query'), type='function'), ChatCompletionMessageToolCall(id='call_WQ6UvcgTIapAzlNk8voP6YmW', function=Function(arguments='{\"input\": \"average rating of The Lord of the Rings: The Two Towers\"}', name='sql-query'), type='function')]}),\n",
              " ChatMessage(role=<MessageRole.TOOL: 'tool'>, content='The average rating of the 2021 film \"Dune\" is 8.34 out of 10.', additional_kwargs={'name': 'sql-query', 'tool_call_id': 'call_xct51Ueg9tdq0iC6uYDxLY02'}),\n",
              " ChatMessage(role=<MessageRole.TOOL: 'tool'>, content='The average rating of Dune: Part Two is 8.71.', additional_kwargs={'name': 'sql-query', 'tool_call_id': 'call_6Un12VTkgTzvgX8q4HGbwMPC'}),\n",
              " ChatMessage(role=<MessageRole.TOOL: 'tool'>, content='The average rating of The Lord of the Rings: The Fellowship of the Ring is approximately 9.87 out of 10. This indicates that the movie is highly regarded by viewers.', additional_kwargs={'name': 'sql-query', 'tool_call_id': 'call_zCoFhzIvGg1TrWPf0WE9qszZ'}),\n",
              " ChatMessage(role=<MessageRole.TOOL: 'tool'>, content='The average rating of The Lord of the Rings: The Two Towers is 9.18 out of 10.', additional_kwargs={'name': 'sql-query', 'tool_call_id': 'call_WQ6UvcgTIapAzlNk8voP6YmW'}),\n",
              " ChatMessage(role=<MessageRole.ASSISTANT: 'assistant'>, content='Based on both reviews and non-review information, \"The Lord of the Rings\" series is considered the \\'best\\' compared to the \"Dune\" series. Here are the average ratings for each movie in both series:\\n\\n- \"Dune (2021 film)\": 8.34 out of 10\\n- \"Dune: Part Two\": 8.71 out of 10\\n\\n- \"The Lord of the Rings: The Fellowship of the Ring\": 9.87 out of 10\\n- \"The Lord of the Rings: The Two Towers\": 9.18 out of 10\\n\\nThe \"Lord of the Rings\" movies have higher average ratings compared to the \"Dune\" movies, indicating that they are more highly regarded by viewers.', additional_kwargs={})]"
            ]
          },
          "execution_count": 216,
          "metadata": {},
          "output_type": "execute_result"
        }
      ],
      "source": [
        "combined_tool_agent.memory.chat_store.store['chat_history']"
      ]
    },
    {
      "cell_type": "code",
      "execution_count": 217,
      "metadata": {},
      "outputs": [
        {
          "name": "stdout",
          "output_type": "stream",
          "text": [
            "Added user message to memory: list all movies having character gandalf, also give rating for movie dune 2021\n",
            "INFO:httpx:HTTP Request: POST https://api.openai.com/v1/chat/completions \"HTTP/1.1 200 OK\"\n",
            "HTTP Request: POST https://api.openai.com/v1/chat/completions \"HTTP/1.1 200 OK\"\n",
            "=== Calling Function ===\n",
            "Calling function: semantic-film-info with args: {\"query\": \"movies with character Gandalf\", \"filter_key_list\": [\"content_info\"], \"filter_value_list\": [\"Gandalf\"]}\n",
            "INFO:httpx:HTTP Request: POST https://api.openai.com/v1/embeddings \"HTTP/1.1 200 OK\"\n",
            "HTTP Request: POST https://api.openai.com/v1/embeddings \"HTTP/1.1 200 OK\"\n",
            "Got output: Empty Response\n",
            "========================\n",
            "\n",
            "=== Calling Function ===\n",
            "Calling function: sql-query with args: {\"input\": \"average rating of Dune (2021 film)\"}\n",
            "INFO:llama_index.core.indices.struct_store.sql_retriever:> Table desc str: Table 'Dune (2021 film)' has columns: index (BIGINT), Unnamed: 0 (BIGINT), Review_Date (TEXT), Author (TEXT), Rating (FLOAT), Review_Title (TEXT), Review (TEXT), Review_Url (TEXT), and foreign keys: .\n",
            "\n",
            "Table 'Dune: Part Two' has columns: index (BIGINT), Unnamed: 0 (BIGINT), Review_Date (TEXT), Author (TEXT), Rating (FLOAT), Review_Title (TEXT), Review (TEXT), Review_Url (TEXT), and foreign keys: .\n",
            "\n",
            "Table 'The Lord of the Rings: The Fellowship of the Ring' has columns: index (BIGINT), Unnamed: 0 (BIGINT), Review_Date (TEXT), Author (TEXT), Rating (FLOAT), Review_Title (TEXT), Review (TEXT), Review_Url (TEXT), and foreign keys: .\n",
            "\n",
            "Table 'The Lord of the Rings: The Two Towers' has columns: index (BIGINT), Unnamed: 0 (BIGINT), Review_Date (TEXT), Author (TEXT), Rating (FLOAT), Review_Title (TEXT), Review (TEXT), Review_Url (TEXT), and foreign keys: .\n",
            "> Table desc str: Table 'Dune (2021 film)' has columns: index (BIGINT), Unnamed: 0 (BIGINT), Review_Date (TEXT), Author (TEXT), Rating (FLOAT), Review_Title (TEXT), Review (TEXT), Review_Url (TEXT), and foreign keys: .\n",
            "\n",
            "Table 'Dune: Part Two' has columns: index (BIGINT), Unnamed: 0 (BIGINT), Review_Date (TEXT), Author (TEXT), Rating (FLOAT), Review_Title (TEXT), Review (TEXT), Review_Url (TEXT), and foreign keys: .\n",
            "\n",
            "Table 'The Lord of the Rings: The Fellowship of the Ring' has columns: index (BIGINT), Unnamed: 0 (BIGINT), Review_Date (TEXT), Author (TEXT), Rating (FLOAT), Review_Title (TEXT), Review (TEXT), Review_Url (TEXT), and foreign keys: .\n",
            "\n",
            "Table 'The Lord of the Rings: The Two Towers' has columns: index (BIGINT), Unnamed: 0 (BIGINT), Review_Date (TEXT), Author (TEXT), Rating (FLOAT), Review_Title (TEXT), Review (TEXT), Review_Url (TEXT), and foreign keys: .\n",
            "INFO:httpx:HTTP Request: POST https://api.openai.com/v1/chat/completions \"HTTP/1.1 200 OK\"\n",
            "HTTP Request: POST https://api.openai.com/v1/chat/completions \"HTTP/1.1 200 OK\"\n",
            "INFO:httpx:HTTP Request: POST https://api.openai.com/v1/chat/completions \"HTTP/1.1 200 OK\"\n",
            "HTTP Request: POST https://api.openai.com/v1/chat/completions \"HTTP/1.1 200 OK\"\n",
            "Got output: The average rating of the 2021 film \"Dune\" is 8.34 out of 10.\n",
            "========================\n",
            "\n",
            "INFO:httpx:HTTP Request: POST https://api.openai.com/v1/chat/completions \"HTTP/1.1 200 OK\"\n",
            "HTTP Request: POST https://api.openai.com/v1/chat/completions \"HTTP/1.1 200 OK\"\n"
          ]
        },
        {
          "name": "stderr",
          "output_type": "stream",
          "text": [
            "\u001b[34m\u001b[1mwandb\u001b[0m: Logged trace tree to W&B.\n"
          ]
        },
        {
          "name": "stdout",
          "output_type": "stream",
          "text": [
            "There are no specific movies listed with the character Gandalf. \n",
            "\n",
            "The average rating for the movie \"Dune (2021 film)\" is 8.34 out of 10.\n",
            "************\n",
            "Tools used to answer the query: semantic-film-info\n",
            "Tools used to answer the query: sql-query\n"
          ]
        }
      ],
      "source": [
        "response = combined_tool_agent.chat(\"list all movies having character gandalf, also give rating for movie dune 2021\")\n",
        "print(response)\n",
        "print(\"************\")\n",
        "for i in range(len(response.sources)):\n",
        "    print('Tools used to answer the query: ' + response.sources[i].tool_name)"
      ]
    },
    {
      "cell_type": "code",
      "execution_count": 92,
      "metadata": {
        "id": "D3ELqzOvSWAD"
      },
      "outputs": [],
      "source": [
        "wandb_callback.finish()"
      ]
    }
  ],
  "metadata": {
    "colab": {
      "provenance": []
    },
    "kernelspec": {
      "display_name": "Python 3",
      "language": "python",
      "name": "python3"
    },
    "language_info": {
      "codemirror_mode": {
        "name": "ipython",
        "version": 3
      },
      "file_extension": ".py",
      "mimetype": "text/x-python",
      "name": "python",
      "nbconvert_exporter": "python",
      "pygments_lexer": "ipython3",
      "version": "3.11.8"
    },
    "orig_nbformat": 4
  },
  "nbformat": 4,
  "nbformat_minor": 0
}
