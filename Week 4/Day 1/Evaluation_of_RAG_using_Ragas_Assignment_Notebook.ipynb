{
  "cells": [
    {
      "cell_type": "markdown",
      "metadata": {
        "id": "wa8ykQk92aLX"
      },
      "source": [
        "# Evaluation of RAG Using Ragas\n",
        "\n",
        "In the following notebook we'll explore how to evaluate RAG pipelines using a powerful open-source tool called \"Ragas\". This will give us tools to evaluate component-wise metrics, as well as end-to-end metrics about the performance of our RAG pipelines.\n",
        "\n",
        "In the following notebook we'll complete the following tasks:\n",
        "\n",
        "- 🤝 Breakout Room Part #1:\n",
        "  1. Install required libraries\n",
        "  2. Set Environment Variables\n",
        "  3. Creating a simple RAG pipeline with [LangChain v0.1.0](https://blog.langchain.dev/langchain-v0-1-0/)\n",
        "  \n",
        "\n",
        "- 🤝 Breakout Room Part #2:\n",
        "  1. Synthetic Dataset Generation for Evaluation using the [Ragas](https://github.com/explodinggradients/ragas)\n",
        "  2. Evaluating our pipeline with Ragas\n",
        "  3. Making Adjustments to our RAG Pipeline\n",
        "  4. Evaluating our Adjusted pipeline against our baseline\n",
        "  5. Testing OpenAI's Claim\n",
        "\n",
        "The only way to get started is to get started - so let's grab our dependencies for the day!"
      ]
    },
    {
      "cell_type": "markdown",
      "metadata": {
        "id": "8h4yh6f7q9uN"
      },
      "source": [
        "## Motivation\n",
        "\n",
        "A claim, made by OpenAI, is that their `text-embedding-3-small` is better (generally) than their `text-embedding-ada-002` model.\n",
        "\n",
        "Here's some passages from their [blog](https://openai.com/blog/new-embedding-models-and-api-updates) about the `text-embedding-3` release:\n",
        "\n",
        "> `text-embedding-3-small` is our new highly efficient embedding model and provides a significant upgrade over its predecessor, the `text-embedding-ada-002` model...\n",
        "\n",
        "> **Stronger performance.** Comparing `text-embedding-ada-002` to `text-embedding-3-small`, the average score on a commonly used benchmark for multi-language retrieval ([MIRACL](https://github.com/project-miracl/miracl)) has increased from 31.4% to 44.0%, while the average score on a commonly used benchmark for English tasks ([MTEB](https://github.com/embeddings-benchmark/mteb)) has increased from 61.0% to 62.3%.\n",
        "\n",
        "Well, with a library like Ragas - we can put that claim to the test!\n",
        "\n",
        "If what they claim is true - we should see an increase on related metrics by using the new embedding model!"
      ]
    },
    {
      "cell_type": "markdown",
      "metadata": {
        "id": "wAH1znJ2pIp3"
      },
      "source": [
        "# 🤝 Breakout Room Part #1"
      ]
    },
    {
      "cell_type": "markdown",
      "metadata": {
        "id": "hpkXAmMZpLhm"
      },
      "source": [
        "## Task 1: Installing Required Libraries\n",
        "\n",
        "A reminder that one of the [key features](https://blog.langchain.dev/langchain-v0-1-0/) of LangChain v0.1.0 is the compartmentalization of the various LangChain ecosystem packages!\n",
        "\n",
        "So let's begin grabbing all of our LangChain related packages!"
      ]
    },
    {
      "cell_type": "code",
      "execution_count": 1,
      "metadata": {
        "colab": {
          "base_uri": "https://localhost:8080/"
        },
        "id": "5BN13TZlSCv4",
        "outputId": "f3533012-66e0-4cc3-fc6a-e6e011cfa8f5"
      },
      "outputs": [],
      "source": [
        "!pip install -U -q langchain langchain-openai langchain_core langchain-community langchainhub openai"
      ]
    },
    {
      "cell_type": "markdown",
      "metadata": {
        "id": "fm7gXsD6pqG0"
      },
      "source": [
        "We'll also get the \"star of the show\" today, which is Ragas!"
      ]
    },
    {
      "cell_type": "code",
      "execution_count": 2,
      "metadata": {
        "colab": {
          "base_uri": "https://localhost:8080/"
        },
        "id": "zvAvDNWBpjQ1",
        "outputId": "fb6116f4-ee6f-42cd-fdbc-e51ff145b785"
      },
      "outputs": [],
      "source": [
        "!pip install -qU ragas"
      ]
    },
    {
      "cell_type": "markdown",
      "metadata": {
        "id": "L9q6Z9oTpw3X"
      },
      "source": [
        "We'll be leveraging [QDrant](https://qdrant.tech/) again as our LangChain `VectorStore`.\n",
        "\n",
        "We'll also install `pymupdf` and its dependencies which will allow us to load PDFs using the `PyMuPDFLoader` in the `langchain-community` package!"
      ]
    },
    {
      "cell_type": "code",
      "execution_count": 3,
      "metadata": {
        "colab": {
          "base_uri": "https://localhost:8080/"
        },
        "id": "sAJK95napn8I",
        "outputId": "ed9d0dc1-b198-4a6e-bb7c-121c8eb5935e"
      },
      "outputs": [],
      "source": [
        "!pip install -qU qdrant-client pymupdf pandas"
      ]
    },
    {
      "cell_type": "markdown",
      "metadata": {
        "id": "0_C2JvG1qO3h"
      },
      "source": [
        "## Task 2: Set Environment Variables\n",
        "\n",
        "Let's set up our OpenAI API key so we can leverage their API later on."
      ]
    },
    {
      "cell_type": "code",
      "execution_count": 4,
      "metadata": {
        "colab": {
          "base_uri": "https://localhost:8080/"
        },
        "id": "8Lhqp5rUThG-",
        "outputId": "b29081cd-ea1d-4a1a-d64b-61c052a0d779"
      },
      "outputs": [],
      "source": [
        "import os\n",
        "import openai\n",
        "from getpass import getpass\n",
        "\n",
        "openai.api_key = getpass(\"Please provide your OpenAI Key: \")\n",
        "os.environ[\"OPENAI_API_KEY\"] = openai.api_key"
      ]
    },
    {
      "cell_type": "markdown",
      "metadata": {
        "id": "TFbWNvo3rZ4H"
      },
      "source": [
        "## Task 3: Creating a Simple RAG Pipeline with LangChain v0.1.0\n",
        "\n",
        "Building on what we learned last week, we'll be leveraging LangChain v0.1.0 and LCEL to build a simple RAG pipeline that we can baseline with Ragas."
      ]
    },
    {
      "cell_type": "markdown",
      "metadata": {
        "id": "DV_BOewX8CW0"
      },
      "source": [
        "## Building our RAG pipeline\n",
        "\n",
        "Let's review the basic steps of RAG again:\n",
        "\n",
        "- Create an Index\n",
        "- Use retrieval to obtain pieces of context from our Index that are similar to our query\n",
        "- Use a LLM to generate responses based on the retrieved context\n",
        "\n",
        "Let's get started by creating our index.\n",
        "\n",
        "> NOTE: We're going to start leaning on the term \"index\" to refer to our `VectorStore`, `VectorDatabase`, etc. We can think of \"index\" as the catch-all term, whereas `VectorStore` and the like relate to the specific technologies used to create, store, and interact with the index."
      ]
    },
    {
      "cell_type": "markdown",
      "metadata": {
        "id": "1VDGJdxCJEVc"
      },
      "source": [
        "### Creating an Index\n",
        "\n",
        "You'll notice that the largest changes (outside of some import changes) are that our old favourite chains are back to being bundled in an easily usable abstraction.\n",
        "\n",
        "We can still create custom chains using LCEL - but we can also be more confident that our pre-packaged chains are creating using LCEL under the hood."
      ]
    },
    {
      "cell_type": "markdown",
      "metadata": {
        "id": "RmFFThawK8lO"
      },
      "source": [
        "#### Loading Data\n",
        "\n",
        "Let's start by loading some data!\n",
        "\n",
        "> NOTE: You'll notice that we're using a document loader from the community package of LangChain. This is part of the v0.1.0 changes that make the base (`langchain-core`) package remain lightweight while still providing access to some of the more powerful community integrations."
      ]
    },
    {
      "cell_type": "code",
      "execution_count": null,
      "metadata": {
        "colab": {
          "base_uri": "https://localhost:8080/"
        },
        "id": "kCBTrfZSwTHp",
        "outputId": "fc2bce60-408a-418c-b495-37b63b6304d8"
      },
      "outputs": [],
      "source": [
        "!git clone https://github.com/AI-Maker-Space/DataRepository"
      ]
    },
    {
      "cell_type": "code",
      "execution_count": 5,
      "metadata": {
        "id": "DTDNFXaBSO2j"
      },
      "outputs": [
        {
          "data": {
            "text/plain": [
              "[Document(page_content=\"4/23/24, 6:05 PM\\nA Timeline of Taylor Swift and Kim Kardashian's Feud\\nhttps://people.com/taylor-swift-and-kim-kardashian-feud-timeline-8412119\\n1/22\\nPHOTO: KEVIN MAZUR/MTV1415/WIREIMAGE\\nA Timeline of Taylor Swift and Kim\\nKardashian's Feud\\nTake a look back at the drama between Taylor Swift and Kim Kardashian\\nthrough the years\\nBy  \\n |  Updated on April 23, 2024 04:46PM EDT\\nENTERTAINMENT\\nMUSIC\\nKelsie Gibson\\nAdvertisement\\nAd\\ni\\nThe Rewind: '13 Going 30'\\nC LO S E\\xa0\\nSUBSCRIBE\\nSKIP TO CONTENT\\n\", metadata={'source': 'DataRepository/tswift_fued.pdf', 'file_path': 'DataRepository/tswift_fued.pdf', 'page': 0, 'total_pages': 22, 'format': 'PDF 1.4', 'title': \"A Timeline of Taylor Swift and Kim Kardashian's Feud\", 'author': '', 'subject': '', 'keywords': '', 'creator': 'Mozilla/5.0 (Windows NT 10.0; Win64; x64) AppleWebKit/537.36 (KHTML, like Gecko) Chrome/123.0.0.0 Safari/537.36', 'producer': 'Skia/PDF m123', 'creationDate': \"D:20240423220523+00'00'\", 'modDate': \"D:20240423220523+00'00'\", 'trapped': ''}),\n",
              " Document(page_content='4/23/24, 6:05 PM\\nA Timeline of Taylor Swift and Kim Kardashian\\'s Feud\\nhttps://people.com/taylor-swift-and-kim-kardashian-feud-timeline-8412119\\n2/22\\nTaylor Swift and Kim Kardashian have endured many ups and downs\\nthrough the years.\\xa0\\nFollowing Swift and Kanye West’s long history, West’s then-wife Kardashian\\nbecame part of the narrative in 2015 as Swift publicly reconciled (and then\\nunreconciled) with West.\\xa0\\nThe drama reached its peak in 2016 as West released \"Famous\" off his The\\nLife of Pablo album (which made jabs at the \"Style\" singer) and Kardashian\\nclaimed that Swift knew of West\\'s plans to release the track as she\\ninfamously leaked an edited phone call between West and Swift discussing\\nthe song before its release. The Internet immediately seemed to side with\\nthe reality star, and #KimExposedTaylorParty started trending.\\nThe following year, Swift responded to the drama with her sixth studio\\nalbum Reputation, which was dominated by snake imagery as she\\nreclaimed the snake emoji posted in her Instagram comments section at the\\ntime.\\xa0\\nMost recently, Swift reflected on the feud yet again with two new tracks\\nfrom The Tortured Poets Department: The Anthology, which fans believe are\\nabout Kardashian.\\nAhead, take a look back at Swift and Kardashian’s relationship through the\\nyears, including what they’ve said about the drama.\\xa0\\n2009: Kim Kardashian says she \"loves\"\\nTaylor Swift\\xa0\\nBack in 2009, Kardashian spoke with Entertainment Tonight on the red\\ncarpet, where they asked her what the No. 1 song her iPod was. She\\ngiddily replied that it was “Love Story” by Swift, before adding, “I love\\nTaylor Swift! I’m the biggest Taylor Swift fan.”\\xa0\\nShe added that she was following her on Twitter, before adding, “I’m\\nwatching you, Taylor!”\\xa0\\nAdvertisement\\nAd\\ni\\nThe Rewind: \\'13 Going 30\\'\\xa0\\nSUBSCRIBE\\nSKIP TO CONTENT\\n', metadata={'source': 'DataRepository/tswift_fued.pdf', 'file_path': 'DataRepository/tswift_fued.pdf', 'page': 1, 'total_pages': 22, 'format': 'PDF 1.4', 'title': \"A Timeline of Taylor Swift and Kim Kardashian's Feud\", 'author': '', 'subject': '', 'keywords': '', 'creator': 'Mozilla/5.0 (Windows NT 10.0; Win64; x64) AppleWebKit/537.36 (KHTML, like Gecko) Chrome/123.0.0.0 Safari/537.36', 'producer': 'Skia/PDF m123', 'creationDate': \"D:20240423220523+00'00'\", 'modDate': \"D:20240423220523+00'00'\", 'trapped': ''}),\n",
              " Document(page_content=\"4/23/24, 6:05 PM\\nA Timeline of Taylor Swift and Kim Kardashian's Feud\\nhttps://people.com/taylor-swift-and-kim-kardashian-feud-timeline-8412119\\n3/22\\nNovember 11, 2012: Taylor Swift and Kim\\nKardashian pose together at MTV EMAs\\nPHOTO: DAVE HOGAN/MTV 2012/GETTY IMAGES FOR MTV\\nIn 2012, the two had one of their first public interactions as they posed with\\nRita Ora at the MTV EMAs.\\xa0\\nAdvertisement\\nAd\\ni\\nThe Rewind: '13 Going 30'\\xa0\\nSUBSCRIBE\\nSKIP TO CONTENT\\n\", metadata={'source': 'DataRepository/tswift_fued.pdf', 'file_path': 'DataRepository/tswift_fued.pdf', 'page': 2, 'total_pages': 22, 'format': 'PDF 1.4', 'title': \"A Timeline of Taylor Swift and Kim Kardashian's Feud\", 'author': '', 'subject': '', 'keywords': '', 'creator': 'Mozilla/5.0 (Windows NT 10.0; Win64; x64) AppleWebKit/537.36 (KHTML, like Gecko) Chrome/123.0.0.0 Safari/537.36', 'producer': 'Skia/PDF m123', 'creationDate': \"D:20240423220523+00'00'\", 'modDate': \"D:20240423220523+00'00'\", 'trapped': ''}),\n",
              " Document(page_content=\"4/23/24, 6:05 PM\\nA Timeline of Taylor Swift and Kim Kardashian's Feud\\nhttps://people.com/taylor-swift-and-kim-kardashian-feud-timeline-8412119\\n4/22\\nFebruary 8, 2015: Taylor Swift and Kim\\nKardashian share a hug at the Grammys\\xa0\\nPHOTO: LARRY BUSACCA/GETTY IMAGES FOR NARAS\\nAs Swift and West reconciled following their long-standing feud, Swift was\\nseen getting chummy with Kardashian in the audience. After posing with\\nJAY-Z and West for a photo, she was seen giving Kardashian a hug.\\xa0\\xa0\\nAugust 30, 2015: Taylor Swift and Kim\\nKardashian sit together at MTV VMAs\\nAdvertisement\\nAd\\ni\\nThe Rewind: '13 Going 30'\\xa0\\nSUBSCRIBE\\nSKIP TO CONTENT\\n\", metadata={'source': 'DataRepository/tswift_fued.pdf', 'file_path': 'DataRepository/tswift_fued.pdf', 'page': 3, 'total_pages': 22, 'format': 'PDF 1.4', 'title': \"A Timeline of Taylor Swift and Kim Kardashian's Feud\", 'author': '', 'subject': '', 'keywords': '', 'creator': 'Mozilla/5.0 (Windows NT 10.0; Win64; x64) AppleWebKit/537.36 (KHTML, like Gecko) Chrome/123.0.0.0 Safari/537.36', 'producer': 'Skia/PDF m123', 'creationDate': \"D:20240423220523+00'00'\", 'modDate': \"D:20240423220523+00'00'\", 'trapped': ''}),\n",
              " Document(page_content='4/23/24, 6:05 PM\\nA Timeline of Taylor Swift and Kim Kardashian\\'s Feud\\nhttps://people.com/taylor-swift-and-kim-kardashian-feud-timeline-8412119\\n5/22\\nPHOTO: KEVIN MAZUR/MTV1415/WIREIMAGE\\nIn August 2015, Swift and West publicly buried the hatchet as the singer\\npresented the rapper with the Video Vanguard Award at the MTV VMAs.\\nAfter giving a speech about West on stage, she was seen with her arms\\nwrapped around Kardashian as they smiled at West on stage.\\xa0\\nHowever, the friendship was short-lived as the following February, West\\nreleased his song “Famous” featuring a dig at Swift, saying he \"made that\\nbitch famous.\" Swift publicly reacted to the lyric during her Grammys\\nacceptance speech for album of the year.\\xa0\\nAdvertisement\\nAd\\ni\\nThe Rewind: \\'13 Going 30\\'\\xa0\\nSUBSCRIBE\\nSKIP TO CONTENT\\n', metadata={'source': 'DataRepository/tswift_fued.pdf', 'file_path': 'DataRepository/tswift_fued.pdf', 'page': 4, 'total_pages': 22, 'format': 'PDF 1.4', 'title': \"A Timeline of Taylor Swift and Kim Kardashian's Feud\", 'author': '', 'subject': '', 'keywords': '', 'creator': 'Mozilla/5.0 (Windows NT 10.0; Win64; x64) AppleWebKit/537.36 (KHTML, like Gecko) Chrome/123.0.0.0 Safari/537.36', 'producer': 'Skia/PDF m123', 'creationDate': \"D:20240423220523+00'00'\", 'modDate': \"D:20240423220523+00'00'\", 'trapped': ''}),\n",
              " Document(page_content='4/23/24, 6:05 PM\\nA Timeline of Taylor Swift and Kim Kardashian\\'s Feud\\nhttps://people.com/taylor-swift-and-kim-kardashian-feud-timeline-8412119\\n6/22\\n\"I want to say to all the young women out there, there are going to be\\npeople along the way who will try to undercut your success or take credit\\nfor your accomplishments or your fame,\" she said on stage. \"If you just\\nfocus on the work, and you don\\'t let those people sidetrack you, someday\\nwhen you get where you\\'re going, you\\'ll look around and you will know\\nthat it was you and the people who love you who put you there, and that\\nwill be the greatest feeling in the world. Thank you for this moment.\"\\nJune 16, 2016: Kim Kardashian claims Taylor\\nSwift knew of the infamous Kanye West\\n“Famous” lyric all along\\xa0\\n\"She totally approved that,\" Kardashian said in the July issue of GQ that\\nyear regarding Swift\\'s knowledge of the lyrics of \"Famous\" before the\\nsong\\'s release.\\nKardashian added, \"She totally knew that that was coming out. She\\nwanted to all of a sudden act like she didn\\'t. I swear, my husband gets so\\nmuch s--- for things [when] he really was doing proper protocol and even\\ncalled to get it approved.\"\\nJune 2016: Taylor Swift\\'s spokesperson\\nreleases a statement following Kim\\nKardashian\\'s claims about Kanye West\\'s\\n\"Famous\"\\xa0\\nA spokesperson for the \"Bad Blood” singer was quick to comment on the\\nmatter. \"Taylor does not hold anything against Kim Kardashian as she\\nrecognizes the pressure Kim must be under and that she is only repeating\\nwhat she has been told by Kanye West,\" the statement about Kardashian\\nstarted off.\\n\"However, that does not change the fact that much of what Kim is saying is\\nincorrect. Kanye West and Taylor only spoke once on the phone while she\\nAdvertisement\\nAd\\ni\\nThe Rewind: \\'13 Going 30\\'\\xa0\\nSUBSCRIBE\\nSKIP TO CONTENT\\n', metadata={'source': 'DataRepository/tswift_fued.pdf', 'file_path': 'DataRepository/tswift_fued.pdf', 'page': 5, 'total_pages': 22, 'format': 'PDF 1.4', 'title': \"A Timeline of Taylor Swift and Kim Kardashian's Feud\", 'author': '', 'subject': '', 'keywords': '', 'creator': 'Mozilla/5.0 (Windows NT 10.0; Win64; x64) AppleWebKit/537.36 (KHTML, like Gecko) Chrome/123.0.0.0 Safari/537.36', 'producer': 'Skia/PDF m123', 'creationDate': \"D:20240423220523+00'00'\", 'modDate': \"D:20240423220523+00'00'\", 'trapped': ''}),\n",
              " Document(page_content='4/23/24, 6:05 PM\\nA Timeline of Taylor Swift and Kim Kardashian\\'s Feud\\nhttps://people.com/taylor-swift-and-kim-kardashian-feud-timeline-8412119\\n7/22\\nwas on vacation with her family in January of 2016 and they have never\\nspoken since,\" the statement continued. \"Taylor has never denied that\\nconversation took place. It was on that phone call that Kanye West also\\nasked her to release the song on her Twitter account, which she declined to\\ndo.\"\\nJuly 17\\n, 2016: Kim Kardashian explains why\\nshe defended Kanye West against Taylor\\nSwift\\nOn a July 2016 episode of Keeping Up with the Kardashians, the family\\ndiscussed the longstanding feud between West and Swift in great detail, as\\nwell as West\\'s controversial rant during his appearance on Saturday Night\\nLive, where he was recorded backstage calling Swift fake.\\nShe explained that when she did her GQ interview, she felt the need to\\nspeak out. \"I never talk s--- about anyone publicly, especially in interviews.\\nBut I was just like, I had so had it,\" she said \"I wanted to defend him in it.”\\xa0\\nAt the end of the episode, Kardashian sat down with momager Kris Jenner\\nto discuss the controversial interview. Jenner tried to play peacemaker,\\nasking, \"What would happen if you just called Taylor up and say \\'What\\nhappened? How did this go so south?\\' I guess I don\\'t understand the\\nmotivation to flip … maybe she took it the wrong way. My advice would be\\nto give Taylor Swift a call.\"\\n\"Thank you for your lovely advice,\" Kardashian told her mother, \"but I\\'m not\\ngoing to take it.\"\\nJuly 17\\n, 2016: Kim Kardashian releases\\nvideo footage of Kanye West\\'s phone call\\nwith Taylor Swift\\nAdvertisement\\nAd\\ni\\nThe Rewind: \\'13 Going 30\\'\\xa0\\nSUBSCRIBE\\nSKIP TO CONTENT\\n', metadata={'source': 'DataRepository/tswift_fued.pdf', 'file_path': 'DataRepository/tswift_fued.pdf', 'page': 6, 'total_pages': 22, 'format': 'PDF 1.4', 'title': \"A Timeline of Taylor Swift and Kim Kardashian's Feud\", 'author': '', 'subject': '', 'keywords': '', 'creator': 'Mozilla/5.0 (Windows NT 10.0; Win64; x64) AppleWebKit/537.36 (KHTML, like Gecko) Chrome/123.0.0.0 Safari/537.36', 'producer': 'Skia/PDF m123', 'creationDate': \"D:20240423220523+00'00'\", 'modDate': \"D:20240423220523+00'00'\", 'trapped': ''}),\n",
              " Document(page_content='4/23/24, 6:05 PM\\nA Timeline of Taylor Swift and Kim Kardashian\\'s Feud\\nhttps://people.com/taylor-swift-and-kim-kardashian-feud-timeline-8412119\\n8/22\\nImmediately following that episode of KUWTK, Kardashian took to\\nSnapchat to share a series of truncated videos of the phone call between\\nher then-husband West and Swift, discussing the \"Famous\" lyrics – as well\\nas their history.\\n\"It\\'s like a compliment,\" Swift is heard saying in the video after West reads\\nthe lyrics to her (which include, \"For all my Southside n----- that know me\\nbest / I feel like me and Taylor might still have sex\").\\n\"What I give a f--- is you as a person, and as a friend, I want things that\\nmake you feel good,\" West said, and thanked Swift \"for being like, so cool\\nabout it\" after she told him she appreciates the \"heads up\" on the lyrics.\\n\"I never would\\'ve expected you to like tell me about a line in your song,\"\\nSwift said. \"I mean, I don\\'t think anybody would listen to that and be like,\\n\\'Oh, that\\'s a real diss.\\' You gotta tell the story that way that it happened to\\nyou and the way you experienced it.\"\\nShe went on to add, \"If people ask me about it, look, I think it would be\\ngreat for me to be like, \\'He called me and told me before it came out …\\nJoke\\'s on you, guys. We\\'re fine.\\' \"\\nShortly after, Swift\\'s rep told PEOPLE, \"Taylor was never made aware of the\\nactual lyrics, \\'I made that bitch famous.\\'\"\\nThe Internet immediately seemed to side with the reality star, and\\n#KimExposedTaylorParty started trending.\\nJuly 17\\n, 2016: Taylor Swift defends herself\\nafter Kim Kardashian releases Kanye West\\nphone call footage\\nSwift quickly defended herself online, noting how the phone call never\\nshowed West telling Swift he was going to call her “that bitch.” \"It doesn\\'t\\nexist because it never happened. You don\\'t get to control someone\\'s\\nAdvertisement\\nAd\\ni\\nThe Rewind: \\'13 Going 30\\'\\xa0\\nSUBSCRIBE\\nSKIP TO CONTENT\\n', metadata={'source': 'DataRepository/tswift_fued.pdf', 'file_path': 'DataRepository/tswift_fued.pdf', 'page': 7, 'total_pages': 22, 'format': 'PDF 1.4', 'title': \"A Timeline of Taylor Swift and Kim Kardashian's Feud\", 'author': '', 'subject': '', 'keywords': '', 'creator': 'Mozilla/5.0 (Windows NT 10.0; Win64; x64) AppleWebKit/537.36 (KHTML, like Gecko) Chrome/123.0.0.0 Safari/537.36', 'producer': 'Skia/PDF m123', 'creationDate': \"D:20240423220523+00'00'\", 'modDate': \"D:20240423220523+00'00'\", 'trapped': ''}),\n",
              " Document(page_content='4/23/24, 6:05 PM\\nA Timeline of Taylor Swift and Kim Kardashian\\'s Feud\\nhttps://people.com/taylor-swift-and-kim-kardashian-feud-timeline-8412119\\n9/22\\nemotional response to being called \\'that bitch\\' in front of the entire world,\"\\nshe wrote in a note.\\n\"Of course I wanted to like the song. I wanted to believe Kanye when he\\ntold me that I would love the song. I wanted us to have a friendly\\nrelationship. He promised to play the song for me, but he never did. While\\nI wanted to be supportive of Kanye on the phone call, you cannot\\n\\'approve\\' a song you haven\\'t heard. Being falsely painted as a liar when I\\nwas never given the full story or played any part of the song is character\\nassassination.\"\\n\"I would very much like to be excluded from this narrative, one that I have\\nnever asked to be a part of, since 2009,\" Swift continued. She captioned\\nthe post, \"That moment when Kanye West secretly records your phone call,\\nthen Kim posts it on the Internet.\"\\nAugust 27\\n, 2017: Taylor Swift references\\nKanye West and Kim Kardashian drama in\\n“Look What You Made Me Do” music video\\xa0\\nTaylor Swift - Look What You Made Me Do\\nTaylor Swift - Look What You Made Me Do\\nAdvertisement\\nAd\\ni\\nThe Rewind: \\'13 Going 30\\'\\xa0\\nSUBSCRIBE\\nSKIP TO CONTENT\\n', metadata={'source': 'DataRepository/tswift_fued.pdf', 'file_path': 'DataRepository/tswift_fued.pdf', 'page': 8, 'total_pages': 22, 'format': 'PDF 1.4', 'title': \"A Timeline of Taylor Swift and Kim Kardashian's Feud\", 'author': '', 'subject': '', 'keywords': '', 'creator': 'Mozilla/5.0 (Windows NT 10.0; Win64; x64) AppleWebKit/537.36 (KHTML, like Gecko) Chrome/123.0.0.0 Safari/537.36', 'producer': 'Skia/PDF m123', 'creationDate': \"D:20240423220523+00'00'\", 'modDate': \"D:20240423220523+00'00'\", 'trapped': ''}),\n",
              " Document(page_content='4/23/24, 6:05 PM\\nA Timeline of Taylor Swift and Kim Kardashian\\'s Feud\\nhttps://people.com/taylor-swift-and-kim-kardashian-feud-timeline-8412119\\n10/22\\nAlmost a year after Kardashian shared the secretly recorded phone call on\\nher Snapchat between her then-husband West and Swift, Swift announced\\nthe release of her sixth studio album, Reputation. Swift teased the news\\nwith a series of mysterious Instagram videos depicting a serpent. This\\nappeared to be her way of reclaiming the snake emoji posted in her\\nInstagram comments section (implying that she was a liar).\\nIn the music video for the song’s lead single “Look What You Made Me\\nDo,” Swift referenced the drama with various Easter eggs throughout the\\nvideo. In addition to having various snake imagery throughout, she also\\nhad the quote “Et tu, Brute” from William Shakespeare’s play Julius Caesar\\nwritten on her chair as a reference to West stabbing her in the back.\\xa0\\nAt the end of the video, she further referenced the drama as several\\ndifferent “versions of herself” lined up in a row, including one that kept\\ntaking videos on her phone, saying, “I’m going to edit this later.”\\xa0\\nJanuary 14, 2019: Kim Kardashian claims\\nthere’s no more “Bad Blood” with Taylor\\nSwift\\nIn January 2019, Kardashian cleared the air during an appearance on\\nWatch What Happens Live with Andy Cohen, during the show\\'s \"Squash\\nThat Beef!\" segment. When asked about if her feud with Swift over the\\nleaked phone calls was still ongoing, she said she was \"over it.\"\\n\"I feel like we\\'d all moved on,\" Kardashian added of the tension between\\nthem. Later in the show, she also added that she\\'d rather be stuck in an\\nelevator with Swift than Drake — another star who\\'s had a complicated\\nhistory with West.\\nMarch 2019: Taylor Swift insinuates that Kim\\nKardashian and Kanye West still haven’t\\napologized to her\\xa0\\nAdvertisement\\nAd\\ni\\nThe Rewind: \\'13 Going 30\\'\\xa0\\nSUBSCRIBE\\nSKIP TO CONTENT\\n', metadata={'source': 'DataRepository/tswift_fued.pdf', 'file_path': 'DataRepository/tswift_fued.pdf', 'page': 9, 'total_pages': 22, 'format': 'PDF 1.4', 'title': \"A Timeline of Taylor Swift and Kim Kardashian's Feud\", 'author': '', 'subject': '', 'keywords': '', 'creator': 'Mozilla/5.0 (Windows NT 10.0; Win64; x64) AppleWebKit/537.36 (KHTML, like Gecko) Chrome/123.0.0.0 Safari/537.36', 'producer': 'Skia/PDF m123', 'creationDate': \"D:20240423220523+00'00'\", 'modDate': \"D:20240423220523+00'00'\", 'trapped': ''}),\n",
              " Document(page_content='4/23/24, 6:05 PM\\nA Timeline of Taylor Swift and Kim Kardashian\\'s Feud\\nhttps://people.com/taylor-swift-and-kim-kardashian-feud-timeline-8412119\\n11/22\\nPHOTO: KEVIN WINTER/GETTY\\nIn a candid cover story interview with Elle, Swift alluded to her rocky\\nrelationship with West and Kardashian and spoke about how she learned\\nto triumph over bullies.\\n\"I learned that disarming someone\\'s petty bullying can be as simple as\\nlearning to laugh,\" Swift wrote in Elle. \"In my experience, I\\'ve come to see\\nthat bullies want to be feared and taken seriously. A few years ago,\\nsomeone started an online hate campaign by calling me a snake on the\\ninternet.\"\\nAdvertisement\\nAd\\ni\\nThe Rewind: \\'13 Going 30\\'\\xa0\\nSUBSCRIBE\\nSKIP TO CONTENT\\n', metadata={'source': 'DataRepository/tswift_fued.pdf', 'file_path': 'DataRepository/tswift_fued.pdf', 'page': 10, 'total_pages': 22, 'format': 'PDF 1.4', 'title': \"A Timeline of Taylor Swift and Kim Kardashian's Feud\", 'author': '', 'subject': '', 'keywords': '', 'creator': 'Mozilla/5.0 (Windows NT 10.0; Win64; x64) AppleWebKit/537.36 (KHTML, like Gecko) Chrome/123.0.0.0 Safari/537.36', 'producer': 'Skia/PDF m123', 'creationDate': \"D:20240423220523+00'00'\", 'modDate': \"D:20240423220523+00'00'\", 'trapped': ''}),\n",
              " Document(page_content='4/23/24, 6:05 PM\\nA Timeline of Taylor Swift and Kim Kardashian\\'s Feud\\nhttps://people.com/taylor-swift-and-kim-kardashian-feud-timeline-8412119\\n12/22\\n\"I can\\'t tell you how hard I had to keep from laughing every time my 63-\\nfoot inflatable cobra named Karyn appeared onstage in front of 60,000\\nscreaming fans,\" she wrote. \"It\\'s the Stadium Tour equivalent of responding\\nto a troll\\'s hateful Instagram comment with \\'lol.\\'\"\\n\"It would be nice if we could get an apology from people who bully us,\"\\nSwift continued, \"but maybe all I\\'ll ever get is the satisfaction of knowing I\\ncould survive it, and thrive in spite of it.\"\\nMarch 20, 2020: The full phone call\\nbetween Kanye West and Taylor Swift leaks\\nonline\\nFour years after Kardashian shared the edited phone call between West\\nand Swift discussing his \"Famous\" lyrics, extended portions of the lengthy\\nconversation were leaked online late on March 20, 2020.\\nIn clips posted to Twitter, the rapper is heard asking Swift to release his new\\nsong on her Twitter account. \"So my next single, I wanted you to tweet it …\\nso that\\'s why I\\'m calling you. I wanted you to put the song out,\" he tells the\\nGrammy winner on the phone.\\nAfter telling Swift he included a \"very controversial line\" about her in the\\nsong, the pop star appeared to be nervous as she asks West what the lyrics\\nare. A seemingly wary Swift asks if it\\'s \"gonna be mean,\" and West\\nacknowledges even then-wife Kardashian initially felt it was \"too crazy\" but\\nhad come around. \"It\\'s like my wife\\'s favorite f---ing line,\" he says.\\n\"So it says, \\'To all my Southside n----- that know me best/ I feel like Taylor\\nSwift might owe me sex,\" continues West with a chuckle. Responds Swift\\nwith a laugh: \"That\\'s not mean.\"\\nFurther discussing his proposal to have her release the song, Swift — who\\nexpresses relief that the lyrics aren\\'t about her being \"that stupid dumb\\nbitch\" — tells West she needs to \"think about it because it is absolutely\\ncrazy.\"\\nAdvertisement\\nAd\\ni\\nThe Rewind: \\'13 Going 30\\'\\xa0\\nSUBSCRIBE\\nSKIP TO CONTENT\\n', metadata={'source': 'DataRepository/tswift_fued.pdf', 'file_path': 'DataRepository/tswift_fued.pdf', 'page': 11, 'total_pages': 22, 'format': 'PDF 1.4', 'title': \"A Timeline of Taylor Swift and Kim Kardashian's Feud\", 'author': '', 'subject': '', 'keywords': '', 'creator': 'Mozilla/5.0 (Windows NT 10.0; Win64; x64) AppleWebKit/537.36 (KHTML, like Gecko) Chrome/123.0.0.0 Safari/537.36', 'producer': 'Skia/PDF m123', 'creationDate': \"D:20240423220523+00'00'\", 'modDate': \"D:20240423220523+00'00'\", 'trapped': ''}),\n",
              " Document(page_content='4/23/24, 6:05 PM\\nA Timeline of Taylor Swift and Kim Kardashian\\'s Feud\\nhttps://people.com/taylor-swift-and-kim-kardashian-feud-timeline-8412119\\n13/22\\n\"I\\'m going to send you the song and send you the exact wording and\\neverything about it, right? And then we could sit and talk through it,\" West\\ntells Swift, who has long contended she never heard the song before its\\nrelease, at the end of the call.\\nDays later, Kardashian liked a tweet referencing the leak, stating, \"The\\nvideo showed nothing new. We all knew that. I\\'m so confused right now,\"\\nreads the tweet.\\nMarch 23, 2020: Taylor Swift responds to\\nthe leak of her full phone call with Kanye\\nWest\\n\"Instead of answering those who are asking how I feel about the video\\nfootage that leaked, proving that I was telling the truth the whole time\\nabout *that call* (you know, the one that was illegally recorded, that\\nsomebody edited and manipulated in order to frame me and put me, my\\nfamily and fans through hell for 4 years)…SWIPE UP to see what really\\nmatters,\" wrote Swift on Instagram Stories on March 23, referencing the\\nleaked call.\\n\"The World Health Organization and Feeding America are some of the\\norganizations I\\'ve been donating to. If you have the ability to, please join\\nme in donating during this crisis,\" continued Swift, directing fans to\\norganizations that are in need during the coronavirus pandemic.\\nMarch 24, 2020: Kim Kardashian responds\\nto the leak of the full phone call between\\nKanye West and Taylor Swift\\nThat same evening in late March, Kardashian returned to Twitter — albeit\\n\"embarrassed\" to do so — to clap back at Swift\\'s remarks.\\nAdvertisement\\nAd\\ni\\nThe Rewind: \\'13 Going 30\\'\\xa0\\nSUBSCRIBE\\nSKIP TO CONTENT\\n', metadata={'source': 'DataRepository/tswift_fued.pdf', 'file_path': 'DataRepository/tswift_fued.pdf', 'page': 12, 'total_pages': 22, 'format': 'PDF 1.4', 'title': \"A Timeline of Taylor Swift and Kim Kardashian's Feud\", 'author': '', 'subject': '', 'keywords': '', 'creator': 'Mozilla/5.0 (Windows NT 10.0; Win64; x64) AppleWebKit/537.36 (KHTML, like Gecko) Chrome/123.0.0.0 Safari/537.36', 'producer': 'Skia/PDF m123', 'creationDate': \"D:20240423220523+00'00'\", 'modDate': \"D:20240423220523+00'00'\", 'trapped': ''}),\n",
              " Document(page_content='4/23/24, 6:05 PM\\nA Timeline of Taylor Swift and Kim Kardashian\\'s Feud\\nhttps://people.com/taylor-swift-and-kim-kardashian-feud-timeline-8412119\\n14/22\\n\"To be clear, the only issue I ever had around the situation was that Taylor\\nlied through her publicist who stated that \\'Kanye never called to ask for\\npermission…\\' They clearly spoke so I let you all see that. Nobody ever\\ndenied the word \\'bitch\\' was used without her permission,\" tweeted\\nKardashian.\\nSwift\\'s publicist, Tree Paine, who never denied the existence of the phone\\ncall in her statements, replied this time, re-sharing her very first statement\\non the matter, and asking, \"P.S. who did you guys piss off to leak that\\nvideo?\"\\nDecember 16, 2021: Kim Kardashian says\\nshe likes all of Taylor Swift’s songs\\nDuring an interview on the Honestly podcast with host Bari Weiss,\\nKardashian was asked about Swift during a lightning question round.\\nWhen asked what her favorite Swift album was, Kardashian responded, “I\\nreally like a lot of her songs. They\\'re all super cute and catchy. I\\'d have to\\nlook in my phone to get a name [of an album].”\\xa0\\nOctober 22, 2023: Kim Kardashian reshares\\na Taylor Swift song on her Instagram Story\\xa0\\nAdvertisement\\nAd\\ni\\nThe Rewind: \\'13 Going 30\\'\\xa0\\nSUBSCRIBE\\nSKIP TO CONTENT\\n', metadata={'source': 'DataRepository/tswift_fued.pdf', 'file_path': 'DataRepository/tswift_fued.pdf', 'page': 13, 'total_pages': 22, 'format': 'PDF 1.4', 'title': \"A Timeline of Taylor Swift and Kim Kardashian's Feud\", 'author': '', 'subject': '', 'keywords': '', 'creator': 'Mozilla/5.0 (Windows NT 10.0; Win64; x64) AppleWebKit/537.36 (KHTML, like Gecko) Chrome/123.0.0.0 Safari/537.36', 'producer': 'Skia/PDF m123', 'creationDate': \"D:20240423220523+00'00'\", 'modDate': \"D:20240423220523+00'00'\", 'trapped': ''}),\n",
              " Document(page_content=\"4/23/24, 6:05 PM\\nA Timeline of Taylor Swift and Kim Kardashian's Feud\\nhttps://people.com/taylor-swift-and-kim-kardashian-feud-timeline-8412119\\n15/22\\nkimkardashian\\n364M followers\\nView profile\\n5,007,912 likes\\nkimkardashian\\nDOLCE & GABBANA ALTA MODA in Puglia 🇮🇹\\nView all 48 009 comments\\nView more on Instagram\\nAdvertisement\\nAd\\ni\\nThe Rewind: '13 Going 30'\\xa0\\nSUBSCRIBE\\nSKIP TO CONTENT\\n\", metadata={'source': 'DataRepository/tswift_fued.pdf', 'file_path': 'DataRepository/tswift_fued.pdf', 'page': 14, 'total_pages': 22, 'format': 'PDF 1.4', 'title': \"A Timeline of Taylor Swift and Kim Kardashian's Feud\", 'author': '', 'subject': '', 'keywords': '', 'creator': 'Mozilla/5.0 (Windows NT 10.0; Win64; x64) AppleWebKit/537.36 (KHTML, like Gecko) Chrome/123.0.0.0 Safari/537.36', 'producer': 'Skia/PDF m123', 'creationDate': \"D:20240423220523+00'00'\", 'modDate': \"D:20240423220523+00'00'\", 'trapped': ''}),\n",
              " Document(page_content=\"4/23/24, 6:05 PM\\nA Timeline of Taylor Swift and Kim Kardashian's Feud\\nhttps://people.com/taylor-swift-and-kim-kardashian-feud-timeline-8412119\\n16/22\\nView all 48,009 comments\\nAdd a comment...\\nAs Kardashian celebrated her birthday in 2023, she donned a flowing\\npurple dress which fans immediately drew parallels to Swift’s Speak Now\\nalbum cover. Following a flood of comments asking if she was entering her\\nSpeak Now era, the reality star raised eyebrows as she reposted a birthday\\ntribute from her friend Liz Woods, which featured Swift’s “Speak Now”\\nsong.\\xa0\\nDecember 7\\n, 2023: Taylor Swift says Kanye\\nWest and Kim Kardashian feud felt like\\n‘career death’\\xa0\\nAs Swift was named TIME’s 2023 Person of the Year, the singer opened up\\nabout a variety of topics ranging from her romantic relationships to her\\npast feuds in her cover story. In particular, she recalled the leaked phone\\ncall between her and West, that the moment and the public’s reaction felt\\nlike “a career death” and “took [her] down psychologically to a place\\n[she’d] never been before.”\\n“Make no mistake — my career was taken away from me,” the “Cruel\\nSummer” singer said.\\n“You have a fully manufactured frame job, in an illegally recorded phone\\ncall, which Kim Kardashian edited and then put out to say to everyone that\\nI was a liar,” she recalled.\\xa0\\n“That took me down psychologically to a place I’ve never been before,” the\\nGrammy winner continued. “I moved to a foreign country. I didn’t leave a\\nrental house for a year. I was afraid to get on phone calls. I pushed away\\nmost people in my life because I didn’t trust anyone anymore. I went down\\nreally, really hard.”\\nAdvertisement\\nAd\\ni\\nThe Rewind: '13 Going 30'\\xa0\\nSUBSCRIBE\\nSKIP TO CONTENT\\n\", metadata={'source': 'DataRepository/tswift_fued.pdf', 'file_path': 'DataRepository/tswift_fued.pdf', 'page': 15, 'total_pages': 22, 'format': 'PDF 1.4', 'title': \"A Timeline of Taylor Swift and Kim Kardashian's Feud\", 'author': '', 'subject': '', 'keywords': '', 'creator': 'Mozilla/5.0 (Windows NT 10.0; Win64; x64) AppleWebKit/537.36 (KHTML, like Gecko) Chrome/123.0.0.0 Safari/537.36', 'producer': 'Skia/PDF m123', 'creationDate': \"D:20240423220523+00'00'\", 'modDate': \"D:20240423220523+00'00'\", 'trapped': ''}),\n",
              " Document(page_content='4/23/24, 6:05 PM\\nA Timeline of Taylor Swift and Kim Kardashian\\'s Feud\\nhttps://people.com/taylor-swift-and-kim-kardashian-feud-timeline-8412119\\n17/22\\nApril 19, 2024: Taylor Swift seemingly sings\\nabout Kim Kardashian on The Tortured Poets\\nDepartment\\nAs Swift detailed the intense media scrutiny she has faced in the spotlight\\nin The Tortured Poets Department, she seemingly referenced Kardashian on\\ntwo tracks, \"Cassandra\" and \"thanK you aIMee,\" the latter of which notably\\nhas the letters K, I, and M capped up in the song\\'s title.\\nThe song \"thanK you aIMee,\" portrays \"Aimee\" as a school bully figure as\\nSwift recounts her attacks. that only made her stronger in the end. The other\\nsong seems to reference the Greek goddess of the same name, who was\\ngranted the power of prophecy by Apollo. However, when she rejected him,\\nhe \"sabotaged that power with a curse that no one would believe her\\npredictions,\" according to the Brooklyn Museum\\'s website.\\n\"So, they killed Cassandra first \\'cause she feared the worst/And tried to tell\\nthe town/So, they filled my cell with snakes, I regret to say/Do you believe\\nme now?\" Taylor sings in the new track, also appearing to reference the\\nsnake emoji that featured in her feud with the reality TV star.\\nApril 23: A source tells PEOPLE Kim\\nKardashian is \\'over\\' the feud\\nFollowing the release of Swift\\'s new track, a source gave PEOPLE insight\\ninto Kardashian\\'s reaction. She’s over it and thinks Taylor should move on,\"\\nthe source explained. Kardashian “doesn’t get why [Swift] keeps harping on\\nit,” the source added. “It’s been literally years.”\\nAdvertisement\\nAd\\ni\\nThe Rewind: \\'13 Going 30\\'\\xa0\\nSUBSCRIBE\\nSKIP TO CONTENT\\n', metadata={'source': 'DataRepository/tswift_fued.pdf', 'file_path': 'DataRepository/tswift_fued.pdf', 'page': 16, 'total_pages': 22, 'format': 'PDF 1.4', 'title': \"A Timeline of Taylor Swift and Kim Kardashian's Feud\", 'author': '', 'subject': '', 'keywords': '', 'creator': 'Mozilla/5.0 (Windows NT 10.0; Win64; x64) AppleWebKit/537.36 (KHTML, like Gecko) Chrome/123.0.0.0 Safari/537.36', 'producer': 'Skia/PDF m123', 'creationDate': \"D:20240423220523+00'00'\", 'modDate': \"D:20240423220523+00'00'\", 'trapped': ''}),\n",
              " Document(page_content='4/23/24, 6:05 PM\\nA Timeline of Taylor Swift and Kim Kardashian\\'s Feud\\nhttps://people.com/taylor-swift-and-kim-kardashian-feud-timeline-8412119\\n18/22\\nRecommended by\\nsponsored stories\\nRelated Articles\\nCurtis Brinkerhoff\\nExecutive Leader | Global Sales, CX Results | Hyped about\\nPromoted by Impartner Software\\nAre you ready to transform how your ecosystem team leve\\ndata? Dive into the future with my latest insights on the po\\ngenerative sales data.\\xa0 I’ve witnessed the groundbreaking i\\nImpartner Software\\nLea\\n\"They Are\\nAlready\\nLiving\\nTogether\":\\nDive Into…\\nhttps://starand…\\nThey Were\\nBeing So\\nNice While\\nI Served\\nThem.…\\nhttp://excellent…\\nAre You A\\nGOT Fan?\\nIf Yes, This\\nGame Is A\\nMust!\\nNo\\ndownload…\\nGame of Thrones\\n[Pics] At\\n78, This Is\\nWhere Tom\\nSelleck\\nLives Wit…\\nInvesting Mag…\\nAdvertisement\\nAd\\ni\\nThe Rewind: \\'13 Going 30\\'\\xa0\\nSUBSCRIBE\\nSKIP TO CONTENT\\n', metadata={'source': 'DataRepository/tswift_fued.pdf', 'file_path': 'DataRepository/tswift_fued.pdf', 'page': 17, 'total_pages': 22, 'format': 'PDF 1.4', 'title': \"A Timeline of Taylor Swift and Kim Kardashian's Feud\", 'author': '', 'subject': '', 'keywords': '', 'creator': 'Mozilla/5.0 (Windows NT 10.0; Win64; x64) AppleWebKit/537.36 (KHTML, like Gecko) Chrome/123.0.0.0 Safari/537.36', 'producer': 'Skia/PDF m123', 'creationDate': \"D:20240423220523+00'00'\", 'modDate': \"D:20240423220523+00'00'\", 'trapped': ''}),\n",
              " Document(page_content=\"4/23/24, 6:05 PM\\nA Timeline of Taylor Swift and Kim Kardashian's Feud\\nhttps://people.com/taylor-swift-and-kim-kardashian-feud-timeline-8412119\\n19/22\\nMUSIC\\nTaylor Swift Says Feud with Kanye West and Kim\\nKardashian Felt Like 'Career Death': 'I Went Down\\nReally, Really Hard'\\nBy Sadie Bell\\nMUSIC\\nTaylor Swift's Friends Say She's Always a 'Shoulder\\nto Lean on' in Life (and During Breakups)\\n(Exclusive)\\nBy Jeff Nelson\\nCOUNTRY\\nOn First Tour, Alana Springsteen Gives Thanks to\\nHer Hero: 'I Wouldn't Be the Artist I Am Without\\nTaylor' (Exclusive)\\xa0\\nBy Nancy Kruh\\nMUSIC\\nDiane Warren on Taylor Swift Releasing 'Say Don't\\nGo': 'Thanks for Taking Me Along for the Ride'\\n(Exclusive)\\nBy Brenton Blanchet and Brianne Tracy\\nBOOKS\\nTaylor Swift Song Titles and Lyrics Pop Up in the\\nNames of These 17 Books\\nBy Jenna Wang\\nPARENTS\\nKim Kardashian and Kanye West's 4 Kids: All\\nAbout North, Saint, Chicago and Psalm\\nBy Hannah Kerns\\nAdvertisement\\nAd\\ni\\nThe Rewind: '13 Going 30'\\xa0\\nSUBSCRIBE\\nSKIP TO CONTENT\\n\", metadata={'source': 'DataRepository/tswift_fued.pdf', 'file_path': 'DataRepository/tswift_fued.pdf', 'page': 18, 'total_pages': 22, 'format': 'PDF 1.4', 'title': \"A Timeline of Taylor Swift and Kim Kardashian's Feud\", 'author': '', 'subject': '', 'keywords': '', 'creator': 'Mozilla/5.0 (Windows NT 10.0; Win64; x64) AppleWebKit/537.36 (KHTML, like Gecko) Chrome/123.0.0.0 Safari/537.36', 'producer': 'Skia/PDF m123', 'creationDate': \"D:20240423220523+00'00'\", 'modDate': \"D:20240423220523+00'00'\", 'trapped': ''}),\n",
              " Document(page_content=\"4/23/24, 6:05 PM\\nA Timeline of Taylor Swift and Kim Kardashian's Feud\\nhttps://people.com/taylor-swift-and-kim-kardashian-feud-timeline-8412119\\n20/22\\nMUSIC\\nWho Are Taylor Swift's 1989 Songs About? What\\nShe Has Said About the Inspirations\\nBy Kelsie Gibson\\nMUSIC\\nTaylor Swift References Viral Boat Photo in New\\nVault Track 'Is It Over Now?': Listen\\nBy Daniela Avila\\nSPORTS\\nEverything Travis Kelce Has Said About Taylor Swift\\nBy Alexandra Schonfeld\\nMUSIC\\nTaylor Swift Delights Fans with a Long Cackle\\nDuring 'Reputation' Song at Eras Tour\\nBy Ilana Kaplan\\nPrashanth Chandrasekar\\nCEO at Stack Overflow\\nPromoted by Stack Overflow\\nToday, Stack Overflow and Google Cloud announced a land\\nstrategic partnership that will deliver new Gen AI-powered\\nto developers through the Stack Overflow platform, Googl\\nStack Overflow\\nLea\\nAdvertisement\\nAd\\ni\\nThe Rewind: '13 Going 30'\\xa0\\nSUBSCRIBE\\nSKIP TO CONTENT\\n\", metadata={'source': 'DataRepository/tswift_fued.pdf', 'file_path': 'DataRepository/tswift_fued.pdf', 'page': 19, 'total_pages': 22, 'format': 'PDF 1.4', 'title': \"A Timeline of Taylor Swift and Kim Kardashian's Feud\", 'author': '', 'subject': '', 'keywords': '', 'creator': 'Mozilla/5.0 (Windows NT 10.0; Win64; x64) AppleWebKit/537.36 (KHTML, like Gecko) Chrome/123.0.0.0 Safari/537.36', 'producer': 'Skia/PDF m123', 'creationDate': \"D:20240423220523+00'00'\", 'modDate': \"D:20240423220523+00'00'\", 'trapped': ''}),\n",
              " Document(page_content=\"4/23/24, 6:05 PM\\nA Timeline of Taylor Swift and Kim Kardashian's Feud\\nhttps://people.com/taylor-swift-and-kim-kardashian-feud-timeline-8412119\\n21/22\\nMUSIC\\nTaylor Swift and Joe Jonas' Relationship: A Look\\nBack\\nBy Kelsie Gibson\\nMUSIC\\nTaylor Swift and Taylor Lautner's Relationship: A\\nLook Back\\nBy Kelsie Gibson\\nMUSIC\\nTaylor Lautner Reacts to Taylor Swift's Upcoming\\n'Speak Now' Re-Release: 'I Feel Safe — Praying\\nfor John'\\nBy Rachel DeSantis\\nMUSIC\\nTaylor Swift and Sabrina Carpenter's Friendship\\nTimeline\\nBy Kelsie Gibson\\nMUSIC\\nWho Are Taylor Swift's 'Speak Now' Songs About?\\nWhat She Has Said About the Inspirations\\nBy Kelsie Gibson\\nMUSIC\\nTaylor Swift and John Mayer's Relationship: A\\nLook Back\\nBy Sophie Dodd\\nAdvertisement\\nAd\\ni\\nThe Rewind: '13 Going 30'\\xa0\\nSUBSCRIBE\\nSKIP TO CONTENT\\n\", metadata={'source': 'DataRepository/tswift_fued.pdf', 'file_path': 'DataRepository/tswift_fued.pdf', 'page': 20, 'total_pages': 22, 'format': 'PDF 1.4', 'title': \"A Timeline of Taylor Swift and Kim Kardashian's Feud\", 'author': '', 'subject': '', 'keywords': '', 'creator': 'Mozilla/5.0 (Windows NT 10.0; Win64; x64) AppleWebKit/537.36 (KHTML, like Gecko) Chrome/123.0.0.0 Safari/537.36', 'producer': 'Skia/PDF m123', 'creationDate': \"D:20240423220523+00'00'\", 'modDate': \"D:20240423220523+00'00'\", 'trapped': ''}),\n",
              " Document(page_content=\"4/23/24, 6:05 PM\\nA Timeline of Taylor Swift and Kim Kardashian's Feud\\nhttps://people.com/taylor-swift-and-kim-kardashian-feud-timeline-8412119\\n22/22\\nNEWSLETTERS\\nFollow Us\\nNEWS\\nENTERTAINMENT\\nROYALS\\nLIFESTYLE\\nSTYLEWATCH\\nSHOPPING\\nAbout Us\\nPEOPLE Tested\\nEditorial Policy\\nCareers\\nPrivacy Policy\\nContact Us\\nTerms of Service\\nAdvertise\\nPEOPLE is part of the Dotdash Meredith\\xa0publishing\\xa0family.\\nThe Rewind: '13 Going 30'\\xa0\\nSUBSCRIBE\\n\", metadata={'source': 'DataRepository/tswift_fued.pdf', 'file_path': 'DataRepository/tswift_fued.pdf', 'page': 21, 'total_pages': 22, 'format': 'PDF 1.4', 'title': \"A Timeline of Taylor Swift and Kim Kardashian's Feud\", 'author': '', 'subject': '', 'keywords': '', 'creator': 'Mozilla/5.0 (Windows NT 10.0; Win64; x64) AppleWebKit/537.36 (KHTML, like Gecko) Chrome/123.0.0.0 Safari/537.36', 'producer': 'Skia/PDF m123', 'creationDate': \"D:20240423220523+00'00'\", 'modDate': \"D:20240423220523+00'00'\", 'trapped': ''})]"
            ]
          },
          "execution_count": 5,
          "metadata": {},
          "output_type": "execute_result"
        }
      ],
      "source": [
        "from langchain_community.document_loaders import PyMuPDFLoader\n",
        "\n",
        "loader = PyMuPDFLoader(\n",
        "    \"DataRepository/tswift_fued.pdf\",\n",
        ")\n",
        "\n",
        "documents = loader.load()\n",
        "documents"
      ]
    },
    {
      "cell_type": "code",
      "execution_count": 6,
      "metadata": {
        "colab": {
          "base_uri": "https://localhost:8080/"
        },
        "id": "i3dJYlBCIX_p",
        "outputId": "ac2c6245-853f-4717-8917-c92b1eaca4ba"
      },
      "outputs": [
        {
          "data": {
            "text/plain": [
              "{'source': 'DataRepository/tswift_fued.pdf',\n",
              " 'file_path': 'DataRepository/tswift_fued.pdf',\n",
              " 'page': 0,\n",
              " 'total_pages': 22,\n",
              " 'format': 'PDF 1.4',\n",
              " 'title': \"A Timeline of Taylor Swift and Kim Kardashian's Feud\",\n",
              " 'author': '',\n",
              " 'subject': '',\n",
              " 'keywords': '',\n",
              " 'creator': 'Mozilla/5.0 (Windows NT 10.0; Win64; x64) AppleWebKit/537.36 (KHTML, like Gecko) Chrome/123.0.0.0 Safari/537.36',\n",
              " 'producer': 'Skia/PDF m123',\n",
              " 'creationDate': \"D:20240423220523+00'00'\",\n",
              " 'modDate': \"D:20240423220523+00'00'\",\n",
              " 'trapped': ''}"
            ]
          },
          "execution_count": 6,
          "metadata": {},
          "output_type": "execute_result"
        }
      ],
      "source": [
        "documents[0].metadata"
      ]
    },
    {
      "cell_type": "markdown",
      "metadata": {
        "id": "oQUl3sbZK4_1"
      },
      "source": [
        "#### Transforming Data\n",
        "\n",
        "Now that we've got our single document - let's split it into smaller pieces so we can more effectively leverage it with our retrieval chain!\n",
        "\n",
        "We'll start with the classic: `RecursiveCharacterTextSplitter`."
      ]
    },
    {
      "cell_type": "code",
      "execution_count": 7,
      "metadata": {
        "id": "6Nt2E1xnLNgr"
      },
      "outputs": [],
      "source": [
        "from langchain.text_splitter import RecursiveCharacterTextSplitter\n",
        "\n",
        "text_splitter = RecursiveCharacterTextSplitter(\n",
        "    chunk_size = 200,\n",
        "    chunk_overlap = 50\n",
        ")\n",
        "\n",
        "documents = text_splitter.split_documents(documents)"
      ]
    },
    {
      "cell_type": "markdown",
      "metadata": {
        "id": "ilzwQxhiLcVV"
      },
      "source": [
        "Let's confirm we've split our document."
      ]
    },
    {
      "cell_type": "code",
      "execution_count": 8,
      "metadata": {
        "colab": {
          "base_uri": "https://localhost:8080/"
        },
        "id": "4wRw6a4aLfWh",
        "outputId": "af2be7fc-1411-4be0-812e-9b98ebebed5b"
      },
      "outputs": [
        {
          "data": {
            "text/plain": [
              "177"
            ]
          },
          "execution_count": 8,
          "metadata": {},
          "output_type": "execute_result"
        }
      ],
      "source": [
        "len(documents)"
      ]
    },
    {
      "cell_type": "markdown",
      "metadata": {
        "id": "eZ93HkYcMJwW"
      },
      "source": [
        "#### Loading OpenAI Embeddings Model\n",
        "\n",
        "We'll need a process by which we can convert our text into vectors that allow us to compare to our query vector.\n",
        "\n",
        "Let's use OpenAI's `text-embedding-ada-002` for this task!"
      ]
    },
    {
      "cell_type": "code",
      "execution_count": 9,
      "metadata": {},
      "outputs": [
        {
          "data": {
            "text/plain": [
              "True"
            ]
          },
          "execution_count": 9,
          "metadata": {},
          "output_type": "execute_result"
        }
      ],
      "source": [
        "from dotenv import load_dotenv\n",
        "load_dotenv()"
      ]
    },
    {
      "cell_type": "code",
      "execution_count": 10,
      "metadata": {
        "id": "JU6CrDVZMgKe"
      },
      "outputs": [
        {
          "data": {
            "text/plain": [
              "OpenAIEmbeddings(client=<openai.resources.embeddings.Embeddings object at 0x11b9f2a90>, async_client=<openai.resources.embeddings.AsyncEmbeddings object at 0x11c220fd0>, model='text-embedding-ada-002', dimensions=None, deployment='text-embedding-ada-002', openai_api_version='', openai_api_base=None, openai_api_type='', openai_proxy='', embedding_ctx_length=8191, openai_api_key=SecretStr('**********'), openai_organization=None, allowed_special=set(), disallowed_special='all', chunk_size=1000, max_retries=2, request_timeout=None, headers=None, tiktoken_enabled=True, tiktoken_model_name=None, show_progress_bar=False, model_kwargs={}, skip_empty=False, default_headers=None, default_query=None, retry_min_seconds=4, retry_max_seconds=20, http_client=None, http_async_client=None, check_embedding_ctx_length=True)"
            ]
          },
          "execution_count": 10,
          "metadata": {},
          "output_type": "execute_result"
        }
      ],
      "source": [
        "from langchain_openai import OpenAIEmbeddings, AzureOpenAIEmbeddings\n",
        "\n",
        "embeddings = OpenAIEmbeddings(\n",
        "    model=\"text-embedding-ada-002\"\n",
        ")\n",
        "#embeddings = AzureOpenAIEmbeddings(\n",
        "#    azure_deployment=\"text-embedding-3-small\"\n",
        "#)\n",
        "embeddings"
      ]
    },
    {
      "cell_type": "markdown",
      "metadata": {
        "id": "rVtZR9JPLtR4"
      },
      "source": [
        "#### Creating a QDrant VectorStore\n",
        "\n",
        "Now that we have documents - we'll need a place to store them alongside their embeddings."
      ]
    },
    {
      "cell_type": "code",
      "execution_count": 11,
      "metadata": {
        "id": "978TWiCtMA0B"
      },
      "outputs": [],
      "source": [
        "from langchain_community.vectorstores import Qdrant\n",
        "\n",
        "qdrant_vector_store = Qdrant.from_documents(\n",
        "    documents,\n",
        "    embeddings,\n",
        "    location=\":memory:\",\n",
        "    collection_name=\"Taylor Swift - Fued - ADA\",\n",
        ")"
      ]
    },
    {
      "cell_type": "markdown",
      "metadata": {
        "id": "Vk50NmrMDlWu"
      },
      "source": [
        "####❓ Question #1:\n",
        "\n",
        "List out a few of the techniques that Qdrant uses that make it performant.\n",
        "\n",
        "> NOTE: Check the [documentation](https://qdrant.tech/documentation/overview/) for more information about FAISS!"
      ]
    },
    {
      "cell_type": "markdown",
      "metadata": {},
      "source": [
        "some techniques Qdrant uses to make it efficient are Vector indexing, HNSW graph-based indexing enabling quick ANN searches, parallel processing using multithreading, memory management"
      ]
    },
    {
      "cell_type": "markdown",
      "metadata": {
        "id": "Z7ht6bJX9PAY"
      },
      "source": [
        "#### Creating a Retriever\n",
        "\n",
        "To complete our index, all that's left to do is expose our vectorstore as a retriever - which we can do the same way we would in previous version of LangChain!"
      ]
    },
    {
      "cell_type": "code",
      "execution_count": 12,
      "metadata": {
        "id": "xne8P5dQTUiR"
      },
      "outputs": [
        {
          "data": {
            "text/plain": [
              "VectorStoreRetriever(tags=['Qdrant', 'OpenAIEmbeddings'], vectorstore=<langchain_community.vectorstores.qdrant.Qdrant object at 0x129096350>)"
            ]
          },
          "execution_count": 12,
          "metadata": {},
          "output_type": "execute_result"
        }
      ],
      "source": [
        "retriever = qdrant_vector_store.as_retriever()\n",
        "retriever"
      ]
    },
    {
      "cell_type": "markdown",
      "metadata": {
        "id": "sO_DFBVKNvNm"
      },
      "source": [
        "#### Testing our Retriever\n",
        "\n",
        "Now that we've gone through the trouble of creating our retriever - let's see it in action!"
      ]
    },
    {
      "cell_type": "code",
      "execution_count": 13,
      "metadata": {
        "id": "I9_ONxpnN0n6"
      },
      "outputs": [],
      "source": [
        "retrieved_documents = retriever.invoke(\"Who is Taylor Swift fueding with?\")"
      ]
    },
    {
      "cell_type": "code",
      "execution_count": 14,
      "metadata": {
        "colab": {
          "base_uri": "https://localhost:8080/"
        },
        "id": "-Za12yt4OBy1",
        "outputId": "59e72851-ef63-412e-b458-3fe9f895dff5"
      },
      "outputs": [
        {
          "name": "stdout",
          "output_type": "stream",
          "text": [
            "page_content=\"4/23/24, 6:05 PM\\nA Timeline of Taylor Swift and Kim Kardashian's Feud\\nhttps://people.com/taylor-swift-and-kim-kardashian-feud-timeline-8412119\\n19/22\\nMUSIC\" metadata={'source': 'DataRepository/tswift_fued.pdf', 'file_path': 'DataRepository/tswift_fued.pdf', 'page': 18, 'total_pages': 22, 'format': 'PDF 1.4', 'title': \"A Timeline of Taylor Swift and Kim Kardashian's Feud\", 'author': '', 'subject': '', 'keywords': '', 'creator': 'Mozilla/5.0 (Windows NT 10.0; Win64; x64) AppleWebKit/537.36 (KHTML, like Gecko) Chrome/123.0.0.0 Safari/537.36', 'producer': 'Skia/PDF m123', 'creationDate': \"D:20240423220523+00'00'\", 'modDate': \"D:20240423220523+00'00'\", 'trapped': '', '_id': '16a29e3eff68428ca2973fc1126c5fe4', '_collection_name': 'Taylor Swift - Fued - ADA'}\n",
            "page_content=\"4/23/24, 6:05 PM\\nA Timeline of Taylor Swift and Kim Kardashian's Feud\\nhttps://people.com/taylor-swift-and-kim-kardashian-feud-timeline-8412119\\n21/22\\nMUSIC\" metadata={'source': 'DataRepository/tswift_fued.pdf', 'file_path': 'DataRepository/tswift_fued.pdf', 'page': 20, 'total_pages': 22, 'format': 'PDF 1.4', 'title': \"A Timeline of Taylor Swift and Kim Kardashian's Feud\", 'author': '', 'subject': '', 'keywords': '', 'creator': 'Mozilla/5.0 (Windows NT 10.0; Win64; x64) AppleWebKit/537.36 (KHTML, like Gecko) Chrome/123.0.0.0 Safari/537.36', 'producer': 'Skia/PDF m123', 'creationDate': \"D:20240423220523+00'00'\", 'modDate': \"D:20240423220523+00'00'\", 'trapped': '', '_id': '9ef0d6e3374b432bb2661442244a8c82', '_collection_name': 'Taylor Swift - Fued - ADA'}\n",
            "page_content=\"4/23/24, 6:05 PM\\nA Timeline of Taylor Swift and Kim Kardashian's Feud\\nhttps://people.com/taylor-swift-and-kim-kardashian-feud-timeline-8412119\\n5/22\\nPHOTO: KEVIN MAZUR/MTV1415/WIREIMAGE\" metadata={'source': 'DataRepository/tswift_fued.pdf', 'file_path': 'DataRepository/tswift_fued.pdf', 'page': 4, 'total_pages': 22, 'format': 'PDF 1.4', 'title': \"A Timeline of Taylor Swift and Kim Kardashian's Feud\", 'author': '', 'subject': '', 'keywords': '', 'creator': 'Mozilla/5.0 (Windows NT 10.0; Win64; x64) AppleWebKit/537.36 (KHTML, like Gecko) Chrome/123.0.0.0 Safari/537.36', 'producer': 'Skia/PDF m123', 'creationDate': \"D:20240423220523+00'00'\", 'modDate': \"D:20240423220523+00'00'\", 'trapped': '', '_id': 'a5ce4b95701c4dd4a2de089772f341e8', '_collection_name': 'Taylor Swift - Fued - ADA'}\n",
            "page_content=\"4/23/24, 6:05 PM\\nA Timeline of Taylor Swift and Kim Kardashian's Feud\\nhttps://people.com/taylor-swift-and-kim-kardashian-feud-timeline-8412119\\n11/22\\nPHOTO: KEVIN WINTER/GETTY\" metadata={'source': 'DataRepository/tswift_fued.pdf', 'file_path': 'DataRepository/tswift_fued.pdf', 'page': 10, 'total_pages': 22, 'format': 'PDF 1.4', 'title': \"A Timeline of Taylor Swift and Kim Kardashian's Feud\", 'author': '', 'subject': '', 'keywords': '', 'creator': 'Mozilla/5.0 (Windows NT 10.0; Win64; x64) AppleWebKit/537.36 (KHTML, like Gecko) Chrome/123.0.0.0 Safari/537.36', 'producer': 'Skia/PDF m123', 'creationDate': \"D:20240423220523+00'00'\", 'modDate': \"D:20240423220523+00'00'\", 'trapped': '', '_id': '15a832b4bf5f4228b87e29a41f93306e', '_collection_name': 'Taylor Swift - Fued - ADA'}\n"
          ]
        }
      ],
      "source": [
        "for doc in retrieved_documents:\n",
        "  print(doc)"
      ]
    },
    {
      "cell_type": "markdown",
      "metadata": {
        "id": "D8MKsT6JTgCU"
      },
      "source": [
        "### Creating a RAG Chain\n",
        "\n",
        "Now that we have the \"R\" in RAG taken care of - let's look at creating the \"AG\"!"
      ]
    },
    {
      "cell_type": "markdown",
      "metadata": {
        "id": "zs7qBLaEQEic"
      },
      "source": [
        "#### Creating a Prompt Template\n",
        "\n",
        "There are a few different ways we could create our prompt template - we could create a custom template, as seen in the code below, or we could simply pull a prompt from the prompt hub! Let's look at an example of that!"
      ]
    },
    {
      "cell_type": "code",
      "execution_count": 15,
      "metadata": {
        "id": "eRCq_OKUQbKk"
      },
      "outputs": [],
      "source": [
        "from langchain import hub\n",
        "\n",
        "retrieval_qa_prompt = hub.pull(\"langchain-ai/retrieval-qa-chat\")"
      ]
    },
    {
      "cell_type": "code",
      "execution_count": 16,
      "metadata": {
        "colab": {
          "base_uri": "https://localhost:8080/"
        },
        "id": "FziTftV5Q1H-",
        "outputId": "29059829-820d-4127-a8ef-9224f2758a26"
      },
      "outputs": [
        {
          "name": "stdout",
          "output_type": "stream",
          "text": [
            "Answer any use questions based solely on the context below:\n",
            "\n",
            "<context>\n",
            "{context}\n",
            "</context>\n"
          ]
        }
      ],
      "source": [
        "print(retrieval_qa_prompt.messages[0].prompt.template)"
      ]
    },
    {
      "cell_type": "markdown",
      "metadata": {
        "id": "iyq88IPFRGoT"
      },
      "source": [
        "As you can see - the prompt template is simple (and has a small error) - so we'll create our own to be a bit more specific!"
      ]
    },
    {
      "cell_type": "code",
      "execution_count": 17,
      "metadata": {
        "id": "ijSNkTAjTsep"
      },
      "outputs": [],
      "source": [
        "from langchain.prompts import ChatPromptTemplate\n",
        "\n",
        "template = \"\"\"Answer the question based only on the following context. If you cannot answer the question with the context, please respond with 'I don't know':\n",
        "\n",
        "Context:\n",
        "{context}\n",
        "\n",
        "Question:\n",
        "{question}\n",
        "\"\"\"\n",
        "\n",
        "prompt = ChatPromptTemplate.from_template(template)"
      ]
    },
    {
      "cell_type": "markdown",
      "metadata": {
        "id": "BYHnPaXl-cvJ"
      },
      "source": [
        "#### Setting Up our Basic QA Chain\n",
        "\n",
        "Now we can instantiate our basic RAG chain!\n",
        "\n",
        "We'll use LCEL directly just to see an example of it - but you could just as easily use an abstraction here to achieve the same goal!\n",
        "\n",
        "We'll also ensure to pass-through our context - which is critical for RAGAS."
      ]
    },
    {
      "cell_type": "code",
      "execution_count": 18,
      "metadata": {
        "id": "-TsjUWjbUfbW"
      },
      "outputs": [
        {
          "data": {
            "text/plain": [
              "ChatOpenAI(client=<openai.resources.chat.completions.Completions object at 0x128d663d0>, async_client=<openai.resources.chat.completions.AsyncCompletions object at 0x12feb94d0>, temperature=0.0, openai_api_key=SecretStr('**********'), openai_proxy='')"
            ]
          },
          "execution_count": 18,
          "metadata": {},
          "output_type": "execute_result"
        }
      ],
      "source": [
        "from operator import itemgetter\n",
        "\n",
        "from langchain_openai import ChatOpenAI, AzureChatOpenAI\n",
        "from langchain_core.output_parsers import StrOutputParser\n",
        "from langchain_core.runnables import RunnablePassthrough\n",
        "\n",
        "primary_qa_llm = ChatOpenAI(model_name=\"gpt-3.5-turbo\", temperature=0)\n",
        "#primary_qa_llm = AzureChatOpenAI(azure_deployment=\"gpt4-32k\",\n",
        "#                                openai_api_version=os.environ['AZURE_OPENAI_API_VERSION'])\n",
        "primary_qa_llm"
      ]
    },
    {
      "cell_type": "code",
      "execution_count": 19,
      "metadata": {},
      "outputs": [],
      "source": [
        "retrieval_augmented_qa_chain = (\n",
        "    # INVOKE CHAIN WITH: {\"question\" : \"<<SOME USER QUESTION>>\"}\n",
        "    # \"question\" : populated by getting the value of the \"question\" key\n",
        "    # \"context\"  : populated by getting the value of the \"question\" key and chaining it into the base_retriever\n",
        "    {\"context\": itemgetter(\"question\") | retriever, \"question\": itemgetter(\"question\")}\n",
        "    # \"context\"  : is assigned to a RunnablePassthrough object (will not be called or considered in the next step)\n",
        "    #              by getting the value of the \"context\" key from the previous step\n",
        "    | RunnablePassthrough.assign(context=itemgetter(\"context\"))\n",
        "    # \"response\" : the \"context\" and \"question\" values are used to format our prompt object and then piped\n",
        "    #              into the LLM and stored in a key called \"response\"\n",
        "    # \"context\"  : populated by getting the value of the \"context\" key from the previous step\n",
        "    | {\"response\": prompt | primary_qa_llm, \"context\": itemgetter(\"context\")}\n",
        ")"
      ]
    },
    {
      "cell_type": "markdown",
      "metadata": {
        "id": "7MgAa9JwBuJx"
      },
      "source": [
        "####🏗️ Activity #1:\n",
        "\n",
        "Describe the pipeline shown above in simple terms. You can include a diagram if desired."
      ]
    },
    {
      "cell_type": "markdown",
      "metadata": {},
      "source": [
        "**ANSWER:**\n",
        "- we are using LCEL to create qa chain where we get context first by passing question to retriever and context is assigned to RunnablePassthrough, later by using context and question values are used in our prompt which then passed to llm to get response also we collect context information"
      ]
    },
    {
      "cell_type": "markdown",
      "metadata": {
        "id": "zO69de-F-oMD"
      },
      "source": [
        "Let's test it out!"
      ]
    },
    {
      "cell_type": "code",
      "execution_count": 20,
      "metadata": {
        "colab": {
          "base_uri": "https://localhost:8080/"
        },
        "id": "2FS5NxC6UyU2",
        "outputId": "bd91337c-dfeb-47b3-f66f-4b60a7bb1673"
      },
      "outputs": [
        {
          "name": "stdout",
          "output_type": "stream",
          "text": [
            "Kim Kardashian\n"
          ]
        }
      ],
      "source": [
        "question = \"Who is Taylor Swift fueding with?\"\n",
        "\n",
        "result = retrieval_augmented_qa_chain.invoke({\"question\" : question})\n",
        "\n",
        "print(result[\"response\"].content)"
      ]
    },
    {
      "cell_type": "code",
      "execution_count": 21,
      "metadata": {
        "colab": {
          "base_uri": "https://localhost:8080/"
        },
        "id": "tIuHVGPOO9P2",
        "outputId": "e5fb4abe-be4a-4a5e-cc68-486de3cb72c8"
      },
      "outputs": [
        {
          "name": "stdout",
          "output_type": "stream",
          "text": [
            "I don't know.\n",
            "****\n",
            "discussed the longstanding feud between West and Swift in great detail, as\n",
            "well as West's controversial rant during his appearance on Saturday Night\n"
          ]
        }
      ],
      "source": [
        "question = \"Why are they fueding?\"\n",
        "\n",
        "result = retrieval_augmented_qa_chain.invoke({\"question\" : question})\n",
        "\n",
        "print(result[\"response\"].content)\n",
        "print(\"****\")\n",
        "print(result[\"context\"][0].page_content)"
      ]
    },
    {
      "cell_type": "markdown",
      "metadata": {
        "id": "a-XYZueEP42k"
      },
      "source": [
        "We can already see that there are some improvements we could make here.\n",
        "\n",
        "For now, let's switch gears to RAGAS to see how we can leverage that tool to provide us insight into how our pipeline is performing!"
      ]
    },
    {
      "cell_type": "markdown",
      "metadata": {
        "id": "oM4fmAnsBmL2"
      },
      "source": [
        "# 🤝 Breakout Room Part #2"
      ]
    },
    {
      "cell_type": "markdown",
      "metadata": {
        "id": "EOECHyzHRqDw"
      },
      "source": [
        "## Task 1: Synthetic Dataset Generation for Evaluation using Ragas\n",
        "\n",
        "Ragas is a powerful library that lets us evaluate our RAG pipeline by collecting input/output/context triplets and obtaining metrics relating to a number of different aspects of our RAG pipeline.\n",
        "\n",
        "We'll be evaluating on every core metric today, but in order to do that - we'll need to create a test set. Luckily for us, Ragas can do that directly!"
      ]
    },
    {
      "cell_type": "markdown",
      "metadata": {
        "id": "KqXQ0jweWJOu"
      },
      "source": [
        "### Synthetic Test Set Generation\n",
        "\n",
        "We can leverage Ragas' [`Synthetic Test Data generation`](https://docs.ragas.io/en/stable/concepts/testset_generation.html) functionality to generate our own synthetic QC pairs - as well as a synthetic ground truth - quite easily!\n",
        "\n",
        "> NOTE: This process will use `gpt-3.5-turbo-16k` as the base generator and `gpt-4` as the critic - if you're attempting to create a lot of samples please be aware of cost, as well as rate limits."
      ]
    },
    {
      "cell_type": "code",
      "execution_count": 22,
      "metadata": {
        "id": "nVk5SlU9znXe"
      },
      "outputs": [],
      "source": [
        "loader = PyMuPDFLoader(\n",
        "    \"DataRepository/tswift_fued.pdf\",\n",
        ")\n",
        "\n",
        "eval_documents = loader.load()\n",
        "\n",
        "text_splitter_eval = RecursiveCharacterTextSplitter(\n",
        "    chunk_size = 600,\n",
        "    chunk_overlap = 50\n",
        ")\n",
        "\n",
        "eval_documents = text_splitter_eval.split_documents(eval_documents)"
      ]
    },
    {
      "cell_type": "markdown",
      "metadata": {
        "id": "K7rOQkxhzrq3"
      },
      "source": [
        "####❓ Question #2:\n",
        "\n",
        "Why is it important to split our documents using different parameters when creating our synthetic data?"
      ]
    },
    {
      "cell_type": "markdown",
      "metadata": {},
      "source": [
        "**ANSWER**:\n",
        "To make sure we get difference context, question adn answers for evaluation set which should be different from original set in order to performance evaluation meaninfully, also this helps to do validation."
      ]
    },
    {
      "cell_type": "code",
      "execution_count": 23,
      "metadata": {
        "colab": {
          "base_uri": "https://localhost:8080/"
        },
        "id": "hiAPYw-hz-zo",
        "outputId": "d70c8538-e3b2-403e-9671-0ee1434c4481"
      },
      "outputs": [
        {
          "data": {
            "text/plain": [
              "56"
            ]
          },
          "execution_count": 23,
          "metadata": {},
          "output_type": "execute_result"
        }
      ],
      "source": [
        "len(eval_documents)"
      ]
    },
    {
      "cell_type": "markdown",
      "metadata": {
        "id": "HYCrVMW9Blda"
      },
      "source": [
        "> NOTE: This cell will take ~5-6min. to generate. If you run into any rate-limit issues - please use GPT-3.5-Turbo as your `critic_llm`. If you see any fields marked `nan` - this is product of rate-limiting issues, and you can safely ignore them for now."
      ]
    },
    {
      "cell_type": "code",
      "execution_count": 24,
      "metadata": {},
      "outputs": [
        {
          "data": {
            "text/plain": [
              "OpenAIEmbeddings(client=<openai.resources.embeddings.Embeddings object at 0x11b9f2a90>, async_client=<openai.resources.embeddings.AsyncEmbeddings object at 0x11c220fd0>, model='text-embedding-ada-002', dimensions=None, deployment='text-embedding-ada-002', openai_api_version='', openai_api_base=None, openai_api_type='', openai_proxy='', embedding_ctx_length=8191, openai_api_key=SecretStr('**********'), openai_organization=None, allowed_special=set(), disallowed_special='all', chunk_size=1000, max_retries=2, request_timeout=None, headers=None, tiktoken_enabled=True, tiktoken_model_name=None, show_progress_bar=False, model_kwargs={}, skip_empty=False, default_headers=None, default_query=None, retry_min_seconds=4, retry_max_seconds=20, http_client=None, http_async_client=None, check_embedding_ctx_length=True)"
            ]
          },
          "execution_count": 24,
          "metadata": {},
          "output_type": "execute_result"
        }
      ],
      "source": [
        "embeddings"
      ]
    },
    {
      "cell_type": "code",
      "execution_count": null,
      "metadata": {},
      "outputs": [],
      "source": []
    },
    {
      "cell_type": "code",
      "execution_count": 25,
      "metadata": {
        "colab": {
          "base_uri": "https://localhost:8080/",
          "height": 1000,
          "referenced_widgets": [
            "c173b14963844b90b45bb7306fd72484",
            "e74934ca95db49e088e978f3014591d3",
            "291e0a01c3e84b839d7ab677d9f8a074",
            "adb9ad0e77e344fca71e4d7f2fd79c66",
            "14c415af32d54784871d892d13338148",
            "90fe2a85593d4f2f83c5e1ea2303bb11",
            "04fb2aabb5164e63a01ef7de283e369b",
            "7729ca7a0a914d7187c2a4bad2180a65",
            "3eff985efa934fe8a2db753fc7e5d8dc",
            "a3cc61e2fc854b26ad2ba3b6a68add50",
            "d1c95ea15ab5400db377fd3d54fd7e21",
            "a10a3efc00644613a610a54e9e0080a3",
            "cdf3ff710cbb4ab09f59a2f317e2162d",
            "8b226a0c779a49a8b0efdfa4156afc31",
            "e8cc5f2707724b9faf50e1b86e6f1890",
            "a32d9af8b8444a8e80f7473dbe791d3c",
            "6564a4092ce04ff5a63a2618158fcc3a",
            "892075b88eba4ec19f7d77cbab38572f",
            "ec0f5e8999004da8826646a0cd0d0a01",
            "1a96adc24ab34300b3b68e46364f745b",
            "768bed58cacf44178ac16912e14ac434",
            "aa309f56fa494d768e9dfd87ef1412aa"
          ]
        },
        "id": "IXc6sMglSej_",
        "outputId": "86b50295-0f50-48d8-baea-461eb200077e"
      },
      "outputs": [
        {
          "data": {
            "application/vnd.jupyter.widget-view+json": {
              "model_id": "ea725244571947c2bed366ac5e5d9261",
              "version_major": 2,
              "version_minor": 0
            },
            "text/plain": [
              "embedding nodes:   0%|          | 0/112 [00:00<?, ?it/s]"
            ]
          },
          "metadata": {},
          "output_type": "display_data"
        },
        {
          "name": "stderr",
          "output_type": "stream",
          "text": [
            "Filename and doc_id are the same for all nodes.\n"
          ]
        },
        {
          "data": {
            "application/vnd.jupyter.widget-view+json": {
              "model_id": "cbef07f3904045f5b4fbd5c246de0e10",
              "version_major": 2,
              "version_minor": 0
            },
            "text/plain": [
              "Generating:   0%|          | 0/12 [00:00<?, ?it/s]"
            ]
          },
          "metadata": {},
          "output_type": "display_data"
        },
        {
          "data": {
            "text/html": [
              "<div>\n",
              "<style scoped>\n",
              "    .dataframe tbody tr th:only-of-type {\n",
              "        vertical-align: middle;\n",
              "    }\n",
              "\n",
              "    .dataframe tbody tr th {\n",
              "        vertical-align: top;\n",
              "    }\n",
              "\n",
              "    .dataframe thead th {\n",
              "        text-align: right;\n",
              "    }\n",
              "</style>\n",
              "<table border=\"1\" class=\"dataframe\">\n",
              "  <thead>\n",
              "    <tr style=\"text-align: right;\">\n",
              "      <th></th>\n",
              "      <th>question</th>\n",
              "      <th>contexts</th>\n",
              "      <th>ground_truth</th>\n",
              "      <th>evolution_type</th>\n",
              "      <th>metadata</th>\n",
              "      <th>episode_done</th>\n",
              "    </tr>\n",
              "  </thead>\n",
              "  <tbody>\n",
              "    <tr>\n",
              "      <th>0</th>\n",
              "      <td>What is Taylor Swift's feud with Kanye West an...</td>\n",
              "      <td>[4/23/24, 6:05 PM\\nA Timeline of Taylor Swift ...</td>\n",
              "      <td>nan</td>\n",
              "      <td>simple</td>\n",
              "      <td>[{'source': 'DataRepository/tswift_fued.pdf', ...</td>\n",
              "      <td>True</td>\n",
              "    </tr>\n",
              "    <tr>\n",
              "      <th>1</th>\n",
              "      <td>What was the significance of the secretly reco...</td>\n",
              "      <td>[4/23/24, 6:05 PM\\nA Timeline of Taylor Swift ...</td>\n",
              "      <td>The significance of the secretly recorded phon...</td>\n",
              "      <td>simple</td>\n",
              "      <td>[{'source': 'DataRepository/tswift_fued.pdf', ...</td>\n",
              "      <td>True</td>\n",
              "    </tr>\n",
              "    <tr>\n",
              "      <th>2</th>\n",
              "      <td>What did Taylor Swift's spokesperson say about...</td>\n",
              "      <td>[called to get it approved.\"\\nJune 2016: Taylo...</td>\n",
              "      <td>Taylor Swift's spokesperson said that much of ...</td>\n",
              "      <td>simple</td>\n",
              "      <td>[{'source': 'DataRepository/tswift_fued.pdf', ...</td>\n",
              "      <td>True</td>\n",
              "    </tr>\n",
              "    <tr>\n",
              "      <th>3</th>\n",
              "      <td>What evidence suggests that Kim Kardashian is ...</td>\n",
              "      <td>[me now?\" Taylor sings in the new track, also ...</td>\n",
              "      <td>nan</td>\n",
              "      <td>simple</td>\n",
              "      <td>[{'source': 'DataRepository/tswift_fued.pdf', ...</td>\n",
              "      <td>True</td>\n",
              "    </tr>\n",
              "    <tr>\n",
              "      <th>4</th>\n",
              "      <td>What was the significance of Taylor Swift and ...</td>\n",
              "      <td>[4/23/24, 6:05 PM\\nA Timeline of Taylor Swift ...</td>\n",
              "      <td>nan</td>\n",
              "      <td>simple</td>\n",
              "      <td>[{'source': 'DataRepository/tswift_fued.pdf', ...</td>\n",
              "      <td>True</td>\n",
              "    </tr>\n",
              "    <tr>\n",
              "      <th>5</th>\n",
              "      <td>Who are the inspirations for Taylor Swift's 'S...</td>\n",
              "      <td>[Who Are Taylor Swift's 'Speak Now' Songs Abou...</td>\n",
              "      <td>nan</td>\n",
              "      <td>simple</td>\n",
              "      <td>[{'source': 'DataRepository/tswift_fued.pdf', ...</td>\n",
              "      <td>True</td>\n",
              "    </tr>\n",
              "    <tr>\n",
              "      <th>6</th>\n",
              "      <td>What did Kim Kardashian say about Taylor Swift...</td>\n",
              "      <td>[4/23/24, 6:05 PM\\nA Timeline of Taylor Swift ...</td>\n",
              "      <td>Kim Kardashian said that Taylor Swift lied abo...</td>\n",
              "      <td>multi_context</td>\n",
              "      <td>[{'source': 'DataRepository/tswift_fued.pdf', ...</td>\n",
              "      <td>True</td>\n",
              "    </tr>\n",
              "    <tr>\n",
              "      <th>7</th>\n",
              "      <td>How did Kim Kardashian address her conflict wi...</td>\n",
              "      <td>[January 14, 2019: Kim Kardashian claims\\nther...</td>\n",
              "      <td>Kardashian cleared the air during an appearanc...</td>\n",
              "      <td>multi_context</td>\n",
              "      <td>[{'source': 'DataRepository/tswift_fued.pdf', ...</td>\n",
              "      <td>True</td>\n",
              "    </tr>\n",
              "    <tr>\n",
              "      <th>8</th>\n",
              "      <td>What was Kardashian's reaction to Swift's new ...</td>\n",
              "      <td>[me now?\" Taylor sings in the new track, also ...</td>\n",
              "      <td>Following the release of Swift's new track, a ...</td>\n",
              "      <td>multi_context</td>\n",
              "      <td>[{'source': 'DataRepository/tswift_fued.pdf', ...</td>\n",
              "      <td>True</td>\n",
              "    </tr>\n",
              "    <tr>\n",
              "      <th>9</th>\n",
              "      <td>What happened with Kim Kardashian and Taylor S...</td>\n",
              "      <td>[look in my phone to get a name [of an album]....</td>\n",
              "      <td>Kim Kardashian reshares a Taylor Swift song on...</td>\n",
              "      <td>multi_context</td>\n",
              "      <td>[{'source': 'DataRepository/tswift_fued.pdf', ...</td>\n",
              "      <td>True</td>\n",
              "    </tr>\n",
              "    <tr>\n",
              "      <th>10</th>\n",
              "      <td>What did Kim Kardashian say about her feud wit...</td>\n",
              "      <td>[January 14, 2019: Kim Kardashian claims\\nther...</td>\n",
              "      <td>Kardashian said that she was 'over' her feud w...</td>\n",
              "      <td>multi_context</td>\n",
              "      <td>[{'source': 'DataRepository/tswift_fued.pdf', ...</td>\n",
              "      <td>True</td>\n",
              "    </tr>\n",
              "    <tr>\n",
              "      <th>11</th>\n",
              "      <td>What did Taylor Swift say about the impact of ...</td>\n",
              "      <td>[song. \\nDecember 7\\n, 2023: Taylor Swift says...</td>\n",
              "      <td>Taylor Swift said that the leaked phone call w...</td>\n",
              "      <td>reasoning</td>\n",
              "      <td>[{'source': 'DataRepository/tswift_fued.pdf', ...</td>\n",
              "      <td>True</td>\n",
              "    </tr>\n",
              "  </tbody>\n",
              "</table>\n",
              "</div>"
            ],
            "text/plain": [
              "                                             question  \\\n",
              "0   What is Taylor Swift's feud with Kanye West an...   \n",
              "1   What was the significance of the secretly reco...   \n",
              "2   What did Taylor Swift's spokesperson say about...   \n",
              "3   What evidence suggests that Kim Kardashian is ...   \n",
              "4   What was the significance of Taylor Swift and ...   \n",
              "5   Who are the inspirations for Taylor Swift's 'S...   \n",
              "6   What did Kim Kardashian say about Taylor Swift...   \n",
              "7   How did Kim Kardashian address her conflict wi...   \n",
              "8   What was Kardashian's reaction to Swift's new ...   \n",
              "9   What happened with Kim Kardashian and Taylor S...   \n",
              "10  What did Kim Kardashian say about her feud wit...   \n",
              "11  What did Taylor Swift say about the impact of ...   \n",
              "\n",
              "                                             contexts  \\\n",
              "0   [4/23/24, 6:05 PM\\nA Timeline of Taylor Swift ...   \n",
              "1   [4/23/24, 6:05 PM\\nA Timeline of Taylor Swift ...   \n",
              "2   [called to get it approved.\"\\nJune 2016: Taylo...   \n",
              "3   [me now?\" Taylor sings in the new track, also ...   \n",
              "4   [4/23/24, 6:05 PM\\nA Timeline of Taylor Swift ...   \n",
              "5   [Who Are Taylor Swift's 'Speak Now' Songs Abou...   \n",
              "6   [4/23/24, 6:05 PM\\nA Timeline of Taylor Swift ...   \n",
              "7   [January 14, 2019: Kim Kardashian claims\\nther...   \n",
              "8   [me now?\" Taylor sings in the new track, also ...   \n",
              "9   [look in my phone to get a name [of an album]....   \n",
              "10  [January 14, 2019: Kim Kardashian claims\\nther...   \n",
              "11  [song. \\nDecember 7\\n, 2023: Taylor Swift says...   \n",
              "\n",
              "                                         ground_truth evolution_type  \\\n",
              "0                                                 nan         simple   \n",
              "1   The significance of the secretly recorded phon...         simple   \n",
              "2   Taylor Swift's spokesperson said that much of ...         simple   \n",
              "3                                                 nan         simple   \n",
              "4                                                 nan         simple   \n",
              "5                                                 nan         simple   \n",
              "6   Kim Kardashian said that Taylor Swift lied abo...  multi_context   \n",
              "7   Kardashian cleared the air during an appearanc...  multi_context   \n",
              "8   Following the release of Swift's new track, a ...  multi_context   \n",
              "9   Kim Kardashian reshares a Taylor Swift song on...  multi_context   \n",
              "10  Kardashian said that she was 'over' her feud w...  multi_context   \n",
              "11  Taylor Swift said that the leaked phone call w...      reasoning   \n",
              "\n",
              "                                             metadata  episode_done  \n",
              "0   [{'source': 'DataRepository/tswift_fued.pdf', ...          True  \n",
              "1   [{'source': 'DataRepository/tswift_fued.pdf', ...          True  \n",
              "2   [{'source': 'DataRepository/tswift_fued.pdf', ...          True  \n",
              "3   [{'source': 'DataRepository/tswift_fued.pdf', ...          True  \n",
              "4   [{'source': 'DataRepository/tswift_fued.pdf', ...          True  \n",
              "5   [{'source': 'DataRepository/tswift_fued.pdf', ...          True  \n",
              "6   [{'source': 'DataRepository/tswift_fued.pdf', ...          True  \n",
              "7   [{'source': 'DataRepository/tswift_fued.pdf', ...          True  \n",
              "8   [{'source': 'DataRepository/tswift_fued.pdf', ...          True  \n",
              "9   [{'source': 'DataRepository/tswift_fued.pdf', ...          True  \n",
              "10  [{'source': 'DataRepository/tswift_fued.pdf', ...          True  \n",
              "11  [{'source': 'DataRepository/tswift_fued.pdf', ...          True  "
            ]
          },
          "execution_count": 25,
          "metadata": {},
          "output_type": "execute_result"
        }
      ],
      "source": [
        "from ragas.testset.generator import TestsetGenerator\n",
        "import os\n",
        "from ragas.testset.evolutions import simple, reasoning, multi_context\n",
        "from langchain_openai import ChatOpenAI, OpenAIEmbeddings, AzureChatOpenAI, AzureOpenAIEmbeddings\n",
        "\n",
        "generator_llm_o = ChatOpenAI(model=\"gpt-3.5-turbo-16k\")\n",
        "critic_llm_o = ChatOpenAI(model=\"gpt-3.5-turbo\")\n",
        "#critic_llm = ChatOpenAI(model=\"gpt-4-turbo\")\n",
        "embeddings_o = OpenAIEmbeddings()\n",
        "\n",
        "#generator_llm = AzureChatOpenAI(azure_deployment=\"gpt4-32k\",\n",
        "#                                openai_api_version=os.environ['AZURE_OPENAI_API_VERSION'])\n",
        "#critic_llm = AzureChatOpenAI(azure_deployment=os.environ['AZURE_OPENAI_CHAT_DEPLOYMENT_NAME'], openai_api_version=os.environ['AZURE_OPENAI_API_VERSION']) \n",
        "#embeddings = AzureOpenAIEmbeddings(azure_deployment=\"text-embedding-3-small\",openai_api_version=os.environ['AZURE_OPENAI_API_VERSION'])\n",
        "\n",
        "generator_test = TestsetGenerator.from_langchain(\n",
        "    generator_llm_o,\n",
        "    critic_llm_o,\n",
        "    embeddings_o\n",
        ")\n",
        "\n",
        "distributions = {\n",
        "    simple: 0.5,\n",
        "    multi_context: 0.4,\n",
        "    reasoning: 0.1\n",
        "}\n",
        "\n",
        "testset = generator_test.generate_with_langchain_docs(eval_documents, 12, distributions, is_async = False)\n",
        "testset.to_pandas()"
      ]
    },
    {
      "cell_type": "markdown",
      "metadata": {
        "id": "GOIGT0XLz8ze"
      },
      "source": [
        "####❓ Question #3:\n",
        "\n",
        "`{simple: 0.5, reasoning: 0.25, multi_context: 0.25}`\n",
        "\n",
        "What exactly does this mapping refer to?\n",
        "\n",
        "> NOTE: Check out the Ragas documentation on this generation process [here](https://docs.ragas.io/en/stable/concepts/testset_generation.html)."
      ]
    },
    {
      "cell_type": "markdown",
      "metadata": {},
      "source": [
        "**ANSWER**:\n",
        "- This mapping is used to define % of what kind of questions with different characteristics needs to be produced when generating synthetic dataset for QA. This approach ensures comprehensive coverage of the performance of various components"
      ]
    },
    {
      "cell_type": "code",
      "execution_count": 26,
      "metadata": {},
      "outputs": [
        {
          "data": {
            "text/plain": [
              "[DataRow(question=\"What is Taylor Swift's feud with Kanye West and Kim Kardashian?\", contexts=[\"4/23/24, 6:05 PM\\nA Timeline of Taylor Swift and Kim Kardashian's Feud\\nhttps://people.com/taylor-swift-and-kim-kardashian-feud-timeline-8412119\\n19/22\\nMUSIC\\nTaylor Swift Says Feud with Kanye West and Kim\\nKardashian Felt Like 'Career Death': 'I Went Down\\nReally, Really Hard'\\nBy Sadie Bell\\nMUSIC\\nTaylor Swift's Friends Say She's Always a 'Shoulder\\nto Lean on' in Life (and During Breakups)\\n(Exclusive)\\nBy Jeff Nelson\\nCOUNTRY\\nOn First Tour, Alana Springsteen Gives Thanks to\\nHer Hero: 'I Wouldn't Be the Artist I Am Without\\nTaylor' (Exclusive)\\xa0\\nBy Nancy Kruh\\nMUSIC\"], ground_truth='nan', evolution_type='simple', metadata=[{'source': 'DataRepository/tswift_fued.pdf', 'file_path': 'DataRepository/tswift_fued.pdf', 'page': 18, 'total_pages': 22, 'format': 'PDF 1.4', 'title': \"A Timeline of Taylor Swift and Kim Kardashian's Feud\", 'author': '', 'subject': '', 'keywords': '', 'creator': 'Mozilla/5.0 (Windows NT 10.0; Win64; x64) AppleWebKit/537.36 (KHTML, like Gecko) Chrome/123.0.0.0 Safari/537.36', 'producer': 'Skia/PDF m123', 'creationDate': \"D:20240423220523+00'00'\", 'modDate': \"D:20240423220523+00'00'\", 'trapped': ''}]),\n",
              " DataRow(question='What was the significance of the secretly recorded phone call between Kanye West and Taylor Swift in their feud?', contexts=[\"4/23/24, 6:05 PM\\nA Timeline of Taylor Swift and Kim Kardashian's Feud\\nhttps://people.com/taylor-swift-and-kim-kardashian-feud-timeline-8412119\\n10/22\\nAlmost a year after Kardashian shared the secretly recorded phone call on\\nher Snapchat between her then-husband West and Swift, Swift announced\\nthe release of her sixth studio album, Reputation. Swift teased the news\\nwith a series of mysterious Instagram videos depicting a serpent. This\\nappeared to be her way of reclaiming the snake emoji posted in her\\nInstagram comments section (implying that she was a liar).\"], ground_truth=\"The significance of the secretly recorded phone call between Kanye West and Taylor Swift in their feud was that it was shared by Kim Kardashian on her Snapchat, which led to Swift being accused of lying about her knowledge of West's song lyrics in his song 'Famous'.\", evolution_type='simple', metadata=[{'source': 'DataRepository/tswift_fued.pdf', 'file_path': 'DataRepository/tswift_fued.pdf', 'page': 9, 'total_pages': 22, 'format': 'PDF 1.4', 'title': \"A Timeline of Taylor Swift and Kim Kardashian's Feud\", 'author': '', 'subject': '', 'keywords': '', 'creator': 'Mozilla/5.0 (Windows NT 10.0; Win64; x64) AppleWebKit/537.36 (KHTML, like Gecko) Chrome/123.0.0.0 Safari/537.36', 'producer': 'Skia/PDF m123', 'creationDate': \"D:20240423220523+00'00'\", 'modDate': \"D:20240423220523+00'00'\", 'trapped': ''}]),\n",
              " DataRow(question='What did Taylor Swift\\'s spokesperson say about Kim Kardashian\\'s claims regarding Kanye West\\'s \"Famous\" song?', contexts=['called to get it approved.\"\\nJune 2016: Taylor Swift\\'s spokesperson\\nreleases a statement following Kim\\nKardashian\\'s claims about Kanye West\\'s\\n\"Famous\"\\xa0\\nA spokesperson for the \"Bad Blood” singer was quick to comment on the\\nmatter. \"Taylor does not hold anything against Kim Kardashian as she\\nrecognizes the pressure Kim must be under and that she is only repeating\\nwhat she has been told by Kanye West,\" the statement about Kardashian\\nstarted off.\\n\"However, that does not change the fact that much of what Kim is saying is\\nincorrect. Kanye West and Taylor only spoke once on the phone while she'], ground_truth=\"Taylor Swift's spokesperson said that much of what Kim Kardashian is saying is incorrect and that Taylor does not hold anything against Kim as she recognizes the pressure Kim must be under and that she is only repeating what she has been told by Kanye West.\", evolution_type='simple', metadata=[{'source': 'DataRepository/tswift_fued.pdf', 'file_path': 'DataRepository/tswift_fued.pdf', 'page': 5, 'total_pages': 22, 'format': 'PDF 1.4', 'title': \"A Timeline of Taylor Swift and Kim Kardashian's Feud\", 'author': '', 'subject': '', 'keywords': '', 'creator': 'Mozilla/5.0 (Windows NT 10.0; Win64; x64) AppleWebKit/537.36 (KHTML, like Gecko) Chrome/123.0.0.0 Safari/537.36', 'producer': 'Skia/PDF m123', 'creationDate': \"D:20240423220523+00'00'\", 'modDate': \"D:20240423220523+00'00'\", 'trapped': ''}]),\n",
              " DataRow(question=\"What evidence suggests that Kim Kardashian is a fan of Taylor Swift's music?\", contexts=['me now?\" Taylor sings in the new track, also appearing to reference the\\nsnake emoji that featured in her feud with the reality TV star.\\nApril 23: A source tells PEOPLE Kim\\nKardashian is \\'over\\' the feud\\nFollowing the release of Swift\\'s new track, a source gave PEOPLE insight\\ninto Kardashian\\'s reaction. She’s over it and thinks Taylor should move on,\"\\nthe source explained. Kardashian “doesn’t get why [Swift] keeps harping on\\nit,” the source added. “It’s been literally years.”\\nAdvertisement\\nAd\\ni\\nThe Rewind: \\'13 Going 30\\'\\xa0\\nSUBSCRIBE\\nSKIP TO CONTENT'], ground_truth='nan', evolution_type='simple', metadata=[{'source': 'DataRepository/tswift_fued.pdf', 'file_path': 'DataRepository/tswift_fued.pdf', 'page': 16, 'total_pages': 22, 'format': 'PDF 1.4', 'title': \"A Timeline of Taylor Swift and Kim Kardashian's Feud\", 'author': '', 'subject': '', 'keywords': '', 'creator': 'Mozilla/5.0 (Windows NT 10.0; Win64; x64) AppleWebKit/537.36 (KHTML, like Gecko) Chrome/123.0.0.0 Safari/537.36', 'producer': 'Skia/PDF m123', 'creationDate': \"D:20240423220523+00'00'\", 'modDate': \"D:20240423220523+00'00'\", 'trapped': ''}]),\n",
              " DataRow(question='What was the significance of Taylor Swift and Kim Kardashian posing together at the MTV EMAs in 2012?', contexts=[\"4/23/24, 6:05 PM\\nA Timeline of Taylor Swift and Kim Kardashian's Feud\\nhttps://people.com/taylor-swift-and-kim-kardashian-feud-timeline-8412119\\n3/22\\nNovember 11, 2012: Taylor Swift and Kim\\nKardashian pose together at MTV EMAs\\nPHOTO: DAVE HOGAN/MTV 2012/GETTY IMAGES FOR MTV\\nIn 2012, the two had one of their first public interactions as they posed with\\nRita Ora at the MTV EMAs.\\xa0\\nAdvertisement\\nAd\\ni\\nThe Rewind: '13 Going 30'\\xa0\\nSUBSCRIBE\\nSKIP TO CONTENT\"], ground_truth='nan', evolution_type='simple', metadata=[{'source': 'DataRepository/tswift_fued.pdf', 'file_path': 'DataRepository/tswift_fued.pdf', 'page': 2, 'total_pages': 22, 'format': 'PDF 1.4', 'title': \"A Timeline of Taylor Swift and Kim Kardashian's Feud\", 'author': '', 'subject': '', 'keywords': '', 'creator': 'Mozilla/5.0 (Windows NT 10.0; Win64; x64) AppleWebKit/537.36 (KHTML, like Gecko) Chrome/123.0.0.0 Safari/537.36', 'producer': 'Skia/PDF m123', 'creationDate': \"D:20240423220523+00'00'\", 'modDate': \"D:20240423220523+00'00'\", 'trapped': ''}]),\n",
              " DataRow(question=\"Who are the inspirations for Taylor Swift's 'Speak Now' songs?\", contexts=[\"Who Are Taylor Swift's 'Speak Now' Songs About?\\nWhat She Has Said About the Inspirations\\nBy Kelsie Gibson\\nMUSIC\\nTaylor Swift and John Mayer's Relationship: A\\nLook Back\\nBy Sophie Dodd\\nAdvertisement\\nAd\\ni\\nThe Rewind: '13 Going 30'\\xa0\\nSUBSCRIBE\\nSKIP TO CONTENT\"], ground_truth='nan', evolution_type='simple', metadata=[{'source': 'DataRepository/tswift_fued.pdf', 'file_path': 'DataRepository/tswift_fued.pdf', 'page': 20, 'total_pages': 22, 'format': 'PDF 1.4', 'title': \"A Timeline of Taylor Swift and Kim Kardashian's Feud\", 'author': '', 'subject': '', 'keywords': '', 'creator': 'Mozilla/5.0 (Windows NT 10.0; Win64; x64) AppleWebKit/537.36 (KHTML, like Gecko) Chrome/123.0.0.0 Safari/537.36', 'producer': 'Skia/PDF m123', 'creationDate': \"D:20240423220523+00'00'\", 'modDate': \"D:20240423220523+00'00'\", 'trapped': ''}]),\n",
              " DataRow(question=\"What did Kim Kardashian say about Taylor Swift's permission to use the word 'bitch' and what evidence did she provide?\", contexts=['4/23/24, 6:05 PM\\nA Timeline of Taylor Swift and Kim Kardashian\\'s Feud\\nhttps://people.com/taylor-swift-and-kim-kardashian-feud-timeline-8412119\\n14/22\\n\"To be clear, the only issue I ever had around the situation was that Taylor\\nlied through her publicist who stated that \\'Kanye never called to ask for\\npermission…\\' They clearly spoke so I let you all see that. Nobody ever\\ndenied the word \\'bitch\\' was used without her permission,\" tweeted\\nKardashian.\\nSwift\\'s publicist, Tree Paine, who never denied the existence of the phone', '4/23/24, 6:05 PM\\nA Timeline of Taylor Swift and Kim Kardashian\\'s Feud\\nhttps://people.com/taylor-swift-and-kim-kardashian-feud-timeline-8412119\\n7/22\\nwas on vacation with her family in January of 2016 and they have never\\nspoken since,\" the statement continued. \"Taylor has never denied that\\nconversation took place. It was on that phone call that Kanye West also\\nasked her to release the song on her Twitter account, which she declined to\\ndo.\"\\nJuly 17\\n, 2016: Kim Kardashian explains why\\nshe defended Kanye West against Taylor\\nSwift\\nOn a July 2016 episode of Keeping Up with the Kardashians, the family'], ground_truth=\"Kim Kardashian said that Taylor Swift lied about Kanye West never calling to ask for permission to use the word 'bitch'. Kim provided evidence of a phone call between Taylor and Kanye where the word was used without her permission.\", evolution_type='multi_context', metadata=[{'source': 'DataRepository/tswift_fued.pdf', 'file_path': 'DataRepository/tswift_fued.pdf', 'page': 13, 'total_pages': 22, 'format': 'PDF 1.4', 'title': \"A Timeline of Taylor Swift and Kim Kardashian's Feud\", 'author': '', 'subject': '', 'keywords': '', 'creator': 'Mozilla/5.0 (Windows NT 10.0; Win64; x64) AppleWebKit/537.36 (KHTML, like Gecko) Chrome/123.0.0.0 Safari/537.36', 'producer': 'Skia/PDF m123', 'creationDate': \"D:20240423220523+00'00'\", 'modDate': \"D:20240423220523+00'00'\", 'trapped': ''}, {'source': 'DataRepository/tswift_fued.pdf', 'file_path': 'DataRepository/tswift_fued.pdf', 'page': 6, 'total_pages': 22, 'format': 'PDF 1.4', 'title': \"A Timeline of Taylor Swift and Kim Kardashian's Feud\", 'author': '', 'subject': '', 'keywords': '', 'creator': 'Mozilla/5.0 (Windows NT 10.0; Win64; x64) AppleWebKit/537.36 (KHTML, like Gecko) Chrome/123.0.0.0 Safari/537.36', 'producer': 'Skia/PDF m123', 'creationDate': \"D:20240423220523+00'00'\", 'modDate': \"D:20240423220523+00'00'\", 'trapped': ''}]),\n",
              " DataRow(question='How did Kim Kardashian address her conflict with Taylor Swift on Watch What Happens Live with Andy Cohen in January 2019?', contexts=['January 14, 2019: Kim Kardashian claims\\nthere’s no more “Bad Blood” with Taylor\\nSwift\\nIn January 2019, Kardashian cleared the air during an appearance on\\nWatch What Happens Live with Andy Cohen, during the show\\'s \"Squash\\nThat Beef!\" segment. When asked about if her feud with Swift over the\\nleaked phone calls was still ongoing, she said she was \"over it.\"\\n\"I feel like we\\'d all moved on,\" Kardashian added of the tension between\\nthem. Later in the show, she also added that she\\'d rather be stuck in an\\nelevator with Swift than Drake — another star who\\'s had a complicated\\nhistory with West.'], ground_truth='Kardashian cleared the air during an appearance on Watch What Happens Live with Andy Cohen, during the show\\'s \"Squash That Beef!\" segment. When asked about if her feud with Swift over the leaked phone calls was still ongoing, she said she was \"over it.\" \"I feel like we\\'d all moved on,\" Kardashian added of the tension between them. Later in the show, she also added that she\\'d rather be stuck in an elevator with Swift than Drake — another star who\\'s had a complicated history with West.', evolution_type='multi_context', metadata=[{'source': 'DataRepository/tswift_fued.pdf', 'file_path': 'DataRepository/tswift_fued.pdf', 'page': 9, 'total_pages': 22, 'format': 'PDF 1.4', 'title': \"A Timeline of Taylor Swift and Kim Kardashian's Feud\", 'author': '', 'subject': '', 'keywords': '', 'creator': 'Mozilla/5.0 (Windows NT 10.0; Win64; x64) AppleWebKit/537.36 (KHTML, like Gecko) Chrome/123.0.0.0 Safari/537.36', 'producer': 'Skia/PDF m123', 'creationDate': \"D:20240423220523+00'00'\", 'modDate': \"D:20240423220523+00'00'\", 'trapped': ''}]),\n",
              " DataRow(question=\"What was Kardashian's reaction to Swift's new track, given their feud and Kardashian's statement about moving on?\", contexts=['me now?\" Taylor sings in the new track, also appearing to reference the\\nsnake emoji that featured in her feud with the reality TV star.\\nApril 23: A source tells PEOPLE Kim\\nKardashian is \\'over\\' the feud\\nFollowing the release of Swift\\'s new track, a source gave PEOPLE insight\\ninto Kardashian\\'s reaction. She’s over it and thinks Taylor should move on,\"\\nthe source explained. Kardashian “doesn’t get why [Swift] keeps harping on\\nit,” the source added. “It’s been literally years.”\\nAdvertisement\\nAd\\ni\\nThe Rewind: \\'13 Going 30\\'\\xa0\\nSUBSCRIBE\\nSKIP TO CONTENT', 'January 14, 2019: Kim Kardashian claims\\nthere’s no more “Bad Blood” with Taylor\\nSwift\\nIn January 2019, Kardashian cleared the air during an appearance on\\nWatch What Happens Live with Andy Cohen, during the show\\'s \"Squash\\nThat Beef!\" segment. When asked about if her feud with Swift over the\\nleaked phone calls was still ongoing, she said she was \"over it.\"\\n\"I feel like we\\'d all moved on,\" Kardashian added of the tension between\\nthem. Later in the show, she also added that she\\'d rather be stuck in an\\nelevator with Swift than Drake — another star who\\'s had a complicated\\nhistory with West.'], ground_truth='Following the release of Swift\\'s new track, a source gave PEOPLE insight into Kardashian\\'s reaction. She’s over it and thinks Taylor should move on,\" the source explained. Kardashian “doesn’t get why [Swift] keeps harping on it,” the source added. “It’s been literally years.\"', evolution_type='multi_context', metadata=[{'source': 'DataRepository/tswift_fued.pdf', 'file_path': 'DataRepository/tswift_fued.pdf', 'page': 16, 'total_pages': 22, 'format': 'PDF 1.4', 'title': \"A Timeline of Taylor Swift and Kim Kardashian's Feud\", 'author': '', 'subject': '', 'keywords': '', 'creator': 'Mozilla/5.0 (Windows NT 10.0; Win64; x64) AppleWebKit/537.36 (KHTML, like Gecko) Chrome/123.0.0.0 Safari/537.36', 'producer': 'Skia/PDF m123', 'creationDate': \"D:20240423220523+00'00'\", 'modDate': \"D:20240423220523+00'00'\", 'trapped': ''}, {'source': 'DataRepository/tswift_fued.pdf', 'file_path': 'DataRepository/tswift_fued.pdf', 'page': 9, 'total_pages': 22, 'format': 'PDF 1.4', 'title': \"A Timeline of Taylor Swift and Kim Kardashian's Feud\", 'author': '', 'subject': '', 'keywords': '', 'creator': 'Mozilla/5.0 (Windows NT 10.0; Win64; x64) AppleWebKit/537.36 (KHTML, like Gecko) Chrome/123.0.0.0 Safari/537.36', 'producer': 'Skia/PDF m123', 'creationDate': \"D:20240423220523+00'00'\", 'modDate': \"D:20240423220523+00'00'\", 'trapped': ''}]),\n",
              " DataRow(question='What happened with Kim Kardashian and Taylor Swift on October 22, 2023?', contexts=[\"look in my phone to get a name [of an album].”\\xa0\\nOctober 22, 2023: Kim Kardashian reshares\\na Taylor Swift song on her Instagram Story\\xa0\\nAdvertisement\\nAd\\ni\\nThe Rewind: '13 Going 30'\\xa0\\nSUBSCRIBE\\nSKIP TO CONTENT\"], ground_truth='Kim Kardashian reshares a Taylor Swift song on her Instagram Story.', evolution_type='multi_context', metadata=[{'source': 'DataRepository/tswift_fued.pdf', 'file_path': 'DataRepository/tswift_fued.pdf', 'page': 13, 'total_pages': 22, 'format': 'PDF 1.4', 'title': \"A Timeline of Taylor Swift and Kim Kardashian's Feud\", 'author': '', 'subject': '', 'keywords': '', 'creator': 'Mozilla/5.0 (Windows NT 10.0; Win64; x64) AppleWebKit/537.36 (KHTML, like Gecko) Chrome/123.0.0.0 Safari/537.36', 'producer': 'Skia/PDF m123', 'creationDate': \"D:20240423220523+00'00'\", 'modDate': \"D:20240423220523+00'00'\", 'trapped': ''}]),\n",
              " DataRow(question='What did Kim Kardashian say about her feud with Taylor Swift on WWHL, and how did she compare her relationship with Swift to her relationship with Drake?', contexts=['January 14, 2019: Kim Kardashian claims\\nthere’s no more “Bad Blood” with Taylor\\nSwift\\nIn January 2019, Kardashian cleared the air during an appearance on\\nWatch What Happens Live with Andy Cohen, during the show\\'s \"Squash\\nThat Beef!\" segment. When asked about if her feud with Swift over the\\nleaked phone calls was still ongoing, she said she was \"over it.\"\\n\"I feel like we\\'d all moved on,\" Kardashian added of the tension between\\nthem. Later in the show, she also added that she\\'d rather be stuck in an\\nelevator with Swift than Drake — another star who\\'s had a complicated\\nhistory with West.'], ground_truth=\"Kardashian said that she was 'over' her feud with Swift and that they had all moved on. She also stated that she would rather be stuck in an elevator with Swift than Drake.\", evolution_type='multi_context', metadata=[{'source': 'DataRepository/tswift_fued.pdf', 'file_path': 'DataRepository/tswift_fued.pdf', 'page': 9, 'total_pages': 22, 'format': 'PDF 1.4', 'title': \"A Timeline of Taylor Swift and Kim Kardashian's Feud\", 'author': '', 'subject': '', 'keywords': '', 'creator': 'Mozilla/5.0 (Windows NT 10.0; Win64; x64) AppleWebKit/537.36 (KHTML, like Gecko) Chrome/123.0.0.0 Safari/537.36', 'producer': 'Skia/PDF m123', 'creationDate': \"D:20240423220523+00'00'\", 'modDate': \"D:20240423220523+00'00'\", 'trapped': ''}]),\n",
              " DataRow(question='What did Taylor Swift say about the impact of the leaked phone call with Kanye West on her career and mental state?', contexts=['song.\\xa0\\nDecember 7\\n, 2023: Taylor Swift says Kanye\\nWest and Kim Kardashian feud felt like\\n‘career death’\\xa0\\nAs Swift was named TIME’s 2023 Person of the Year, the singer opened up\\nabout a variety of topics ranging from her romantic relationships to her\\npast feuds in her cover story. In particular, she recalled the leaked phone\\ncall between her and West, that the moment and the public’s reaction felt\\nlike “a career death” and “took [her] down psychologically to a place\\n[she’d] never been before.”\\n“Make no mistake — my career was taken away from me,” the “Cruel\\nSummer” singer said.'], ground_truth=\"Taylor Swift said that the leaked phone call with Kanye West felt like 'a career death' and 'took her down psychologically to a place she'd never been before.' She also mentioned that her career was taken away from her.\", evolution_type='reasoning', metadata=[{'source': 'DataRepository/tswift_fued.pdf', 'file_path': 'DataRepository/tswift_fued.pdf', 'page': 15, 'total_pages': 22, 'format': 'PDF 1.4', 'title': \"A Timeline of Taylor Swift and Kim Kardashian's Feud\", 'author': '', 'subject': '', 'keywords': '', 'creator': 'Mozilla/5.0 (Windows NT 10.0; Win64; x64) AppleWebKit/537.36 (KHTML, like Gecko) Chrome/123.0.0.0 Safari/537.36', 'producer': 'Skia/PDF m123', 'creationDate': \"D:20240423220523+00'00'\", 'modDate': \"D:20240423220523+00'00'\", 'trapped': ''}])]"
            ]
          },
          "execution_count": 26,
          "metadata": {},
          "output_type": "execute_result"
        }
      ],
      "source": [
        "testset.test_data"
      ]
    },
    {
      "cell_type": "markdown",
      "metadata": {
        "id": "MemL406rUzBu"
      },
      "source": [
        "Let's look at the output and see what we can learn about it!"
      ]
    },
    {
      "cell_type": "code",
      "execution_count": 27,
      "metadata": {
        "colab": {
          "base_uri": "https://localhost:8080/"
        },
        "id": "RaCDdImVU15s",
        "outputId": "82abe7e2-4dc1-4ed1-b3c2-ab689909d406"
      },
      "outputs": [
        {
          "name": "stdout",
          "output_type": "stream",
          "text": [
            "question=\"What is Taylor Swift's feud with Kanye West and Kim Kardashian?\" contexts=[\"4/23/24, 6:05 PM\\nA Timeline of Taylor Swift and Kim Kardashian's Feud\\nhttps://people.com/taylor-swift-and-kim-kardashian-feud-timeline-8412119\\n19/22\\nMUSIC\\nTaylor Swift Says Feud with Kanye West and Kim\\nKardashian Felt Like 'Career Death': 'I Went Down\\nReally, Really Hard'\\nBy Sadie Bell\\nMUSIC\\nTaylor Swift's Friends Say She's Always a 'Shoulder\\nto Lean on' in Life (and During Breakups)\\n(Exclusive)\\nBy Jeff Nelson\\nCOUNTRY\\nOn First Tour, Alana Springsteen Gives Thanks to\\nHer Hero: 'I Wouldn't Be the Artist I Am Without\\nTaylor' (Exclusive)\\xa0\\nBy Nancy Kruh\\nMUSIC\"] ground_truth='nan' evolution_type='simple' metadata=[{'source': 'DataRepository/tswift_fued.pdf', 'file_path': 'DataRepository/tswift_fued.pdf', 'page': 18, 'total_pages': 22, 'format': 'PDF 1.4', 'title': \"A Timeline of Taylor Swift and Kim Kardashian's Feud\", 'author': '', 'subject': '', 'keywords': '', 'creator': 'Mozilla/5.0 (Windows NT 10.0; Win64; x64) AppleWebKit/537.36 (KHTML, like Gecko) Chrome/123.0.0.0 Safari/537.36', 'producer': 'Skia/PDF m123', 'creationDate': \"D:20240423220523+00'00'\", 'modDate': \"D:20240423220523+00'00'\", 'trapped': ''}]\n"
          ]
        }
      ],
      "source": [
        "print(testset.test_data[0])"
      ]
    },
    {
      "cell_type": "markdown",
      "metadata": {
        "id": "vrPsVwUAWFWB"
      },
      "source": [
        "### Generating Responses with RAG Pipeline\n",
        "\n",
        "Now that we have some QC pairs, and some ground truths, let's evaluate our RAG pipeline using Ragas.\n",
        "\n",
        "The process is, again, quite straightforward - thanks to Ragas and LangChain!\n",
        "\n",
        "Let's start by extracting our questions and ground truths from our create testset.\n",
        "\n",
        "We can start by converting our test dataset into a Pandas DataFrame."
      ]
    },
    {
      "cell_type": "code",
      "execution_count": 28,
      "metadata": {
        "id": "frvzu1YxX8kY"
      },
      "outputs": [],
      "source": [
        "test_df = testset.to_pandas()"
      ]
    },
    {
      "cell_type": "code",
      "execution_count": 29,
      "metadata": {
        "colab": {
          "base_uri": "https://localhost:8080/",
          "height": 1000
        },
        "id": "GFKMIY8IZU8m",
        "outputId": "97f7e978-2688-4254-b117-bd8c6ca4adf1"
      },
      "outputs": [
        {
          "data": {
            "text/html": [
              "<div>\n",
              "<style scoped>\n",
              "    .dataframe tbody tr th:only-of-type {\n",
              "        vertical-align: middle;\n",
              "    }\n",
              "\n",
              "    .dataframe tbody tr th {\n",
              "        vertical-align: top;\n",
              "    }\n",
              "\n",
              "    .dataframe thead th {\n",
              "        text-align: right;\n",
              "    }\n",
              "</style>\n",
              "<table border=\"1\" class=\"dataframe\">\n",
              "  <thead>\n",
              "    <tr style=\"text-align: right;\">\n",
              "      <th></th>\n",
              "      <th>question</th>\n",
              "      <th>contexts</th>\n",
              "      <th>ground_truth</th>\n",
              "      <th>evolution_type</th>\n",
              "      <th>metadata</th>\n",
              "      <th>episode_done</th>\n",
              "    </tr>\n",
              "  </thead>\n",
              "  <tbody>\n",
              "    <tr>\n",
              "      <th>0</th>\n",
              "      <td>What is Taylor Swift's feud with Kanye West an...</td>\n",
              "      <td>[4/23/24, 6:05 PM\\nA Timeline of Taylor Swift ...</td>\n",
              "      <td>nan</td>\n",
              "      <td>simple</td>\n",
              "      <td>[{'source': 'DataRepository/tswift_fued.pdf', ...</td>\n",
              "      <td>True</td>\n",
              "    </tr>\n",
              "    <tr>\n",
              "      <th>1</th>\n",
              "      <td>What was the significance of the secretly reco...</td>\n",
              "      <td>[4/23/24, 6:05 PM\\nA Timeline of Taylor Swift ...</td>\n",
              "      <td>The significance of the secretly recorded phon...</td>\n",
              "      <td>simple</td>\n",
              "      <td>[{'source': 'DataRepository/tswift_fued.pdf', ...</td>\n",
              "      <td>True</td>\n",
              "    </tr>\n",
              "    <tr>\n",
              "      <th>2</th>\n",
              "      <td>What did Taylor Swift's spokesperson say about...</td>\n",
              "      <td>[called to get it approved.\"\\nJune 2016: Taylo...</td>\n",
              "      <td>Taylor Swift's spokesperson said that much of ...</td>\n",
              "      <td>simple</td>\n",
              "      <td>[{'source': 'DataRepository/tswift_fued.pdf', ...</td>\n",
              "      <td>True</td>\n",
              "    </tr>\n",
              "    <tr>\n",
              "      <th>3</th>\n",
              "      <td>What evidence suggests that Kim Kardashian is ...</td>\n",
              "      <td>[me now?\" Taylor sings in the new track, also ...</td>\n",
              "      <td>nan</td>\n",
              "      <td>simple</td>\n",
              "      <td>[{'source': 'DataRepository/tswift_fued.pdf', ...</td>\n",
              "      <td>True</td>\n",
              "    </tr>\n",
              "    <tr>\n",
              "      <th>4</th>\n",
              "      <td>What was the significance of Taylor Swift and ...</td>\n",
              "      <td>[4/23/24, 6:05 PM\\nA Timeline of Taylor Swift ...</td>\n",
              "      <td>nan</td>\n",
              "      <td>simple</td>\n",
              "      <td>[{'source': 'DataRepository/tswift_fued.pdf', ...</td>\n",
              "      <td>True</td>\n",
              "    </tr>\n",
              "    <tr>\n",
              "      <th>5</th>\n",
              "      <td>Who are the inspirations for Taylor Swift's 'S...</td>\n",
              "      <td>[Who Are Taylor Swift's 'Speak Now' Songs Abou...</td>\n",
              "      <td>nan</td>\n",
              "      <td>simple</td>\n",
              "      <td>[{'source': 'DataRepository/tswift_fued.pdf', ...</td>\n",
              "      <td>True</td>\n",
              "    </tr>\n",
              "    <tr>\n",
              "      <th>6</th>\n",
              "      <td>What did Kim Kardashian say about Taylor Swift...</td>\n",
              "      <td>[4/23/24, 6:05 PM\\nA Timeline of Taylor Swift ...</td>\n",
              "      <td>Kim Kardashian said that Taylor Swift lied abo...</td>\n",
              "      <td>multi_context</td>\n",
              "      <td>[{'source': 'DataRepository/tswift_fued.pdf', ...</td>\n",
              "      <td>True</td>\n",
              "    </tr>\n",
              "    <tr>\n",
              "      <th>7</th>\n",
              "      <td>How did Kim Kardashian address her conflict wi...</td>\n",
              "      <td>[January 14, 2019: Kim Kardashian claims\\nther...</td>\n",
              "      <td>Kardashian cleared the air during an appearanc...</td>\n",
              "      <td>multi_context</td>\n",
              "      <td>[{'source': 'DataRepository/tswift_fued.pdf', ...</td>\n",
              "      <td>True</td>\n",
              "    </tr>\n",
              "    <tr>\n",
              "      <th>8</th>\n",
              "      <td>What was Kardashian's reaction to Swift's new ...</td>\n",
              "      <td>[me now?\" Taylor sings in the new track, also ...</td>\n",
              "      <td>Following the release of Swift's new track, a ...</td>\n",
              "      <td>multi_context</td>\n",
              "      <td>[{'source': 'DataRepository/tswift_fued.pdf', ...</td>\n",
              "      <td>True</td>\n",
              "    </tr>\n",
              "    <tr>\n",
              "      <th>9</th>\n",
              "      <td>What happened with Kim Kardashian and Taylor S...</td>\n",
              "      <td>[look in my phone to get a name [of an album]....</td>\n",
              "      <td>Kim Kardashian reshares a Taylor Swift song on...</td>\n",
              "      <td>multi_context</td>\n",
              "      <td>[{'source': 'DataRepository/tswift_fued.pdf', ...</td>\n",
              "      <td>True</td>\n",
              "    </tr>\n",
              "    <tr>\n",
              "      <th>10</th>\n",
              "      <td>What did Kim Kardashian say about her feud wit...</td>\n",
              "      <td>[January 14, 2019: Kim Kardashian claims\\nther...</td>\n",
              "      <td>Kardashian said that she was 'over' her feud w...</td>\n",
              "      <td>multi_context</td>\n",
              "      <td>[{'source': 'DataRepository/tswift_fued.pdf', ...</td>\n",
              "      <td>True</td>\n",
              "    </tr>\n",
              "    <tr>\n",
              "      <th>11</th>\n",
              "      <td>What did Taylor Swift say about the impact of ...</td>\n",
              "      <td>[song. \\nDecember 7\\n, 2023: Taylor Swift says...</td>\n",
              "      <td>Taylor Swift said that the leaked phone call w...</td>\n",
              "      <td>reasoning</td>\n",
              "      <td>[{'source': 'DataRepository/tswift_fued.pdf', ...</td>\n",
              "      <td>True</td>\n",
              "    </tr>\n",
              "  </tbody>\n",
              "</table>\n",
              "</div>"
            ],
            "text/plain": [
              "                                             question  \\\n",
              "0   What is Taylor Swift's feud with Kanye West an...   \n",
              "1   What was the significance of the secretly reco...   \n",
              "2   What did Taylor Swift's spokesperson say about...   \n",
              "3   What evidence suggests that Kim Kardashian is ...   \n",
              "4   What was the significance of Taylor Swift and ...   \n",
              "5   Who are the inspirations for Taylor Swift's 'S...   \n",
              "6   What did Kim Kardashian say about Taylor Swift...   \n",
              "7   How did Kim Kardashian address her conflict wi...   \n",
              "8   What was Kardashian's reaction to Swift's new ...   \n",
              "9   What happened with Kim Kardashian and Taylor S...   \n",
              "10  What did Kim Kardashian say about her feud wit...   \n",
              "11  What did Taylor Swift say about the impact of ...   \n",
              "\n",
              "                                             contexts  \\\n",
              "0   [4/23/24, 6:05 PM\\nA Timeline of Taylor Swift ...   \n",
              "1   [4/23/24, 6:05 PM\\nA Timeline of Taylor Swift ...   \n",
              "2   [called to get it approved.\"\\nJune 2016: Taylo...   \n",
              "3   [me now?\" Taylor sings in the new track, also ...   \n",
              "4   [4/23/24, 6:05 PM\\nA Timeline of Taylor Swift ...   \n",
              "5   [Who Are Taylor Swift's 'Speak Now' Songs Abou...   \n",
              "6   [4/23/24, 6:05 PM\\nA Timeline of Taylor Swift ...   \n",
              "7   [January 14, 2019: Kim Kardashian claims\\nther...   \n",
              "8   [me now?\" Taylor sings in the new track, also ...   \n",
              "9   [look in my phone to get a name [of an album]....   \n",
              "10  [January 14, 2019: Kim Kardashian claims\\nther...   \n",
              "11  [song. \\nDecember 7\\n, 2023: Taylor Swift says...   \n",
              "\n",
              "                                         ground_truth evolution_type  \\\n",
              "0                                                 nan         simple   \n",
              "1   The significance of the secretly recorded phon...         simple   \n",
              "2   Taylor Swift's spokesperson said that much of ...         simple   \n",
              "3                                                 nan         simple   \n",
              "4                                                 nan         simple   \n",
              "5                                                 nan         simple   \n",
              "6   Kim Kardashian said that Taylor Swift lied abo...  multi_context   \n",
              "7   Kardashian cleared the air during an appearanc...  multi_context   \n",
              "8   Following the release of Swift's new track, a ...  multi_context   \n",
              "9   Kim Kardashian reshares a Taylor Swift song on...  multi_context   \n",
              "10  Kardashian said that she was 'over' her feud w...  multi_context   \n",
              "11  Taylor Swift said that the leaked phone call w...      reasoning   \n",
              "\n",
              "                                             metadata  episode_done  \n",
              "0   [{'source': 'DataRepository/tswift_fued.pdf', ...          True  \n",
              "1   [{'source': 'DataRepository/tswift_fued.pdf', ...          True  \n",
              "2   [{'source': 'DataRepository/tswift_fued.pdf', ...          True  \n",
              "3   [{'source': 'DataRepository/tswift_fued.pdf', ...          True  \n",
              "4   [{'source': 'DataRepository/tswift_fued.pdf', ...          True  \n",
              "5   [{'source': 'DataRepository/tswift_fued.pdf', ...          True  \n",
              "6   [{'source': 'DataRepository/tswift_fued.pdf', ...          True  \n",
              "7   [{'source': 'DataRepository/tswift_fued.pdf', ...          True  \n",
              "8   [{'source': 'DataRepository/tswift_fued.pdf', ...          True  \n",
              "9   [{'source': 'DataRepository/tswift_fued.pdf', ...          True  \n",
              "10  [{'source': 'DataRepository/tswift_fued.pdf', ...          True  \n",
              "11  [{'source': 'DataRepository/tswift_fued.pdf', ...          True  "
            ]
          },
          "execution_count": 29,
          "metadata": {},
          "output_type": "execute_result"
        }
      ],
      "source": [
        "test_df"
      ]
    },
    {
      "cell_type": "code",
      "execution_count": 30,
      "metadata": {
        "id": "xAiXbVmLYSoC"
      },
      "outputs": [],
      "source": [
        "test_questions = test_df[\"question\"].values.tolist()\n",
        "test_groundtruths = test_df[\"ground_truth\"].values.tolist()"
      ]
    },
    {
      "cell_type": "markdown",
      "metadata": {
        "id": "aE5rfMLfbqKH"
      },
      "source": [
        "Now we'll generate responses using our RAG pipeline using the questions we've generated - we'll also need to collect our retrieved contexts for each question.\n",
        "\n",
        "We'll do this in a simple loop to see exactly what's happening!"
      ]
    },
    {
      "cell_type": "code",
      "execution_count": 31,
      "metadata": {
        "id": "9_AayvT1dAQN"
      },
      "outputs": [
        {
          "name": "stdout",
          "output_type": "stream",
          "text": [
            "Question: What is Taylor Swift's feud with Kanye West and Kim Kardashian?\n",
            "Answer: I don't know.\n",
            "****\n",
            "Question: What was the significance of the secretly recorded phone call between Kanye West and Taylor Swift in their feud?\n",
            "Answer: The secretly recorded phone call between Kanye West and Taylor Swift was significant because it was later leaked online, causing controversy and fueling their feud.\n",
            "****\n",
            "Question: What did Taylor Swift's spokesperson say about Kim Kardashian's claims regarding Kanye West's \"Famous\" song?\n",
            "Answer: Taylor Swift's spokesperson said, \"Taylor was never made aware of the actual lyrics, 'I made that bitch famous.'\"\n",
            "****\n",
            "Question: What evidence suggests that Kim Kardashian is a fan of Taylor Swift's music?\n",
            "Answer: Kim Kardashian stated that she likes all of Taylor Swift's songs and finds them cute and catchy.\n",
            "****\n",
            "Question: What was the significance of Taylor Swift and Kim Kardashian posing together at the MTV EMAs in 2012?\n",
            "Answer: I don't know.\n",
            "****\n",
            "Question: Who are the inspirations for Taylor Swift's 'Speak Now' songs?\n",
            "Answer: I don't know.\n",
            "****\n",
            "Question: What did Kim Kardashian say about Taylor Swift's permission to use the word 'bitch' and what evidence did she provide?\n",
            "Answer: Kim Kardashian said that Taylor Swift approved the use of the word 'bitch' in the lyrics of the song \"Famous.\" She provided evidence by stating in an interview with GQ that Swift knew about the lyrics before the song's release.\n",
            "****\n",
            "Question: How did Kim Kardashian address her conflict with Taylor Swift on Watch What Happens Live with Andy Cohen in January 2019?\n",
            "Answer: Kim Kardashian cleared the air and stated that there was no more \"Bad Blood\" with Taylor Swift during an appearance on Watch What Happens Live with Andy Cohen in January 2019.\n",
            "****\n",
            "Question: What was Kardashian's reaction to Swift's new track, given their feud and Kardashian's statement about moving on?\n",
            "Answer: Kardashian is 'over' the feud and thinks Taylor should move on.\n",
            "****\n",
            "Question: What happened with Kim Kardashian and Taylor Swift on October 22, 2023?\n",
            "Answer: Kim Kardashian reshared a Taylor Swift song on her Instagram Story on October 22, 2023.\n",
            "****\n",
            "Question: What did Kim Kardashian say about her feud with Taylor Swift on WWHL, and how did she compare her relationship with Swift to her relationship with Drake?\n",
            "Answer: I don't know.\n",
            "****\n",
            "Question: What did Taylor Swift say about the impact of the leaked phone call with Kanye West on her career and mental state?\n",
            "Answer: \"I'm so confused right now,\" reads the tweet.\n",
            "****\n"
          ]
        }
      ],
      "source": [
        "answers = []\n",
        "contexts = []\n",
        "\n",
        "for question in test_questions:\n",
        "  response = retrieval_augmented_qa_chain.invoke({\"question\" : question})\n",
        "  answers.append(response[\"response\"].content)\n",
        "  contexts.append([context.page_content for context in response[\"context\"]])\n",
        "  print('Question: ' + question)\n",
        "  print('Answer: ' + response[\"response\"].content)\n",
        "  print(\"****\")"
      ]
    },
    {
      "cell_type": "markdown",
      "metadata": {
        "id": "opHaHmYDeBfC"
      },
      "source": [
        "Now we can wrap our information in a Hugging Face dataset for use in the Ragas library."
      ]
    },
    {
      "cell_type": "code",
      "execution_count": 31,
      "metadata": {
        "id": "fY48YZITeHy-"
      },
      "outputs": [],
      "source": [
        "from datasets import Dataset\n",
        "\n",
        "response_dataset = Dataset.from_dict({\n",
        "    \"question\" : test_questions,\n",
        "    \"answer\" : answers,\n",
        "    \"contexts\" : contexts,\n",
        "    \"ground_truth\" : test_groundtruths\n",
        "})"
      ]
    },
    {
      "cell_type": "markdown",
      "metadata": {
        "id": "mmeVvQaZeogE"
      },
      "source": [
        "Let's take a peek and see what that looks like!"
      ]
    },
    {
      "cell_type": "code",
      "execution_count": 32,
      "metadata": {
        "colab": {
          "base_uri": "https://localhost:8080/"
        },
        "id": "pOpydvc8eqNM",
        "outputId": "857ea0c8-4d59-47b4-e995-bfe78d6c9352"
      },
      "outputs": [
        {
          "data": {
            "text/plain": [
              "{'question': 'What are some key moments in the feud between Taylor Swift and Kim Kardashian?',\n",
              " 'answer': \"I don't know.\",\n",
              " 'contexts': [\"4/23/24, 6:05 PM\\nA Timeline of Taylor Swift and Kim Kardashian's Feud\\nhttps://people.com/taylor-swift-and-kim-kardashian-feud-timeline-8412119\\n1/22\\nPHOTO: KEVIN MAZUR/MTV1415/WIREIMAGE\",\n",
              "  \"4/23/24, 6:05 PM\\nA Timeline of Taylor Swift and Kim Kardashian's Feud\\nhttps://people.com/taylor-swift-and-kim-kardashian-feud-timeline-8412119\\n5/22\\nPHOTO: KEVIN MAZUR/MTV1415/WIREIMAGE\",\n",
              "  \"4/23/24, 6:05 PM\\nA Timeline of Taylor Swift and Kim Kardashian's Feud\\nhttps://people.com/taylor-swift-and-kim-kardashian-feud-timeline-8412119\\n11/22\\nPHOTO: KEVIN WINTER/GETTY\",\n",
              "  \"4/23/24, 6:05 PM\\nA Timeline of Taylor Swift and Kim Kardashian's Feud\\nhttps://people.com/taylor-swift-and-kim-kardashian-feud-timeline-8412119\\n19/22\\nMUSIC\"],\n",
              " 'ground_truth': 'nan'}"
            ]
          },
          "execution_count": 32,
          "metadata": {},
          "output_type": "execute_result"
        }
      ],
      "source": [
        "response_dataset[0]"
      ]
    },
    {
      "cell_type": "markdown",
      "metadata": {
        "id": "xbsFm5FievJI"
      },
      "source": [
        "## Task 2: Evaluating our Pipeline with Ragas\n",
        "\n",
        "Now that we have our response dataset - we can finally get into the \"meat\" of Ragas - evaluation!\n",
        "\n",
        "First, we'll import the desired metrics, then we can use them to evaluate our created dataset!\n",
        "\n",
        "Check out the specific metrics we'll be using in the Ragas documentation:\n",
        "\n",
        "- [Faithfulness](https://docs.ragas.io/en/stable/concepts/metrics/faithfulness.html)\n",
        "- [Answer Relevancy](https://docs.ragas.io/en/stable/concepts/metrics/answer_relevance.html)\n",
        "- [Context Precision](https://docs.ragas.io/en/stable/concepts/metrics/context_precision.html)\n",
        "- [Context Recall](https://docs.ragas.io/en/stable/concepts/metrics/context_recall.html)\n",
        "- [Answer Correctness](https://docs.ragas.io/en/stable/concepts/metrics/answer_correctness.html)\n",
        "\n",
        "See the accompanied presentation for more in-depth explanations about each of the metrics!"
      ]
    },
    {
      "cell_type": "code",
      "execution_count": 33,
      "metadata": {
        "id": "R2PXwyt8e5aW"
      },
      "outputs": [],
      "source": [
        "from ragas import evaluate\n",
        "from ragas.metrics import (\n",
        "    faithfulness,\n",
        "    answer_relevancy,\n",
        "    answer_correctness,\n",
        "    context_recall,\n",
        "    context_precision,\n",
        ")\n",
        "\n",
        "metrics = [\n",
        "    faithfulness,\n",
        "    answer_relevancy,\n",
        "    context_recall,\n",
        "    context_precision,\n",
        "    answer_correctness,\n",
        "]"
      ]
    },
    {
      "cell_type": "code",
      "execution_count": 34,
      "metadata": {},
      "outputs": [
        {
          "data": {
            "text/html": [
              "<div>\n",
              "<style scoped>\n",
              "    .dataframe tbody tr th:only-of-type {\n",
              "        vertical-align: middle;\n",
              "    }\n",
              "\n",
              "    .dataframe tbody tr th {\n",
              "        vertical-align: top;\n",
              "    }\n",
              "\n",
              "    .dataframe thead th {\n",
              "        text-align: right;\n",
              "    }\n",
              "</style>\n",
              "<table border=\"1\" class=\"dataframe\">\n",
              "  <thead>\n",
              "    <tr style=\"text-align: right;\">\n",
              "      <th></th>\n",
              "      <th>question</th>\n",
              "      <th>answer</th>\n",
              "      <th>contexts</th>\n",
              "      <th>ground_truth</th>\n",
              "    </tr>\n",
              "  </thead>\n",
              "  <tbody>\n",
              "    <tr>\n",
              "      <th>0</th>\n",
              "      <td>What are some key moments in the feud between ...</td>\n",
              "      <td>I don't know.</td>\n",
              "      <td>[4/23/24, 6:05 PM\\nA Timeline of Taylor Swift ...</td>\n",
              "      <td>nan</td>\n",
              "    </tr>\n",
              "    <tr>\n",
              "      <th>1</th>\n",
              "      <td>How does Taylor Swift address the issue of cha...</td>\n",
              "      <td>Taylor Swift addresses the issue of character ...</td>\n",
              "      <td>[Taylor Swift - Look What You Made Me Do\\nTayl...</td>\n",
              "      <td>Taylor Swift addresses the issue of character ...</td>\n",
              "    </tr>\n",
              "    <tr>\n",
              "      <th>2</th>\n",
              "      <td>What is Taylor Swift's relationship with Kim K...</td>\n",
              "      <td>I don't know.</td>\n",
              "      <td>[April 19, 2024: Taylor Swift seemingly sings\\...</td>\n",
              "      <td>nan</td>\n",
              "    </tr>\n",
              "    <tr>\n",
              "      <th>3</th>\n",
              "      <td>How did Taylor Swift reference the drama of be...</td>\n",
              "      <td>Taylor Swift referenced the drama of being sta...</td>\n",
              "      <td>[appeared to be her way of reclaiming the snak...</td>\n",
              "      <td>Taylor Swift referenced the drama of being sta...</td>\n",
              "    </tr>\n",
              "    <tr>\n",
              "      <th>4</th>\n",
              "      <td>What did Kim Kardashian say about Taylor Swift...</td>\n",
              "      <td>Kim Kardashian claimed that Taylor Swift knew ...</td>\n",
              "      <td>[“Famous” lyric all along \\n\"She totally appro...</td>\n",
              "      <td>Kim Kardashian claimed that Taylor Swift knew ...</td>\n",
              "    </tr>\n",
              "    <tr>\n",
              "      <th>5</th>\n",
              "      <td>What did Kim Kardashian say about Taylor Swift...</td>\n",
              "      <td>Kim Kardashian claimed that Taylor Swift knew ...</td>\n",
              "      <td>[“Famous” lyric all along \\n\"She totally appro...</td>\n",
              "      <td>Kim Kardashian claimed that Taylor Swift knew ...</td>\n",
              "    </tr>\n",
              "  </tbody>\n",
              "</table>\n",
              "</div>"
            ],
            "text/plain": [
              "                                            question  \\\n",
              "0  What are some key moments in the feud between ...   \n",
              "1  How does Taylor Swift address the issue of cha...   \n",
              "2  What is Taylor Swift's relationship with Kim K...   \n",
              "3  How did Taylor Swift reference the drama of be...   \n",
              "4  What did Kim Kardashian say about Taylor Swift...   \n",
              "5  What did Kim Kardashian say about Taylor Swift...   \n",
              "\n",
              "                                              answer  \\\n",
              "0                                      I don't know.   \n",
              "1  Taylor Swift addresses the issue of character ...   \n",
              "2                                      I don't know.   \n",
              "3  Taylor Swift referenced the drama of being sta...   \n",
              "4  Kim Kardashian claimed that Taylor Swift knew ...   \n",
              "5  Kim Kardashian claimed that Taylor Swift knew ...   \n",
              "\n",
              "                                            contexts  \\\n",
              "0  [4/23/24, 6:05 PM\\nA Timeline of Taylor Swift ...   \n",
              "1  [Taylor Swift - Look What You Made Me Do\\nTayl...   \n",
              "2  [April 19, 2024: Taylor Swift seemingly sings\\...   \n",
              "3  [appeared to be her way of reclaiming the snak...   \n",
              "4  [“Famous” lyric all along \\n\"She totally appro...   \n",
              "5  [“Famous” lyric all along \\n\"She totally appro...   \n",
              "\n",
              "                                        ground_truth  \n",
              "0                                                nan  \n",
              "1  Taylor Swift addresses the issue of character ...  \n",
              "2                                                nan  \n",
              "3  Taylor Swift referenced the drama of being sta...  \n",
              "4  Kim Kardashian claimed that Taylor Swift knew ...  \n",
              "5  Kim Kardashian claimed that Taylor Swift knew ...  "
            ]
          },
          "execution_count": 34,
          "metadata": {},
          "output_type": "execute_result"
        }
      ],
      "source": [
        "response_dataset.to_pandas()"
      ]
    },
    {
      "cell_type": "markdown",
      "metadata": {
        "id": "Kx-vlsx_hrtV"
      },
      "source": [
        "All that's left to do is call \"evaluate\" and away we go!"
      ]
    },
    {
      "cell_type": "code",
      "execution_count": 35,
      "metadata": {
        "colab": {
          "base_uri": "https://localhost:8080/",
          "height": 118,
          "referenced_widgets": [
            "b08fe3ad33c74e13b80fe481fbbd0558",
            "e31321a9028b4cf99652a849cadbd87e",
            "07049044307946aeb86d2a48a48abbb8",
            "27360866d0f2483abcb08a014b2bf791",
            "23da939d19ab41fcbdf80efd237e6f06",
            "592c79ab0b3c48a3bf8b9690ed36bbbf",
            "a7db7f141e8145bc833d6378589c44fa",
            "b80fac1b810e415789a10175fb11b0bc",
            "48034a3fc19847edb7da8e11ee75774c",
            "25ffe3654bcd4610b60e97a08a66f377",
            "b17bca7181154a8ab0387fc37a2d4536"
          ]
        },
        "id": "DhlcfJ4lgYVI",
        "outputId": "0e3b7c06-fa9f-46f7-fe5a-64b15995fa38"
      },
      "outputs": [
        {
          "data": {
            "application/vnd.jupyter.widget-view+json": {
              "model_id": "cd687603563649dfa92acc45cbcdeda9",
              "version_major": 2,
              "version_minor": 0
            },
            "text/plain": [
              "Evaluating:   0%|          | 0/30 [00:00<?, ?it/s]"
            ]
          },
          "metadata": {},
          "output_type": "display_data"
        },
        {
          "name": "stderr",
          "output_type": "stream",
          "text": [
            "No statements were generated from the answer.\n",
            "No statements were generated from the answer.\n"
          ]
        }
      ],
      "source": [
        "results = evaluate(response_dataset, metrics)"
      ]
    },
    {
      "cell_type": "code",
      "execution_count": 36,
      "metadata": {
        "colab": {
          "base_uri": "https://localhost:8080/"
        },
        "id": "UqPArpSrgwDD",
        "outputId": "70d6269a-1bad-4aad-fd2a-b0d5ccd82163"
      },
      "outputs": [
        {
          "data": {
            "text/plain": [
              "{'faithfulness': 1.0000, 'answer_relevancy': 0.6382, 'context_recall': 0.6250, 'context_precision': 0.6667, 'answer_correctness': 0.4813}"
            ]
          },
          "execution_count": 36,
          "metadata": {},
          "output_type": "execute_result"
        }
      ],
      "source": [
        "results"
      ]
    },
    {
      "cell_type": "code",
      "execution_count": 37,
      "metadata": {
        "colab": {
          "base_uri": "https://localhost:8080/",
          "height": 1000
        },
        "id": "2nsGzj8DhP9E",
        "outputId": "b5a5d00f-2bc7-475b-a774-c0e7ee000b82"
      },
      "outputs": [
        {
          "name": "stderr",
          "output_type": "stream",
          "text": [
            "/Users/nithin.kamavaram/anaconda3/envs/AIM/lib/python3.11/site-packages/datasets/table.py:1395: FutureWarning: promote has been superseded by promote_options='default'.\n",
            "  block_group = [InMemoryTable(cls._concat_blocks(list(block_group), axis=axis))]\n",
            "/Users/nithin.kamavaram/anaconda3/envs/AIM/lib/python3.11/site-packages/datasets/table.py:1421: FutureWarning: promote has been superseded by promote_options='default'.\n",
            "  table = cls._concat_blocks(blocks, axis=0)\n"
          ]
        },
        {
          "data": {
            "text/html": [
              "<div>\n",
              "<style scoped>\n",
              "    .dataframe tbody tr th:only-of-type {\n",
              "        vertical-align: middle;\n",
              "    }\n",
              "\n",
              "    .dataframe tbody tr th {\n",
              "        vertical-align: top;\n",
              "    }\n",
              "\n",
              "    .dataframe thead th {\n",
              "        text-align: right;\n",
              "    }\n",
              "</style>\n",
              "<table border=\"1\" class=\"dataframe\">\n",
              "  <thead>\n",
              "    <tr style=\"text-align: right;\">\n",
              "      <th></th>\n",
              "      <th>question</th>\n",
              "      <th>answer</th>\n",
              "      <th>contexts</th>\n",
              "      <th>ground_truth</th>\n",
              "      <th>faithfulness</th>\n",
              "      <th>answer_relevancy</th>\n",
              "      <th>context_recall</th>\n",
              "      <th>context_precision</th>\n",
              "      <th>answer_correctness</th>\n",
              "    </tr>\n",
              "  </thead>\n",
              "  <tbody>\n",
              "    <tr>\n",
              "      <th>0</th>\n",
              "      <td>What are some key moments in the feud between ...</td>\n",
              "      <td>I don't know.</td>\n",
              "      <td>[4/23/24, 6:05 PM\\nA Timeline of Taylor Swift ...</td>\n",
              "      <td>nan</td>\n",
              "      <td>NaN</td>\n",
              "      <td>0.000000</td>\n",
              "      <td>0.00</td>\n",
              "      <td>0.0</td>\n",
              "      <td>0.198202</td>\n",
              "    </tr>\n",
              "    <tr>\n",
              "      <th>1</th>\n",
              "      <td>How does Taylor Swift address the issue of cha...</td>\n",
              "      <td>Taylor Swift addresses the issue of character ...</td>\n",
              "      <td>[Taylor Swift - Look What You Made Me Do\\nTayl...</td>\n",
              "      <td>Taylor Swift addresses the issue of character ...</td>\n",
              "      <td>1.0</td>\n",
              "      <td>0.999657</td>\n",
              "      <td>1.00</td>\n",
              "      <td>1.0</td>\n",
              "      <td>0.535389</td>\n",
              "    </tr>\n",
              "    <tr>\n",
              "      <th>2</th>\n",
              "      <td>What is Taylor Swift's relationship with Kim K...</td>\n",
              "      <td>I don't know.</td>\n",
              "      <td>[April 19, 2024: Taylor Swift seemingly sings\\...</td>\n",
              "      <td>nan</td>\n",
              "      <td>NaN</td>\n",
              "      <td>0.000000</td>\n",
              "      <td>0.75</td>\n",
              "      <td>0.0</td>\n",
              "      <td>0.198202</td>\n",
              "    </tr>\n",
              "    <tr>\n",
              "      <th>3</th>\n",
              "      <td>How did Taylor Swift reference the drama of be...</td>\n",
              "      <td>Taylor Swift referenced the drama of being sta...</td>\n",
              "      <td>[appeared to be her way of reclaiming the snak...</td>\n",
              "      <td>Taylor Swift referenced the drama of being sta...</td>\n",
              "      <td>1.0</td>\n",
              "      <td>0.914142</td>\n",
              "      <td>0.00</td>\n",
              "      <td>1.0</td>\n",
              "      <td>0.723496</td>\n",
              "    </tr>\n",
              "    <tr>\n",
              "      <th>4</th>\n",
              "      <td>What did Kim Kardashian say about Taylor Swift...</td>\n",
              "      <td>Kim Kardashian claimed that Taylor Swift knew ...</td>\n",
              "      <td>[“Famous” lyric all along \\n\"She totally appro...</td>\n",
              "      <td>Kim Kardashian claimed that Taylor Swift knew ...</td>\n",
              "      <td>1.0</td>\n",
              "      <td>0.956046</td>\n",
              "      <td>1.00</td>\n",
              "      <td>1.0</td>\n",
              "      <td>0.616543</td>\n",
              "    </tr>\n",
              "    <tr>\n",
              "      <th>5</th>\n",
              "      <td>What did Kim Kardashian say about Taylor Swift...</td>\n",
              "      <td>Kim Kardashian claimed that Taylor Swift knew ...</td>\n",
              "      <td>[“Famous” lyric all along \\n\"She totally appro...</td>\n",
              "      <td>Kim Kardashian claimed that Taylor Swift knew ...</td>\n",
              "      <td>1.0</td>\n",
              "      <td>0.959215</td>\n",
              "      <td>1.00</td>\n",
              "      <td>1.0</td>\n",
              "      <td>0.615848</td>\n",
              "    </tr>\n",
              "  </tbody>\n",
              "</table>\n",
              "</div>"
            ],
            "text/plain": [
              "                                            question  \\\n",
              "0  What are some key moments in the feud between ...   \n",
              "1  How does Taylor Swift address the issue of cha...   \n",
              "2  What is Taylor Swift's relationship with Kim K...   \n",
              "3  How did Taylor Swift reference the drama of be...   \n",
              "4  What did Kim Kardashian say about Taylor Swift...   \n",
              "5  What did Kim Kardashian say about Taylor Swift...   \n",
              "\n",
              "                                              answer  \\\n",
              "0                                      I don't know.   \n",
              "1  Taylor Swift addresses the issue of character ...   \n",
              "2                                      I don't know.   \n",
              "3  Taylor Swift referenced the drama of being sta...   \n",
              "4  Kim Kardashian claimed that Taylor Swift knew ...   \n",
              "5  Kim Kardashian claimed that Taylor Swift knew ...   \n",
              "\n",
              "                                            contexts  \\\n",
              "0  [4/23/24, 6:05 PM\\nA Timeline of Taylor Swift ...   \n",
              "1  [Taylor Swift - Look What You Made Me Do\\nTayl...   \n",
              "2  [April 19, 2024: Taylor Swift seemingly sings\\...   \n",
              "3  [appeared to be her way of reclaiming the snak...   \n",
              "4  [“Famous” lyric all along \\n\"She totally appro...   \n",
              "5  [“Famous” lyric all along \\n\"She totally appro...   \n",
              "\n",
              "                                        ground_truth  faithfulness  \\\n",
              "0                                                nan           NaN   \n",
              "1  Taylor Swift addresses the issue of character ...           1.0   \n",
              "2                                                nan           NaN   \n",
              "3  Taylor Swift referenced the drama of being sta...           1.0   \n",
              "4  Kim Kardashian claimed that Taylor Swift knew ...           1.0   \n",
              "5  Kim Kardashian claimed that Taylor Swift knew ...           1.0   \n",
              "\n",
              "   answer_relevancy  context_recall  context_precision  answer_correctness  \n",
              "0          0.000000            0.00                0.0            0.198202  \n",
              "1          0.999657            1.00                1.0            0.535389  \n",
              "2          0.000000            0.75                0.0            0.198202  \n",
              "3          0.914142            0.00                1.0            0.723496  \n",
              "4          0.956046            1.00                1.0            0.616543  \n",
              "5          0.959215            1.00                1.0            0.615848  "
            ]
          },
          "execution_count": 37,
          "metadata": {},
          "output_type": "execute_result"
        }
      ],
      "source": [
        "results_df = results.to_pandas()\n",
        "results_df"
      ]
    },
    {
      "cell_type": "markdown",
      "metadata": {
        "id": "MWfiu_pLh3JL"
      },
      "source": [
        "## Task 3: Making Adjustments to our RAG Pipeline\n",
        "\n",
        "Now that we have established a baseline - we can see how any changes impact our pipeline's performance!\n",
        "\n",
        "Let's modify our retriever and see how that impacts our Ragas metrics!\n",
        "\n",
        "> NOTE: MultiQueryRetriever is expanded on [here](https://python.langchain.com/docs/modules/data_connection/retrievers/MultiQueryRetriever) but for now, the implementation is not important to our lesson!"
      ]
    },
    {
      "cell_type": "code",
      "execution_count": 38,
      "metadata": {
        "id": "nKIuM336isBL"
      },
      "outputs": [
        {
          "data": {
            "text/plain": [
              "ChatOpenAI(client=<openai.resources.chat.completions.Completions object at 0x10faaae10>, async_client=<openai.resources.chat.completions.AsyncCompletions object at 0x10fcf08d0>, temperature=0.0, openai_api_key=SecretStr('**********'), openai_proxy='')"
            ]
          },
          "execution_count": 38,
          "metadata": {},
          "output_type": "execute_result"
        }
      ],
      "source": [
        "from langchain.retrievers import MultiQueryRetriever\n",
        "\n",
        "advanced_retriever = MultiQueryRetriever.from_llm(retriever=retriever, llm=primary_qa_llm)\n",
        "primary_qa_llm"
      ]
    },
    {
      "cell_type": "markdown",
      "metadata": {
        "id": "82rcj3L-i_c8"
      },
      "source": [
        "We'll also re-create our RAG pipeline using the abstractions that come packaged with LangChain v0.1.0!\n",
        "\n",
        "First, let's create a chain to \"stuff\" our documents into our context!"
      ]
    },
    {
      "cell_type": "code",
      "execution_count": 39,
      "metadata": {
        "id": "EfdCgTw7jC4i"
      },
      "outputs": [
        {
          "data": {
            "text/plain": [
              "ChatPromptTemplate(input_variables=['context', 'input'], input_types={'chat_history': typing.List[typing.Union[langchain_core.messages.ai.AIMessage, langchain_core.messages.human.HumanMessage, langchain_core.messages.chat.ChatMessage, langchain_core.messages.system.SystemMessage, langchain_core.messages.function.FunctionMessage, langchain_core.messages.tool.ToolMessage]]}, metadata={'lc_hub_owner': 'langchain-ai', 'lc_hub_repo': 'retrieval-qa-chat', 'lc_hub_commit_hash': 'b60afb6297176b022244feb83066e10ecadcda7b90423654c4a9d45e7a73cebc'}, messages=[SystemMessagePromptTemplate(prompt=PromptTemplate(input_variables=['context'], template='Answer any use questions based solely on the context below:\\n\\n<context>\\n{context}\\n</context>')), MessagesPlaceholder(variable_name='chat_history', optional=True), HumanMessagePromptTemplate(prompt=PromptTemplate(input_variables=['input'], template='{input}'))])"
            ]
          },
          "execution_count": 39,
          "metadata": {},
          "output_type": "execute_result"
        }
      ],
      "source": [
        "from langchain.chains.combine_documents import create_stuff_documents_chain\n",
        "\n",
        "document_chain = create_stuff_documents_chain(primary_qa_llm, retrieval_qa_prompt)\n",
        "retrieval_qa_prompt"
      ]
    },
    {
      "cell_type": "markdown",
      "metadata": {
        "id": "ozYl5WdPnvLu"
      },
      "source": [
        "Next, we'll create the retrieval chain!"
      ]
    },
    {
      "cell_type": "code",
      "execution_count": 40,
      "metadata": {
        "id": "9AK7wHVnn0U3"
      },
      "outputs": [
        {
          "data": {
            "text/plain": [
              "RunnableBinding(bound=RunnableAssign(mapper={\n",
              "  context: RunnableBinding(bound=RunnableLambda(lambda x: x['input'])\n",
              "           | MultiQueryRetriever(retriever=VectorStoreRetriever(tags=['Qdrant', 'OpenAIEmbeddings'], vectorstore=<langchain_community.vectorstores.qdrant.Qdrant object at 0x10fe1ead0>), llm_chain=LLMChain(prompt=PromptTemplate(input_variables=['question'], template='You are an AI language model assistant. Your task is \\n    to generate 3 different versions of the given user \\n    question to retrieve relevant documents from a vector  database. \\n    By generating multiple perspectives on the user question, \\n    your goal is to help the user overcome some of the limitations \\n    of distance-based similarity search. Provide these alternative \\n    questions separated by newlines. Original question: {question}'), llm=ChatOpenAI(client=<openai.resources.chat.completions.Completions object at 0x10faaae10>, async_client=<openai.resources.chat.completions.AsyncCompletions object at 0x10fcf08d0>, temperature=0.0, openai_api_key=SecretStr('**********'), openai_proxy=''), output_parser=LineListOutputParser())), config={'run_name': 'retrieve_documents'})\n",
              "})\n",
              "| RunnableAssign(mapper={\n",
              "    answer: RunnableBinding(bound=RunnableBinding(bound=RunnableAssign(mapper={\n",
              "              context: RunnableLambda(format_docs)\n",
              "            }), config={'run_name': 'format_inputs'})\n",
              "            | ChatPromptTemplate(input_variables=['context', 'input'], input_types={'chat_history': typing.List[typing.Union[langchain_core.messages.ai.AIMessage, langchain_core.messages.human.HumanMessage, langchain_core.messages.chat.ChatMessage, langchain_core.messages.system.SystemMessage, langchain_core.messages.function.FunctionMessage, langchain_core.messages.tool.ToolMessage]]}, metadata={'lc_hub_owner': 'langchain-ai', 'lc_hub_repo': 'retrieval-qa-chat', 'lc_hub_commit_hash': 'b60afb6297176b022244feb83066e10ecadcda7b90423654c4a9d45e7a73cebc'}, messages=[SystemMessagePromptTemplate(prompt=PromptTemplate(input_variables=['context'], template='Answer any use questions based solely on the context below:\\n\\n<context>\\n{context}\\n</context>')), MessagesPlaceholder(variable_name='chat_history', optional=True), HumanMessagePromptTemplate(prompt=PromptTemplate(input_variables=['input'], template='{input}'))])\n",
              "            | ChatOpenAI(client=<openai.resources.chat.completions.Completions object at 0x10faaae10>, async_client=<openai.resources.chat.completions.AsyncCompletions object at 0x10fcf08d0>, temperature=0.0, openai_api_key=SecretStr('**********'), openai_proxy='')\n",
              "            | StrOutputParser(), config={'run_name': 'stuff_documents_chain'})\n",
              "  }), config={'run_name': 'retrieval_chain'})"
            ]
          },
          "execution_count": 40,
          "metadata": {},
          "output_type": "execute_result"
        }
      ],
      "source": [
        "from langchain.chains import create_retrieval_chain\n",
        "\n",
        "retrieval_chain = create_retrieval_chain(advanced_retriever, document_chain)\n",
        "retrieval_chain"
      ]
    },
    {
      "cell_type": "code",
      "execution_count": 41,
      "metadata": {
        "id": "cmKORMfMoCjL"
      },
      "outputs": [],
      "source": [
        "response = retrieval_chain.invoke({\"input\": \"Who is Taylor Swift fueding with?\"})"
      ]
    },
    {
      "cell_type": "code",
      "execution_count": 42,
      "metadata": {
        "colab": {
          "base_uri": "https://localhost:8080/"
        },
        "id": "ICMsUWbWoOpf",
        "outputId": "f98fd6de-56ae-4a50-a5f6-f0bd6bbbb3dd"
      },
      "outputs": [
        {
          "name": "stdout",
          "output_type": "stream",
          "text": [
            "Taylor Swift is feuding with Kim Kardashian.\n"
          ]
        }
      ],
      "source": [
        "print(response[\"answer\"])"
      ]
    },
    {
      "cell_type": "code",
      "execution_count": 43,
      "metadata": {
        "id": "5s8ZGasYoVi6"
      },
      "outputs": [],
      "source": [
        "response = retrieval_chain.invoke({\"input\": \"Why are they fueding?\"})"
      ]
    },
    {
      "cell_type": "code",
      "execution_count": 44,
      "metadata": {
        "colab": {
          "base_uri": "https://localhost:8080/"
        },
        "id": "ADNCdW4hoYT8",
        "outputId": "743dcf32-1fab-4f6a-d99c-6b32665ced71"
      },
      "outputs": [
        {
          "name": "stdout",
          "output_type": "stream",
          "text": [
            "Taylor Swift and Kim Kardashian have been feuding over leaked phone calls and other incidents that have caused tension between them. The feud escalated with Kanye West's controversial rant during his appearance on Saturday Night Live, adding to the longstanding conflict between Swift and West.\n"
          ]
        }
      ],
      "source": [
        "print(response[\"answer\"])"
      ]
    },
    {
      "cell_type": "markdown",
      "metadata": {
        "id": "OxkU0HdpoaiE"
      },
      "source": [
        "Well, just from those responses this chain *feels* better - but lets see how it performs on our eval!\n",
        "\n",
        "Let's do the same process we did before to collect our pipeline's contexts and answers."
      ]
    },
    {
      "cell_type": "code",
      "execution_count": 45,
      "metadata": {
        "id": "kO8cWxn2oinT"
      },
      "outputs": [],
      "source": [
        "answers = []\n",
        "contexts = []\n",
        "\n",
        "for question in test_questions:\n",
        "  response = retrieval_chain.invoke({\"input\" : question})\n",
        "  answers.append(response[\"answer\"])\n",
        "  contexts.append([context.page_content for context in response[\"context\"]])"
      ]
    },
    {
      "cell_type": "code",
      "execution_count": 46,
      "metadata": {},
      "outputs": [
        {
          "data": {
            "text/plain": [
              "['Some key moments in the feud between Taylor Swift and Kim Kardashian include:\\n- Taylor Swift\\'s public disagreement with Kanye West over his song \"Famous\" in 2016.\\n- Kim Kardashian releasing a phone call between Taylor Swift and Kanye West in 2016 to prove Swift approved the lyrics.\\n- Taylor Swift addressing the feud in her music, such as in her song \"Look What You Made Me Do.\"\\n- Various public statements and social media posts from both parties discussing the feud.',\n",
              " 'In her song \"Look What You Made Me Do,\" Taylor Swift addresses the issue of character assassination by reclaiming the snake emoji that was posted in her Instagram comments section, implying that she was a liar. This appeared to be her way of responding to the negative portrayal of her character.',\n",
              " 'Taylor Swift and Kim Kardashian have had a complicated relationship with many ups and downs over the years. They have been seen posing together at events like the MTV EMAs and sharing hugs at the Grammys and MTV VMAs. However, there have also been instances of tension and conflict, particularly involving Kanye West, who has a long history with Taylor Swift.',\n",
              " 'Taylor Swift referenced the drama of being stabbed in the back in her music video for \"Look What You Made Me Do\" by including various Easter eggs throughout the video. In addition to having various snake imagery throughout, she also mentioned the drama with Kim Kardashian and Kanye West.',\n",
              " 'Kim Kardashian claimed that Taylor Swift knew of the infamous Kanye West \"Famous\" lyric all along. In response, Taylor Swift defended herself on July 17, 2016.',\n",
              " 'Kim Kardashian claimed that Taylor Swift knew of the infamous Kanye West \"Famous\" lyric all along. In response, Taylor Swift defended herself on July 17, 2016.']"
            ]
          },
          "execution_count": 46,
          "metadata": {},
          "output_type": "execute_result"
        }
      ],
      "source": [
        "answers"
      ]
    },
    {
      "cell_type": "markdown",
      "metadata": {
        "id": "tgagfhPUtM2j"
      },
      "source": [
        "Now we can convert this into a dataset, just like we did before."
      ]
    },
    {
      "cell_type": "code",
      "execution_count": 47,
      "metadata": {
        "id": "5FcllGeSovP8"
      },
      "outputs": [],
      "source": [
        "response_dataset_advanced_retrieval = Dataset.from_dict({\n",
        "    \"question\" : test_questions,\n",
        "    \"answer\" : answers,\n",
        "    \"contexts\" : contexts,\n",
        "    \"ground_truth\" : test_groundtruths\n",
        "})"
      ]
    },
    {
      "cell_type": "markdown",
      "metadata": {
        "id": "dELYabwktR2C"
      },
      "source": [
        "Let's evaluate on the same metrics we did for the first pipeline and see how it does!"
      ]
    },
    {
      "cell_type": "code",
      "execution_count": 48,
      "metadata": {
        "colab": {
          "base_uri": "https://localhost:8080/",
          "height": 49,
          "referenced_widgets": [
            "1979939c0b724700b91036413a201394",
            "13a6eac487424a6e8cba55fe80ab14b0",
            "5bfedf7db9f74de6acf4257dad1ab8fe",
            "6b332b97af494a609bd91cabef779e25",
            "b1a56f3ff2fc41d6b8fbcfe7cba6a767",
            "657bd409f8e74cbab4919ccfafb61b9a",
            "19ea7a76caca4e90b7a4250344c2b7aa",
            "9c59d4f3a89443f0b372af4243378a17",
            "3dd02b027e91427b9dd025f822550f22",
            "9a1589c2328144038a70d2f1ed936434",
            "978040aaab77415699ebd3f3ab43b7e5"
          ]
        },
        "id": "d7uHseWJo2TU",
        "outputId": "2a1672fc-a729-4abe-a87b-8ee5ea45a9be"
      },
      "outputs": [
        {
          "data": {
            "application/vnd.jupyter.widget-view+json": {
              "model_id": "987eecccadd34d819f84766415f11bf5",
              "version_major": 2,
              "version_minor": 0
            },
            "text/plain": [
              "Evaluating:   0%|          | 0/30 [00:00<?, ?it/s]"
            ]
          },
          "metadata": {},
          "output_type": "display_data"
        }
      ],
      "source": [
        "#advanced_retrieval_results = evaluate(response_dataset_advanced_retrieval, metrics, llm=generator_llm, embeddings=embeddings)\n",
        "advanced_retrieval_results = evaluate(response_dataset_advanced_retrieval, metrics)"
      ]
    },
    {
      "cell_type": "code",
      "execution_count": 49,
      "metadata": {
        "colab": {
          "base_uri": "https://localhost:8080/",
          "height": 1000
        },
        "id": "JsFd0uDd2n5E",
        "outputId": "10ae8d83-7cef-42ed-e0e6-0725ef2fcad4"
      },
      "outputs": [
        {
          "name": "stderr",
          "output_type": "stream",
          "text": [
            "/Users/nithin.kamavaram/anaconda3/envs/AIM/lib/python3.11/site-packages/datasets/table.py:1395: FutureWarning: promote has been superseded by promote_options='default'.\n",
            "  block_group = [InMemoryTable(cls._concat_blocks(list(block_group), axis=axis))]\n",
            "/Users/nithin.kamavaram/anaconda3/envs/AIM/lib/python3.11/site-packages/datasets/table.py:1421: FutureWarning: promote has been superseded by promote_options='default'.\n",
            "  table = cls._concat_blocks(blocks, axis=0)\n"
          ]
        },
        {
          "data": {
            "text/html": [
              "<div>\n",
              "<style scoped>\n",
              "    .dataframe tbody tr th:only-of-type {\n",
              "        vertical-align: middle;\n",
              "    }\n",
              "\n",
              "    .dataframe tbody tr th {\n",
              "        vertical-align: top;\n",
              "    }\n",
              "\n",
              "    .dataframe thead th {\n",
              "        text-align: right;\n",
              "    }\n",
              "</style>\n",
              "<table border=\"1\" class=\"dataframe\">\n",
              "  <thead>\n",
              "    <tr style=\"text-align: right;\">\n",
              "      <th></th>\n",
              "      <th>question</th>\n",
              "      <th>answer</th>\n",
              "      <th>contexts</th>\n",
              "      <th>ground_truth</th>\n",
              "      <th>faithfulness</th>\n",
              "      <th>answer_relevancy</th>\n",
              "      <th>context_recall</th>\n",
              "      <th>context_precision</th>\n",
              "      <th>answer_correctness</th>\n",
              "    </tr>\n",
              "  </thead>\n",
              "  <tbody>\n",
              "    <tr>\n",
              "      <th>0</th>\n",
              "      <td>What are some key moments in the feud between ...</td>\n",
              "      <td>Some key moments in the feud between Taylor Sw...</td>\n",
              "      <td>[4/23/24, 6:05 PM\\nA Timeline of Taylor Swift ...</td>\n",
              "      <td>nan</td>\n",
              "      <td>1.0</td>\n",
              "      <td>1.000000</td>\n",
              "      <td>0.0</td>\n",
              "      <td>0.000000</td>\n",
              "      <td>0.173487</td>\n",
              "    </tr>\n",
              "    <tr>\n",
              "      <th>1</th>\n",
              "      <td>How does Taylor Swift address the issue of cha...</td>\n",
              "      <td>In her song \"Look What You Made Me Do,\" Taylor...</td>\n",
              "      <td>[Taylor Swift - Look What You Made Me Do\\nTayl...</td>\n",
              "      <td>Taylor Swift addresses the issue of character ...</td>\n",
              "      <td>1.0</td>\n",
              "      <td>0.947917</td>\n",
              "      <td>1.0</td>\n",
              "      <td>1.000000</td>\n",
              "      <td>0.606499</td>\n",
              "    </tr>\n",
              "    <tr>\n",
              "      <th>2</th>\n",
              "      <td>What is Taylor Swift's relationship with Kim K...</td>\n",
              "      <td>Taylor Swift and Kim Kardashian have had a com...</td>\n",
              "      <td>[April 19, 2024: Taylor Swift seemingly sings\\...</td>\n",
              "      <td>nan</td>\n",
              "      <td>1.0</td>\n",
              "      <td>0.963775</td>\n",
              "      <td>1.0</td>\n",
              "      <td>0.000000</td>\n",
              "      <td>0.177307</td>\n",
              "    </tr>\n",
              "    <tr>\n",
              "      <th>3</th>\n",
              "      <td>How did Taylor Swift reference the drama of be...</td>\n",
              "      <td>Taylor Swift referenced the drama of being sta...</td>\n",
              "      <td>[Taylor Swift - Look What You Made Me Do\\nTayl...</td>\n",
              "      <td>Taylor Swift referenced the drama of being sta...</td>\n",
              "      <td>1.0</td>\n",
              "      <td>0.952909</td>\n",
              "      <td>0.0</td>\n",
              "      <td>0.916667</td>\n",
              "      <td>0.229610</td>\n",
              "    </tr>\n",
              "    <tr>\n",
              "      <th>4</th>\n",
              "      <td>What did Kim Kardashian say about Taylor Swift...</td>\n",
              "      <td>Kim Kardashian claimed that Taylor Swift knew ...</td>\n",
              "      <td>[“Famous” lyric all along \\n\"She totally appro...</td>\n",
              "      <td>Kim Kardashian claimed that Taylor Swift knew ...</td>\n",
              "      <td>1.0</td>\n",
              "      <td>0.928671</td>\n",
              "      <td>1.0</td>\n",
              "      <td>0.770833</td>\n",
              "      <td>0.617426</td>\n",
              "    </tr>\n",
              "    <tr>\n",
              "      <th>5</th>\n",
              "      <td>What did Kim Kardashian say about Taylor Swift...</td>\n",
              "      <td>Kim Kardashian claimed that Taylor Swift knew ...</td>\n",
              "      <td>[“Famous” lyric all along \\n\"She totally appro...</td>\n",
              "      <td>Kim Kardashian claimed that Taylor Swift knew ...</td>\n",
              "      <td>1.0</td>\n",
              "      <td>0.939380</td>\n",
              "      <td>1.0</td>\n",
              "      <td>0.770833</td>\n",
              "      <td>0.616999</td>\n",
              "    </tr>\n",
              "  </tbody>\n",
              "</table>\n",
              "</div>"
            ],
            "text/plain": [
              "                                            question  \\\n",
              "0  What are some key moments in the feud between ...   \n",
              "1  How does Taylor Swift address the issue of cha...   \n",
              "2  What is Taylor Swift's relationship with Kim K...   \n",
              "3  How did Taylor Swift reference the drama of be...   \n",
              "4  What did Kim Kardashian say about Taylor Swift...   \n",
              "5  What did Kim Kardashian say about Taylor Swift...   \n",
              "\n",
              "                                              answer  \\\n",
              "0  Some key moments in the feud between Taylor Sw...   \n",
              "1  In her song \"Look What You Made Me Do,\" Taylor...   \n",
              "2  Taylor Swift and Kim Kardashian have had a com...   \n",
              "3  Taylor Swift referenced the drama of being sta...   \n",
              "4  Kim Kardashian claimed that Taylor Swift knew ...   \n",
              "5  Kim Kardashian claimed that Taylor Swift knew ...   \n",
              "\n",
              "                                            contexts  \\\n",
              "0  [4/23/24, 6:05 PM\\nA Timeline of Taylor Swift ...   \n",
              "1  [Taylor Swift - Look What You Made Me Do\\nTayl...   \n",
              "2  [April 19, 2024: Taylor Swift seemingly sings\\...   \n",
              "3  [Taylor Swift - Look What You Made Me Do\\nTayl...   \n",
              "4  [“Famous” lyric all along \\n\"She totally appro...   \n",
              "5  [“Famous” lyric all along \\n\"She totally appro...   \n",
              "\n",
              "                                        ground_truth  faithfulness  \\\n",
              "0                                                nan           1.0   \n",
              "1  Taylor Swift addresses the issue of character ...           1.0   \n",
              "2                                                nan           1.0   \n",
              "3  Taylor Swift referenced the drama of being sta...           1.0   \n",
              "4  Kim Kardashian claimed that Taylor Swift knew ...           1.0   \n",
              "5  Kim Kardashian claimed that Taylor Swift knew ...           1.0   \n",
              "\n",
              "   answer_relevancy  context_recall  context_precision  answer_correctness  \n",
              "0          1.000000             0.0           0.000000            0.173487  \n",
              "1          0.947917             1.0           1.000000            0.606499  \n",
              "2          0.963775             1.0           0.000000            0.177307  \n",
              "3          0.952909             0.0           0.916667            0.229610  \n",
              "4          0.928671             1.0           0.770833            0.617426  \n",
              "5          0.939380             1.0           0.770833            0.616999  "
            ]
          },
          "execution_count": 49,
          "metadata": {},
          "output_type": "execute_result"
        }
      ],
      "source": [
        "advanced_retrieval_results_df = advanced_retrieval_results.to_pandas()\n",
        "advanced_retrieval_results_df"
      ]
    },
    {
      "cell_type": "markdown",
      "metadata": {
        "id": "J0hzqq5VtZ2a"
      },
      "source": [
        "## Task 4: Evaluating our Adjusted Pipeline Against Our Baseline\n",
        "\n",
        "Now we can compare our results and see what directional changes occured!\n",
        "\n",
        "Let's refresh with our initial metrics."
      ]
    },
    {
      "cell_type": "code",
      "execution_count": 50,
      "metadata": {
        "colab": {
          "base_uri": "https://localhost:8080/"
        },
        "id": "_WWGRaF5qx3V",
        "outputId": "23e476d6-dc67-40ad-d20a-2f4ea5dcd012"
      },
      "outputs": [
        {
          "data": {
            "text/plain": [
              "{'faithfulness': 1.0000, 'answer_relevancy': 0.6382, 'context_recall': 0.6250, 'context_precision': 0.6667, 'answer_correctness': 0.4813}"
            ]
          },
          "execution_count": 50,
          "metadata": {},
          "output_type": "execute_result"
        }
      ],
      "source": [
        "results"
      ]
    },
    {
      "cell_type": "markdown",
      "metadata": {
        "id": "oFv_yAeotmFs"
      },
      "source": [
        "And see how our advanced retrieval modified our chain!"
      ]
    },
    {
      "cell_type": "code",
      "execution_count": 51,
      "metadata": {
        "colab": {
          "base_uri": "https://localhost:8080/"
        },
        "id": "rpV11dxJo7xa",
        "outputId": "409ba84e-9fac-4670-ee84-57a578c73539"
      },
      "outputs": [
        {
          "data": {
            "text/plain": [
              "{'faithfulness': 1.0000, 'answer_relevancy': 0.9554, 'context_recall': 0.6667, 'context_precision': 0.5764, 'answer_correctness': 0.4036}"
            ]
          },
          "execution_count": 51,
          "metadata": {},
          "output_type": "execute_result"
        }
      ],
      "source": [
        "advanced_retrieval_results"
      ]
    },
    {
      "cell_type": "code",
      "execution_count": 52,
      "metadata": {
        "colab": {
          "base_uri": "https://localhost:8080/",
          "height": 206
        },
        "id": "62NYn3iAvTjM",
        "outputId": "88916a73-fade-4448-8711-9ca55d906801"
      },
      "outputs": [
        {
          "data": {
            "text/html": [
              "<div>\n",
              "<style scoped>\n",
              "    .dataframe tbody tr th:only-of-type {\n",
              "        vertical-align: middle;\n",
              "    }\n",
              "\n",
              "    .dataframe tbody tr th {\n",
              "        vertical-align: top;\n",
              "    }\n",
              "\n",
              "    .dataframe thead th {\n",
              "        text-align: right;\n",
              "    }\n",
              "</style>\n",
              "<table border=\"1\" class=\"dataframe\">\n",
              "  <thead>\n",
              "    <tr style=\"text-align: right;\">\n",
              "      <th></th>\n",
              "      <th>Metric</th>\n",
              "      <th>Baseline</th>\n",
              "      <th>MultiQueryRetriever with Document Stuffing</th>\n",
              "      <th>Delta</th>\n",
              "    </tr>\n",
              "  </thead>\n",
              "  <tbody>\n",
              "    <tr>\n",
              "      <th>0</th>\n",
              "      <td>faithfulness</td>\n",
              "      <td>1.000000</td>\n",
              "      <td>1.000000</td>\n",
              "      <td>0.000000</td>\n",
              "    </tr>\n",
              "    <tr>\n",
              "      <th>1</th>\n",
              "      <td>answer_relevancy</td>\n",
              "      <td>0.638177</td>\n",
              "      <td>0.955442</td>\n",
              "      <td>0.317265</td>\n",
              "    </tr>\n",
              "    <tr>\n",
              "      <th>2</th>\n",
              "      <td>context_recall</td>\n",
              "      <td>0.625000</td>\n",
              "      <td>0.666667</td>\n",
              "      <td>0.041667</td>\n",
              "    </tr>\n",
              "    <tr>\n",
              "      <th>3</th>\n",
              "      <td>context_precision</td>\n",
              "      <td>0.666667</td>\n",
              "      <td>0.576389</td>\n",
              "      <td>-0.090278</td>\n",
              "    </tr>\n",
              "    <tr>\n",
              "      <th>4</th>\n",
              "      <td>answer_correctness</td>\n",
              "      <td>0.481280</td>\n",
              "      <td>0.403555</td>\n",
              "      <td>-0.077725</td>\n",
              "    </tr>\n",
              "  </tbody>\n",
              "</table>\n",
              "</div>"
            ],
            "text/plain": [
              "               Metric  Baseline  MultiQueryRetriever with Document Stuffing  \\\n",
              "0        faithfulness  1.000000                                    1.000000   \n",
              "1    answer_relevancy  0.638177                                    0.955442   \n",
              "2      context_recall  0.625000                                    0.666667   \n",
              "3   context_precision  0.666667                                    0.576389   \n",
              "4  answer_correctness  0.481280                                    0.403555   \n",
              "\n",
              "      Delta  \n",
              "0  0.000000  \n",
              "1  0.317265  \n",
              "2  0.041667  \n",
              "3 -0.090278  \n",
              "4 -0.077725  "
            ]
          },
          "execution_count": 52,
          "metadata": {},
          "output_type": "execute_result"
        }
      ],
      "source": [
        "import pandas as pd\n",
        "\n",
        "df_original = pd.DataFrame(list(results.items()), columns=['Metric', 'Baseline'])\n",
        "df_comparison = pd.DataFrame(list(advanced_retrieval_results.items()), columns=['Metric', 'MultiQueryRetriever with Document Stuffing'])\n",
        "\n",
        "df_merged = pd.merge(df_original, df_comparison, on='Metric')\n",
        "\n",
        "df_merged['Delta'] = df_merged['MultiQueryRetriever with Document Stuffing'] - df_merged['Baseline']\n",
        "\n",
        "df_merged"
      ]
    },
    {
      "cell_type": "markdown",
      "metadata": {
        "id": "GJKEOLNs5v0R"
      },
      "source": [
        "## Task 5: Testing OpenAI's Claim\n",
        "\n",
        "Now that we've seen how our retriever can impact the performance of our RAG pipeline - let's see how changing our embedding model impacts performance."
      ]
    },
    {
      "cell_type": "markdown",
      "metadata": {
        "id": "MM4KRhJYEL-h"
      },
      "source": [
        "####🏗️ Activity #2:\n",
        "\n",
        "Please provide markdown, or code comments, to explain which each of the following steps are doing!"
      ]
    },
    {
      "cell_type": "markdown",
      "metadata": {},
      "source": [
        "### Here are we are specifying type of embedding model to use"
      ]
    },
    {
      "cell_type": "code",
      "execution_count": 53,
      "metadata": {
        "id": "Gv_tv4w86bPb"
      },
      "outputs": [],
      "source": [
        "new_embeddings = OpenAIEmbeddings(model=\"text-embedding-3-small\")\n",
        "#new_embeddings = AzureOpenAIEmbeddings(\n",
        "#    model=\"text-embedding-3-large\"\n",
        "#)"
      ]
    },
    {
      "cell_type": "markdown",
      "metadata": {},
      "source": [
        "### We are creating vector store (Qdrant), will use this store to stre the documents embeddings"
      ]
    },
    {
      "cell_type": "code",
      "execution_count": 54,
      "metadata": {
        "id": "-JPe1_Jx6Rnw"
      },
      "outputs": [],
      "source": [
        "vector_store = qdrant = Qdrant.from_documents(\n",
        "    documents,\n",
        "    new_embeddings,\n",
        "    location=\":memory:\",\n",
        "    collection_name=\"Taylor Swift - Fued - MQR\",\n",
        ")"
      ]
    },
    {
      "cell_type": "markdown",
      "metadata": {},
      "source": [
        "### We are exposing the vectore store created in above step as a retriever, retriever helps to retrieve related context for user queries"
      ]
    },
    {
      "cell_type": "code",
      "execution_count": 55,
      "metadata": {
        "id": "H-HuozNf6muZ"
      },
      "outputs": [],
      "source": [
        "new_retriever = vector_store.as_retriever()"
      ]
    },
    {
      "cell_type": "markdown",
      "metadata": {},
      "source": [
        "### Here we are initilizing MultiQueryRetriever from langchian "
      ]
    },
    {
      "cell_type": "code",
      "execution_count": 56,
      "metadata": {
        "id": "M6Tyc3ZY7Km2"
      },
      "outputs": [],
      "source": [
        "new_advanced_retriever = MultiQueryRetriever.from_llm(retriever=new_retriever, llm=primary_qa_llm)"
      ]
    },
    {
      "cell_type": "markdown",
      "metadata": {},
      "source": [
        "### In this step we are creating retrieval chain, we are directly using langchain chain wrapper here, under the hood this uses LCEL to create chain."
      ]
    },
    {
      "cell_type": "code",
      "execution_count": 57,
      "metadata": {
        "id": "s5QSJIhm7SKr"
      },
      "outputs": [],
      "source": [
        "new_retrieval_chain = create_retrieval_chain(new_advanced_retriever, document_chain)"
      ]
    },
    {
      "cell_type": "markdown",
      "metadata": {},
      "source": [
        "### Now we are passing our synthetic generated questions to the chain to get answers and also context."
      ]
    },
    {
      "cell_type": "code",
      "execution_count": 58,
      "metadata": {
        "id": "MBVjl1UK7fd7"
      },
      "outputs": [
        {
          "name": "stdout",
          "output_type": "stream",
          "text": [
            "What are some key moments in the feud between Taylor Swift and Kim Kardashian?\n",
            "Some key moments in the feud between Taylor Swift and Kim Kardashian include:\n",
            "\n",
            "1. November 11, 2012: The feud between Taylor Swift and Kim Kardashian began.\n",
            "2. There is a photo of Kevin Mazur/MTV1415/WireImage included in the timeline.\n",
            "3. There is a photo of Kevin Winter/Getty included in the timeline.\n",
            "***\n",
            "How does Taylor Swift address the issue of character assassination in her song \"Look What You Made Me Do\"?\n",
            "In her song \"Look What You Made Me Do,\" Taylor Swift references the Kanye West and Kim Kardashian drama by including the lyrics, \"I made that bitch famous.\" This can be seen as Swift addressing the issue of character assassination that she felt was directed towards her by Kanye West in the past.\n",
            "***\n",
            "What is Taylor Swift's relationship with Kim Kardashian?\n",
            "Taylor Swift and Kim Kardashian have had a feud, as indicated by the article titled \"A Timeline of Taylor Swift and Kim Kardashian's Feud.\"\n",
            "***\n",
            "How did Taylor Swift reference the drama of being stabbed in the back in her music video for \"Look What You Made Me Do\"?\n",
            "Taylor Swift referenced the drama of being stabbed in the back in her music video for \"Look What You Made Me Do\" by including various snake imagery throughout the video. This appeared to be her way of reclaiming the snake emoji posted in her Instagram comments section, implying that she was being called a liar.\n",
            "***\n",
            "What did Kim Kardashian say about Taylor Swift's knowledge of Kanye West's \"Famous\" lyric, and how did Taylor Swift react?\n",
            "Kim Kardashian claimed that Taylor Swift knew of the infamous Kanye West \"Famous\" lyric all along. Kardashian said in the July issue of GQ that Swift \"totally approved\" of the lyrics before the song's release. In response, Taylor Swift defended herself by stating that the phone call never included the actual lyrics \"I made that bitch famous.\"\n",
            "***\n",
            "What did Kim Kardashian say about Taylor Swift's knowledge of Kanye West's \"Famous\" lyric, and how did Taylor Swift react?\n",
            "Kim Kardashian claimed that Taylor Swift knew of the infamous Kanye West \"Famous\" lyric all along. Kardashian said in the July issue of GQ that Swift \"totally approved\" of the lyrics before the song's release. In response, Taylor Swift quickly defended herself online, noting how the phone call never mentioned the actual lyrics, 'I made that bitch famous.'\n",
            "***\n"
          ]
        }
      ],
      "source": [
        "answers = []\n",
        "contexts = []\n",
        "\n",
        "for question in test_questions:\n",
        "  response = new_retrieval_chain.invoke({\"input\" : question})\n",
        "  answers.append(response[\"answer\"])\n",
        "  contexts.append([context.page_content for context in response[\"context\"]])\n",
        "  print(question)\n",
        "  print(response[\"answer\"])\n",
        "  print(\"***\")"
      ]
    },
    {
      "cell_type": "markdown",
      "metadata": {},
      "source": [
        "### we are converting out question, answer, context and groundtruth in huggingface dataset format."
      ]
    },
    {
      "cell_type": "code",
      "execution_count": 59,
      "metadata": {
        "id": "lTBrs0zr7iyG"
      },
      "outputs": [],
      "source": [
        "new_response_dataset_advanced_retrieval = Dataset.from_dict({\n",
        "    \"question\" : test_questions,\n",
        "    \"answer\" : answers,\n",
        "    \"contexts\" : contexts,\n",
        "    \"ground_truth\" : test_groundtruths\n",
        "})"
      ]
    },
    {
      "cell_type": "markdown",
      "metadata": {},
      "source": [
        "### Finally we are doing RAGAS evaluation on on new_response_dataset_advanced_retrieval dataset using different ragas evaluation metrics"
      ]
    },
    {
      "cell_type": "code",
      "execution_count": 60,
      "metadata": {
        "colab": {
          "base_uri": "https://localhost:8080/",
          "height": 84,
          "referenced_widgets": [
            "8beec47b68314f0faea61929019e4f25",
            "f3edbc21d8084a7bb04b7bc0b5c1b689",
            "21849ee7e76f45049eb59e5b1c0815c9",
            "c783728b34ef4672bb290bf34c844567",
            "cb78200dac4742149d0de05c0af0bd97",
            "2cb51bc6e5d74683b17f8b9190fbf33a",
            "96403d0bca064737ac89ee0e9f67e8b5",
            "5215d48d2bf8433299f0dc26cc44f176",
            "a7bde4cf0c9249989a22480bfa09ef01",
            "fa6cf55d6e3742c98a5fd9b1a8e939b3",
            "6362de259fc64994a9f677002ebfb09b"
          ]
        },
        "id": "hG5h-D8n7sZp",
        "outputId": "61194d4c-254d-4a79-fd79-391a86d677fb"
      },
      "outputs": [
        {
          "data": {
            "application/vnd.jupyter.widget-view+json": {
              "model_id": "427d4bda4745463fbc0e62563f60698a",
              "version_major": 2,
              "version_minor": 0
            },
            "text/plain": [
              "Evaluating:   0%|          | 0/30 [00:00<?, ?it/s]"
            ]
          },
          "metadata": {},
          "output_type": "display_data"
        }
      ],
      "source": [
        "#new_advanced_retrieval_results = evaluate(new_response_dataset_advanced_retrieval, metrics, llm=generator_llm, embeddings=embeddings)\n",
        "new_advanced_retrieval_results = evaluate(new_response_dataset_advanced_retrieval, metrics)"
      ]
    },
    {
      "cell_type": "markdown",
      "metadata": {},
      "source": [
        "### these are the evaluation results on different metrics"
      ]
    },
    {
      "cell_type": "code",
      "execution_count": 61,
      "metadata": {
        "colab": {
          "base_uri": "https://localhost:8080/"
        },
        "id": "1uHdcpsZ76kj",
        "outputId": "00dc980c-c874-4c77-8d4a-a5b974ec7dee"
      },
      "outputs": [
        {
          "data": {
            "text/plain": [
              "{'faithfulness': 0.9444, 'answer_relevancy': 0.9394, 'context_recall': 0.6667, 'context_precision': 0.6667, 'answer_correctness': 0.4713}"
            ]
          },
          "execution_count": 61,
          "metadata": {},
          "output_type": "execute_result"
        }
      ],
      "source": [
        "new_advanced_retrieval_results"
      ]
    },
    {
      "cell_type": "markdown",
      "metadata": {},
      "source": [
        "### finally we are comparing delta between different metrics before and after changing our embedding model."
      ]
    },
    {
      "cell_type": "code",
      "execution_count": 62,
      "metadata": {
        "colab": {
          "base_uri": "https://localhost:8080/",
          "height": 206
        },
        "id": "s4TyaCUQ79Ke",
        "outputId": "d54a8a20-1922-4f19-8d0c-e1043abcd0f3"
      },
      "outputs": [
        {
          "data": {
            "text/html": [
              "<div>\n",
              "<style scoped>\n",
              "    .dataframe tbody tr th:only-of-type {\n",
              "        vertical-align: middle;\n",
              "    }\n",
              "\n",
              "    .dataframe tbody tr th {\n",
              "        vertical-align: top;\n",
              "    }\n",
              "\n",
              "    .dataframe thead th {\n",
              "        text-align: right;\n",
              "    }\n",
              "</style>\n",
              "<table border=\"1\" class=\"dataframe\">\n",
              "  <thead>\n",
              "    <tr style=\"text-align: right;\">\n",
              "      <th></th>\n",
              "      <th>Metric</th>\n",
              "      <th>Baseline</th>\n",
              "      <th>ADA</th>\n",
              "      <th>Text Embedding 3</th>\n",
              "      <th>Delta - TE3 -&gt; ADA</th>\n",
              "      <th>Delta - TE3 -&gt; Baseline</th>\n",
              "    </tr>\n",
              "  </thead>\n",
              "  <tbody>\n",
              "    <tr>\n",
              "      <th>0</th>\n",
              "      <td>faithfulness</td>\n",
              "      <td>1.000000</td>\n",
              "      <td>1.000000</td>\n",
              "      <td>0.944444</td>\n",
              "      <td>-0.055556</td>\n",
              "      <td>-5.555556e-02</td>\n",
              "    </tr>\n",
              "    <tr>\n",
              "      <th>1</th>\n",
              "      <td>answer_relevancy</td>\n",
              "      <td>0.638177</td>\n",
              "      <td>0.955442</td>\n",
              "      <td>0.939433</td>\n",
              "      <td>-0.016009</td>\n",
              "      <td>3.012567e-01</td>\n",
              "    </tr>\n",
              "    <tr>\n",
              "      <th>2</th>\n",
              "      <td>context_recall</td>\n",
              "      <td>0.625000</td>\n",
              "      <td>0.666667</td>\n",
              "      <td>0.666667</td>\n",
              "      <td>0.000000</td>\n",
              "      <td>4.166667e-02</td>\n",
              "    </tr>\n",
              "    <tr>\n",
              "      <th>3</th>\n",
              "      <td>context_precision</td>\n",
              "      <td>0.666667</td>\n",
              "      <td>0.576389</td>\n",
              "      <td>0.666667</td>\n",
              "      <td>0.090278</td>\n",
              "      <td>7.222223e-12</td>\n",
              "    </tr>\n",
              "    <tr>\n",
              "      <th>4</th>\n",
              "      <td>answer_correctness</td>\n",
              "      <td>0.481280</td>\n",
              "      <td>0.403555</td>\n",
              "      <td>0.471275</td>\n",
              "      <td>0.067720</td>\n",
              "      <td>-1.000521e-02</td>\n",
              "    </tr>\n",
              "  </tbody>\n",
              "</table>\n",
              "</div>"
            ],
            "text/plain": [
              "               Metric  Baseline       ADA  Text Embedding 3  \\\n",
              "0        faithfulness  1.000000  1.000000          0.944444   \n",
              "1    answer_relevancy  0.638177  0.955442          0.939433   \n",
              "2      context_recall  0.625000  0.666667          0.666667   \n",
              "3   context_precision  0.666667  0.576389          0.666667   \n",
              "4  answer_correctness  0.481280  0.403555          0.471275   \n",
              "\n",
              "   Delta - TE3 -> ADA  Delta - TE3 -> Baseline  \n",
              "0           -0.055556            -5.555556e-02  \n",
              "1           -0.016009             3.012567e-01  \n",
              "2            0.000000             4.166667e-02  \n",
              "3            0.090278             7.222223e-12  \n",
              "4            0.067720            -1.000521e-02  "
            ]
          },
          "execution_count": 62,
          "metadata": {},
          "output_type": "execute_result"
        }
      ],
      "source": [
        "df_baseline = pd.DataFrame(list(results.items()), columns=['Metric', 'Baseline'])\n",
        "df_original = pd.DataFrame(list(advanced_retrieval_results.items()), columns=['Metric', 'ADA'])\n",
        "df_comparison = pd.DataFrame(list(new_advanced_retrieval_results.items()), columns=['Metric', 'Text Embedding 3'])\n",
        "\n",
        "df_merged = pd.merge(df_original, df_comparison, on='Metric')\n",
        "df_merged = pd.merge(df_baseline, df_merged, on=\"Metric\")\n",
        "\n",
        "df_merged['Delta - TE3 -> ADA'] = df_merged['Text Embedding 3'] - df_merged['ADA']\n",
        "df_merged['Delta - TE3 -> Baseline'] = df_merged['Text Embedding 3'] - df_merged['Baseline']\n",
        "\n",
        "df_merged"
      ]
    },
    {
      "cell_type": "markdown",
      "metadata": {
        "id": "rRmkcMrxC4Me"
      },
      "source": [
        "####❓ Question #4:\n",
        "\n",
        "Do you think, in your opinion, `text-embedding-3-small` is significantly better than `ada`?"
      ]
    },
    {
      "cell_type": "markdown",
      "metadata": {},
      "source": [
        "**ANSWER**:\n",
        "- There is good improvement with context_precision and answer_correctness metrics for text_embedding_3_small, I don't see significant improvement for other metrics based on the this notebook results."
      ]
    },
    {
      "cell_type": "markdown",
      "metadata": {
        "id": "iOciJLABDBnA"
      },
      "source": [
        "## BONUS ACTIVITY: Showcase Multi-Context Perfomance Changes\n",
        "\n",
        "Now that we've looked at a number of different examples - showcase the difference on the multi-context *specific* questions that were synthetically generated.\n",
        "\n",
        "> NOTE: You have all the data you'll need already in the notebook if you made it to this step!"
      ]
    },
    {
      "cell_type": "code",
      "execution_count": 68,
      "metadata": {
        "id": "MY8l2EksDH43"
      },
      "outputs": [
        {
          "data": {
            "text/html": [
              "<div>\n",
              "<style scoped>\n",
              "    .dataframe tbody tr th:only-of-type {\n",
              "        vertical-align: middle;\n",
              "    }\n",
              "\n",
              "    .dataframe tbody tr th {\n",
              "        vertical-align: top;\n",
              "    }\n",
              "\n",
              "    .dataframe thead th {\n",
              "        text-align: right;\n",
              "    }\n",
              "</style>\n",
              "<table border=\"1\" class=\"dataframe\">\n",
              "  <thead>\n",
              "    <tr style=\"text-align: right;\">\n",
              "      <th></th>\n",
              "      <th>question</th>\n",
              "      <th>contexts</th>\n",
              "      <th>ground_truth</th>\n",
              "      <th>evolution_type</th>\n",
              "      <th>metadata</th>\n",
              "      <th>episode_done</th>\n",
              "    </tr>\n",
              "  </thead>\n",
              "  <tbody>\n",
              "    <tr>\n",
              "      <th>0</th>\n",
              "      <td>What did Kim Kardashian say about Taylor Swift...</td>\n",
              "      <td>[will be the greatest feeling in the world. Th...</td>\n",
              "      <td>Kim Kardashian claimed that Taylor Swift knew ...</td>\n",
              "      <td>multi_context</td>\n",
              "      <td>[{'source': 'DataRepository/tswift_fued.pdf', ...</td>\n",
              "      <td>True</td>\n",
              "    </tr>\n",
              "    <tr>\n",
              "      <th>1</th>\n",
              "      <td>What did Kim Kardashian say about Taylor Swift...</td>\n",
              "      <td>[will be the greatest feeling in the world. Th...</td>\n",
              "      <td>Kim Kardashian claimed that Taylor Swift knew ...</td>\n",
              "      <td>multi_context</td>\n",
              "      <td>[{'source': 'DataRepository/tswift_fued.pdf', ...</td>\n",
              "      <td>True</td>\n",
              "    </tr>\n",
              "  </tbody>\n",
              "</table>\n",
              "</div>"
            ],
            "text/plain": [
              "                                            question  \\\n",
              "0  What did Kim Kardashian say about Taylor Swift...   \n",
              "1  What did Kim Kardashian say about Taylor Swift...   \n",
              "\n",
              "                                            contexts  \\\n",
              "0  [will be the greatest feeling in the world. Th...   \n",
              "1  [will be the greatest feeling in the world. Th...   \n",
              "\n",
              "                                        ground_truth evolution_type  \\\n",
              "0  Kim Kardashian claimed that Taylor Swift knew ...  multi_context   \n",
              "1  Kim Kardashian claimed that Taylor Swift knew ...  multi_context   \n",
              "\n",
              "                                            metadata  episode_done  \n",
              "0  [{'source': 'DataRepository/tswift_fued.pdf', ...          True  \n",
              "1  [{'source': 'DataRepository/tswift_fued.pdf', ...          True  "
            ]
          },
          "execution_count": 68,
          "metadata": {},
          "output_type": "execute_result"
        }
      ],
      "source": [
        "# filtering testset for only multi_context questions\n",
        "test_set_multi_context = testset.to_pandas()\n",
        "test_set_multi_context = test_set_multi_context[test_set_multi_context['evolution_type'] == 'multi_context']\n",
        "test_set_multi_context.reset_index(drop=True, inplace=True)\n",
        "\n",
        "q_list = list(test_set_multi_context['question'])\n",
        "test_set_multi_context"
      ]
    },
    {
      "cell_type": "code",
      "execution_count": 69,
      "metadata": {},
      "outputs": [
        {
          "name": "stderr",
          "output_type": "stream",
          "text": [
            "/Users/nithin.kamavaram/anaconda3/envs/AIM/lib/python3.11/site-packages/datasets/table.py:1395: FutureWarning: promote has been superseded by promote_options='default'.\n",
            "  block_group = [InMemoryTable(cls._concat_blocks(list(block_group), axis=axis))]\n",
            "/Users/nithin.kamavaram/anaconda3/envs/AIM/lib/python3.11/site-packages/datasets/table.py:1421: FutureWarning: promote has been superseded by promote_options='default'.\n",
            "  table = cls._concat_blocks(blocks, axis=0)\n",
            "/Users/nithin.kamavaram/anaconda3/envs/AIM/lib/python3.11/site-packages/datasets/table.py:1395: FutureWarning: promote has been superseded by promote_options='default'.\n",
            "  block_group = [InMemoryTable(cls._concat_blocks(list(block_group), axis=axis))]\n",
            "/Users/nithin.kamavaram/anaconda3/envs/AIM/lib/python3.11/site-packages/datasets/table.py:1421: FutureWarning: promote has been superseded by promote_options='default'.\n",
            "  table = cls._concat_blocks(blocks, axis=0)\n",
            "/Users/nithin.kamavaram/anaconda3/envs/AIM/lib/python3.11/site-packages/datasets/table.py:1395: FutureWarning: promote has been superseded by promote_options='default'.\n",
            "  block_group = [InMemoryTable(cls._concat_blocks(list(block_group), axis=axis))]\n",
            "/Users/nithin.kamavaram/anaconda3/envs/AIM/lib/python3.11/site-packages/datasets/table.py:1421: FutureWarning: promote has been superseded by promote_options='default'.\n",
            "  table = cls._concat_blocks(blocks, axis=0)\n"
          ]
        }
      ],
      "source": [
        "# filtering results for different RAG pipelines for only multi_context questions\n",
        "results_mc = results.to_pandas()\n",
        "results_mc = results_mc[results_mc['question'].isin(q_list)]\n",
        "advanced_retrieval_results_mc = advanced_retrieval_results.to_pandas()\n",
        "advanced_retrieval_results_mc = advanced_retrieval_results_mc[advanced_retrieval_results_mc['question'].isin(q_list)]\n",
        "new_advanced_retrieval_results_mc =new_advanced_retrieval_results.to_pandas()\n",
        "new_advanced_retrieval_results_mc = new_advanced_retrieval_results_mc[new_advanced_retrieval_results_mc['question'].isin(q_list)]"
      ]
    },
    {
      "cell_type": "code",
      "execution_count": 70,
      "metadata": {},
      "outputs": [],
      "source": [
        "# calculating mean for all the metrics\n",
        "results_mc = results_mc.describe().loc['mean'].reset_index()\n",
        "results_mc.columns = ['Metric', 'Baseline']\n",
        "advanced_retrieval_results_mc = advanced_retrieval_results_mc.describe().loc['mean'].reset_index()\n",
        "advanced_retrieval_results_mc.columns = ['Metric', 'ada']\n",
        "new_advanced_retrieval_results_mc = new_advanced_retrieval_results_mc.describe().loc['mean'].reset_index()\n",
        "new_advanced_retrieval_results_mc.columns = ['Metric', 'embedding_small']"
      ]
    },
    {
      "cell_type": "code",
      "execution_count": 71,
      "metadata": {},
      "outputs": [
        {
          "data": {
            "text/html": [
              "<div>\n",
              "<style scoped>\n",
              "    .dataframe tbody tr th:only-of-type {\n",
              "        vertical-align: middle;\n",
              "    }\n",
              "\n",
              "    .dataframe tbody tr th {\n",
              "        vertical-align: top;\n",
              "    }\n",
              "\n",
              "    .dataframe thead th {\n",
              "        text-align: right;\n",
              "    }\n",
              "</style>\n",
              "<table border=\"1\" class=\"dataframe\">\n",
              "  <thead>\n",
              "    <tr style=\"text-align: right;\">\n",
              "      <th></th>\n",
              "      <th>Metric</th>\n",
              "      <th>Baseline</th>\n",
              "      <th>ada</th>\n",
              "      <th>embedding_small</th>\n",
              "    </tr>\n",
              "  </thead>\n",
              "  <tbody>\n",
              "    <tr>\n",
              "      <th>0</th>\n",
              "      <td>faithfulness</td>\n",
              "      <td>1.000000</td>\n",
              "      <td>1.000000</td>\n",
              "      <td>1.000000</td>\n",
              "    </tr>\n",
              "    <tr>\n",
              "      <th>1</th>\n",
              "      <td>answer_relevancy</td>\n",
              "      <td>0.957630</td>\n",
              "      <td>0.934025</td>\n",
              "      <td>0.942493</td>\n",
              "    </tr>\n",
              "    <tr>\n",
              "      <th>2</th>\n",
              "      <td>context_recall</td>\n",
              "      <td>1.000000</td>\n",
              "      <td>1.000000</td>\n",
              "      <td>1.000000</td>\n",
              "    </tr>\n",
              "    <tr>\n",
              "      <th>3</th>\n",
              "      <td>context_precision</td>\n",
              "      <td>1.000000</td>\n",
              "      <td>0.770833</td>\n",
              "      <td>1.000000</td>\n",
              "    </tr>\n",
              "    <tr>\n",
              "      <th>4</th>\n",
              "      <td>answer_correctness</td>\n",
              "      <td>0.616196</td>\n",
              "      <td>0.617213</td>\n",
              "      <td>0.603063</td>\n",
              "    </tr>\n",
              "  </tbody>\n",
              "</table>\n",
              "</div>"
            ],
            "text/plain": [
              "               Metric  Baseline       ada  embedding_small\n",
              "0        faithfulness  1.000000  1.000000         1.000000\n",
              "1    answer_relevancy  0.957630  0.934025         0.942493\n",
              "2      context_recall  1.000000  1.000000         1.000000\n",
              "3   context_precision  1.000000  0.770833         1.000000\n",
              "4  answer_correctness  0.616196  0.617213         0.603063"
            ]
          },
          "execution_count": 71,
          "metadata": {},
          "output_type": "execute_result"
        }
      ],
      "source": [
        "# merging all dataframes\n",
        "df_merged_mc = pd.merge(advanced_retrieval_results_mc, new_advanced_retrieval_results_mc, on='Metric')\n",
        "df_merged_mc = pd.merge(results_mc, df_merged_mc, on=\"Metric\")\n",
        "df_merged_mc"
      ]
    },
    {
      "cell_type": "code",
      "execution_count": 72,
      "metadata": {},
      "outputs": [
        {
          "data": {
            "text/html": [
              "<div>\n",
              "<style scoped>\n",
              "    .dataframe tbody tr th:only-of-type {\n",
              "        vertical-align: middle;\n",
              "    }\n",
              "\n",
              "    .dataframe tbody tr th {\n",
              "        vertical-align: top;\n",
              "    }\n",
              "\n",
              "    .dataframe thead th {\n",
              "        text-align: right;\n",
              "    }\n",
              "</style>\n",
              "<table border=\"1\" class=\"dataframe\">\n",
              "  <thead>\n",
              "    <tr style=\"text-align: right;\">\n",
              "      <th></th>\n",
              "      <th>Metric</th>\n",
              "      <th>Baseline</th>\n",
              "      <th>ada</th>\n",
              "      <th>embedding_small</th>\n",
              "      <th>Delta - embedding_small -&gt; ada</th>\n",
              "      <th>Delta - ada -&gt; Baseline</th>\n",
              "    </tr>\n",
              "  </thead>\n",
              "  <tbody>\n",
              "    <tr>\n",
              "      <th>0</th>\n",
              "      <td>faithfulness</td>\n",
              "      <td>1.000000</td>\n",
              "      <td>1.000000</td>\n",
              "      <td>1.000000</td>\n",
              "      <td>0.000000</td>\n",
              "      <td>0.000000</td>\n",
              "    </tr>\n",
              "    <tr>\n",
              "      <th>1</th>\n",
              "      <td>answer_relevancy</td>\n",
              "      <td>0.957630</td>\n",
              "      <td>0.934025</td>\n",
              "      <td>0.942493</td>\n",
              "      <td>0.008468</td>\n",
              "      <td>-0.023605</td>\n",
              "    </tr>\n",
              "    <tr>\n",
              "      <th>2</th>\n",
              "      <td>context_recall</td>\n",
              "      <td>1.000000</td>\n",
              "      <td>1.000000</td>\n",
              "      <td>1.000000</td>\n",
              "      <td>0.000000</td>\n",
              "      <td>0.000000</td>\n",
              "    </tr>\n",
              "    <tr>\n",
              "      <th>3</th>\n",
              "      <td>context_precision</td>\n",
              "      <td>1.000000</td>\n",
              "      <td>0.770833</td>\n",
              "      <td>1.000000</td>\n",
              "      <td>0.229167</td>\n",
              "      <td>-0.229167</td>\n",
              "    </tr>\n",
              "    <tr>\n",
              "      <th>4</th>\n",
              "      <td>answer_correctness</td>\n",
              "      <td>0.616196</td>\n",
              "      <td>0.617213</td>\n",
              "      <td>0.603063</td>\n",
              "      <td>-0.014150</td>\n",
              "      <td>0.001017</td>\n",
              "    </tr>\n",
              "  </tbody>\n",
              "</table>\n",
              "</div>"
            ],
            "text/plain": [
              "               Metric  Baseline       ada  embedding_small  \\\n",
              "0        faithfulness  1.000000  1.000000         1.000000   \n",
              "1    answer_relevancy  0.957630  0.934025         0.942493   \n",
              "2      context_recall  1.000000  1.000000         1.000000   \n",
              "3   context_precision  1.000000  0.770833         1.000000   \n",
              "4  answer_correctness  0.616196  0.617213         0.603063   \n",
              "\n",
              "   Delta - embedding_small -> ada  Delta - ada -> Baseline  \n",
              "0                        0.000000                 0.000000  \n",
              "1                        0.008468                -0.023605  \n",
              "2                        0.000000                 0.000000  \n",
              "3                        0.229167                -0.229167  \n",
              "4                       -0.014150                 0.001017  "
            ]
          },
          "execution_count": 72,
          "metadata": {},
          "output_type": "execute_result"
        }
      ],
      "source": [
        "# calculating delta for all metrics for different RAG pipelines\n",
        "df_merged_mc['Delta - embedding_small -> ada'] = df_merged_mc['embedding_small'] - df_merged_mc['ada']\n",
        "df_merged_mc['Delta - ada -> Baseline'] = df_merged_mc['ada'] - df_merged_mc['Baseline']\n",
        "\n",
        "df_merged_mc"
      ]
    },
    {
      "cell_type": "code",
      "execution_count": null,
      "metadata": {},
      "outputs": [],
      "source": []
    }
  ],
  "metadata": {
    "colab": {
      "provenance": []
    },
    "kernelspec": {
      "display_name": "Python 3",
      "name": "python3"
    },
    "language_info": {
      "codemirror_mode": {
        "name": "ipython",
        "version": 3
      },
      "file_extension": ".py",
      "mimetype": "text/x-python",
      "name": "python",
      "nbconvert_exporter": "python",
      "pygments_lexer": "ipython3",
      "version": "3.11.8"
    },
    "widgets": {
      "application/vnd.jupyter.widget-state+json": {
        "04fb2aabb5164e63a01ef7de283e369b": {
          "model_module": "@jupyter-widgets/controls",
          "model_module_version": "1.5.0",
          "model_name": "DescriptionStyleModel",
          "state": {
            "_model_module": "@jupyter-widgets/controls",
            "_model_module_version": "1.5.0",
            "_model_name": "DescriptionStyleModel",
            "_view_count": null,
            "_view_module": "@jupyter-widgets/base",
            "_view_module_version": "1.2.0",
            "_view_name": "StyleView",
            "description_width": ""
          }
        },
        "07049044307946aeb86d2a48a48abbb8": {
          "model_module": "@jupyter-widgets/controls",
          "model_module_version": "1.5.0",
          "model_name": "FloatProgressModel",
          "state": {
            "_dom_classes": [],
            "_model_module": "@jupyter-widgets/controls",
            "_model_module_version": "1.5.0",
            "_model_name": "FloatProgressModel",
            "_view_count": null,
            "_view_module": "@jupyter-widgets/controls",
            "_view_module_version": "1.5.0",
            "_view_name": "ProgressView",
            "bar_style": "success",
            "description": "",
            "description_tooltip": null,
            "layout": "IPY_MODEL_b80fac1b810e415789a10175fb11b0bc",
            "max": 90,
            "min": 0,
            "orientation": "horizontal",
            "style": "IPY_MODEL_48034a3fc19847edb7da8e11ee75774c",
            "value": 90
          }
        },
        "13a6eac487424a6e8cba55fe80ab14b0": {
          "model_module": "@jupyter-widgets/controls",
          "model_module_version": "1.5.0",
          "model_name": "HTMLModel",
          "state": {
            "_dom_classes": [],
            "_model_module": "@jupyter-widgets/controls",
            "_model_module_version": "1.5.0",
            "_model_name": "HTMLModel",
            "_view_count": null,
            "_view_module": "@jupyter-widgets/controls",
            "_view_module_version": "1.5.0",
            "_view_name": "HTMLView",
            "description": "",
            "description_tooltip": null,
            "layout": "IPY_MODEL_657bd409f8e74cbab4919ccfafb61b9a",
            "placeholder": "​",
            "style": "IPY_MODEL_19ea7a76caca4e90b7a4250344c2b7aa",
            "value": "Evaluating: 100%"
          }
        },
        "14c415af32d54784871d892d13338148": {
          "model_module": "@jupyter-widgets/base",
          "model_module_version": "1.2.0",
          "model_name": "LayoutModel",
          "state": {
            "_model_module": "@jupyter-widgets/base",
            "_model_module_version": "1.2.0",
            "_model_name": "LayoutModel",
            "_view_count": null,
            "_view_module": "@jupyter-widgets/base",
            "_view_module_version": "1.2.0",
            "_view_name": "LayoutView",
            "align_content": null,
            "align_items": null,
            "align_self": null,
            "border": null,
            "bottom": null,
            "display": null,
            "flex": null,
            "flex_flow": null,
            "grid_area": null,
            "grid_auto_columns": null,
            "grid_auto_flow": null,
            "grid_auto_rows": null,
            "grid_column": null,
            "grid_gap": null,
            "grid_row": null,
            "grid_template_areas": null,
            "grid_template_columns": null,
            "grid_template_rows": null,
            "height": null,
            "justify_content": null,
            "justify_items": null,
            "left": null,
            "margin": null,
            "max_height": null,
            "max_width": null,
            "min_height": null,
            "min_width": null,
            "object_fit": null,
            "object_position": null,
            "order": null,
            "overflow": null,
            "overflow_x": null,
            "overflow_y": null,
            "padding": null,
            "right": null,
            "top": null,
            "visibility": "hidden",
            "width": null
          }
        },
        "1979939c0b724700b91036413a201394": {
          "model_module": "@jupyter-widgets/controls",
          "model_module_version": "1.5.0",
          "model_name": "HBoxModel",
          "state": {
            "_dom_classes": [],
            "_model_module": "@jupyter-widgets/controls",
            "_model_module_version": "1.5.0",
            "_model_name": "HBoxModel",
            "_view_count": null,
            "_view_module": "@jupyter-widgets/controls",
            "_view_module_version": "1.5.0",
            "_view_name": "HBoxView",
            "box_style": "",
            "children": [
              "IPY_MODEL_13a6eac487424a6e8cba55fe80ab14b0",
              "IPY_MODEL_5bfedf7db9f74de6acf4257dad1ab8fe",
              "IPY_MODEL_6b332b97af494a609bd91cabef779e25"
            ],
            "layout": "IPY_MODEL_b1a56f3ff2fc41d6b8fbcfe7cba6a767"
          }
        },
        "19ea7a76caca4e90b7a4250344c2b7aa": {
          "model_module": "@jupyter-widgets/controls",
          "model_module_version": "1.5.0",
          "model_name": "DescriptionStyleModel",
          "state": {
            "_model_module": "@jupyter-widgets/controls",
            "_model_module_version": "1.5.0",
            "_model_name": "DescriptionStyleModel",
            "_view_count": null,
            "_view_module": "@jupyter-widgets/base",
            "_view_module_version": "1.2.0",
            "_view_name": "StyleView",
            "description_width": ""
          }
        },
        "1a96adc24ab34300b3b68e46364f745b": {
          "model_module": "@jupyter-widgets/controls",
          "model_module_version": "1.5.0",
          "model_name": "ProgressStyleModel",
          "state": {
            "_model_module": "@jupyter-widgets/controls",
            "_model_module_version": "1.5.0",
            "_model_name": "ProgressStyleModel",
            "_view_count": null,
            "_view_module": "@jupyter-widgets/base",
            "_view_module_version": "1.2.0",
            "_view_name": "StyleView",
            "bar_color": null,
            "description_width": ""
          }
        },
        "21849ee7e76f45049eb59e5b1c0815c9": {
          "model_module": "@jupyter-widgets/controls",
          "model_module_version": "1.5.0",
          "model_name": "FloatProgressModel",
          "state": {
            "_dom_classes": [],
            "_model_module": "@jupyter-widgets/controls",
            "_model_module_version": "1.5.0",
            "_model_name": "FloatProgressModel",
            "_view_count": null,
            "_view_module": "@jupyter-widgets/controls",
            "_view_module_version": "1.5.0",
            "_view_name": "ProgressView",
            "bar_style": "success",
            "description": "",
            "description_tooltip": null,
            "layout": "IPY_MODEL_5215d48d2bf8433299f0dc26cc44f176",
            "max": 90,
            "min": 0,
            "orientation": "horizontal",
            "style": "IPY_MODEL_a7bde4cf0c9249989a22480bfa09ef01",
            "value": 90
          }
        },
        "23da939d19ab41fcbdf80efd237e6f06": {
          "model_module": "@jupyter-widgets/base",
          "model_module_version": "1.2.0",
          "model_name": "LayoutModel",
          "state": {
            "_model_module": "@jupyter-widgets/base",
            "_model_module_version": "1.2.0",
            "_model_name": "LayoutModel",
            "_view_count": null,
            "_view_module": "@jupyter-widgets/base",
            "_view_module_version": "1.2.0",
            "_view_name": "LayoutView",
            "align_content": null,
            "align_items": null,
            "align_self": null,
            "border": null,
            "bottom": null,
            "display": null,
            "flex": null,
            "flex_flow": null,
            "grid_area": null,
            "grid_auto_columns": null,
            "grid_auto_flow": null,
            "grid_auto_rows": null,
            "grid_column": null,
            "grid_gap": null,
            "grid_row": null,
            "grid_template_areas": null,
            "grid_template_columns": null,
            "grid_template_rows": null,
            "height": null,
            "justify_content": null,
            "justify_items": null,
            "left": null,
            "margin": null,
            "max_height": null,
            "max_width": null,
            "min_height": null,
            "min_width": null,
            "object_fit": null,
            "object_position": null,
            "order": null,
            "overflow": null,
            "overflow_x": null,
            "overflow_y": null,
            "padding": null,
            "right": null,
            "top": null,
            "visibility": null,
            "width": null
          }
        },
        "25ffe3654bcd4610b60e97a08a66f377": {
          "model_module": "@jupyter-widgets/base",
          "model_module_version": "1.2.0",
          "model_name": "LayoutModel",
          "state": {
            "_model_module": "@jupyter-widgets/base",
            "_model_module_version": "1.2.0",
            "_model_name": "LayoutModel",
            "_view_count": null,
            "_view_module": "@jupyter-widgets/base",
            "_view_module_version": "1.2.0",
            "_view_name": "LayoutView",
            "align_content": null,
            "align_items": null,
            "align_self": null,
            "border": null,
            "bottom": null,
            "display": null,
            "flex": null,
            "flex_flow": null,
            "grid_area": null,
            "grid_auto_columns": null,
            "grid_auto_flow": null,
            "grid_auto_rows": null,
            "grid_column": null,
            "grid_gap": null,
            "grid_row": null,
            "grid_template_areas": null,
            "grid_template_columns": null,
            "grid_template_rows": null,
            "height": null,
            "justify_content": null,
            "justify_items": null,
            "left": null,
            "margin": null,
            "max_height": null,
            "max_width": null,
            "min_height": null,
            "min_width": null,
            "object_fit": null,
            "object_position": null,
            "order": null,
            "overflow": null,
            "overflow_x": null,
            "overflow_y": null,
            "padding": null,
            "right": null,
            "top": null,
            "visibility": null,
            "width": null
          }
        },
        "27360866d0f2483abcb08a014b2bf791": {
          "model_module": "@jupyter-widgets/controls",
          "model_module_version": "1.5.0",
          "model_name": "HTMLModel",
          "state": {
            "_dom_classes": [],
            "_model_module": "@jupyter-widgets/controls",
            "_model_module_version": "1.5.0",
            "_model_name": "HTMLModel",
            "_view_count": null,
            "_view_module": "@jupyter-widgets/controls",
            "_view_module_version": "1.5.0",
            "_view_name": "HTMLView",
            "description": "",
            "description_tooltip": null,
            "layout": "IPY_MODEL_25ffe3654bcd4610b60e97a08a66f377",
            "placeholder": "​",
            "style": "IPY_MODEL_b17bca7181154a8ab0387fc37a2d4536",
            "value": " 90/90 [00:36&lt;00:00,  1.25it/s]"
          }
        },
        "291e0a01c3e84b839d7ab677d9f8a074": {
          "model_module": "@jupyter-widgets/controls",
          "model_module_version": "1.5.0",
          "model_name": "FloatProgressModel",
          "state": {
            "_dom_classes": [],
            "_model_module": "@jupyter-widgets/controls",
            "_model_module_version": "1.5.0",
            "_model_name": "FloatProgressModel",
            "_view_count": null,
            "_view_module": "@jupyter-widgets/controls",
            "_view_module_version": "1.5.0",
            "_view_name": "ProgressView",
            "bar_style": "",
            "description": "",
            "description_tooltip": null,
            "layout": "IPY_MODEL_7729ca7a0a914d7187c2a4bad2180a65",
            "max": 112,
            "min": 0,
            "orientation": "horizontal",
            "style": "IPY_MODEL_3eff985efa934fe8a2db753fc7e5d8dc",
            "value": 112
          }
        },
        "2cb51bc6e5d74683b17f8b9190fbf33a": {
          "model_module": "@jupyter-widgets/base",
          "model_module_version": "1.2.0",
          "model_name": "LayoutModel",
          "state": {
            "_model_module": "@jupyter-widgets/base",
            "_model_module_version": "1.2.0",
            "_model_name": "LayoutModel",
            "_view_count": null,
            "_view_module": "@jupyter-widgets/base",
            "_view_module_version": "1.2.0",
            "_view_name": "LayoutView",
            "align_content": null,
            "align_items": null,
            "align_self": null,
            "border": null,
            "bottom": null,
            "display": null,
            "flex": null,
            "flex_flow": null,
            "grid_area": null,
            "grid_auto_columns": null,
            "grid_auto_flow": null,
            "grid_auto_rows": null,
            "grid_column": null,
            "grid_gap": null,
            "grid_row": null,
            "grid_template_areas": null,
            "grid_template_columns": null,
            "grid_template_rows": null,
            "height": null,
            "justify_content": null,
            "justify_items": null,
            "left": null,
            "margin": null,
            "max_height": null,
            "max_width": null,
            "min_height": null,
            "min_width": null,
            "object_fit": null,
            "object_position": null,
            "order": null,
            "overflow": null,
            "overflow_x": null,
            "overflow_y": null,
            "padding": null,
            "right": null,
            "top": null,
            "visibility": null,
            "width": null
          }
        },
        "3dd02b027e91427b9dd025f822550f22": {
          "model_module": "@jupyter-widgets/controls",
          "model_module_version": "1.5.0",
          "model_name": "ProgressStyleModel",
          "state": {
            "_model_module": "@jupyter-widgets/controls",
            "_model_module_version": "1.5.0",
            "_model_name": "ProgressStyleModel",
            "_view_count": null,
            "_view_module": "@jupyter-widgets/base",
            "_view_module_version": "1.2.0",
            "_view_name": "StyleView",
            "bar_color": null,
            "description_width": ""
          }
        },
        "3eff985efa934fe8a2db753fc7e5d8dc": {
          "model_module": "@jupyter-widgets/controls",
          "model_module_version": "1.5.0",
          "model_name": "ProgressStyleModel",
          "state": {
            "_model_module": "@jupyter-widgets/controls",
            "_model_module_version": "1.5.0",
            "_model_name": "ProgressStyleModel",
            "_view_count": null,
            "_view_module": "@jupyter-widgets/base",
            "_view_module_version": "1.2.0",
            "_view_name": "StyleView",
            "bar_color": null,
            "description_width": ""
          }
        },
        "48034a3fc19847edb7da8e11ee75774c": {
          "model_module": "@jupyter-widgets/controls",
          "model_module_version": "1.5.0",
          "model_name": "ProgressStyleModel",
          "state": {
            "_model_module": "@jupyter-widgets/controls",
            "_model_module_version": "1.5.0",
            "_model_name": "ProgressStyleModel",
            "_view_count": null,
            "_view_module": "@jupyter-widgets/base",
            "_view_module_version": "1.2.0",
            "_view_name": "StyleView",
            "bar_color": null,
            "description_width": ""
          }
        },
        "5215d48d2bf8433299f0dc26cc44f176": {
          "model_module": "@jupyter-widgets/base",
          "model_module_version": "1.2.0",
          "model_name": "LayoutModel",
          "state": {
            "_model_module": "@jupyter-widgets/base",
            "_model_module_version": "1.2.0",
            "_model_name": "LayoutModel",
            "_view_count": null,
            "_view_module": "@jupyter-widgets/base",
            "_view_module_version": "1.2.0",
            "_view_name": "LayoutView",
            "align_content": null,
            "align_items": null,
            "align_self": null,
            "border": null,
            "bottom": null,
            "display": null,
            "flex": null,
            "flex_flow": null,
            "grid_area": null,
            "grid_auto_columns": null,
            "grid_auto_flow": null,
            "grid_auto_rows": null,
            "grid_column": null,
            "grid_gap": null,
            "grid_row": null,
            "grid_template_areas": null,
            "grid_template_columns": null,
            "grid_template_rows": null,
            "height": null,
            "justify_content": null,
            "justify_items": null,
            "left": null,
            "margin": null,
            "max_height": null,
            "max_width": null,
            "min_height": null,
            "min_width": null,
            "object_fit": null,
            "object_position": null,
            "order": null,
            "overflow": null,
            "overflow_x": null,
            "overflow_y": null,
            "padding": null,
            "right": null,
            "top": null,
            "visibility": null,
            "width": null
          }
        },
        "592c79ab0b3c48a3bf8b9690ed36bbbf": {
          "model_module": "@jupyter-widgets/base",
          "model_module_version": "1.2.0",
          "model_name": "LayoutModel",
          "state": {
            "_model_module": "@jupyter-widgets/base",
            "_model_module_version": "1.2.0",
            "_model_name": "LayoutModel",
            "_view_count": null,
            "_view_module": "@jupyter-widgets/base",
            "_view_module_version": "1.2.0",
            "_view_name": "LayoutView",
            "align_content": null,
            "align_items": null,
            "align_self": null,
            "border": null,
            "bottom": null,
            "display": null,
            "flex": null,
            "flex_flow": null,
            "grid_area": null,
            "grid_auto_columns": null,
            "grid_auto_flow": null,
            "grid_auto_rows": null,
            "grid_column": null,
            "grid_gap": null,
            "grid_row": null,
            "grid_template_areas": null,
            "grid_template_columns": null,
            "grid_template_rows": null,
            "height": null,
            "justify_content": null,
            "justify_items": null,
            "left": null,
            "margin": null,
            "max_height": null,
            "max_width": null,
            "min_height": null,
            "min_width": null,
            "object_fit": null,
            "object_position": null,
            "order": null,
            "overflow": null,
            "overflow_x": null,
            "overflow_y": null,
            "padding": null,
            "right": null,
            "top": null,
            "visibility": null,
            "width": null
          }
        },
        "5bfedf7db9f74de6acf4257dad1ab8fe": {
          "model_module": "@jupyter-widgets/controls",
          "model_module_version": "1.5.0",
          "model_name": "FloatProgressModel",
          "state": {
            "_dom_classes": [],
            "_model_module": "@jupyter-widgets/controls",
            "_model_module_version": "1.5.0",
            "_model_name": "FloatProgressModel",
            "_view_count": null,
            "_view_module": "@jupyter-widgets/controls",
            "_view_module_version": "1.5.0",
            "_view_name": "ProgressView",
            "bar_style": "success",
            "description": "",
            "description_tooltip": null,
            "layout": "IPY_MODEL_9c59d4f3a89443f0b372af4243378a17",
            "max": 90,
            "min": 0,
            "orientation": "horizontal",
            "style": "IPY_MODEL_3dd02b027e91427b9dd025f822550f22",
            "value": 90
          }
        },
        "6362de259fc64994a9f677002ebfb09b": {
          "model_module": "@jupyter-widgets/controls",
          "model_module_version": "1.5.0",
          "model_name": "DescriptionStyleModel",
          "state": {
            "_model_module": "@jupyter-widgets/controls",
            "_model_module_version": "1.5.0",
            "_model_name": "DescriptionStyleModel",
            "_view_count": null,
            "_view_module": "@jupyter-widgets/base",
            "_view_module_version": "1.2.0",
            "_view_name": "StyleView",
            "description_width": ""
          }
        },
        "6564a4092ce04ff5a63a2618158fcc3a": {
          "model_module": "@jupyter-widgets/base",
          "model_module_version": "1.2.0",
          "model_name": "LayoutModel",
          "state": {
            "_model_module": "@jupyter-widgets/base",
            "_model_module_version": "1.2.0",
            "_model_name": "LayoutModel",
            "_view_count": null,
            "_view_module": "@jupyter-widgets/base",
            "_view_module_version": "1.2.0",
            "_view_name": "LayoutView",
            "align_content": null,
            "align_items": null,
            "align_self": null,
            "border": null,
            "bottom": null,
            "display": null,
            "flex": null,
            "flex_flow": null,
            "grid_area": null,
            "grid_auto_columns": null,
            "grid_auto_flow": null,
            "grid_auto_rows": null,
            "grid_column": null,
            "grid_gap": null,
            "grid_row": null,
            "grid_template_areas": null,
            "grid_template_columns": null,
            "grid_template_rows": null,
            "height": null,
            "justify_content": null,
            "justify_items": null,
            "left": null,
            "margin": null,
            "max_height": null,
            "max_width": null,
            "min_height": null,
            "min_width": null,
            "object_fit": null,
            "object_position": null,
            "order": null,
            "overflow": null,
            "overflow_x": null,
            "overflow_y": null,
            "padding": null,
            "right": null,
            "top": null,
            "visibility": null,
            "width": null
          }
        },
        "657bd409f8e74cbab4919ccfafb61b9a": {
          "model_module": "@jupyter-widgets/base",
          "model_module_version": "1.2.0",
          "model_name": "LayoutModel",
          "state": {
            "_model_module": "@jupyter-widgets/base",
            "_model_module_version": "1.2.0",
            "_model_name": "LayoutModel",
            "_view_count": null,
            "_view_module": "@jupyter-widgets/base",
            "_view_module_version": "1.2.0",
            "_view_name": "LayoutView",
            "align_content": null,
            "align_items": null,
            "align_self": null,
            "border": null,
            "bottom": null,
            "display": null,
            "flex": null,
            "flex_flow": null,
            "grid_area": null,
            "grid_auto_columns": null,
            "grid_auto_flow": null,
            "grid_auto_rows": null,
            "grid_column": null,
            "grid_gap": null,
            "grid_row": null,
            "grid_template_areas": null,
            "grid_template_columns": null,
            "grid_template_rows": null,
            "height": null,
            "justify_content": null,
            "justify_items": null,
            "left": null,
            "margin": null,
            "max_height": null,
            "max_width": null,
            "min_height": null,
            "min_width": null,
            "object_fit": null,
            "object_position": null,
            "order": null,
            "overflow": null,
            "overflow_x": null,
            "overflow_y": null,
            "padding": null,
            "right": null,
            "top": null,
            "visibility": null,
            "width": null
          }
        },
        "6b332b97af494a609bd91cabef779e25": {
          "model_module": "@jupyter-widgets/controls",
          "model_module_version": "1.5.0",
          "model_name": "HTMLModel",
          "state": {
            "_dom_classes": [],
            "_model_module": "@jupyter-widgets/controls",
            "_model_module_version": "1.5.0",
            "_model_name": "HTMLModel",
            "_view_count": null,
            "_view_module": "@jupyter-widgets/controls",
            "_view_module_version": "1.5.0",
            "_view_name": "HTMLView",
            "description": "",
            "description_tooltip": null,
            "layout": "IPY_MODEL_9a1589c2328144038a70d2f1ed936434",
            "placeholder": "​",
            "style": "IPY_MODEL_978040aaab77415699ebd3f3ab43b7e5",
            "value": " 90/90 [00:43&lt;00:00,  1.08it/s]"
          }
        },
        "768bed58cacf44178ac16912e14ac434": {
          "model_module": "@jupyter-widgets/base",
          "model_module_version": "1.2.0",
          "model_name": "LayoutModel",
          "state": {
            "_model_module": "@jupyter-widgets/base",
            "_model_module_version": "1.2.0",
            "_model_name": "LayoutModel",
            "_view_count": null,
            "_view_module": "@jupyter-widgets/base",
            "_view_module_version": "1.2.0",
            "_view_name": "LayoutView",
            "align_content": null,
            "align_items": null,
            "align_self": null,
            "border": null,
            "bottom": null,
            "display": null,
            "flex": null,
            "flex_flow": null,
            "grid_area": null,
            "grid_auto_columns": null,
            "grid_auto_flow": null,
            "grid_auto_rows": null,
            "grid_column": null,
            "grid_gap": null,
            "grid_row": null,
            "grid_template_areas": null,
            "grid_template_columns": null,
            "grid_template_rows": null,
            "height": null,
            "justify_content": null,
            "justify_items": null,
            "left": null,
            "margin": null,
            "max_height": null,
            "max_width": null,
            "min_height": null,
            "min_width": null,
            "object_fit": null,
            "object_position": null,
            "order": null,
            "overflow": null,
            "overflow_x": null,
            "overflow_y": null,
            "padding": null,
            "right": null,
            "top": null,
            "visibility": null,
            "width": null
          }
        },
        "7729ca7a0a914d7187c2a4bad2180a65": {
          "model_module": "@jupyter-widgets/base",
          "model_module_version": "1.2.0",
          "model_name": "LayoutModel",
          "state": {
            "_model_module": "@jupyter-widgets/base",
            "_model_module_version": "1.2.0",
            "_model_name": "LayoutModel",
            "_view_count": null,
            "_view_module": "@jupyter-widgets/base",
            "_view_module_version": "1.2.0",
            "_view_name": "LayoutView",
            "align_content": null,
            "align_items": null,
            "align_self": null,
            "border": null,
            "bottom": null,
            "display": null,
            "flex": null,
            "flex_flow": null,
            "grid_area": null,
            "grid_auto_columns": null,
            "grid_auto_flow": null,
            "grid_auto_rows": null,
            "grid_column": null,
            "grid_gap": null,
            "grid_row": null,
            "grid_template_areas": null,
            "grid_template_columns": null,
            "grid_template_rows": null,
            "height": null,
            "justify_content": null,
            "justify_items": null,
            "left": null,
            "margin": null,
            "max_height": null,
            "max_width": null,
            "min_height": null,
            "min_width": null,
            "object_fit": null,
            "object_position": null,
            "order": null,
            "overflow": null,
            "overflow_x": null,
            "overflow_y": null,
            "padding": null,
            "right": null,
            "top": null,
            "visibility": null,
            "width": null
          }
        },
        "892075b88eba4ec19f7d77cbab38572f": {
          "model_module": "@jupyter-widgets/controls",
          "model_module_version": "1.5.0",
          "model_name": "DescriptionStyleModel",
          "state": {
            "_model_module": "@jupyter-widgets/controls",
            "_model_module_version": "1.5.0",
            "_model_name": "DescriptionStyleModel",
            "_view_count": null,
            "_view_module": "@jupyter-widgets/base",
            "_view_module_version": "1.2.0",
            "_view_name": "StyleView",
            "description_width": ""
          }
        },
        "8b226a0c779a49a8b0efdfa4156afc31": {
          "model_module": "@jupyter-widgets/controls",
          "model_module_version": "1.5.0",
          "model_name": "FloatProgressModel",
          "state": {
            "_dom_classes": [],
            "_model_module": "@jupyter-widgets/controls",
            "_model_module_version": "1.5.0",
            "_model_name": "FloatProgressModel",
            "_view_count": null,
            "_view_module": "@jupyter-widgets/controls",
            "_view_module_version": "1.5.0",
            "_view_name": "ProgressView",
            "bar_style": "success",
            "description": "",
            "description_tooltip": null,
            "layout": "IPY_MODEL_ec0f5e8999004da8826646a0cd0d0a01",
            "max": 20,
            "min": 0,
            "orientation": "horizontal",
            "style": "IPY_MODEL_1a96adc24ab34300b3b68e46364f745b",
            "value": 20
          }
        },
        "8beec47b68314f0faea61929019e4f25": {
          "model_module": "@jupyter-widgets/controls",
          "model_module_version": "1.5.0",
          "model_name": "HBoxModel",
          "state": {
            "_dom_classes": [],
            "_model_module": "@jupyter-widgets/controls",
            "_model_module_version": "1.5.0",
            "_model_name": "HBoxModel",
            "_view_count": null,
            "_view_module": "@jupyter-widgets/controls",
            "_view_module_version": "1.5.0",
            "_view_name": "HBoxView",
            "box_style": "",
            "children": [
              "IPY_MODEL_f3edbc21d8084a7bb04b7bc0b5c1b689",
              "IPY_MODEL_21849ee7e76f45049eb59e5b1c0815c9",
              "IPY_MODEL_c783728b34ef4672bb290bf34c844567"
            ],
            "layout": "IPY_MODEL_cb78200dac4742149d0de05c0af0bd97"
          }
        },
        "90fe2a85593d4f2f83c5e1ea2303bb11": {
          "model_module": "@jupyter-widgets/base",
          "model_module_version": "1.2.0",
          "model_name": "LayoutModel",
          "state": {
            "_model_module": "@jupyter-widgets/base",
            "_model_module_version": "1.2.0",
            "_model_name": "LayoutModel",
            "_view_count": null,
            "_view_module": "@jupyter-widgets/base",
            "_view_module_version": "1.2.0",
            "_view_name": "LayoutView",
            "align_content": null,
            "align_items": null,
            "align_self": null,
            "border": null,
            "bottom": null,
            "display": null,
            "flex": null,
            "flex_flow": null,
            "grid_area": null,
            "grid_auto_columns": null,
            "grid_auto_flow": null,
            "grid_auto_rows": null,
            "grid_column": null,
            "grid_gap": null,
            "grid_row": null,
            "grid_template_areas": null,
            "grid_template_columns": null,
            "grid_template_rows": null,
            "height": null,
            "justify_content": null,
            "justify_items": null,
            "left": null,
            "margin": null,
            "max_height": null,
            "max_width": null,
            "min_height": null,
            "min_width": null,
            "object_fit": null,
            "object_position": null,
            "order": null,
            "overflow": null,
            "overflow_x": null,
            "overflow_y": null,
            "padding": null,
            "right": null,
            "top": null,
            "visibility": null,
            "width": null
          }
        },
        "96403d0bca064737ac89ee0e9f67e8b5": {
          "model_module": "@jupyter-widgets/controls",
          "model_module_version": "1.5.0",
          "model_name": "DescriptionStyleModel",
          "state": {
            "_model_module": "@jupyter-widgets/controls",
            "_model_module_version": "1.5.0",
            "_model_name": "DescriptionStyleModel",
            "_view_count": null,
            "_view_module": "@jupyter-widgets/base",
            "_view_module_version": "1.2.0",
            "_view_name": "StyleView",
            "description_width": ""
          }
        },
        "978040aaab77415699ebd3f3ab43b7e5": {
          "model_module": "@jupyter-widgets/controls",
          "model_module_version": "1.5.0",
          "model_name": "DescriptionStyleModel",
          "state": {
            "_model_module": "@jupyter-widgets/controls",
            "_model_module_version": "1.5.0",
            "_model_name": "DescriptionStyleModel",
            "_view_count": null,
            "_view_module": "@jupyter-widgets/base",
            "_view_module_version": "1.2.0",
            "_view_name": "StyleView",
            "description_width": ""
          }
        },
        "9a1589c2328144038a70d2f1ed936434": {
          "model_module": "@jupyter-widgets/base",
          "model_module_version": "1.2.0",
          "model_name": "LayoutModel",
          "state": {
            "_model_module": "@jupyter-widgets/base",
            "_model_module_version": "1.2.0",
            "_model_name": "LayoutModel",
            "_view_count": null,
            "_view_module": "@jupyter-widgets/base",
            "_view_module_version": "1.2.0",
            "_view_name": "LayoutView",
            "align_content": null,
            "align_items": null,
            "align_self": null,
            "border": null,
            "bottom": null,
            "display": null,
            "flex": null,
            "flex_flow": null,
            "grid_area": null,
            "grid_auto_columns": null,
            "grid_auto_flow": null,
            "grid_auto_rows": null,
            "grid_column": null,
            "grid_gap": null,
            "grid_row": null,
            "grid_template_areas": null,
            "grid_template_columns": null,
            "grid_template_rows": null,
            "height": null,
            "justify_content": null,
            "justify_items": null,
            "left": null,
            "margin": null,
            "max_height": null,
            "max_width": null,
            "min_height": null,
            "min_width": null,
            "object_fit": null,
            "object_position": null,
            "order": null,
            "overflow": null,
            "overflow_x": null,
            "overflow_y": null,
            "padding": null,
            "right": null,
            "top": null,
            "visibility": null,
            "width": null
          }
        },
        "9c59d4f3a89443f0b372af4243378a17": {
          "model_module": "@jupyter-widgets/base",
          "model_module_version": "1.2.0",
          "model_name": "LayoutModel",
          "state": {
            "_model_module": "@jupyter-widgets/base",
            "_model_module_version": "1.2.0",
            "_model_name": "LayoutModel",
            "_view_count": null,
            "_view_module": "@jupyter-widgets/base",
            "_view_module_version": "1.2.0",
            "_view_name": "LayoutView",
            "align_content": null,
            "align_items": null,
            "align_self": null,
            "border": null,
            "bottom": null,
            "display": null,
            "flex": null,
            "flex_flow": null,
            "grid_area": null,
            "grid_auto_columns": null,
            "grid_auto_flow": null,
            "grid_auto_rows": null,
            "grid_column": null,
            "grid_gap": null,
            "grid_row": null,
            "grid_template_areas": null,
            "grid_template_columns": null,
            "grid_template_rows": null,
            "height": null,
            "justify_content": null,
            "justify_items": null,
            "left": null,
            "margin": null,
            "max_height": null,
            "max_width": null,
            "min_height": null,
            "min_width": null,
            "object_fit": null,
            "object_position": null,
            "order": null,
            "overflow": null,
            "overflow_x": null,
            "overflow_y": null,
            "padding": null,
            "right": null,
            "top": null,
            "visibility": null,
            "width": null
          }
        },
        "a10a3efc00644613a610a54e9e0080a3": {
          "model_module": "@jupyter-widgets/controls",
          "model_module_version": "1.5.0",
          "model_name": "HBoxModel",
          "state": {
            "_dom_classes": [],
            "_model_module": "@jupyter-widgets/controls",
            "_model_module_version": "1.5.0",
            "_model_name": "HBoxModel",
            "_view_count": null,
            "_view_module": "@jupyter-widgets/controls",
            "_view_module_version": "1.5.0",
            "_view_name": "HBoxView",
            "box_style": "",
            "children": [
              "IPY_MODEL_cdf3ff710cbb4ab09f59a2f317e2162d",
              "IPY_MODEL_8b226a0c779a49a8b0efdfa4156afc31",
              "IPY_MODEL_e8cc5f2707724b9faf50e1b86e6f1890"
            ],
            "layout": "IPY_MODEL_a32d9af8b8444a8e80f7473dbe791d3c"
          }
        },
        "a32d9af8b8444a8e80f7473dbe791d3c": {
          "model_module": "@jupyter-widgets/base",
          "model_module_version": "1.2.0",
          "model_name": "LayoutModel",
          "state": {
            "_model_module": "@jupyter-widgets/base",
            "_model_module_version": "1.2.0",
            "_model_name": "LayoutModel",
            "_view_count": null,
            "_view_module": "@jupyter-widgets/base",
            "_view_module_version": "1.2.0",
            "_view_name": "LayoutView",
            "align_content": null,
            "align_items": null,
            "align_self": null,
            "border": null,
            "bottom": null,
            "display": null,
            "flex": null,
            "flex_flow": null,
            "grid_area": null,
            "grid_auto_columns": null,
            "grid_auto_flow": null,
            "grid_auto_rows": null,
            "grid_column": null,
            "grid_gap": null,
            "grid_row": null,
            "grid_template_areas": null,
            "grid_template_columns": null,
            "grid_template_rows": null,
            "height": null,
            "justify_content": null,
            "justify_items": null,
            "left": null,
            "margin": null,
            "max_height": null,
            "max_width": null,
            "min_height": null,
            "min_width": null,
            "object_fit": null,
            "object_position": null,
            "order": null,
            "overflow": null,
            "overflow_x": null,
            "overflow_y": null,
            "padding": null,
            "right": null,
            "top": null,
            "visibility": null,
            "width": null
          }
        },
        "a3cc61e2fc854b26ad2ba3b6a68add50": {
          "model_module": "@jupyter-widgets/base",
          "model_module_version": "1.2.0",
          "model_name": "LayoutModel",
          "state": {
            "_model_module": "@jupyter-widgets/base",
            "_model_module_version": "1.2.0",
            "_model_name": "LayoutModel",
            "_view_count": null,
            "_view_module": "@jupyter-widgets/base",
            "_view_module_version": "1.2.0",
            "_view_name": "LayoutView",
            "align_content": null,
            "align_items": null,
            "align_self": null,
            "border": null,
            "bottom": null,
            "display": null,
            "flex": null,
            "flex_flow": null,
            "grid_area": null,
            "grid_auto_columns": null,
            "grid_auto_flow": null,
            "grid_auto_rows": null,
            "grid_column": null,
            "grid_gap": null,
            "grid_row": null,
            "grid_template_areas": null,
            "grid_template_columns": null,
            "grid_template_rows": null,
            "height": null,
            "justify_content": null,
            "justify_items": null,
            "left": null,
            "margin": null,
            "max_height": null,
            "max_width": null,
            "min_height": null,
            "min_width": null,
            "object_fit": null,
            "object_position": null,
            "order": null,
            "overflow": null,
            "overflow_x": null,
            "overflow_y": null,
            "padding": null,
            "right": null,
            "top": null,
            "visibility": null,
            "width": null
          }
        },
        "a7bde4cf0c9249989a22480bfa09ef01": {
          "model_module": "@jupyter-widgets/controls",
          "model_module_version": "1.5.0",
          "model_name": "ProgressStyleModel",
          "state": {
            "_model_module": "@jupyter-widgets/controls",
            "_model_module_version": "1.5.0",
            "_model_name": "ProgressStyleModel",
            "_view_count": null,
            "_view_module": "@jupyter-widgets/base",
            "_view_module_version": "1.2.0",
            "_view_name": "StyleView",
            "bar_color": null,
            "description_width": ""
          }
        },
        "a7db7f141e8145bc833d6378589c44fa": {
          "model_module": "@jupyter-widgets/controls",
          "model_module_version": "1.5.0",
          "model_name": "DescriptionStyleModel",
          "state": {
            "_model_module": "@jupyter-widgets/controls",
            "_model_module_version": "1.5.0",
            "_model_name": "DescriptionStyleModel",
            "_view_count": null,
            "_view_module": "@jupyter-widgets/base",
            "_view_module_version": "1.2.0",
            "_view_name": "StyleView",
            "description_width": ""
          }
        },
        "aa309f56fa494d768e9dfd87ef1412aa": {
          "model_module": "@jupyter-widgets/controls",
          "model_module_version": "1.5.0",
          "model_name": "DescriptionStyleModel",
          "state": {
            "_model_module": "@jupyter-widgets/controls",
            "_model_module_version": "1.5.0",
            "_model_name": "DescriptionStyleModel",
            "_view_count": null,
            "_view_module": "@jupyter-widgets/base",
            "_view_module_version": "1.2.0",
            "_view_name": "StyleView",
            "description_width": ""
          }
        },
        "adb9ad0e77e344fca71e4d7f2fd79c66": {
          "model_module": "@jupyter-widgets/controls",
          "model_module_version": "1.5.0",
          "model_name": "HTMLModel",
          "state": {
            "_dom_classes": [],
            "_model_module": "@jupyter-widgets/controls",
            "_model_module_version": "1.5.0",
            "_model_name": "HTMLModel",
            "_view_count": null,
            "_view_module": "@jupyter-widgets/controls",
            "_view_module_version": "1.5.0",
            "_view_name": "HTMLView",
            "description": "",
            "description_tooltip": null,
            "layout": "IPY_MODEL_a3cc61e2fc854b26ad2ba3b6a68add50",
            "placeholder": "​",
            "style": "IPY_MODEL_d1c95ea15ab5400db377fd3d54fd7e21",
            "value": " 109/112 [00:03&lt;00:00, 29.63it/s]"
          }
        },
        "b08fe3ad33c74e13b80fe481fbbd0558": {
          "model_module": "@jupyter-widgets/controls",
          "model_module_version": "1.5.0",
          "model_name": "HBoxModel",
          "state": {
            "_dom_classes": [],
            "_model_module": "@jupyter-widgets/controls",
            "_model_module_version": "1.5.0",
            "_model_name": "HBoxModel",
            "_view_count": null,
            "_view_module": "@jupyter-widgets/controls",
            "_view_module_version": "1.5.0",
            "_view_name": "HBoxView",
            "box_style": "",
            "children": [
              "IPY_MODEL_e31321a9028b4cf99652a849cadbd87e",
              "IPY_MODEL_07049044307946aeb86d2a48a48abbb8",
              "IPY_MODEL_27360866d0f2483abcb08a014b2bf791"
            ],
            "layout": "IPY_MODEL_23da939d19ab41fcbdf80efd237e6f06"
          }
        },
        "b17bca7181154a8ab0387fc37a2d4536": {
          "model_module": "@jupyter-widgets/controls",
          "model_module_version": "1.5.0",
          "model_name": "DescriptionStyleModel",
          "state": {
            "_model_module": "@jupyter-widgets/controls",
            "_model_module_version": "1.5.0",
            "_model_name": "DescriptionStyleModel",
            "_view_count": null,
            "_view_module": "@jupyter-widgets/base",
            "_view_module_version": "1.2.0",
            "_view_name": "StyleView",
            "description_width": ""
          }
        },
        "b1a56f3ff2fc41d6b8fbcfe7cba6a767": {
          "model_module": "@jupyter-widgets/base",
          "model_module_version": "1.2.0",
          "model_name": "LayoutModel",
          "state": {
            "_model_module": "@jupyter-widgets/base",
            "_model_module_version": "1.2.0",
            "_model_name": "LayoutModel",
            "_view_count": null,
            "_view_module": "@jupyter-widgets/base",
            "_view_module_version": "1.2.0",
            "_view_name": "LayoutView",
            "align_content": null,
            "align_items": null,
            "align_self": null,
            "border": null,
            "bottom": null,
            "display": null,
            "flex": null,
            "flex_flow": null,
            "grid_area": null,
            "grid_auto_columns": null,
            "grid_auto_flow": null,
            "grid_auto_rows": null,
            "grid_column": null,
            "grid_gap": null,
            "grid_row": null,
            "grid_template_areas": null,
            "grid_template_columns": null,
            "grid_template_rows": null,
            "height": null,
            "justify_content": null,
            "justify_items": null,
            "left": null,
            "margin": null,
            "max_height": null,
            "max_width": null,
            "min_height": null,
            "min_width": null,
            "object_fit": null,
            "object_position": null,
            "order": null,
            "overflow": null,
            "overflow_x": null,
            "overflow_y": null,
            "padding": null,
            "right": null,
            "top": null,
            "visibility": null,
            "width": null
          }
        },
        "b80fac1b810e415789a10175fb11b0bc": {
          "model_module": "@jupyter-widgets/base",
          "model_module_version": "1.2.0",
          "model_name": "LayoutModel",
          "state": {
            "_model_module": "@jupyter-widgets/base",
            "_model_module_version": "1.2.0",
            "_model_name": "LayoutModel",
            "_view_count": null,
            "_view_module": "@jupyter-widgets/base",
            "_view_module_version": "1.2.0",
            "_view_name": "LayoutView",
            "align_content": null,
            "align_items": null,
            "align_self": null,
            "border": null,
            "bottom": null,
            "display": null,
            "flex": null,
            "flex_flow": null,
            "grid_area": null,
            "grid_auto_columns": null,
            "grid_auto_flow": null,
            "grid_auto_rows": null,
            "grid_column": null,
            "grid_gap": null,
            "grid_row": null,
            "grid_template_areas": null,
            "grid_template_columns": null,
            "grid_template_rows": null,
            "height": null,
            "justify_content": null,
            "justify_items": null,
            "left": null,
            "margin": null,
            "max_height": null,
            "max_width": null,
            "min_height": null,
            "min_width": null,
            "object_fit": null,
            "object_position": null,
            "order": null,
            "overflow": null,
            "overflow_x": null,
            "overflow_y": null,
            "padding": null,
            "right": null,
            "top": null,
            "visibility": null,
            "width": null
          }
        },
        "c173b14963844b90b45bb7306fd72484": {
          "model_module": "@jupyter-widgets/controls",
          "model_module_version": "1.5.0",
          "model_name": "HBoxModel",
          "state": {
            "_dom_classes": [],
            "_model_module": "@jupyter-widgets/controls",
            "_model_module_version": "1.5.0",
            "_model_name": "HBoxModel",
            "_view_count": null,
            "_view_module": "@jupyter-widgets/controls",
            "_view_module_version": "1.5.0",
            "_view_name": "HBoxView",
            "box_style": "",
            "children": [
              "IPY_MODEL_e74934ca95db49e088e978f3014591d3",
              "IPY_MODEL_291e0a01c3e84b839d7ab677d9f8a074",
              "IPY_MODEL_adb9ad0e77e344fca71e4d7f2fd79c66"
            ],
            "layout": "IPY_MODEL_14c415af32d54784871d892d13338148"
          }
        },
        "c783728b34ef4672bb290bf34c844567": {
          "model_module": "@jupyter-widgets/controls",
          "model_module_version": "1.5.0",
          "model_name": "HTMLModel",
          "state": {
            "_dom_classes": [],
            "_model_module": "@jupyter-widgets/controls",
            "_model_module_version": "1.5.0",
            "_model_name": "HTMLModel",
            "_view_count": null,
            "_view_module": "@jupyter-widgets/controls",
            "_view_module_version": "1.5.0",
            "_view_name": "HTMLView",
            "description": "",
            "description_tooltip": null,
            "layout": "IPY_MODEL_fa6cf55d6e3742c98a5fd9b1a8e939b3",
            "placeholder": "​",
            "style": "IPY_MODEL_6362de259fc64994a9f677002ebfb09b",
            "value": " 90/90 [00:52&lt;00:00,  1.29s/it]"
          }
        },
        "cb78200dac4742149d0de05c0af0bd97": {
          "model_module": "@jupyter-widgets/base",
          "model_module_version": "1.2.0",
          "model_name": "LayoutModel",
          "state": {
            "_model_module": "@jupyter-widgets/base",
            "_model_module_version": "1.2.0",
            "_model_name": "LayoutModel",
            "_view_count": null,
            "_view_module": "@jupyter-widgets/base",
            "_view_module_version": "1.2.0",
            "_view_name": "LayoutView",
            "align_content": null,
            "align_items": null,
            "align_self": null,
            "border": null,
            "bottom": null,
            "display": null,
            "flex": null,
            "flex_flow": null,
            "grid_area": null,
            "grid_auto_columns": null,
            "grid_auto_flow": null,
            "grid_auto_rows": null,
            "grid_column": null,
            "grid_gap": null,
            "grid_row": null,
            "grid_template_areas": null,
            "grid_template_columns": null,
            "grid_template_rows": null,
            "height": null,
            "justify_content": null,
            "justify_items": null,
            "left": null,
            "margin": null,
            "max_height": null,
            "max_width": null,
            "min_height": null,
            "min_width": null,
            "object_fit": null,
            "object_position": null,
            "order": null,
            "overflow": null,
            "overflow_x": null,
            "overflow_y": null,
            "padding": null,
            "right": null,
            "top": null,
            "visibility": null,
            "width": null
          }
        },
        "cdf3ff710cbb4ab09f59a2f317e2162d": {
          "model_module": "@jupyter-widgets/controls",
          "model_module_version": "1.5.0",
          "model_name": "HTMLModel",
          "state": {
            "_dom_classes": [],
            "_model_module": "@jupyter-widgets/controls",
            "_model_module_version": "1.5.0",
            "_model_name": "HTMLModel",
            "_view_count": null,
            "_view_module": "@jupyter-widgets/controls",
            "_view_module_version": "1.5.0",
            "_view_name": "HTMLView",
            "description": "",
            "description_tooltip": null,
            "layout": "IPY_MODEL_6564a4092ce04ff5a63a2618158fcc3a",
            "placeholder": "​",
            "style": "IPY_MODEL_892075b88eba4ec19f7d77cbab38572f",
            "value": "Generating: 100%"
          }
        },
        "d1c95ea15ab5400db377fd3d54fd7e21": {
          "model_module": "@jupyter-widgets/controls",
          "model_module_version": "1.5.0",
          "model_name": "DescriptionStyleModel",
          "state": {
            "_model_module": "@jupyter-widgets/controls",
            "_model_module_version": "1.5.0",
            "_model_name": "DescriptionStyleModel",
            "_view_count": null,
            "_view_module": "@jupyter-widgets/base",
            "_view_module_version": "1.2.0",
            "_view_name": "StyleView",
            "description_width": ""
          }
        },
        "e31321a9028b4cf99652a849cadbd87e": {
          "model_module": "@jupyter-widgets/controls",
          "model_module_version": "1.5.0",
          "model_name": "HTMLModel",
          "state": {
            "_dom_classes": [],
            "_model_module": "@jupyter-widgets/controls",
            "_model_module_version": "1.5.0",
            "_model_name": "HTMLModel",
            "_view_count": null,
            "_view_module": "@jupyter-widgets/controls",
            "_view_module_version": "1.5.0",
            "_view_name": "HTMLView",
            "description": "",
            "description_tooltip": null,
            "layout": "IPY_MODEL_592c79ab0b3c48a3bf8b9690ed36bbbf",
            "placeholder": "​",
            "style": "IPY_MODEL_a7db7f141e8145bc833d6378589c44fa",
            "value": "Evaluating: 100%"
          }
        },
        "e74934ca95db49e088e978f3014591d3": {
          "model_module": "@jupyter-widgets/controls",
          "model_module_version": "1.5.0",
          "model_name": "HTMLModel",
          "state": {
            "_dom_classes": [],
            "_model_module": "@jupyter-widgets/controls",
            "_model_module_version": "1.5.0",
            "_model_name": "HTMLModel",
            "_view_count": null,
            "_view_module": "@jupyter-widgets/controls",
            "_view_module_version": "1.5.0",
            "_view_name": "HTMLView",
            "description": "",
            "description_tooltip": null,
            "layout": "IPY_MODEL_90fe2a85593d4f2f83c5e1ea2303bb11",
            "placeholder": "​",
            "style": "IPY_MODEL_04fb2aabb5164e63a01ef7de283e369b",
            "value": "embedding nodes:  97%"
          }
        },
        "e8cc5f2707724b9faf50e1b86e6f1890": {
          "model_module": "@jupyter-widgets/controls",
          "model_module_version": "1.5.0",
          "model_name": "HTMLModel",
          "state": {
            "_dom_classes": [],
            "_model_module": "@jupyter-widgets/controls",
            "_model_module_version": "1.5.0",
            "_model_name": "HTMLModel",
            "_view_count": null,
            "_view_module": "@jupyter-widgets/controls",
            "_view_module_version": "1.5.0",
            "_view_name": "HTMLView",
            "description": "",
            "description_tooltip": null,
            "layout": "IPY_MODEL_768bed58cacf44178ac16912e14ac434",
            "placeholder": "​",
            "style": "IPY_MODEL_aa309f56fa494d768e9dfd87ef1412aa",
            "value": " 20/20 [02:43&lt;00:00, 15.76s/it]"
          }
        },
        "ec0f5e8999004da8826646a0cd0d0a01": {
          "model_module": "@jupyter-widgets/base",
          "model_module_version": "1.2.0",
          "model_name": "LayoutModel",
          "state": {
            "_model_module": "@jupyter-widgets/base",
            "_model_module_version": "1.2.0",
            "_model_name": "LayoutModel",
            "_view_count": null,
            "_view_module": "@jupyter-widgets/base",
            "_view_module_version": "1.2.0",
            "_view_name": "LayoutView",
            "align_content": null,
            "align_items": null,
            "align_self": null,
            "border": null,
            "bottom": null,
            "display": null,
            "flex": null,
            "flex_flow": null,
            "grid_area": null,
            "grid_auto_columns": null,
            "grid_auto_flow": null,
            "grid_auto_rows": null,
            "grid_column": null,
            "grid_gap": null,
            "grid_row": null,
            "grid_template_areas": null,
            "grid_template_columns": null,
            "grid_template_rows": null,
            "height": null,
            "justify_content": null,
            "justify_items": null,
            "left": null,
            "margin": null,
            "max_height": null,
            "max_width": null,
            "min_height": null,
            "min_width": null,
            "object_fit": null,
            "object_position": null,
            "order": null,
            "overflow": null,
            "overflow_x": null,
            "overflow_y": null,
            "padding": null,
            "right": null,
            "top": null,
            "visibility": null,
            "width": null
          }
        },
        "f3edbc21d8084a7bb04b7bc0b5c1b689": {
          "model_module": "@jupyter-widgets/controls",
          "model_module_version": "1.5.0",
          "model_name": "HTMLModel",
          "state": {
            "_dom_classes": [],
            "_model_module": "@jupyter-widgets/controls",
            "_model_module_version": "1.5.0",
            "_model_name": "HTMLModel",
            "_view_count": null,
            "_view_module": "@jupyter-widgets/controls",
            "_view_module_version": "1.5.0",
            "_view_name": "HTMLView",
            "description": "",
            "description_tooltip": null,
            "layout": "IPY_MODEL_2cb51bc6e5d74683b17f8b9190fbf33a",
            "placeholder": "​",
            "style": "IPY_MODEL_96403d0bca064737ac89ee0e9f67e8b5",
            "value": "Evaluating: 100%"
          }
        },
        "fa6cf55d6e3742c98a5fd9b1a8e939b3": {
          "model_module": "@jupyter-widgets/base",
          "model_module_version": "1.2.0",
          "model_name": "LayoutModel",
          "state": {
            "_model_module": "@jupyter-widgets/base",
            "_model_module_version": "1.2.0",
            "_model_name": "LayoutModel",
            "_view_count": null,
            "_view_module": "@jupyter-widgets/base",
            "_view_module_version": "1.2.0",
            "_view_name": "LayoutView",
            "align_content": null,
            "align_items": null,
            "align_self": null,
            "border": null,
            "bottom": null,
            "display": null,
            "flex": null,
            "flex_flow": null,
            "grid_area": null,
            "grid_auto_columns": null,
            "grid_auto_flow": null,
            "grid_auto_rows": null,
            "grid_column": null,
            "grid_gap": null,
            "grid_row": null,
            "grid_template_areas": null,
            "grid_template_columns": null,
            "grid_template_rows": null,
            "height": null,
            "justify_content": null,
            "justify_items": null,
            "left": null,
            "margin": null,
            "max_height": null,
            "max_width": null,
            "min_height": null,
            "min_width": null,
            "object_fit": null,
            "object_position": null,
            "order": null,
            "overflow": null,
            "overflow_x": null,
            "overflow_y": null,
            "padding": null,
            "right": null,
            "top": null,
            "visibility": null,
            "width": null
          }
        }
      }
    }
  },
  "nbformat": 4,
  "nbformat_minor": 0
}
