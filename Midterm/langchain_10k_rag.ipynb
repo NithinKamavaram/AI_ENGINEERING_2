{
 "cells": [
  {
   "cell_type": "code",
   "execution_count": 27,
   "metadata": {},
   "outputs": [],
   "source": [
    "from langchain_community.document_loaders import PyMuPDFLoader\n",
    "from langchain_text_splitters import RecursiveCharacterTextSplitter\n",
    "from langchain_community.vectorstores import Qdrant\n",
    "from langchain_openai.embeddings import OpenAIEmbeddings\n",
    "from langchain.retrievers import SelfQueryRetriever\n",
    "from langchain_openai import OpenAI, ChatOpenAI\n",
    "from langchain_core.prompts import PromptTemplate, ChatPromptTemplate\n",
    "import os\n",
    "from getpass import getpass\n",
    "import openai\n",
    "from operator import itemgetter\n",
    "from langchain_core.runnables import RunnablePassthrough"
   ]
  },
  {
   "cell_type": "code",
   "execution_count": 8,
   "metadata": {},
   "outputs": [],
   "source": [
    "openai.api_key = getpass(\"Please provide your OpenAI Key: \")\n",
    "os.environ[\"OPENAI_API_KEY\"] = openai.api_key"
   ]
  },
  {
   "cell_type": "code",
   "execution_count": 10,
   "metadata": {},
   "outputs": [],
   "source": [
    "loader = PyMuPDFLoader(\"meta_10k.pdf\")\n",
    "documents = loader.load()"
   ]
  },
  {
   "cell_type": "code",
   "execution_count": 11,
   "metadata": {},
   "outputs": [
    {
     "data": {
      "text/plain": [
       "147"
      ]
     },
     "execution_count": 11,
     "metadata": {},
     "output_type": "execute_result"
    }
   ],
   "source": [
    "len(documents)"
   ]
  },
  {
   "cell_type": "code",
   "execution_count": 12,
   "metadata": {},
   "outputs": [],
   "source": [
    "text_splitter = RecursiveCharacterTextSplitter(chunk_size = 4250, chunk_overlap = 100)\n",
    "texts = text_splitter.split_documents(documents)"
   ]
  },
  {
   "cell_type": "code",
   "execution_count": 13,
   "metadata": {},
   "outputs": [
    {
     "data": {
      "text/plain": [
       "208"
      ]
     },
     "execution_count": 13,
     "metadata": {},
     "output_type": "execute_result"
    }
   ],
   "source": [
    "len(texts)"
   ]
  },
  {
   "cell_type": "code",
   "execution_count": 14,
   "metadata": {},
   "outputs": [],
   "source": [
    "embeddings_model = OpenAIEmbeddings(model = \"text-embedding-3-small\")"
   ]
  },
  {
   "cell_type": "code",
   "execution_count": 15,
   "metadata": {},
   "outputs": [
    {
     "data": {
      "text/plain": [
       "<langchain_community.vectorstores.qdrant.Qdrant at 0x284036510>"
      ]
     },
     "execution_count": 15,
     "metadata": {},
     "output_type": "execute_result"
    }
   ],
   "source": [
    "qdrant = Qdrant.from_documents(texts, embeddings_model, location=\":memory:\", collection_name = '10K_RAG', force_recreate=True)\n",
    "qdrant"
   ]
  },
  {
   "cell_type": "code",
   "execution_count": 16,
   "metadata": {},
   "outputs": [],
   "source": [
    "query1 = \"What was the total value of 'Cash and cash equivalents' as of December 31, 2023?\"\n",
    "query2 = \"Who are Meta's 'Directors' (i.e., members of the Board of Directors)?\""
   ]
  },
  {
   "cell_type": "code",
   "execution_count": 18,
   "metadata": {},
   "outputs": [
    {
     "data": {
      "text/plain": [
       "VectorStoreRetriever(tags=['Qdrant', 'OpenAIEmbeddings'], vectorstore=<langchain_community.vectorstores.qdrant.Qdrant object at 0x284036510>)"
      ]
     },
     "execution_count": 18,
     "metadata": {},
     "output_type": "execute_result"
    }
   ],
   "source": [
    "qdrant_retriever = qdrant.as_retriever()\n",
    "qdrant_retriever"
   ]
  },
  {
   "cell_type": "code",
   "execution_count": 19,
   "metadata": {},
   "outputs": [
    {
     "data": {
      "text/plain": [
       "'gpt-3.5-turbo'"
      ]
     },
     "execution_count": 19,
     "metadata": {},
     "output_type": "execute_result"
    }
   ],
   "source": [
    "llm = ChatOpenAI(temperature=0)\n",
    "llm.model_name"
   ]
  },
  {
   "cell_type": "code",
   "execution_count": 22,
   "metadata": {},
   "outputs": [],
   "source": [
    "metadata_field_info = [\n",
    "]\n",
    "\n",
    "document_content_desc = \"Form 10-K annual report required by the U.S. Securities and Exchange Commission (SEC), that gives a comprehensive summary of a company's financial performance for company Meta for year 2023\"\n",
    "\n",
    "self_query_retriever = SelfQueryRetriever.from_llm(llm,\n",
    "                                                   qdrant, \n",
    "                                                   document_content_desc, \n",
    "                                                   metadata_field_info)"
   ]
  },
  {
   "cell_type": "code",
   "execution_count": 26,
   "metadata": {},
   "outputs": [
    {
     "name": "stdout",
     "output_type": "stream",
     "text": [
      "You are an helpful assistant for question-answering tasks, specifically you are an expert in answering SEC 10-K report questions.\n",
      "If you  don't know the answer, just say that you don't know.\n",
      "Answer based on the context given to you, for a given question.\n",
      "\n",
      "Context:\n",
      "{context}\n",
      "\n",
      "Question:\n",
      "{question}\n",
      "\n",
      "Answer:\n"
     ]
    }
   ],
   "source": [
    "template = \"\"\"You are an helpful assistant for question-answering tasks, specifically you are an expert in answering SEC 10-K report questions.\n",
    "If you  don't know the answer, just say that you don't know.\n",
    "Answer based on the context given to you, for a given question.\n",
    "\n",
    "Context:\n",
    "{context}\n",
    "\n",
    "Question:\n",
    "{question}\n",
    "\n",
    "Answer:\"\"\"\n",
    "\n",
    "rag_chat_prompt = ChatPromptTemplate.from_template(template)\n",
    "print(rag_chat_prompt.messages[0].prompt.template)"
   ]
  },
  {
   "cell_type": "code",
   "execution_count": 37,
   "metadata": {},
   "outputs": [],
   "source": [
    "rag_qa_chain_sqr =  (\n",
    "    {\"context\": itemgetter(\"question\") | self_query_retriever, \"question\": itemgetter(\"question\")}\n",
    "    | RunnablePassthrough.assign(context=itemgetter(\"context\"))\n",
    "    | {\"response\": rag_chat_prompt | llm, \"context\": itemgetter(\"context\")}\n",
    ")"
   ]
  },
  {
   "cell_type": "code",
   "execution_count": 39,
   "metadata": {},
   "outputs": [],
   "source": [
    "query1_result = rag_qa_chain_sqr.invoke({\"question\": query1})\n",
    "query2_result = rag_qa_chain_sqr.invoke({\"question\": query2})"
   ]
  },
  {
   "cell_type": "code",
   "execution_count": 40,
   "metadata": {},
   "outputs": [
    {
     "name": "stdout",
     "output_type": "stream",
     "text": [
      "The total value of 'Cash and cash equivalents' as of December 31, 2023, was $41.862 billion.\n",
      "*******\n",
      "The directors of Meta, as listed in the SEC 10-K report, are:\n",
      "1. Peggy Alford\n",
      "2. Marc L. Andreessen\n",
      "3. Andrew W. Houston\n",
      "4. Nancy Killefer\n",
      "5. Robert M. Kimmitt\n",
      "6. Sheryl K. Sandberg\n",
      "7. Tracey T. Travis\n",
      "8. Tony Xu\n"
     ]
    }
   ],
   "source": [
    "print(query1_result['response'].content)\n",
    "print(\"*******\")\n",
    "print(query2_result['response'].content)"
   ]
  },
  {
   "cell_type": "code",
   "execution_count": 61,
   "metadata": {},
   "outputs": [
    {
     "data": {
      "text/plain": [
       "[Document(page_content='Table of Contents\\nPOWER OF ATTORNEY\\nKNOW ALL PERSONS BY THESE PRESENTS, that each person whose signature appears below constitutes and appoints Susan Li and Katherine R.\\nKelly, and each of them, as his or her true and lawful attorneys-in-fact and agents, with full power of substitution and resubstitution, for him or her and in his or\\nher name, place and stead, in any and all capacities, to sign any and all amendments to this Annual Report on Form 10-K, and to file the same, with all exhibits\\nthereto, and other documents in connection therewith, with the Securities and Exchange Commission, granting unto said attorneys-in-fact and agents, and each\\nof them, full power and authority to do and perform each and every act and thing requisite and necessary to be done in connection therewith, as fully to all\\nintents and purposes as he or she might or could do in person, hereby ratifying and confirming that all said attorneys-in-fact and agents, or any of them or their\\nor his or her substitute or substitutes, may lawfully do or cause to be done by virtue hereof.\\nPursuant to the requirements of the Securities Exchange Act of 1934, this Annual Report on Form 10-K has been signed by the following persons on\\nbehalf of the Registrant and in the capacities and on the dates indicated:\\xa0\\nSignature\\nTitle\\nDate\\n/s/ Mark Zuckerberg\\nBoard Chair and Chief Executive Officer\\n(Principal Executive Officer)\\nFebruary 1, 2024\\nMark Zuckerberg\\n/s/ Susan Li\\nChief Financial Officer\\n(Principal Financial Officer)\\nFebruary 1, 2024\\nSusan Li\\n/S/ Aaron Anderson\\nChief Accounting Officer\\n(Principal Accounting Officer)\\nFebruary 1, 2024\\nAaron Anderson\\n/s/ Peggy Alford\\nDirector\\nFebruary 1, 2024\\nPeggy Alford\\n/s/ Marc L. Andreessen\\nDirector\\nFebruary 1, 2024\\nMarc L. Andreessen\\n/s/ Andrew W. Houston\\nDirector\\nFebruary 1, 2024\\nAndrew W. Houston\\n/s/ Nancy Killefer\\nDirector\\nFebruary 1, 2024\\nNancy Killefer\\n/s/ Robert M. Kimmitt\\nDirector\\nFebruary 1, 2024\\nRobert M. Kimmitt\\n/s/ Sheryl K. Sandberg\\nDirector\\nFebruary 1, 2024\\nSheryl K. Sandberg\\n/s/ Tracey T. Travis\\nDirector\\nFebruary 1, 2024\\nTracey T. Travis\\n/s/ Tony Xu\\nDirector\\nFebruary 1, 2024\\nTony Xu\\n132', metadata={'source': 'meta_10k.pdf', 'file_path': 'meta_10k.pdf', 'page': 132, 'total_pages': 147, 'format': 'PDF 1.4', 'title': '0001326801-24-000012', 'author': 'EDGAR® Online LLC, a subsidiary of OTC Markets Group', 'subject': 'Form 10-K filed on 2024-02-02 for the period ending 2023-12-31', 'keywords': '0001326801-24-000012; ; 10-K', 'creator': 'EDGAR Filing HTML Converter', 'producer': 'EDGRpdf Service w/ EO.Pdf 22.0.40.0', 'creationDate': \"D:20240202060356-05'00'\", 'modDate': \"D:20240202060413-05'00'\", 'trapped': '', 'encryption': 'Standard V2 R3 128-bit RC4', '_id': '16789832d6f04e3d934ac373f9dc1746', '_collection_name': '10K_RAG'}),\n",
       " Document(page_content='stockholders may be called only by a majority of our board of directors, the chairman of our board of directors, our chief executive officer or our president.\\n•\\nAdvance Notice Requirements for Stockholder Proposals and Director Nominations. Our amended and restated bylaws provide advance notice\\nprocedures for stockholders seeking to bring business before our annual meeting of stockholders, or to nominate candidates for election as directors at any\\nmeeting of stockholders. Our amended and restated bylaws also specify certain requirements regarding the form and content of a stockholder’s notice.\\nThese provisions may preclude our stockholders from bringing matters before our annual meeting of stockholders or from making nominations for\\ndirectors at our meetings of stockholders.\\n•\\nIssuance of Undesignated Preferred Stock. Our board of directors has the authority, without further action by the stockholders, to issue up to\\n100,000,000 shares of undesignated preferred stock with rights and preferences, including voting rights, designated from time to time by the board of\\ndirectors. The existence of authorized but unissued shares of preferred stock enables our board of directors to render more difficult or to discourage an\\nattempt to obtain control of us by means of a merger, tender offer, proxy contest or otherwise.\\nChoice of Forum\\nOur amended and restated certificate of incorporation provides that the Court of Chancery of the State of Delaware is the exclusive forum for any\\nderivative action or proceeding brought on our behalf; any action asserting a breach of fiduciary duty; any action asserting a claim against us arising pursuant\\nto the Delaware General Corporation Law, our amended and restated certificate of incorporation or our amended and restated bylaws; or any action asserting a\\nclaim against us that is governed by the internal affairs doctrine.\\nListing\\nOur Class A common stock is listed on the Nasdaq Global Select Market under the symbol “META.”\\nTransfer Agent and Registrar\\nThe transfer agent and registrar for our common stock is Computershare Trust Company, N.A.\\n4', metadata={'source': 'meta_10k.pdf', 'file_path': 'meta_10k.pdf', 'page': 136, 'total_pages': 147, 'format': 'PDF 1.4', 'title': '0001326801-24-000012', 'author': 'EDGAR® Online LLC, a subsidiary of OTC Markets Group', 'subject': 'Form 10-K filed on 2024-02-02 for the period ending 2023-12-31', 'keywords': '0001326801-24-000012; ; 10-K', 'creator': 'EDGAR Filing HTML Converter', 'producer': 'EDGRpdf Service w/ EO.Pdf 22.0.40.0', 'creationDate': \"D:20240202060356-05'00'\", 'modDate': \"D:20240202060413-05'00'\", 'trapped': '', 'encryption': 'Standard V2 R3 128-bit RC4', '_id': '3822c4d84d7f4dd0b47d359300ea1b65', '_collection_name': '10K_RAG'}),\n",
       " Document(page_content='Table of Contents\\nExhibit\\nIncorporated by Reference\\nFiled\\nHerewith\\nNumber\\nExhibit Description\\nForm\\nFile No.\\nExhibit\\nFiling\\xa0Date\\n10.2(E)+\\n2012 Equity Incentive Plan forms of award\\nagreements (Additional Forms).\\n10-Q\\n001-35551\\n10.1\\nJuly 27, 2017\\n10.2(F)+\\n2012 Equity Incentive Plan forms of award\\nagreements (Additional Forms).\\n10-Q\\n001-35551\\n10.2\\nApril 26, 2018\\n10.2(G)+\\n2012 Equity Incentive Plan forms of award\\nagreements (Additional Forms).\\n10-K\\n001-35551\\n10.3(G)\\nJanuary 31, 2019\\n10.2(H)+\\n2012 Equity Incentive Plan forms of award\\nagreements (Additional Forms).\\n10-Q\\n001-35551\\n10.2\\nApril 25, 2019\\n10.2(I)+\\n2012 Equity Incentive Plan forms of award\\nagreements (Additional Forms).\\n10-Q\\n001-35551\\n10.2\\nApril 30, 2020\\n10.2(J)+\\n2012 Equity Incentive Plan forms of award\\nagreements (Additional Forms).\\n10-Q\\n001-35551\\n10.2\\nJuly 29, 2021\\n10.2(K)+\\n2012 Equity Incentive Plan forms of award\\nagreements (Additional Forms).\\n10-Q\\n001-35551\\n10.3\\nApril 28, 2022\\n10.2(L)+\\n2012 Equity Incentive Plan forms of award\\nagreements (Additional Forms).\\n10-Q\\n001-35551\\n10.1\\nApril 27, 2023\\n10.3+\\nAmended and Restated Bonus Plan, effective January\\n1, 2023.\\n10-Q\\n001-35551\\n10.1\\nOctober 26, 2023\\n10.4+\\nAmended and Restated Offer Letter, dated January\\n27, 2012, between Registrant and Mark Zuckerberg.\\nS-1\\n333-179287\\n10.6\\nFebruary 8, 2012\\n10.5+\\nOffer Letter, dated June 5, 2020, between Registrant\\nand Christopher K. Cox.\\n10-Q\\n001-35551\\n10.1\\nApril 29, 2021\\n10.6+\\nOffer Letter, dated December 22, 2022, between\\nRegistrant and Javier Olivan.\\n10-K\\n001-35551\\n10.8\\nFebruary 2, 2023\\n10.7+\\nOffer Letter, dated March 14, 2022, between\\nRegistrant and Andrew Bosworth.\\n10-Q\\n001-35551\\n10.3\\nApril 27, 2023\\n10.8+\\nOffer Letter, dated November 1, 2022, between\\nRegistrant and Susan Li.\\n10-Q\\n001-35551\\n10.4\\nApril 27, 2023\\n10.9+\\nForm of Executive Officer Offer Letter.\\n10-Q\\n001-35551\\n10.3\\nJuly 25, 2019\\n10.10+\\nDirector Compensation Policy, as amended.\\n10-Q\\n001-35551\\n10.5\\nApril 27, 2023\\n10.11+\\nDeferred Compensation Plan for Non-Employee\\nDirectors.\\n10-K\\n001-35551\\n10.12\\nFebruary 2, 2023\\n10.12+\\nIndemnification Agreement Relating to Subsidiary\\nOperations, dated March 14, 2021, between\\nRegistrant and Mark Zuckerberg.\\n10-Q\\n001-35551\\n10.2\\nApril 29, 2021\\n21.1\\nList of Subsidiaries.\\nX\\n23.1\\nConsent of Independent Registered Public\\nAccounting Firm.\\nX\\n31.1\\nCertification of Mark Zuckerberg, Chief Executive\\nOfficer, pursuant to Rule 13a-14(a)/15d-14(a), as\\nadopted pursuant to Section\\xa0302 of the Sarbanes-\\nOxley Act of 2002.\\nX\\n31.2\\nCertification of Susan Li, Chief Financial Officer,\\npursuant to Rule\\xa013a-14(a)/15d-14(a), as adopted\\npursuant to Section\\xa0302 of the Sarbanes-Oxley Act of\\n2002.\\nX\\n32.1#\\nCertification of Mark Zuckerberg, Chief Executive\\nOfficer, pursuant to 18 U.S.C. Section\\xa01350, as\\nadopted pursuant to Section\\xa0906 of the Sarbanes-\\nOxley Act of 2002.\\nX\\n129', metadata={'source': 'meta_10k.pdf', 'file_path': 'meta_10k.pdf', 'page': 129, 'total_pages': 147, 'format': 'PDF 1.4', 'title': '0001326801-24-000012', 'author': 'EDGAR® Online LLC, a subsidiary of OTC Markets Group', 'subject': 'Form 10-K filed on 2024-02-02 for the period ending 2023-12-31', 'keywords': '0001326801-24-000012; ; 10-K', 'creator': 'EDGAR Filing HTML Converter', 'producer': 'EDGRpdf Service w/ EO.Pdf 22.0.40.0', 'creationDate': \"D:20240202060356-05'00'\", 'modDate': \"D:20240202060413-05'00'\", 'trapped': '', 'encryption': 'Standard V2 R3 128-bit RC4', '_id': '349b2225dea0451aa12786bffa84f0c8', '_collection_name': '10K_RAG'}),\n",
       " Document(page_content='Table of Contents\\nPART III\\nItem 10. Directors, Executive Officers and Corporate Governance\\nThe information required by this item is incorporated by reference to our Proxy Statement for the 2024 Annual Meeting of Stockholders to be filed with\\nthe SEC within 120\\xa0days of the fiscal year ended December\\xa031, 2023.\\nOur board of directors has adopted a Code of Conduct applicable to all officers, directors, and employees, which is available on our website\\n(investor.fb.com) under \"Leadership & Governance.\" We intend to satisfy the disclosure requirement under Item\\xa05.05 of Form 8-K regarding amendment to, or\\nwaiver from, a provision of our Code of Conduct by posting such information on the website address and location specified above.\\nItem 11. Executive Compensation\\nThe information required by this item is incorporated by reference to our Proxy Statement for the 2024 Annual Meeting of Stockholders to be filed with\\nthe SEC within 120\\xa0days of the fiscal year ended December\\xa031, 2023.\\nItem 12. Security Ownership of Certain Beneficial Owners and Management and Related Stockholder Matters\\nThe information required by this item is incorporated by reference to our Proxy Statement for the 2024 Annual Meeting of Stockholders to be filed with\\nthe SEC within 120\\xa0days of the fiscal year ended December\\xa031, 2023.\\nItem 13. Certain Relationships and Related Transactions, and Director Independence\\nThe information required by this item is incorporated by reference to our Proxy Statement for the 2024 Annual Meeting of Stockholders to be filed with\\nthe SEC within 120\\xa0days of the fiscal year ended December\\xa031, 2023.\\nItem 14. Principal Accountant Fees and Services\\nThe information required by this item is incorporated by reference to our Proxy Statement for the 2024 Annual Meeting of Stockholders to be filed with\\nthe SEC within 120\\xa0days of the fiscal year ended December\\xa031, 2023.\\n127', metadata={'source': 'meta_10k.pdf', 'file_path': 'meta_10k.pdf', 'page': 127, 'total_pages': 147, 'format': 'PDF 1.4', 'title': '0001326801-24-000012', 'author': 'EDGAR® Online LLC, a subsidiary of OTC Markets Group', 'subject': 'Form 10-K filed on 2024-02-02 for the period ending 2023-12-31', 'keywords': '0001326801-24-000012; ; 10-K', 'creator': 'EDGAR Filing HTML Converter', 'producer': 'EDGRpdf Service w/ EO.Pdf 22.0.40.0', 'creationDate': \"D:20240202060356-05'00'\", 'modDate': \"D:20240202060413-05'00'\", 'trapped': '', 'encryption': 'Standard V2 R3 128-bit RC4', '_id': '2fcc507a6d0f47638ff451856577033e', '_collection_name': '10K_RAG'})]"
      ]
     },
     "execution_count": 61,
     "metadata": {},
     "output_type": "execute_result"
    }
   ],
   "source": [
    "query2_result['context']"
   ]
  },
  {
   "cell_type": "code",
   "execution_count": 62,
   "metadata": {},
   "outputs": [
    {
     "data": {
      "text/plain": [
       "{'response': AIMessage(content=\"The total value of 'Cash and cash equivalents' as of December 31, 2023, was $41.862 billion.\", response_metadata={'token_usage': {'completion_tokens': 27, 'prompt_tokens': 4496, 'total_tokens': 4523}, 'model_name': 'gpt-3.5-turbo', 'system_fingerprint': 'fp_3b956da36b', 'finish_reason': 'stop', 'logprobs': None}, id='run-7cde556e-69b7-4c7c-be16-1df5d6d35111-0'),\n",
       " 'context': [Document(page_content='Table of Contents\\nNote\\xa05. Financial Instruments\\nInstruments Measured at Fair Value\\nWe classify our cash equivalents and marketable debt securities within Level\\xa01 or Level\\xa02 because we use quoted market prices or alternative pricing\\nsources and models utilizing market observable inputs to determine their fair value. Certain other assets are classified within Level\\xa03 because factors used to\\ndevelop the estimated fair value are unobservable inputs that are not supported by market activity.\\nThe following tables summarize our assets measured at fair value on a recurring basis and the classification by level of input within the fair value\\nhierarchy (in millions):\\n\\xa0\\n\\xa0\\nFair Value Measurement at Reporting Date Using\\nDescription\\nDecember 31, 2023\\nQuoted\\xa0Prices in Active\\nMarkets for\\nIdentical\\xa0Assets\\n(Level 1)\\nSignificant Other\\nObservable Inputs\\n(Level 2)\\nSignificant Unobservable\\nInputs\\n(Level 3)\\nCash\\n$\\n6,265\\xa0\\nCash equivalents:\\nMoney market funds\\n32,910\\xa0\\n$\\n32,910\\xa0\\n$\\n—\\xa0\\n$\\n—\\xa0\\nU.S. government and agency securities\\n2,206\\xa0\\n2,206\\xa0\\n—\\xa0\\n—\\xa0\\nTime deposits\\n261\\xa0\\n—\\xa0\\n261\\xa0\\n—\\xa0\\nCorporate debt securities\\n220\\xa0\\n—\\xa0\\n220\\xa0\\n—\\xa0\\nTotal cash and cash equivalents\\n41,862\\xa0\\n35,116\\xa0\\n481\\xa0\\n—\\xa0\\nMarketable securities:\\nU.S. government securities\\n8,439\\xa0\\n8,439\\xa0\\n—\\xa0\\n—\\xa0\\nU.S. government agency securities\\n3,498\\xa0\\n3,498\\xa0\\n—\\xa0\\n—\\xa0\\nCorporate debt securities\\n11,604\\xa0\\n—\\xa0\\n11,604\\xa0\\n—\\xa0\\nTotal marketable securities\\n23,541\\xa0\\n11,937\\xa0\\n11,604\\xa0\\n—\\xa0\\nRestricted cash equivalents\\n857\\xa0\\n857\\xa0\\n—\\xa0\\n—\\xa0\\nOther assets\\n101\\xa0\\n—\\xa0\\n—\\xa0\\n101\\xa0\\nTotal\\n$\\n66,361\\xa0\\n$\\n47,910\\xa0\\n$\\n12,085\\xa0\\n$\\n101\\xa0\\n107', metadata={'source': 'meta_10k.pdf', 'file_path': 'meta_10k.pdf', 'page': 107, 'total_pages': 147, 'format': 'PDF 1.4', 'title': '0001326801-24-000012', 'author': 'EDGAR® Online LLC, a subsidiary of OTC Markets Group', 'subject': 'Form 10-K filed on 2024-02-02 for the period ending 2023-12-31', 'keywords': '0001326801-24-000012; ; 10-K', 'creator': 'EDGAR Filing HTML Converter', 'producer': 'EDGRpdf Service w/ EO.Pdf 22.0.40.0', 'creationDate': \"D:20240202060356-05'00'\", 'modDate': \"D:20240202060413-05'00'\", 'trapped': '', 'encryption': 'Standard V2 R3 128-bit RC4', '_id': '80673c47fc4947deb8b113cdc1e3a57d', '_collection_name': '10K_RAG'}),\n",
       "  Document(page_content='Table of Contents\\n\\xa0\\n\\xa0\\nFair Value Measurement at Reporting Date Using\\nDescription\\nDecember 31, 2022\\nQuoted\\xa0Prices in Active\\nMarkets for\\nIdentical\\xa0Assets\\n(Level 1)\\nSignificant Other\\nObservable Inputs\\n(Level 2)\\nSignificant Unobservable\\nInputs\\n(Level 3)\\nCash\\n$\\n6,176\\xa0\\nCash equivalents:\\nMoney market funds\\n8,305\\xa0\\n$\\n8,305\\xa0\\n$\\n—\\xa0\\n$\\n—\\xa0\\nU.S. government and agency securities\\n16\\xa0\\n16\\xa0\\n—\\xa0\\n—\\xa0\\nTime deposits\\n156\\xa0\\n—\\xa0\\n156\\xa0\\n—\\xa0\\nCorporate debt securities\\n28\\xa0\\n—\\xa0\\n28\\xa0\\n—\\xa0\\nTotal cash and cash equivalents\\n14,681\\xa0\\n8,321\\xa0\\n184\\xa0\\n—\\xa0\\nMarketable securities:\\nU.S. government securities\\n8,708\\xa0\\n8,708\\xa0\\n—\\xa0\\n—\\xa0\\nU.S. government agency securities\\n4,989\\xa0\\n4,989\\xa0\\n—\\xa0\\n—\\xa0\\nCorporate debt securities\\n12,335\\xa0\\n—\\xa0\\n12,335\\xa0\\n—\\xa0\\nMarketable equity securities\\n25\\xa0\\n25\\xa0\\n—\\xa0\\n—\\xa0\\nTotal marketable securities\\n26,057\\xa0\\n13,722\\xa0\\n12,335\\xa0\\n—\\xa0\\nRestricted cash equivalents\\n583\\xa0\\n583\\xa0\\n—\\xa0\\n—\\xa0\\nOther assets\\n157\\xa0\\n—\\xa0\\n—\\xa0\\n157\\xa0\\nTotal\\n$\\n41,478\\xa0\\n$\\n22,626\\xa0\\n$\\n12,519\\xa0\\n$\\n157\\xa0\\nUnrealized Losses\\nThe following tables summarize our available-for-sale marketable debt securities and cash equivalents with unrealized losses as of December\\xa031, 2023\\nand 2022, aggregated by major security type and the length of time that individual securities have been in a continuous loss position (in millions):\\nDecember 31, 2023\\nLess than 12 months\\n12 months or greater\\nTotal\\nFair Value\\nUnrealized Losses\\nFair Value\\nUnrealized Losses\\nFair Value\\nUnrealized Losses\\nU.S. government securities\\n$\\n336\\xa0\\n$\\n(1)\\n$\\n7,041\\xa0\\n$\\n(275)\\n$\\n7,377\\xa0\\n$\\n(276)\\nU.S. government agency securities\\n71\\xa0\\n—\\xa0\\n3,225\\xa0\\n(164)\\n3,296\\xa0\\n(164)\\nCorporate debt securities\\n647\\xa0\\n(3)\\n10,125\\xa0\\n(491)\\n10,772\\xa0\\n(494)\\nTotal\\n$\\n1,054\\xa0\\n$\\n(4)\\n$\\n20,391\\xa0\\n$\\n(930)\\n$\\n21,445\\xa0\\n$\\n(934)\\nDecember 31, 2022\\nLess than 12 months\\n12 months or greater\\nTotal\\nFair Value\\nUnrealized Losses\\nFair Value\\nUnrealized Losses\\nFair Value\\nUnrealized Losses\\nU.S. government securities\\n$\\n5,008\\xa0\\n$\\n(234)\\n$\\n3,499\\xa0\\n$\\n(247)\\n$\\n8,507\\xa0\\n$\\n(481)\\nU.S. government agency securities\\n524\\xa0\\n(17)\\n4,415\\xa0\\n(308)\\n4,939\\xa0\\n(325)\\nCorporate debt securities\\n4,555\\xa0\\n(249)\\n7,256\\xa0\\n(634)\\n11,811\\xa0\\n(883)\\nTotal\\n$\\n10,087\\xa0\\n$\\n(500)\\n$\\n15,170\\xa0\\n$\\n(1,189)\\n$\\n25,257\\xa0\\n$\\n(1,689)\\nThe decrease in the gross unrealized losses for the year ended December\\xa031, 2023 is mostly due to a shorter average portfolio duration. The allowance\\nfor credit losses and the gross unrealized gains on our marketable debt securities were not material as of December\\xa031, 2023 and 2022.\\n108', metadata={'source': 'meta_10k.pdf', 'file_path': 'meta_10k.pdf', 'page': 108, 'total_pages': 147, 'format': 'PDF 1.4', 'title': '0001326801-24-000012', 'author': 'EDGAR® Online LLC, a subsidiary of OTC Markets Group', 'subject': 'Form 10-K filed on 2024-02-02 for the period ending 2023-12-31', 'keywords': '0001326801-24-000012; ; 10-K', 'creator': 'EDGAR Filing HTML Converter', 'producer': 'EDGRpdf Service w/ EO.Pdf 22.0.40.0', 'creationDate': \"D:20240202060356-05'00'\", 'modDate': \"D:20240202060413-05'00'\", 'trapped': '', 'encryption': 'Standard V2 R3 128-bit RC4', '_id': '0db7c804f8874a9dbb0945d6829aa72f', '_collection_name': '10K_RAG'}),\n",
       "  Document(page_content='Table of Contents\\nLiquidity and Capital Resources\\nOur principal sources of liquidity are our cash, cash equivalents, marketable securities, and cash generated from operations. Cash, cash equivalents, and\\nmarketable securities are comprised of cash on deposit with banks, time deposits, money market funds, U.S. government and agency securities, and investment\\ngrade corporate debt securities. As part of our cash management strategy, we concentrate cash deposits with large financial institutions and our investment\\nholdings are in diversified highly rated securities. Cash, cash equivalents, and marketable securities were $65.40\\xa0billion as of December\\xa031, 2023, an increase\\nof $24.67\\xa0billion from December\\xa031, 2022. The increase was mostly due to $71.11\\xa0billion of cash generated from operations, and $8.46 billion of net proceeds\\nfrom the issuance of fixed-rate senior unsecured notes (the Notes) in May 2023. These increases were partially offset by $28.10 billion for capital expenditures,\\nincluding principal payments on finance leases, $19.77\\xa0billion for repurchases of our Class\\xa0A common stock, and $7.01\\xa0billion of taxes paid related to net share\\nsettlement of employee restricted stock unit (RSU) awards.\\nThe following table presents our cash flows (in millions):\\nYear Ended December\\xa031,\\n2023\\n2022\\n2021\\nNet cash provided by operating activities\\n$\\n71,113\\xa0\\n$\\n50,475\\xa0\\n$\\n57,683\\xa0\\nNet cash used in investing activities\\n$\\n(24,495)\\n$\\n(28,970)\\n$\\n(7,570)\\nNet cash used in financing activities\\n$\\n(19,500)\\n$\\n(22,136)\\n$\\n(50,728)\\nCash Provided by Operating Activities\\nCash provided by operating activities during 2023 mostly consisted of $39.10\\xa0 billion net income adjusted for certain non-cash items, such as\\n$14.03\\xa0billion of share-based compensation expense and $11.18 billion of depreciation and amortization expense, as well as $3.29 billion of favorable changes\\nin working capital. The increase in cash flows from operating activities during 2023 compared to 2022 was mostly due to an increase in cash collection from\\nour customers driven by the increase in revenue, and a decrease in payments to our vendors.\\nCash Used in Investing Activities\\nCash used in investing activities during 2023 mostly consisted of $27.05\\xa0billion of net purchases of property and equipment as we continued to invest in\\ndata centers, servers, and network infrastructure, partially offset by $3.20\\xa0billion net proceeds from maturities and sales of marketable debt securities. The\\ndecrease in cash used in investing activities during 2023 compared to 2022 was mostly due to a decrease in purchases of property and equipment.\\nWe anticipate making capital expenditures of approximately $30\\xa0billion to $37\\xa0billion in 2024.\\nCash Used in Financing Activities\\nCash used in financing activities during 2023 mostly consisted of $19.77\\xa0billion for repurchases of our Class\\xa0A common stock and $7.01\\xa0billion of taxes\\npaid related to net share settlement of RSUs, partially offset by $8.46\\xa0billion proceeds from the issuance of the Notes in May 2023. The decrease in cash used\\nin financing activities during 2023 compared to\\xa02022 was mainly due to a decrease in cash paid for repurchases of our Class\\xa0A common stock, partially offset\\nby an increase in taxes paid related to net share settlement of employee RSU awards and a decrease in net proceeds from our debt offerings.\\nFree Cash Flow\\nIn addition to other financial measures presented in accordance with U.S. GAAP, we monitor free cash flow (FCF) as a non-GAAP measure to manage\\nour business, make planning decisions, evaluate our performance, and allocate resources. We define FCF as net cash provided by operating activities reduced\\nby net purchases of property and equipment and principal payments on finance leases.\\n79', metadata={'source': 'meta_10k.pdf', 'file_path': 'meta_10k.pdf', 'page': 79, 'total_pages': 147, 'format': 'PDF 1.4', 'title': '0001326801-24-000012', 'author': 'EDGAR® Online LLC, a subsidiary of OTC Markets Group', 'subject': 'Form 10-K filed on 2024-02-02 for the period ending 2023-12-31', 'keywords': '0001326801-24-000012; ; 10-K', 'creator': 'EDGAR Filing HTML Converter', 'producer': 'EDGRpdf Service w/ EO.Pdf 22.0.40.0', 'creationDate': \"D:20240202060356-05'00'\", 'modDate': \"D:20240202060413-05'00'\", 'trapped': '', 'encryption': 'Standard V2 R3 128-bit RC4', '_id': 'aee0492938df4f59831813c34c66deff', '_collection_name': '10K_RAG'}),\n",
       "  Document(page_content='Table of Contents\\nMETA PLATFORMS, INC.\\nCONSOLIDATED STATEMENTS OF CASH FLOWS\\n(In millions)\\nYear Ended December 31,\\xa0\\n2023\\n2022\\n2021\\nCash flows from operating activities\\nNet income\\n$\\n39,098\\xa0\\n$\\n23,200\\xa0\\n$\\n39,370\\xa0\\nAdjustments to reconcile net income to net cash provided by operating activities:\\nDepreciation and amortization\\n11,178\\xa0\\n8,686\\xa0\\n7,967\\xa0\\nShare-based compensation\\n14,027\\xa0\\n11,992\\xa0\\n9,164\\xa0\\nDeferred income taxes\\n131\\xa0\\n(3,286)\\n609\\xa0\\nImpairment charges for facilities consolidation, net\\n2,432\\xa0\\n2,218\\xa0\\n—\\xa0\\nData center assets abandonment\\n(224)\\n1,341\\xa0\\n—\\xa0\\nOther\\n635\\xa0\\n641\\xa0\\n(127)\\nChanges in assets and liabilities:\\nAccounts receivable\\n(2,399)\\n231\\xa0\\n(3,110)\\nPrepaid expenses and other current assets\\n559\\xa0\\n162\\xa0\\n(1,750)\\nOther assets\\n(80)\\n(106)\\n(349)\\nAccounts payable\\n51\\xa0\\n210\\xa0\\n1,436\\xa0\\nPartners payable\\n(271)\\n90\\xa0\\n(12)\\nAccrued expenses and other current liabilities\\n5,352\\xa0\\n4,210\\xa0\\n3,544\\xa0\\nOther liabilities\\n624\\xa0\\n886\\xa0\\n941\\xa0\\nNet cash provided by operating activities\\n71,113\\xa0\\n50,475\\xa0\\n57,683\\xa0\\nCash flows from investing activities\\nPurchases of property and equipment\\n(27,266)\\n(31,431)\\n(18,690)\\nProceeds relating to property and equipment\\n221\\xa0\\n245\\xa0\\n123\\xa0\\nPurchases of marketable debt securities\\n(2,982)\\n(9,626)\\n(30,407)\\nSales and maturities of marketable debt securities\\n6,184\\xa0\\n13,158\\xa0\\n42,586\\xa0\\nAcquisitions of businesses and intangible assets\\n(629)\\n(1,312)\\n(851)\\nOther investing activities\\n(23)\\n(4)\\n(331)\\nNet cash used in investing activities\\n(24,495)\\n(28,970)\\n(7,570)\\nCash flows from financing activities\\nTaxes paid related to net share settlement of equity awards\\n(7,012)\\n(3,595)\\n(5,515)\\nRepurchases of Class A common stock\\n(19,774)\\n(27,956)\\n(44,537)\\nProceeds from issuance of long-term debt, net\\n8,455\\xa0\\n9,921\\xa0\\n—\\xa0\\nPrincipal payments on finance leases\\n(1,058)\\n(850)\\n(677)\\nOther financing activities\\n(111)\\n344\\xa0\\n1\\xa0\\nNet cash used in financing activities\\n(19,500)\\n(22,136)\\n(50,728)\\nEffect of exchange rate changes on cash, cash equivalents, and restricted cash\\n113\\xa0\\n(638)\\n(474)\\nNet increase (decrease) in cash, cash equivalents, and restricted cash\\n27,231\\xa0\\n(1,269)\\n(1,089)\\nCash, cash equivalents, and restricted cash at beginning of the period\\n15,596\\xa0\\n16,865\\xa0\\n17,954\\xa0\\nCash, cash equivalents, and restricted cash at end of the period\\n$\\n42,827\\xa0\\n$\\n15,596\\xa0\\n$\\n16,865\\xa0\\nReconciliation of cash, cash equivalents, and restricted cash to the consolidated balance\\nsheets\\nCash and cash equivalents\\n$\\n41,862\\xa0\\n$\\n14,681\\xa0\\n$\\n16,601\\xa0\\nRestricted cash, included in prepaid expenses and other current assets\\n99\\xa0\\n294\\xa0\\n149\\xa0\\nRestricted cash, included in other assets\\n866\\xa0\\n621\\xa0\\n115\\xa0\\nTotal cash, cash equivalents, and restricted cash\\n$\\n42,827\\xa0\\n$\\n15,596\\xa0\\n$\\n16,865\\xa0\\n\\xa0\\xa0\\xa0\\xa0\\nSee Accompanying Notes to Consolidated Financial Statements.\\n93', metadata={'source': 'meta_10k.pdf', 'file_path': 'meta_10k.pdf', 'page': 93, 'total_pages': 147, 'format': 'PDF 1.4', 'title': '0001326801-24-000012', 'author': 'EDGAR® Online LLC, a subsidiary of OTC Markets Group', 'subject': 'Form 10-K filed on 2024-02-02 for the period ending 2023-12-31', 'keywords': '0001326801-24-000012; ; 10-K', 'creator': 'EDGAR Filing HTML Converter', 'producer': 'EDGRpdf Service w/ EO.Pdf 22.0.40.0', 'creationDate': \"D:20240202060356-05'00'\", 'modDate': \"D:20240202060413-05'00'\", 'trapped': '', 'encryption': 'Standard V2 R3 128-bit RC4', '_id': 'd19ee26527274a509613f5ee8c7196ac', '_collection_name': '10K_RAG'})]}"
      ]
     },
     "execution_count": 62,
     "metadata": {},
     "output_type": "execute_result"
    }
   ],
   "source": [
    "query1_result"
   ]
  }
 ],
 "metadata": {
  "kernelspec": {
   "display_name": "AIM",
   "language": "python",
   "name": "python3"
  },
  "language_info": {
   "codemirror_mode": {
    "name": "ipython",
    "version": 3
   },
   "file_extension": ".py",
   "mimetype": "text/x-python",
   "name": "python",
   "nbconvert_exporter": "python",
   "pygments_lexer": "ipython3",
   "version": "3.11.8"
  }
 },
 "nbformat": 4,
 "nbformat_minor": 2
}
